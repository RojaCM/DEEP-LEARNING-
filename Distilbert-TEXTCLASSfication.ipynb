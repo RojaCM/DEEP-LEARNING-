{
  "cells": [
    {
      "cell_type": "markdown",
      "metadata": {
        "id": "view-in-github",
        "colab_type": "text"
      },
      "source": [
        "<a href=\"https://colab.research.google.com/github/RojaCM/DEEP-LEARNING-/blob/main/Distilbert-TEXTCLASSfication.ipynb\" target=\"_parent\"><img src=\"https://colab.research.google.com/assets/colab-badge.svg\" alt=\"Open In Colab\"/></a>"
      ]
    },
    {
      "cell_type": "code",
      "execution_count": 1,
      "metadata": {
        "colab": {
          "base_uri": "https://localhost:8080/"
        },
        "id": "WRAuncYEia69",
        "outputId": "dc30b831-1fad-4251-999a-6cf341316e75"
      },
      "outputs": [
        {
          "output_type": "stream",
          "name": "stdout",
          "text": [
            "\u001b[31mERROR: pip's dependency resolver does not currently take into account all the packages that are installed. This behaviour is the source of the following dependency conflicts.\n",
            "tensorflow 2.9.2 requires flatbuffers<2,>=1.12, but you have flatbuffers 22.10.26 which is incompatible.\n",
            "tensorflow 2.9.2 requires keras<2.10.0,>=2.9.0rc0, but you have keras 2.10.0 which is incompatible.\n",
            "tensorflow 2.9.2 requires tensorboard<2.10,>=2.9, but you have tensorboard 2.1.1 which is incompatible.\n",
            "tensorflow 2.9.2 requires tensorflow-estimator<2.10.0,>=2.9.0rc0, but you have tensorflow-estimator 2.1.0 which is incompatible.\u001b[0m\n"
          ]
        }
      ],
      "source": [
        "!pip3 install -q tensorflow_gpu==2.1.0"
      ]
    },
    {
      "cell_type": "code",
      "execution_count": 2,
      "metadata": {
        "colab": {
          "base_uri": "https://localhost:8080/"
        },
        "id": "Lfra9t_Vid1d",
        "outputId": "27d28a12-ca09-4197-d075-464a08ee85a8"
      },
      "outputs": [
        {
          "output_type": "stream",
          "name": "stdout",
          "text": [
            "Looking in indexes: https://pypi.org/simple, https://us-python.pkg.dev/colab-wheels/public/simple/\n",
            "Requirement already satisfied: tensorflow in /usr/local/lib/python3.7/dist-packages (2.9.2)\n",
            "Requirement already satisfied: absl-py>=1.0.0 in /usr/local/lib/python3.7/dist-packages (from tensorflow) (1.3.0)\n",
            "Requirement already satisfied: h5py>=2.9.0 in /usr/local/lib/python3.7/dist-packages (from tensorflow) (3.1.0)\n",
            "Collecting flatbuffers<2,>=1.12\n",
            "  Downloading flatbuffers-1.12-py2.py3-none-any.whl (15 kB)\n",
            "Requirement already satisfied: grpcio<2.0,>=1.24.3 in /usr/local/lib/python3.7/dist-packages (from tensorflow) (1.50.0)\n",
            "Requirement already satisfied: wrapt>=1.11.0 in /usr/local/lib/python3.7/dist-packages (from tensorflow) (1.14.1)\n",
            "Requirement already satisfied: tensorflow-io-gcs-filesystem>=0.23.1 in /usr/local/lib/python3.7/dist-packages (from tensorflow) (0.27.0)\n",
            "Requirement already satisfied: astunparse>=1.6.0 in /usr/local/lib/python3.7/dist-packages (from tensorflow) (1.6.3)\n",
            "Requirement already satisfied: typing-extensions>=3.6.6 in /usr/local/lib/python3.7/dist-packages (from tensorflow) (4.1.1)\n",
            "Requirement already satisfied: protobuf<3.20,>=3.9.2 in /usr/local/lib/python3.7/dist-packages (from tensorflow) (3.17.3)\n",
            "Requirement already satisfied: google-pasta>=0.1.1 in /usr/local/lib/python3.7/dist-packages (from tensorflow) (0.2.0)\n",
            "Requirement already satisfied: termcolor>=1.1.0 in /usr/local/lib/python3.7/dist-packages (from tensorflow) (2.0.1)\n",
            "Collecting tensorboard<2.10,>=2.9\n",
            "  Using cached tensorboard-2.9.1-py3-none-any.whl (5.8 MB)\n",
            "Requirement already satisfied: setuptools in /usr/local/lib/python3.7/dist-packages (from tensorflow) (57.4.0)\n",
            "Requirement already satisfied: packaging in /usr/local/lib/python3.7/dist-packages (from tensorflow) (21.3)\n",
            "Requirement already satisfied: libclang>=13.0.0 in /usr/local/lib/python3.7/dist-packages (from tensorflow) (14.0.6)\n",
            "Requirement already satisfied: opt-einsum>=2.3.2 in /usr/local/lib/python3.7/dist-packages (from tensorflow) (3.3.0)\n",
            "Requirement already satisfied: numpy>=1.20 in /usr/local/lib/python3.7/dist-packages (from tensorflow) (1.21.6)\n",
            "Requirement already satisfied: gast<=0.4.0,>=0.2.1 in /usr/local/lib/python3.7/dist-packages (from tensorflow) (0.2.2)\n",
            "Requirement already satisfied: six>=1.12.0 in /usr/local/lib/python3.7/dist-packages (from tensorflow) (1.15.0)\n",
            "Collecting tensorflow-estimator<2.10.0,>=2.9.0rc0\n",
            "  Using cached tensorflow_estimator-2.9.0-py2.py3-none-any.whl (438 kB)\n",
            "Requirement already satisfied: keras-preprocessing>=1.1.1 in /usr/local/lib/python3.7/dist-packages (from tensorflow) (1.1.2)\n",
            "Collecting keras<2.10.0,>=2.9.0rc0\n",
            "  Downloading keras-2.9.0-py2.py3-none-any.whl (1.6 MB)\n",
            "\u001b[K     |████████████████████████████████| 1.6 MB 48.7 MB/s \n",
            "\u001b[?25hRequirement already satisfied: wheel<1.0,>=0.23.0 in /usr/local/lib/python3.7/dist-packages (from astunparse>=1.6.0->tensorflow) (0.37.1)\n",
            "Requirement already satisfied: cached-property in /usr/local/lib/python3.7/dist-packages (from h5py>=2.9.0->tensorflow) (1.5.2)\n",
            "Requirement already satisfied: google-auth<3,>=1.6.3 in /usr/local/lib/python3.7/dist-packages (from tensorboard<2.10,>=2.9->tensorflow) (1.35.0)\n",
            "Requirement already satisfied: tensorboard-data-server<0.7.0,>=0.6.0 in /usr/local/lib/python3.7/dist-packages (from tensorboard<2.10,>=2.9->tensorflow) (0.6.1)\n",
            "Requirement already satisfied: requests<3,>=2.21.0 in /usr/local/lib/python3.7/dist-packages (from tensorboard<2.10,>=2.9->tensorflow) (2.23.0)\n",
            "Requirement already satisfied: markdown>=2.6.8 in /usr/local/lib/python3.7/dist-packages (from tensorboard<2.10,>=2.9->tensorflow) (3.4.1)\n",
            "Requirement already satisfied: google-auth-oauthlib<0.5,>=0.4.1 in /usr/local/lib/python3.7/dist-packages (from tensorboard<2.10,>=2.9->tensorflow) (0.4.6)\n",
            "Requirement already satisfied: werkzeug>=1.0.1 in /usr/local/lib/python3.7/dist-packages (from tensorboard<2.10,>=2.9->tensorflow) (1.0.1)\n",
            "Requirement already satisfied: tensorboard-plugin-wit>=1.6.0 in /usr/local/lib/python3.7/dist-packages (from tensorboard<2.10,>=2.9->tensorflow) (1.8.1)\n",
            "Requirement already satisfied: pyasn1-modules>=0.2.1 in /usr/local/lib/python3.7/dist-packages (from google-auth<3,>=1.6.3->tensorboard<2.10,>=2.9->tensorflow) (0.2.8)\n",
            "Requirement already satisfied: rsa<5,>=3.1.4 in /usr/local/lib/python3.7/dist-packages (from google-auth<3,>=1.6.3->tensorboard<2.10,>=2.9->tensorflow) (4.9)\n",
            "Requirement already satisfied: cachetools<5.0,>=2.0.0 in /usr/local/lib/python3.7/dist-packages (from google-auth<3,>=1.6.3->tensorboard<2.10,>=2.9->tensorflow) (4.2.4)\n",
            "Requirement already satisfied: requests-oauthlib>=0.7.0 in /usr/local/lib/python3.7/dist-packages (from google-auth-oauthlib<0.5,>=0.4.1->tensorboard<2.10,>=2.9->tensorflow) (1.3.1)\n",
            "Requirement already satisfied: importlib-metadata>=4.4 in /usr/local/lib/python3.7/dist-packages (from markdown>=2.6.8->tensorboard<2.10,>=2.9->tensorflow) (4.13.0)\n",
            "Requirement already satisfied: zipp>=0.5 in /usr/local/lib/python3.7/dist-packages (from importlib-metadata>=4.4->markdown>=2.6.8->tensorboard<2.10,>=2.9->tensorflow) (3.9.0)\n",
            "Requirement already satisfied: pyasn1<0.5.0,>=0.4.6 in /usr/local/lib/python3.7/dist-packages (from pyasn1-modules>=0.2.1->google-auth<3,>=1.6.3->tensorboard<2.10,>=2.9->tensorflow) (0.4.8)\n",
            "Requirement already satisfied: urllib3!=1.25.0,!=1.25.1,<1.26,>=1.21.1 in /usr/local/lib/python3.7/dist-packages (from requests<3,>=2.21.0->tensorboard<2.10,>=2.9->tensorflow) (1.24.3)\n",
            "Requirement already satisfied: chardet<4,>=3.0.2 in /usr/local/lib/python3.7/dist-packages (from requests<3,>=2.21.0->tensorboard<2.10,>=2.9->tensorflow) (3.0.4)\n",
            "Requirement already satisfied: certifi>=2017.4.17 in /usr/local/lib/python3.7/dist-packages (from requests<3,>=2.21.0->tensorboard<2.10,>=2.9->tensorflow) (2022.9.24)\n",
            "Requirement already satisfied: idna<3,>=2.5 in /usr/local/lib/python3.7/dist-packages (from requests<3,>=2.21.0->tensorboard<2.10,>=2.9->tensorflow) (2.10)\n",
            "Requirement already satisfied: oauthlib>=3.0.0 in /usr/local/lib/python3.7/dist-packages (from requests-oauthlib>=0.7.0->google-auth-oauthlib<0.5,>=0.4.1->tensorboard<2.10,>=2.9->tensorflow) (3.2.2)\n",
            "Requirement already satisfied: pyparsing!=3.0.5,>=2.0.2 in /usr/local/lib/python3.7/dist-packages (from packaging->tensorflow) (3.0.9)\n",
            "Installing collected packages: tensorflow-estimator, tensorboard, keras, flatbuffers\n",
            "  Attempting uninstall: tensorflow-estimator\n",
            "    Found existing installation: tensorflow-estimator 2.1.0\n",
            "    Uninstalling tensorflow-estimator-2.1.0:\n",
            "      Successfully uninstalled tensorflow-estimator-2.1.0\n",
            "  Attempting uninstall: tensorboard\n",
            "    Found existing installation: tensorboard 2.1.1\n",
            "    Uninstalling tensorboard-2.1.1:\n",
            "      Successfully uninstalled tensorboard-2.1.1\n",
            "  Attempting uninstall: keras\n",
            "    Found existing installation: keras 2.10.0\n",
            "    Uninstalling keras-2.10.0:\n",
            "      Successfully uninstalled keras-2.10.0\n",
            "  Attempting uninstall: flatbuffers\n",
            "    Found existing installation: flatbuffers 22.10.26\n",
            "    Uninstalling flatbuffers-22.10.26:\n",
            "      Successfully uninstalled flatbuffers-22.10.26\n",
            "\u001b[31mERROR: pip's dependency resolver does not currently take into account all the packages that are installed. This behaviour is the source of the following dependency conflicts.\n",
            "tensorflow-gpu 2.1.0 requires tensorboard<2.2.0,>=2.1.0, but you have tensorboard 2.9.1 which is incompatible.\n",
            "tensorflow-gpu 2.1.0 requires tensorflow-estimator<2.2.0,>=2.1.0rc0, but you have tensorflow-estimator 2.9.0 which is incompatible.\u001b[0m\n",
            "Successfully installed flatbuffers-1.12 keras-2.9.0 tensorboard-2.9.1 tensorflow-estimator-2.9.0\n"
          ]
        }
      ],
      "source": [
        "pip install tensorflow"
      ]
    },
    {
      "cell_type": "code",
      "execution_count": 3,
      "metadata": {
        "colab": {
          "base_uri": "https://localhost:8080/"
        },
        "id": "pp9o0qYqilOn",
        "outputId": "d8a7ebc3-fbaf-4746-fa9a-8d20b9e5b344"
      },
      "outputs": [
        {
          "output_type": "stream",
          "name": "stdout",
          "text": [
            "Looking in indexes: https://pypi.org/simple, https://us-python.pkg.dev/colab-wheels/public/simple/\n",
            "Requirement already satisfied: tensorflow-gpu in /usr/local/lib/python3.7/dist-packages (2.1.0)\n",
            "Collecting tensorflow-gpu\n",
            "  Using cached tensorflow_gpu-2.10.0-cp37-cp37m-manylinux_2_17_x86_64.manylinux2014_x86_64.whl (578.0 MB)\n",
            "Requirement already satisfied: termcolor>=1.1.0 in /usr/local/lib/python3.7/dist-packages (from tensorflow-gpu) (2.0.1)\n",
            "Requirement already satisfied: six>=1.12.0 in /usr/local/lib/python3.7/dist-packages (from tensorflow-gpu) (1.15.0)\n",
            "Requirement already satisfied: google-pasta>=0.1.1 in /usr/local/lib/python3.7/dist-packages (from tensorflow-gpu) (0.2.0)\n",
            "Requirement already satisfied: protobuf<3.20,>=3.9.2 in /usr/local/lib/python3.7/dist-packages (from tensorflow-gpu) (3.17.3)\n",
            "Requirement already satisfied: setuptools in /usr/local/lib/python3.7/dist-packages (from tensorflow-gpu) (57.4.0)\n",
            "Requirement already satisfied: wrapt>=1.11.0 in /usr/local/lib/python3.7/dist-packages (from tensorflow-gpu) (1.14.1)\n",
            "Requirement already satisfied: opt-einsum>=2.3.2 in /usr/local/lib/python3.7/dist-packages (from tensorflow-gpu) (3.3.0)\n",
            "Requirement already satisfied: keras-preprocessing>=1.1.1 in /usr/local/lib/python3.7/dist-packages (from tensorflow-gpu) (1.1.2)\n",
            "Collecting keras<2.11,>=2.10.0\n",
            "  Using cached keras-2.10.0-py2.py3-none-any.whl (1.7 MB)\n",
            "Requirement already satisfied: grpcio<2.0,>=1.24.3 in /usr/local/lib/python3.7/dist-packages (from tensorflow-gpu) (1.50.0)\n",
            "Requirement already satisfied: libclang>=13.0.0 in /usr/local/lib/python3.7/dist-packages (from tensorflow-gpu) (14.0.6)\n",
            "Requirement already satisfied: typing-extensions>=3.6.6 in /usr/local/lib/python3.7/dist-packages (from tensorflow-gpu) (4.1.1)\n",
            "Collecting flatbuffers>=2.0\n",
            "  Using cached flatbuffers-22.10.26-py2.py3-none-any.whl (26 kB)\n",
            "Requirement already satisfied: tensorflow-io-gcs-filesystem>=0.23.1 in /usr/local/lib/python3.7/dist-packages (from tensorflow-gpu) (0.27.0)\n",
            "Requirement already satisfied: astunparse>=1.6.0 in /usr/local/lib/python3.7/dist-packages (from tensorflow-gpu) (1.6.3)\n",
            "Requirement already satisfied: gast<=0.4.0,>=0.2.1 in /usr/local/lib/python3.7/dist-packages (from tensorflow-gpu) (0.2.2)\n",
            "Requirement already satisfied: h5py>=2.9.0 in /usr/local/lib/python3.7/dist-packages (from tensorflow-gpu) (3.1.0)\n",
            "Collecting tensorboard<2.11,>=2.10\n",
            "  Using cached tensorboard-2.10.1-py3-none-any.whl (5.9 MB)\n",
            "Requirement already satisfied: absl-py>=1.0.0 in /usr/local/lib/python3.7/dist-packages (from tensorflow-gpu) (1.3.0)\n",
            "Requirement already satisfied: numpy>=1.20 in /usr/local/lib/python3.7/dist-packages (from tensorflow-gpu) (1.21.6)\n",
            "Requirement already satisfied: packaging in /usr/local/lib/python3.7/dist-packages (from tensorflow-gpu) (21.3)\n",
            "Collecting tensorflow-estimator<2.11,>=2.10.0\n",
            "  Using cached tensorflow_estimator-2.10.0-py2.py3-none-any.whl (438 kB)\n",
            "Requirement already satisfied: wheel<1.0,>=0.23.0 in /usr/local/lib/python3.7/dist-packages (from astunparse>=1.6.0->tensorflow-gpu) (0.37.1)\n",
            "Requirement already satisfied: cached-property in /usr/local/lib/python3.7/dist-packages (from h5py>=2.9.0->tensorflow-gpu) (1.5.2)\n",
            "Requirement already satisfied: werkzeug>=1.0.1 in /usr/local/lib/python3.7/dist-packages (from tensorboard<2.11,>=2.10->tensorflow-gpu) (1.0.1)\n",
            "Requirement already satisfied: google-auth-oauthlib<0.5,>=0.4.1 in /usr/local/lib/python3.7/dist-packages (from tensorboard<2.11,>=2.10->tensorflow-gpu) (0.4.6)\n",
            "Requirement already satisfied: tensorboard-plugin-wit>=1.6.0 in /usr/local/lib/python3.7/dist-packages (from tensorboard<2.11,>=2.10->tensorflow-gpu) (1.8.1)\n",
            "Requirement already satisfied: requests<3,>=2.21.0 in /usr/local/lib/python3.7/dist-packages (from tensorboard<2.11,>=2.10->tensorflow-gpu) (2.23.0)\n",
            "Requirement already satisfied: tensorboard-data-server<0.7.0,>=0.6.0 in /usr/local/lib/python3.7/dist-packages (from tensorboard<2.11,>=2.10->tensorflow-gpu) (0.6.1)\n",
            "Requirement already satisfied: markdown>=2.6.8 in /usr/local/lib/python3.7/dist-packages (from tensorboard<2.11,>=2.10->tensorflow-gpu) (3.4.1)\n",
            "Requirement already satisfied: google-auth<3,>=1.6.3 in /usr/local/lib/python3.7/dist-packages (from tensorboard<2.11,>=2.10->tensorflow-gpu) (1.35.0)\n",
            "Requirement already satisfied: rsa<5,>=3.1.4 in /usr/local/lib/python3.7/dist-packages (from google-auth<3,>=1.6.3->tensorboard<2.11,>=2.10->tensorflow-gpu) (4.9)\n",
            "Requirement already satisfied: cachetools<5.0,>=2.0.0 in /usr/local/lib/python3.7/dist-packages (from google-auth<3,>=1.6.3->tensorboard<2.11,>=2.10->tensorflow-gpu) (4.2.4)\n",
            "Requirement already satisfied: pyasn1-modules>=0.2.1 in /usr/local/lib/python3.7/dist-packages (from google-auth<3,>=1.6.3->tensorboard<2.11,>=2.10->tensorflow-gpu) (0.2.8)\n",
            "Requirement already satisfied: requests-oauthlib>=0.7.0 in /usr/local/lib/python3.7/dist-packages (from google-auth-oauthlib<0.5,>=0.4.1->tensorboard<2.11,>=2.10->tensorflow-gpu) (1.3.1)\n",
            "Requirement already satisfied: importlib-metadata>=4.4 in /usr/local/lib/python3.7/dist-packages (from markdown>=2.6.8->tensorboard<2.11,>=2.10->tensorflow-gpu) (4.13.0)\n",
            "Requirement already satisfied: zipp>=0.5 in /usr/local/lib/python3.7/dist-packages (from importlib-metadata>=4.4->markdown>=2.6.8->tensorboard<2.11,>=2.10->tensorflow-gpu) (3.9.0)\n",
            "Requirement already satisfied: pyasn1<0.5.0,>=0.4.6 in /usr/local/lib/python3.7/dist-packages (from pyasn1-modules>=0.2.1->google-auth<3,>=1.6.3->tensorboard<2.11,>=2.10->tensorflow-gpu) (0.4.8)\n",
            "Requirement already satisfied: chardet<4,>=3.0.2 in /usr/local/lib/python3.7/dist-packages (from requests<3,>=2.21.0->tensorboard<2.11,>=2.10->tensorflow-gpu) (3.0.4)\n",
            "Requirement already satisfied: idna<3,>=2.5 in /usr/local/lib/python3.7/dist-packages (from requests<3,>=2.21.0->tensorboard<2.11,>=2.10->tensorflow-gpu) (2.10)\n",
            "Requirement already satisfied: certifi>=2017.4.17 in /usr/local/lib/python3.7/dist-packages (from requests<3,>=2.21.0->tensorboard<2.11,>=2.10->tensorflow-gpu) (2022.9.24)\n",
            "Requirement already satisfied: urllib3!=1.25.0,!=1.25.1,<1.26,>=1.21.1 in /usr/local/lib/python3.7/dist-packages (from requests<3,>=2.21.0->tensorboard<2.11,>=2.10->tensorflow-gpu) (1.24.3)\n",
            "Requirement already satisfied: oauthlib>=3.0.0 in /usr/local/lib/python3.7/dist-packages (from requests-oauthlib>=0.7.0->google-auth-oauthlib<0.5,>=0.4.1->tensorboard<2.11,>=2.10->tensorflow-gpu) (3.2.2)\n",
            "Requirement already satisfied: pyparsing!=3.0.5,>=2.0.2 in /usr/local/lib/python3.7/dist-packages (from packaging->tensorflow-gpu) (3.0.9)\n",
            "Installing collected packages: tensorflow-estimator, tensorboard, keras, flatbuffers, tensorflow-gpu\n",
            "  Attempting uninstall: tensorflow-estimator\n",
            "    Found existing installation: tensorflow-estimator 2.9.0\n",
            "    Uninstalling tensorflow-estimator-2.9.0:\n",
            "      Successfully uninstalled tensorflow-estimator-2.9.0\n",
            "  Attempting uninstall: tensorboard\n",
            "    Found existing installation: tensorboard 2.9.1\n",
            "    Uninstalling tensorboard-2.9.1:\n",
            "      Successfully uninstalled tensorboard-2.9.1\n",
            "  Attempting uninstall: keras\n",
            "    Found existing installation: keras 2.9.0\n",
            "    Uninstalling keras-2.9.0:\n",
            "      Successfully uninstalled keras-2.9.0\n",
            "  Attempting uninstall: flatbuffers\n",
            "    Found existing installation: flatbuffers 1.12\n",
            "    Uninstalling flatbuffers-1.12:\n",
            "      Successfully uninstalled flatbuffers-1.12\n",
            "  Attempting uninstall: tensorflow-gpu\n",
            "    Found existing installation: tensorflow-gpu 2.1.0\n",
            "    Uninstalling tensorflow-gpu-2.1.0:\n",
            "      Successfully uninstalled tensorflow-gpu-2.1.0\n",
            "\u001b[31mERROR: pip's dependency resolver does not currently take into account all the packages that are installed. This behaviour is the source of the following dependency conflicts.\n",
            "tensorflow 2.9.2 requires flatbuffers<2,>=1.12, but you have flatbuffers 22.10.26 which is incompatible.\n",
            "tensorflow 2.9.2 requires keras<2.10.0,>=2.9.0rc0, but you have keras 2.10.0 which is incompatible.\n",
            "tensorflow 2.9.2 requires tensorboard<2.10,>=2.9, but you have tensorboard 2.10.1 which is incompatible.\n",
            "tensorflow 2.9.2 requires tensorflow-estimator<2.10.0,>=2.9.0rc0, but you have tensorflow-estimator 2.10.0 which is incompatible.\u001b[0m\n",
            "Successfully installed flatbuffers-22.10.26 keras-2.10.0 tensorboard-2.10.1 tensorflow-estimator-2.10.0 tensorflow-gpu-2.10.0\n"
          ]
        }
      ],
      "source": [
        "!pip3 install --upgrade tensorflow-gpu"
      ]
    },
    {
      "cell_type": "code",
      "execution_count": 4,
      "metadata": {
        "id": "IQ47ZPsDilmp"
      },
      "outputs": [],
      "source": [
        "!pip3 install -q ktrain"
      ]
    },
    {
      "cell_type": "code",
      "execution_count": 5,
      "metadata": {
        "id": "56uaDZJAinUL"
      },
      "outputs": [],
      "source": [
        "import pandas as pd\n",
        "data=pd.read_csv('sample_dex_train.csv')"
      ]
    },
    {
      "cell_type": "code",
      "execution_count": 6,
      "metadata": {
        "id": "6tXTPUIJipX-"
      },
      "outputs": [],
      "source": [
        "df1=data.copy()"
      ]
    },
    {
      "cell_type": "code",
      "execution_count": 7,
      "metadata": {
        "id": "WBu-2yEQiuAS"
      },
      "outputs": [],
      "source": [
        "df2=df1.copy()"
      ]
    },
    {
      "cell_type": "code",
      "execution_count": 8,
      "metadata": {
        "id": "FNTvoiP0ivYX"
      },
      "outputs": [],
      "source": [
        "df2.dropna(inplace=True)"
      ]
    },
    {
      "cell_type": "code",
      "source": [
        "df2.drop('Unnamed: 0',axis=1,inplace=True)"
      ],
      "metadata": {
        "id": "H2bxLQoEzxeo"
      },
      "execution_count": 9,
      "outputs": []
    },
    {
      "cell_type": "code",
      "source": [
        "df2.head()"
      ],
      "metadata": {
        "colab": {
          "base_uri": "https://localhost:8080/",
          "height": 206
        },
        "id": "kTQocC1Xy_mU",
        "outputId": "78b88397-a1f4-4593-80d9-80b43b817a81"
      },
      "execution_count": 10,
      "outputs": [
        {
          "output_type": "execute_result",
          "data": {
            "text/plain": [
              "                                               title          category\n",
              "0     Reminder - Optimus -  Best People Manager 2022            TWEETS\n",
              "1  It starts this 23 October, till 26 October 202...            TWEETS\n",
              "2  Congratulations Triveni Arun Bhalerao | Long S...     WHO_SAID_WHAT\n",
              "3   Long Service Awards - 5 years - Triveni Arun ...  STORY_OF_THE_DAY\n",
              "4                                     tweets testing            TWEETS"
            ],
            "text/html": [
              "\n",
              "  <div id=\"df-eed53730-2a8b-4508-a035-fbd5997d6fb9\">\n",
              "    <div class=\"colab-df-container\">\n",
              "      <div>\n",
              "<style scoped>\n",
              "    .dataframe tbody tr th:only-of-type {\n",
              "        vertical-align: middle;\n",
              "    }\n",
              "\n",
              "    .dataframe tbody tr th {\n",
              "        vertical-align: top;\n",
              "    }\n",
              "\n",
              "    .dataframe thead th {\n",
              "        text-align: right;\n",
              "    }\n",
              "</style>\n",
              "<table border=\"1\" class=\"dataframe\">\n",
              "  <thead>\n",
              "    <tr style=\"text-align: right;\">\n",
              "      <th></th>\n",
              "      <th>title</th>\n",
              "      <th>category</th>\n",
              "    </tr>\n",
              "  </thead>\n",
              "  <tbody>\n",
              "    <tr>\n",
              "      <th>0</th>\n",
              "      <td>Reminder - Optimus -  Best People Manager 2022</td>\n",
              "      <td>TWEETS</td>\n",
              "    </tr>\n",
              "    <tr>\n",
              "      <th>1</th>\n",
              "      <td>It starts this 23 October, till 26 October 202...</td>\n",
              "      <td>TWEETS</td>\n",
              "    </tr>\n",
              "    <tr>\n",
              "      <th>2</th>\n",
              "      <td>Congratulations Triveni Arun Bhalerao | Long S...</td>\n",
              "      <td>WHO_SAID_WHAT</td>\n",
              "    </tr>\n",
              "    <tr>\n",
              "      <th>3</th>\n",
              "      <td>Long Service Awards - 5 years - Triveni Arun ...</td>\n",
              "      <td>STORY_OF_THE_DAY</td>\n",
              "    </tr>\n",
              "    <tr>\n",
              "      <th>4</th>\n",
              "      <td>tweets testing</td>\n",
              "      <td>TWEETS</td>\n",
              "    </tr>\n",
              "  </tbody>\n",
              "</table>\n",
              "</div>\n",
              "      <button class=\"colab-df-convert\" onclick=\"convertToInteractive('df-eed53730-2a8b-4508-a035-fbd5997d6fb9')\"\n",
              "              title=\"Convert this dataframe to an interactive table.\"\n",
              "              style=\"display:none;\">\n",
              "        \n",
              "  <svg xmlns=\"http://www.w3.org/2000/svg\" height=\"24px\"viewBox=\"0 0 24 24\"\n",
              "       width=\"24px\">\n",
              "    <path d=\"M0 0h24v24H0V0z\" fill=\"none\"/>\n",
              "    <path d=\"M18.56 5.44l.94 2.06.94-2.06 2.06-.94-2.06-.94-.94-2.06-.94 2.06-2.06.94zm-11 1L8.5 8.5l.94-2.06 2.06-.94-2.06-.94L8.5 2.5l-.94 2.06-2.06.94zm10 10l.94 2.06.94-2.06 2.06-.94-2.06-.94-.94-2.06-.94 2.06-2.06.94z\"/><path d=\"M17.41 7.96l-1.37-1.37c-.4-.4-.92-.59-1.43-.59-.52 0-1.04.2-1.43.59L10.3 9.45l-7.72 7.72c-.78.78-.78 2.05 0 2.83L4 21.41c.39.39.9.59 1.41.59.51 0 1.02-.2 1.41-.59l7.78-7.78 2.81-2.81c.8-.78.8-2.07 0-2.86zM5.41 20L4 18.59l7.72-7.72 1.47 1.35L5.41 20z\"/>\n",
              "  </svg>\n",
              "      </button>\n",
              "      \n",
              "  <style>\n",
              "    .colab-df-container {\n",
              "      display:flex;\n",
              "      flex-wrap:wrap;\n",
              "      gap: 12px;\n",
              "    }\n",
              "\n",
              "    .colab-df-convert {\n",
              "      background-color: #E8F0FE;\n",
              "      border: none;\n",
              "      border-radius: 50%;\n",
              "      cursor: pointer;\n",
              "      display: none;\n",
              "      fill: #1967D2;\n",
              "      height: 32px;\n",
              "      padding: 0 0 0 0;\n",
              "      width: 32px;\n",
              "    }\n",
              "\n",
              "    .colab-df-convert:hover {\n",
              "      background-color: #E2EBFA;\n",
              "      box-shadow: 0px 1px 2px rgba(60, 64, 67, 0.3), 0px 1px 3px 1px rgba(60, 64, 67, 0.15);\n",
              "      fill: #174EA6;\n",
              "    }\n",
              "\n",
              "    [theme=dark] .colab-df-convert {\n",
              "      background-color: #3B4455;\n",
              "      fill: #D2E3FC;\n",
              "    }\n",
              "\n",
              "    [theme=dark] .colab-df-convert:hover {\n",
              "      background-color: #434B5C;\n",
              "      box-shadow: 0px 1px 3px 1px rgba(0, 0, 0, 0.15);\n",
              "      filter: drop-shadow(0px 1px 2px rgba(0, 0, 0, 0.3));\n",
              "      fill: #FFFFFF;\n",
              "    }\n",
              "  </style>\n",
              "\n",
              "      <script>\n",
              "        const buttonEl =\n",
              "          document.querySelector('#df-eed53730-2a8b-4508-a035-fbd5997d6fb9 button.colab-df-convert');\n",
              "        buttonEl.style.display =\n",
              "          google.colab.kernel.accessAllowed ? 'block' : 'none';\n",
              "\n",
              "        async function convertToInteractive(key) {\n",
              "          const element = document.querySelector('#df-eed53730-2a8b-4508-a035-fbd5997d6fb9');\n",
              "          const dataTable =\n",
              "            await google.colab.kernel.invokeFunction('convertToInteractive',\n",
              "                                                     [key], {});\n",
              "          if (!dataTable) return;\n",
              "\n",
              "          const docLinkHtml = 'Like what you see? Visit the ' +\n",
              "            '<a target=\"_blank\" href=https://colab.research.google.com/notebooks/data_table.ipynb>data table notebook</a>'\n",
              "            + ' to learn more about interactive tables.';\n",
              "          element.innerHTML = '';\n",
              "          dataTable['output_type'] = 'display_data';\n",
              "          await google.colab.output.renderOutput(dataTable, element);\n",
              "          const docLink = document.createElement('div');\n",
              "          docLink.innerHTML = docLinkHtml;\n",
              "          element.appendChild(docLink);\n",
              "        }\n",
              "      </script>\n",
              "    </div>\n",
              "  </div>\n",
              "  "
            ]
          },
          "metadata": {},
          "execution_count": 10
        }
      ]
    },
    {
      "cell_type": "code",
      "execution_count": 11,
      "metadata": {
        "colab": {
          "base_uri": "https://localhost:8080/"
        },
        "id": "gOhzXK7BjCMc",
        "outputId": "12afd71e-13cc-4b7f-d4b8-9052ee3b9382"
      },
      "outputs": [
        {
          "output_type": "execute_result",
          "data": {
            "text/plain": [
              "(963, 2)"
            ]
          },
          "metadata": {},
          "execution_count": 11
        }
      ],
      "source": [
        "df2.shape"
      ]
    },
    {
      "cell_type": "code",
      "source": [
        "df2.category.value_counts()"
      ],
      "metadata": {
        "colab": {
          "base_uri": "https://localhost:8080/"
        },
        "id": "yuK3GG867bUJ",
        "outputId": "a7b87864-241f-4227-bb32-416b32ef6386"
      },
      "execution_count": 12,
      "outputs": [
        {
          "output_type": "execute_result",
          "data": {
            "text/plain": [
              "TWEETS                      231\n",
              "COMPANY_INFORMATION         165\n",
              "STORY_OF_THE_DAY            105\n",
              "TECHNO_PICKS                 89\n",
              "INDUSTRY_UPDATE              84\n",
              "WHO_SAID_WHAT                65\n",
              "FEATURED_VIDEOS              53\n",
              "SUCCESS_STORY                33\n",
              "ALTIMETRIK_NEWS              25\n",
              "EMPLOYEE_EXPERIENCES         22\n",
              "PEOPLE_OF_ALTIMETRIK         20\n",
              "ABOUT_ALTIMETRIK             19\n",
              "CAPABILITY_CENTERS           13\n",
              "GLOBAL_RECOGNITIONS          12\n",
              "INNOVATION_AT_ALTIMETRIK     11\n",
              "TRENDING_STORY                7\n",
              "EBOOK                         6\n",
              "STATIC_CONTENT                2\n",
              "DIGITAL_BUSINESS              1\n",
              "Name: category, dtype: int64"
            ]
          },
          "metadata": {},
          "execution_count": 12
        }
      ]
    },
    {
      "cell_type": "code",
      "execution_count": 13,
      "metadata": {
        "colab": {
          "base_uri": "https://localhost:8080/",
          "height": 81
        },
        "id": "45vtWfHzkJj7",
        "outputId": "7efcc3f0-ec4e-47a8-a614-bb1bfaa2b9f2"
      },
      "outputs": [
        {
          "output_type": "execute_result",
          "data": {
            "text/plain": [
              "                  title          category\n",
              "437  Digital Business 2  DIGITAL_BUSINESS"
            ],
            "text/html": [
              "\n",
              "  <div id=\"df-4a33cefb-265a-4be0-a6cf-564e7f53f114\">\n",
              "    <div class=\"colab-df-container\">\n",
              "      <div>\n",
              "<style scoped>\n",
              "    .dataframe tbody tr th:only-of-type {\n",
              "        vertical-align: middle;\n",
              "    }\n",
              "\n",
              "    .dataframe tbody tr th {\n",
              "        vertical-align: top;\n",
              "    }\n",
              "\n",
              "    .dataframe thead th {\n",
              "        text-align: right;\n",
              "    }\n",
              "</style>\n",
              "<table border=\"1\" class=\"dataframe\">\n",
              "  <thead>\n",
              "    <tr style=\"text-align: right;\">\n",
              "      <th></th>\n",
              "      <th>title</th>\n",
              "      <th>category</th>\n",
              "    </tr>\n",
              "  </thead>\n",
              "  <tbody>\n",
              "    <tr>\n",
              "      <th>437</th>\n",
              "      <td>Digital Business 2</td>\n",
              "      <td>DIGITAL_BUSINESS</td>\n",
              "    </tr>\n",
              "  </tbody>\n",
              "</table>\n",
              "</div>\n",
              "      <button class=\"colab-df-convert\" onclick=\"convertToInteractive('df-4a33cefb-265a-4be0-a6cf-564e7f53f114')\"\n",
              "              title=\"Convert this dataframe to an interactive table.\"\n",
              "              style=\"display:none;\">\n",
              "        \n",
              "  <svg xmlns=\"http://www.w3.org/2000/svg\" height=\"24px\"viewBox=\"0 0 24 24\"\n",
              "       width=\"24px\">\n",
              "    <path d=\"M0 0h24v24H0V0z\" fill=\"none\"/>\n",
              "    <path d=\"M18.56 5.44l.94 2.06.94-2.06 2.06-.94-2.06-.94-.94-2.06-.94 2.06-2.06.94zm-11 1L8.5 8.5l.94-2.06 2.06-.94-2.06-.94L8.5 2.5l-.94 2.06-2.06.94zm10 10l.94 2.06.94-2.06 2.06-.94-2.06-.94-.94-2.06-.94 2.06-2.06.94z\"/><path d=\"M17.41 7.96l-1.37-1.37c-.4-.4-.92-.59-1.43-.59-.52 0-1.04.2-1.43.59L10.3 9.45l-7.72 7.72c-.78.78-.78 2.05 0 2.83L4 21.41c.39.39.9.59 1.41.59.51 0 1.02-.2 1.41-.59l7.78-7.78 2.81-2.81c.8-.78.8-2.07 0-2.86zM5.41 20L4 18.59l7.72-7.72 1.47 1.35L5.41 20z\"/>\n",
              "  </svg>\n",
              "      </button>\n",
              "      \n",
              "  <style>\n",
              "    .colab-df-container {\n",
              "      display:flex;\n",
              "      flex-wrap:wrap;\n",
              "      gap: 12px;\n",
              "    }\n",
              "\n",
              "    .colab-df-convert {\n",
              "      background-color: #E8F0FE;\n",
              "      border: none;\n",
              "      border-radius: 50%;\n",
              "      cursor: pointer;\n",
              "      display: none;\n",
              "      fill: #1967D2;\n",
              "      height: 32px;\n",
              "      padding: 0 0 0 0;\n",
              "      width: 32px;\n",
              "    }\n",
              "\n",
              "    .colab-df-convert:hover {\n",
              "      background-color: #E2EBFA;\n",
              "      box-shadow: 0px 1px 2px rgba(60, 64, 67, 0.3), 0px 1px 3px 1px rgba(60, 64, 67, 0.15);\n",
              "      fill: #174EA6;\n",
              "    }\n",
              "\n",
              "    [theme=dark] .colab-df-convert {\n",
              "      background-color: #3B4455;\n",
              "      fill: #D2E3FC;\n",
              "    }\n",
              "\n",
              "    [theme=dark] .colab-df-convert:hover {\n",
              "      background-color: #434B5C;\n",
              "      box-shadow: 0px 1px 3px 1px rgba(0, 0, 0, 0.15);\n",
              "      filter: drop-shadow(0px 1px 2px rgba(0, 0, 0, 0.3));\n",
              "      fill: #FFFFFF;\n",
              "    }\n",
              "  </style>\n",
              "\n",
              "      <script>\n",
              "        const buttonEl =\n",
              "          document.querySelector('#df-4a33cefb-265a-4be0-a6cf-564e7f53f114 button.colab-df-convert');\n",
              "        buttonEl.style.display =\n",
              "          google.colab.kernel.accessAllowed ? 'block' : 'none';\n",
              "\n",
              "        async function convertToInteractive(key) {\n",
              "          const element = document.querySelector('#df-4a33cefb-265a-4be0-a6cf-564e7f53f114');\n",
              "          const dataTable =\n",
              "            await google.colab.kernel.invokeFunction('convertToInteractive',\n",
              "                                                     [key], {});\n",
              "          if (!dataTable) return;\n",
              "\n",
              "          const docLinkHtml = 'Like what you see? Visit the ' +\n",
              "            '<a target=\"_blank\" href=https://colab.research.google.com/notebooks/data_table.ipynb>data table notebook</a>'\n",
              "            + ' to learn more about interactive tables.';\n",
              "          element.innerHTML = '';\n",
              "          dataTable['output_type'] = 'display_data';\n",
              "          await google.colab.output.renderOutput(dataTable, element);\n",
              "          const docLink = document.createElement('div');\n",
              "          docLink.innerHTML = docLinkHtml;\n",
              "          element.appendChild(docLink);\n",
              "        }\n",
              "      </script>\n",
              "    </div>\n",
              "  </div>\n",
              "  "
            ]
          },
          "metadata": {},
          "execution_count": 13
        }
      ],
      "source": [
        "df2[df2['category']=='DIGITAL_BUSINESS']"
      ]
    },
    {
      "cell_type": "code",
      "execution_count": 14,
      "metadata": {
        "colab": {
          "base_uri": "https://localhost:8080/",
          "height": 112
        },
        "id": "T8TFM_WZkPuS",
        "outputId": "27665e83-48a7-4bc9-e20c-fe5f8d2b9d96"
      },
      "outputs": [
        {
          "output_type": "execute_result",
          "data": {
            "text/plain": [
              "                    title        category\n",
              "517              ABOUT US  STATIC_CONTENT\n",
              "628  Innovate and Inspire  STATIC_CONTENT"
            ],
            "text/html": [
              "\n",
              "  <div id=\"df-550610b1-4d94-423a-9986-6544ea2465d6\">\n",
              "    <div class=\"colab-df-container\">\n",
              "      <div>\n",
              "<style scoped>\n",
              "    .dataframe tbody tr th:only-of-type {\n",
              "        vertical-align: middle;\n",
              "    }\n",
              "\n",
              "    .dataframe tbody tr th {\n",
              "        vertical-align: top;\n",
              "    }\n",
              "\n",
              "    .dataframe thead th {\n",
              "        text-align: right;\n",
              "    }\n",
              "</style>\n",
              "<table border=\"1\" class=\"dataframe\">\n",
              "  <thead>\n",
              "    <tr style=\"text-align: right;\">\n",
              "      <th></th>\n",
              "      <th>title</th>\n",
              "      <th>category</th>\n",
              "    </tr>\n",
              "  </thead>\n",
              "  <tbody>\n",
              "    <tr>\n",
              "      <th>517</th>\n",
              "      <td>ABOUT US</td>\n",
              "      <td>STATIC_CONTENT</td>\n",
              "    </tr>\n",
              "    <tr>\n",
              "      <th>628</th>\n",
              "      <td>Innovate and Inspire</td>\n",
              "      <td>STATIC_CONTENT</td>\n",
              "    </tr>\n",
              "  </tbody>\n",
              "</table>\n",
              "</div>\n",
              "      <button class=\"colab-df-convert\" onclick=\"convertToInteractive('df-550610b1-4d94-423a-9986-6544ea2465d6')\"\n",
              "              title=\"Convert this dataframe to an interactive table.\"\n",
              "              style=\"display:none;\">\n",
              "        \n",
              "  <svg xmlns=\"http://www.w3.org/2000/svg\" height=\"24px\"viewBox=\"0 0 24 24\"\n",
              "       width=\"24px\">\n",
              "    <path d=\"M0 0h24v24H0V0z\" fill=\"none\"/>\n",
              "    <path d=\"M18.56 5.44l.94 2.06.94-2.06 2.06-.94-2.06-.94-.94-2.06-.94 2.06-2.06.94zm-11 1L8.5 8.5l.94-2.06 2.06-.94-2.06-.94L8.5 2.5l-.94 2.06-2.06.94zm10 10l.94 2.06.94-2.06 2.06-.94-2.06-.94-.94-2.06-.94 2.06-2.06.94z\"/><path d=\"M17.41 7.96l-1.37-1.37c-.4-.4-.92-.59-1.43-.59-.52 0-1.04.2-1.43.59L10.3 9.45l-7.72 7.72c-.78.78-.78 2.05 0 2.83L4 21.41c.39.39.9.59 1.41.59.51 0 1.02-.2 1.41-.59l7.78-7.78 2.81-2.81c.8-.78.8-2.07 0-2.86zM5.41 20L4 18.59l7.72-7.72 1.47 1.35L5.41 20z\"/>\n",
              "  </svg>\n",
              "      </button>\n",
              "      \n",
              "  <style>\n",
              "    .colab-df-container {\n",
              "      display:flex;\n",
              "      flex-wrap:wrap;\n",
              "      gap: 12px;\n",
              "    }\n",
              "\n",
              "    .colab-df-convert {\n",
              "      background-color: #E8F0FE;\n",
              "      border: none;\n",
              "      border-radius: 50%;\n",
              "      cursor: pointer;\n",
              "      display: none;\n",
              "      fill: #1967D2;\n",
              "      height: 32px;\n",
              "      padding: 0 0 0 0;\n",
              "      width: 32px;\n",
              "    }\n",
              "\n",
              "    .colab-df-convert:hover {\n",
              "      background-color: #E2EBFA;\n",
              "      box-shadow: 0px 1px 2px rgba(60, 64, 67, 0.3), 0px 1px 3px 1px rgba(60, 64, 67, 0.15);\n",
              "      fill: #174EA6;\n",
              "    }\n",
              "\n",
              "    [theme=dark] .colab-df-convert {\n",
              "      background-color: #3B4455;\n",
              "      fill: #D2E3FC;\n",
              "    }\n",
              "\n",
              "    [theme=dark] .colab-df-convert:hover {\n",
              "      background-color: #434B5C;\n",
              "      box-shadow: 0px 1px 3px 1px rgba(0, 0, 0, 0.15);\n",
              "      filter: drop-shadow(0px 1px 2px rgba(0, 0, 0, 0.3));\n",
              "      fill: #FFFFFF;\n",
              "    }\n",
              "  </style>\n",
              "\n",
              "      <script>\n",
              "        const buttonEl =\n",
              "          document.querySelector('#df-550610b1-4d94-423a-9986-6544ea2465d6 button.colab-df-convert');\n",
              "        buttonEl.style.display =\n",
              "          google.colab.kernel.accessAllowed ? 'block' : 'none';\n",
              "\n",
              "        async function convertToInteractive(key) {\n",
              "          const element = document.querySelector('#df-550610b1-4d94-423a-9986-6544ea2465d6');\n",
              "          const dataTable =\n",
              "            await google.colab.kernel.invokeFunction('convertToInteractive',\n",
              "                                                     [key], {});\n",
              "          if (!dataTable) return;\n",
              "\n",
              "          const docLinkHtml = 'Like what you see? Visit the ' +\n",
              "            '<a target=\"_blank\" href=https://colab.research.google.com/notebooks/data_table.ipynb>data table notebook</a>'\n",
              "            + ' to learn more about interactive tables.';\n",
              "          element.innerHTML = '';\n",
              "          dataTable['output_type'] = 'display_data';\n",
              "          await google.colab.output.renderOutput(dataTable, element);\n",
              "          const docLink = document.createElement('div');\n",
              "          docLink.innerHTML = docLinkHtml;\n",
              "          element.appendChild(docLink);\n",
              "        }\n",
              "      </script>\n",
              "    </div>\n",
              "  </div>\n",
              "  "
            ]
          },
          "metadata": {},
          "execution_count": 14
        }
      ],
      "source": [
        "df2[df2['category']=='STATIC_CONTENT']"
      ]
    },
    {
      "cell_type": "code",
      "execution_count": 15,
      "metadata": {
        "colab": {
          "base_uri": "https://localhost:8080/",
          "height": 237
        },
        "id": "e39bILwtk7_H",
        "outputId": "7d8edc0d-3a2f-4bec-de06-65629294363b"
      },
      "outputs": [
        {
          "output_type": "execute_result",
          "data": {
            "text/plain": [
              "          title category\n",
              "682       EBOOK    EBOOK\n",
              "683  EBOOK-Dup1    EBOOK\n",
              "684  EBOOK-Dup2    EBOOK\n",
              "685  EBOOK-Dup3    EBOOK\n",
              "686  EBOOK-Dup4    EBOOK\n",
              "687  EBOOK-Dup5    EBOOK"
            ],
            "text/html": [
              "\n",
              "  <div id=\"df-5cf3ffe4-e7e1-44de-ae56-a27356e4d2a5\">\n",
              "    <div class=\"colab-df-container\">\n",
              "      <div>\n",
              "<style scoped>\n",
              "    .dataframe tbody tr th:only-of-type {\n",
              "        vertical-align: middle;\n",
              "    }\n",
              "\n",
              "    .dataframe tbody tr th {\n",
              "        vertical-align: top;\n",
              "    }\n",
              "\n",
              "    .dataframe thead th {\n",
              "        text-align: right;\n",
              "    }\n",
              "</style>\n",
              "<table border=\"1\" class=\"dataframe\">\n",
              "  <thead>\n",
              "    <tr style=\"text-align: right;\">\n",
              "      <th></th>\n",
              "      <th>title</th>\n",
              "      <th>category</th>\n",
              "    </tr>\n",
              "  </thead>\n",
              "  <tbody>\n",
              "    <tr>\n",
              "      <th>682</th>\n",
              "      <td>EBOOK</td>\n",
              "      <td>EBOOK</td>\n",
              "    </tr>\n",
              "    <tr>\n",
              "      <th>683</th>\n",
              "      <td>EBOOK-Dup1</td>\n",
              "      <td>EBOOK</td>\n",
              "    </tr>\n",
              "    <tr>\n",
              "      <th>684</th>\n",
              "      <td>EBOOK-Dup2</td>\n",
              "      <td>EBOOK</td>\n",
              "    </tr>\n",
              "    <tr>\n",
              "      <th>685</th>\n",
              "      <td>EBOOK-Dup3</td>\n",
              "      <td>EBOOK</td>\n",
              "    </tr>\n",
              "    <tr>\n",
              "      <th>686</th>\n",
              "      <td>EBOOK-Dup4</td>\n",
              "      <td>EBOOK</td>\n",
              "    </tr>\n",
              "    <tr>\n",
              "      <th>687</th>\n",
              "      <td>EBOOK-Dup5</td>\n",
              "      <td>EBOOK</td>\n",
              "    </tr>\n",
              "  </tbody>\n",
              "</table>\n",
              "</div>\n",
              "      <button class=\"colab-df-convert\" onclick=\"convertToInteractive('df-5cf3ffe4-e7e1-44de-ae56-a27356e4d2a5')\"\n",
              "              title=\"Convert this dataframe to an interactive table.\"\n",
              "              style=\"display:none;\">\n",
              "        \n",
              "  <svg xmlns=\"http://www.w3.org/2000/svg\" height=\"24px\"viewBox=\"0 0 24 24\"\n",
              "       width=\"24px\">\n",
              "    <path d=\"M0 0h24v24H0V0z\" fill=\"none\"/>\n",
              "    <path d=\"M18.56 5.44l.94 2.06.94-2.06 2.06-.94-2.06-.94-.94-2.06-.94 2.06-2.06.94zm-11 1L8.5 8.5l.94-2.06 2.06-.94-2.06-.94L8.5 2.5l-.94 2.06-2.06.94zm10 10l.94 2.06.94-2.06 2.06-.94-2.06-.94-.94-2.06-.94 2.06-2.06.94z\"/><path d=\"M17.41 7.96l-1.37-1.37c-.4-.4-.92-.59-1.43-.59-.52 0-1.04.2-1.43.59L10.3 9.45l-7.72 7.72c-.78.78-.78 2.05 0 2.83L4 21.41c.39.39.9.59 1.41.59.51 0 1.02-.2 1.41-.59l7.78-7.78 2.81-2.81c.8-.78.8-2.07 0-2.86zM5.41 20L4 18.59l7.72-7.72 1.47 1.35L5.41 20z\"/>\n",
              "  </svg>\n",
              "      </button>\n",
              "      \n",
              "  <style>\n",
              "    .colab-df-container {\n",
              "      display:flex;\n",
              "      flex-wrap:wrap;\n",
              "      gap: 12px;\n",
              "    }\n",
              "\n",
              "    .colab-df-convert {\n",
              "      background-color: #E8F0FE;\n",
              "      border: none;\n",
              "      border-radius: 50%;\n",
              "      cursor: pointer;\n",
              "      display: none;\n",
              "      fill: #1967D2;\n",
              "      height: 32px;\n",
              "      padding: 0 0 0 0;\n",
              "      width: 32px;\n",
              "    }\n",
              "\n",
              "    .colab-df-convert:hover {\n",
              "      background-color: #E2EBFA;\n",
              "      box-shadow: 0px 1px 2px rgba(60, 64, 67, 0.3), 0px 1px 3px 1px rgba(60, 64, 67, 0.15);\n",
              "      fill: #174EA6;\n",
              "    }\n",
              "\n",
              "    [theme=dark] .colab-df-convert {\n",
              "      background-color: #3B4455;\n",
              "      fill: #D2E3FC;\n",
              "    }\n",
              "\n",
              "    [theme=dark] .colab-df-convert:hover {\n",
              "      background-color: #434B5C;\n",
              "      box-shadow: 0px 1px 3px 1px rgba(0, 0, 0, 0.15);\n",
              "      filter: drop-shadow(0px 1px 2px rgba(0, 0, 0, 0.3));\n",
              "      fill: #FFFFFF;\n",
              "    }\n",
              "  </style>\n",
              "\n",
              "      <script>\n",
              "        const buttonEl =\n",
              "          document.querySelector('#df-5cf3ffe4-e7e1-44de-ae56-a27356e4d2a5 button.colab-df-convert');\n",
              "        buttonEl.style.display =\n",
              "          google.colab.kernel.accessAllowed ? 'block' : 'none';\n",
              "\n",
              "        async function convertToInteractive(key) {\n",
              "          const element = document.querySelector('#df-5cf3ffe4-e7e1-44de-ae56-a27356e4d2a5');\n",
              "          const dataTable =\n",
              "            await google.colab.kernel.invokeFunction('convertToInteractive',\n",
              "                                                     [key], {});\n",
              "          if (!dataTable) return;\n",
              "\n",
              "          const docLinkHtml = 'Like what you see? Visit the ' +\n",
              "            '<a target=\"_blank\" href=https://colab.research.google.com/notebooks/data_table.ipynb>data table notebook</a>'\n",
              "            + ' to learn more about interactive tables.';\n",
              "          element.innerHTML = '';\n",
              "          dataTable['output_type'] = 'display_data';\n",
              "          await google.colab.output.renderOutput(dataTable, element);\n",
              "          const docLink = document.createElement('div');\n",
              "          docLink.innerHTML = docLinkHtml;\n",
              "          element.appendChild(docLink);\n",
              "        }\n",
              "      </script>\n",
              "    </div>\n",
              "  </div>\n",
              "  "
            ]
          },
          "metadata": {},
          "execution_count": 15
        }
      ],
      "source": [
        "df2[df2['category']=='EBOOK']"
      ]
    },
    {
      "cell_type": "code",
      "execution_count": 16,
      "metadata": {
        "id": "_bfpzWJalBCL"
      },
      "outputs": [],
      "source": [
        "rows=[517,628,437]"
      ]
    },
    {
      "cell_type": "code",
      "source": [
        "df2.category.nunique()"
      ],
      "metadata": {
        "colab": {
          "base_uri": "https://localhost:8080/"
        },
        "id": "RZoXK4Nn7qC7",
        "outputId": "8fa45c3e-177b-4a89-82f7-11304956e095"
      },
      "execution_count": 17,
      "outputs": [
        {
          "output_type": "execute_result",
          "data": {
            "text/plain": [
              "19"
            ]
          },
          "metadata": {},
          "execution_count": 17
        }
      ]
    },
    {
      "cell_type": "code",
      "execution_count": 18,
      "metadata": {
        "id": "PEs2pEgmlRDZ"
      },
      "outputs": [],
      "source": [
        "df2.drop(index=rows,inplace=True)"
      ]
    },
    {
      "cell_type": "code",
      "execution_count": 19,
      "metadata": {
        "colab": {
          "base_uri": "https://localhost:8080/"
        },
        "id": "c-fSN3yIlU7G",
        "outputId": "8ee3c340-d4ee-43b5-dc15-65cd56c229b1"
      },
      "outputs": [
        {
          "output_type": "execute_result",
          "data": {
            "text/plain": [
              "TWEETS                      231\n",
              "COMPANY_INFORMATION         165\n",
              "STORY_OF_THE_DAY            105\n",
              "TECHNO_PICKS                 89\n",
              "INDUSTRY_UPDATE              84\n",
              "WHO_SAID_WHAT                65\n",
              "FEATURED_VIDEOS              53\n",
              "SUCCESS_STORY                33\n",
              "ALTIMETRIK_NEWS              25\n",
              "EMPLOYEE_EXPERIENCES         22\n",
              "PEOPLE_OF_ALTIMETRIK         20\n",
              "ABOUT_ALTIMETRIK             19\n",
              "CAPABILITY_CENTERS           13\n",
              "GLOBAL_RECOGNITIONS          12\n",
              "INNOVATION_AT_ALTIMETRIK     11\n",
              "TRENDING_STORY                7\n",
              "EBOOK                         6\n",
              "Name: category, dtype: int64"
            ]
          },
          "metadata": {},
          "execution_count": 19
        }
      ],
      "source": [
        "df2['category'].value_counts()"
      ]
    },
    {
      "cell_type": "code",
      "source": [
        "df2.nunique()"
      ],
      "metadata": {
        "colab": {
          "base_uri": "https://localhost:8080/"
        },
        "id": "TAtz5pl07wQx",
        "outputId": "95c602ff-25d7-4fb4-cfe8-7a1201fb648c"
      },
      "execution_count": 20,
      "outputs": [
        {
          "output_type": "execute_result",
          "data": {
            "text/plain": [
              "title       781\n",
              "category     17\n",
              "dtype: int64"
            ]
          },
          "metadata": {},
          "execution_count": 20
        }
      ]
    },
    {
      "cell_type": "code",
      "source": [
        "testdata_1=pd.read_excel('sample_dex_test.xlsx')"
      ],
      "metadata": {
        "id": "bLzs6MNx4jN0"
      },
      "execution_count": 21,
      "outputs": []
    },
    {
      "cell_type": "code",
      "source": [
        "testdata_1.head()"
      ],
      "metadata": {
        "colab": {
          "base_uri": "https://localhost:8080/",
          "height": 206
        },
        "id": "S-1b-YlH4oPx",
        "outputId": "b09fc9ff-5f61-43c6-9321-efa21a866e9b"
      },
      "execution_count": 22,
      "outputs": [
        {
          "output_type": "execute_result",
          "data": {
            "text/plain": [
              "   Unnamed: 0                                              title  \\\n",
              "0         970        4 Takeaways for the Future of Healthcare IT   \n",
              "1         971  We are thrilled to announce that Jeff was conf...   \n",
              "2         972  Cloud computing powers the worldâ€™s financial...   \n",
              "3         973                                         Test Tweet   \n",
              "4         974                       Test Tweet 2 From Srinivas H   \n",
              "\n",
              "          category  \n",
              "0  INDUSTRY_UPDATE  \n",
              "1           TWEETS  \n",
              "2     TECHNO_PICKS  \n",
              "3           TWEETS  \n",
              "4           TWEETS  "
            ],
            "text/html": [
              "\n",
              "  <div id=\"df-077d480c-7096-4b81-9d1f-f8d643ec46c0\">\n",
              "    <div class=\"colab-df-container\">\n",
              "      <div>\n",
              "<style scoped>\n",
              "    .dataframe tbody tr th:only-of-type {\n",
              "        vertical-align: middle;\n",
              "    }\n",
              "\n",
              "    .dataframe tbody tr th {\n",
              "        vertical-align: top;\n",
              "    }\n",
              "\n",
              "    .dataframe thead th {\n",
              "        text-align: right;\n",
              "    }\n",
              "</style>\n",
              "<table border=\"1\" class=\"dataframe\">\n",
              "  <thead>\n",
              "    <tr style=\"text-align: right;\">\n",
              "      <th></th>\n",
              "      <th>Unnamed: 0</th>\n",
              "      <th>title</th>\n",
              "      <th>category</th>\n",
              "    </tr>\n",
              "  </thead>\n",
              "  <tbody>\n",
              "    <tr>\n",
              "      <th>0</th>\n",
              "      <td>970</td>\n",
              "      <td>4 Takeaways for the Future of Healthcare IT</td>\n",
              "      <td>INDUSTRY_UPDATE</td>\n",
              "    </tr>\n",
              "    <tr>\n",
              "      <th>1</th>\n",
              "      <td>971</td>\n",
              "      <td>We are thrilled to announce that Jeff was conf...</td>\n",
              "      <td>TWEETS</td>\n",
              "    </tr>\n",
              "    <tr>\n",
              "      <th>2</th>\n",
              "      <td>972</td>\n",
              "      <td>Cloud computing powers the worldâ€™s financial...</td>\n",
              "      <td>TECHNO_PICKS</td>\n",
              "    </tr>\n",
              "    <tr>\n",
              "      <th>3</th>\n",
              "      <td>973</td>\n",
              "      <td>Test Tweet</td>\n",
              "      <td>TWEETS</td>\n",
              "    </tr>\n",
              "    <tr>\n",
              "      <th>4</th>\n",
              "      <td>974</td>\n",
              "      <td>Test Tweet 2 From Srinivas H</td>\n",
              "      <td>TWEETS</td>\n",
              "    </tr>\n",
              "  </tbody>\n",
              "</table>\n",
              "</div>\n",
              "      <button class=\"colab-df-convert\" onclick=\"convertToInteractive('df-077d480c-7096-4b81-9d1f-f8d643ec46c0')\"\n",
              "              title=\"Convert this dataframe to an interactive table.\"\n",
              "              style=\"display:none;\">\n",
              "        \n",
              "  <svg xmlns=\"http://www.w3.org/2000/svg\" height=\"24px\"viewBox=\"0 0 24 24\"\n",
              "       width=\"24px\">\n",
              "    <path d=\"M0 0h24v24H0V0z\" fill=\"none\"/>\n",
              "    <path d=\"M18.56 5.44l.94 2.06.94-2.06 2.06-.94-2.06-.94-.94-2.06-.94 2.06-2.06.94zm-11 1L8.5 8.5l.94-2.06 2.06-.94-2.06-.94L8.5 2.5l-.94 2.06-2.06.94zm10 10l.94 2.06.94-2.06 2.06-.94-2.06-.94-.94-2.06-.94 2.06-2.06.94z\"/><path d=\"M17.41 7.96l-1.37-1.37c-.4-.4-.92-.59-1.43-.59-.52 0-1.04.2-1.43.59L10.3 9.45l-7.72 7.72c-.78.78-.78 2.05 0 2.83L4 21.41c.39.39.9.59 1.41.59.51 0 1.02-.2 1.41-.59l7.78-7.78 2.81-2.81c.8-.78.8-2.07 0-2.86zM5.41 20L4 18.59l7.72-7.72 1.47 1.35L5.41 20z\"/>\n",
              "  </svg>\n",
              "      </button>\n",
              "      \n",
              "  <style>\n",
              "    .colab-df-container {\n",
              "      display:flex;\n",
              "      flex-wrap:wrap;\n",
              "      gap: 12px;\n",
              "    }\n",
              "\n",
              "    .colab-df-convert {\n",
              "      background-color: #E8F0FE;\n",
              "      border: none;\n",
              "      border-radius: 50%;\n",
              "      cursor: pointer;\n",
              "      display: none;\n",
              "      fill: #1967D2;\n",
              "      height: 32px;\n",
              "      padding: 0 0 0 0;\n",
              "      width: 32px;\n",
              "    }\n",
              "\n",
              "    .colab-df-convert:hover {\n",
              "      background-color: #E2EBFA;\n",
              "      box-shadow: 0px 1px 2px rgba(60, 64, 67, 0.3), 0px 1px 3px 1px rgba(60, 64, 67, 0.15);\n",
              "      fill: #174EA6;\n",
              "    }\n",
              "\n",
              "    [theme=dark] .colab-df-convert {\n",
              "      background-color: #3B4455;\n",
              "      fill: #D2E3FC;\n",
              "    }\n",
              "\n",
              "    [theme=dark] .colab-df-convert:hover {\n",
              "      background-color: #434B5C;\n",
              "      box-shadow: 0px 1px 3px 1px rgba(0, 0, 0, 0.15);\n",
              "      filter: drop-shadow(0px 1px 2px rgba(0, 0, 0, 0.3));\n",
              "      fill: #FFFFFF;\n",
              "    }\n",
              "  </style>\n",
              "\n",
              "      <script>\n",
              "        const buttonEl =\n",
              "          document.querySelector('#df-077d480c-7096-4b81-9d1f-f8d643ec46c0 button.colab-df-convert');\n",
              "        buttonEl.style.display =\n",
              "          google.colab.kernel.accessAllowed ? 'block' : 'none';\n",
              "\n",
              "        async function convertToInteractive(key) {\n",
              "          const element = document.querySelector('#df-077d480c-7096-4b81-9d1f-f8d643ec46c0');\n",
              "          const dataTable =\n",
              "            await google.colab.kernel.invokeFunction('convertToInteractive',\n",
              "                                                     [key], {});\n",
              "          if (!dataTable) return;\n",
              "\n",
              "          const docLinkHtml = 'Like what you see? Visit the ' +\n",
              "            '<a target=\"_blank\" href=https://colab.research.google.com/notebooks/data_table.ipynb>data table notebook</a>'\n",
              "            + ' to learn more about interactive tables.';\n",
              "          element.innerHTML = '';\n",
              "          dataTable['output_type'] = 'display_data';\n",
              "          await google.colab.output.renderOutput(dataTable, element);\n",
              "          const docLink = document.createElement('div');\n",
              "          docLink.innerHTML = docLinkHtml;\n",
              "          element.appendChild(docLink);\n",
              "        }\n",
              "      </script>\n",
              "    </div>\n",
              "  </div>\n",
              "  "
            ]
          },
          "metadata": {},
          "execution_count": 22
        }
      ]
    },
    {
      "cell_type": "code",
      "source": [
        "testdata_1.drop('Unnamed: 0',axis=1,inplace=True)"
      ],
      "metadata": {
        "id": "cBMcEFtT8BWw"
      },
      "execution_count": 23,
      "outputs": []
    },
    {
      "cell_type": "code",
      "execution_count": 24,
      "metadata": {
        "id": "PMOPOsDNizGH"
      },
      "outputs": [],
      "source": [
        "from sklearn.model_selection import train_test_split"
      ]
    },
    {
      "cell_type": "code",
      "source": [
        "x=df2['title']\n",
        "y=df2['category']"
      ],
      "metadata": {
        "id": "AuGZNceD8L0H"
      },
      "execution_count": 25,
      "outputs": []
    },
    {
      "cell_type": "code",
      "execution_count": 26,
      "metadata": {
        "id": "SUs71R_2i1ao"
      },
      "outputs": [],
      "source": [
        "x_train,x_test,y_train,y_test=train_test_split(x,y,train_size=0.7,random_state=100)"
      ]
    },
    {
      "cell_type": "code",
      "execution_count": 27,
      "metadata": {
        "colab": {
          "base_uri": "https://localhost:8080/"
        },
        "id": "EmtUkjdii3rv",
        "outputId": "3cce7d74-8e1f-4449-c876-9de0c7e6ff94"
      },
      "outputs": [
        {
          "output_type": "stream",
          "name": "stdout",
          "text": [
            "(672,) (672,)\n"
          ]
        }
      ],
      "source": [
        "print(x_train.shape,y_train.shape)"
      ]
    },
    {
      "cell_type": "code",
      "execution_count": 28,
      "metadata": {
        "colab": {
          "base_uri": "https://localhost:8080/"
        },
        "id": "Y12Tvzu0lfuJ",
        "outputId": "c01c129d-74f1-4f32-8095-abab274a2768"
      },
      "outputs": [
        {
          "output_type": "execute_result",
          "data": {
            "text/plain": [
              "17"
            ]
          },
          "metadata": {},
          "execution_count": 28
        }
      ],
      "source": [
        "categories=['TWEETS','COMPANY_INFORMATION','STORY_OF_THE_DAY','TECHNO_PICKS','INDUSTRY_UPDATE','WHO_SAID_WHAT','FEATURED_VIDEOS','SUCCESS_STORY','PEOPLE_OF_ALTIMETRIK',\n",
        "        'ALTIMETRIK_NEWS','EMPLOYEE_EXPERIENCES','ABOUT_ALTIMETRIK','CAPABILITY_CENTERS','GLOBAL_RECOGNITIONS','INNOVATION_AT_ALTIMETRIK','TRENDING_STORY','EBOOK']\n",
        "len(categories)"
      ]
    },
    {
      "cell_type": "code",
      "source": [
        "from transformers import AutoTokenizer, AutoModelForSequenceClassification\n",
        "tokenizer = AutoTokenizer.from_pretrained(\"distilbert-base-uncased-finetuned-sst-2-english\")\n",
        "MODEL_NAME = AutoModelForSequenceClassification.from_pretrained(\"distilbert-base-uncased-finetuned-sst-2-english\")"
      ],
      "metadata": {
        "id": "AxtI9ItrU5_M"
      },
      "execution_count": 29,
      "outputs": []
    },
    {
      "cell_type": "code",
      "execution_count": 30,
      "metadata": {
        "colab": {
          "base_uri": "https://localhost:8080/",
          "height": 332
        },
        "id": "2mMSoj8hlf9C",
        "outputId": "f0ca9277-d98b-4a77-affb-b1e18dd1939f"
      },
      "outputs": [
        {
          "output_type": "stream",
          "name": "stderr",
          "text": [
            "/usr/local/lib/python3.7/dist-packages/ktrain/text/preprocessor.py:490: UserWarning: The class_names argument is replacing the classes argument. Please update your code.\n",
            "  \"The class_names argument is replacing the classes argument. Please update your code.\"\n"
          ]
        },
        {
          "output_type": "stream",
          "name": "stdout",
          "text": [
            "preprocessing train...\n",
            "language: en\n",
            "train sequence lengths:\n",
            "\tmean : 8\n",
            "\t95percentile : 15\n",
            "\t99percentile : 27\n"
          ]
        },
        {
          "output_type": "stream",
          "name": "stderr",
          "text": [
            "/usr/local/lib/python3.7/dist-packages/ktrain/utils.py:738: UserWarning: class_names argument was ignored, as they were extracted from string labels in dataset\n",
            "  \"class_names argument was ignored, as they were extracted from string labels in dataset\"\n"
          ]
        },
        {
          "output_type": "display_data",
          "data": {
            "text/plain": [
              "<IPython.core.display.HTML object>"
            ],
            "text/html": [
              "\n",
              "<style>\n",
              "    /* Turns off some styling */\n",
              "    progress {\n",
              "        /* gets rid of default border in Firefox and Opera. */\n",
              "        border: none;\n",
              "        /* Needs to be in here for Safari polyfill so background images work as expected. */\n",
              "        background-size: auto;\n",
              "    }\n",
              "    progress:not([value]), progress:not([value])::-webkit-progress-bar {\n",
              "        background: repeating-linear-gradient(45deg, #7e7e7e, #7e7e7e 10px, #5c5c5c 10px, #5c5c5c 20px);\n",
              "    }\n",
              "    .progress-bar-interrupted, .progress-bar-interrupted::-webkit-progress-bar {\n",
              "        background: #F44336;\n",
              "    }\n",
              "</style>\n"
            ]
          },
          "metadata": {}
        },
        {
          "output_type": "display_data",
          "data": {
            "text/plain": [
              "<IPython.core.display.HTML object>"
            ],
            "text/html": []
          },
          "metadata": {}
        },
        {
          "output_type": "stream",
          "name": "stdout",
          "text": [
            "Is Multi-Label? False\n",
            "preprocessing test...\n",
            "language: en\n",
            "test sequence lengths:\n",
            "\tmean : 8\n",
            "\t95percentile : 17\n",
            "\t99percentile : 25\n"
          ]
        },
        {
          "output_type": "display_data",
          "data": {
            "text/plain": [
              "<IPython.core.display.HTML object>"
            ],
            "text/html": [
              "\n",
              "<style>\n",
              "    /* Turns off some styling */\n",
              "    progress {\n",
              "        /* gets rid of default border in Firefox and Opera. */\n",
              "        border: none;\n",
              "        /* Needs to be in here for Safari polyfill so background images work as expected. */\n",
              "        background-size: auto;\n",
              "    }\n",
              "    progress:not([value]), progress:not([value])::-webkit-progress-bar {\n",
              "        background: repeating-linear-gradient(45deg, #7e7e7e, #7e7e7e 10px, #5c5c5c 10px, #5c5c5c 20px);\n",
              "    }\n",
              "    .progress-bar-interrupted, .progress-bar-interrupted::-webkit-progress-bar {\n",
              "        background: #F44336;\n",
              "    }\n",
              "</style>\n"
            ]
          },
          "metadata": {}
        },
        {
          "output_type": "display_data",
          "data": {
            "text/plain": [
              "<IPython.core.display.HTML object>"
            ],
            "text/html": []
          },
          "metadata": {}
        }
      ],
      "source": [
        "import ktrain\n",
        "from ktrain import text\n",
        "MODEL_NAME = 'distilbert-base-uncased'\n",
        "#MODEL_NAME = 'distilbert-base-uncased-finetuned-sst-2-english'\n",
        "t = text.Transformer(MODEL_NAME, maxlen=500, classes=categories)\n",
        "trn = t.preprocess_train(list(x_train), list(y_train))\n",
        "val = t.preprocess_test(list(x_test), list(y_test))\n",
        "model = t.get_classifier()\n",
        "learner = ktrain.get_learner(model, train_data=trn, val_data=val, batch_size=10)"
      ]
    },
    {
      "cell_type": "code",
      "execution_count": 31,
      "metadata": {
        "colab": {
          "base_uri": "https://localhost:8080/"
        },
        "id": "MH9kNjUFliXd",
        "outputId": "b66533e7-6ab5-4200-c95d-4706f1636b23"
      },
      "outputs": [
        {
          "output_type": "stream",
          "name": "stdout",
          "text": [
            "\n",
            "\n",
            "begin training using onecycle policy with max lr of 5e-05...\n",
            "Epoch 1/10\n",
            "68/68 [==============================] - 47s 536ms/step - loss: 2.7356 - accuracy: 0.1310 - val_loss: 2.4955 - val_accuracy: 0.3125\n",
            "Epoch 2/10\n",
            "68/68 [==============================] - 36s 523ms/step - loss: 2.2897 - accuracy: 0.3170 - val_loss: 2.0159 - val_accuracy: 0.4201\n",
            "Epoch 3/10\n",
            "68/68 [==============================] - 37s 536ms/step - loss: 1.7964 - accuracy: 0.4568 - val_loss: 1.7051 - val_accuracy: 0.4826\n",
            "Epoch 4/10\n",
            "68/68 [==============================] - 37s 537ms/step - loss: 1.4037 - accuracy: 0.5908 - val_loss: 1.4931 - val_accuracy: 0.5312\n",
            "Epoch 5/10\n",
            "68/68 [==============================] - 36s 535ms/step - loss: 1.0723 - accuracy: 0.6935 - val_loss: 1.5673 - val_accuracy: 0.4965\n",
            "Epoch 6/10\n",
            "68/68 [==============================] - 37s 538ms/step - loss: 0.8278 - accuracy: 0.7470 - val_loss: 1.5757 - val_accuracy: 0.5035\n",
            "Epoch 7/10\n",
            "68/68 [==============================] - 37s 549ms/step - loss: 0.6119 - accuracy: 0.8065 - val_loss: 1.5766 - val_accuracy: 0.5382\n",
            "Epoch 8/10\n",
            "68/68 [==============================] - 37s 538ms/step - loss: 0.4699 - accuracy: 0.8438 - val_loss: 1.7496 - val_accuracy: 0.5035\n",
            "Epoch 9/10\n",
            "68/68 [==============================] - 37s 537ms/step - loss: 0.3889 - accuracy: 0.8839 - val_loss: 1.7604 - val_accuracy: 0.5139\n",
            "Epoch 10/10\n",
            "68/68 [==============================] - 37s 538ms/step - loss: 0.3358 - accuracy: 0.8735 - val_loss: 1.7893 - val_accuracy: 0.5139\n"
          ]
        },
        {
          "output_type": "execute_result",
          "data": {
            "text/plain": [
              "<keras.callbacks.History at 0x7f235def0110>"
            ]
          },
          "metadata": {},
          "execution_count": 31
        }
      ],
      "source": [
        "learner.fit_onecycle(5e-5, 10)"
      ]
    },
    {
      "cell_type": "markdown",
      "metadata": {
        "id": "NrGjCW7mncdL"
      },
      "source": [
        "Evaluate and Inspect the Model"
      ]
    },
    {
      "cell_type": "code",
      "execution_count": 32,
      "metadata": {
        "colab": {
          "base_uri": "https://localhost:8080/"
        },
        "id": "pCvMnMAQpCzy",
        "outputId": "0e75f242-3545-4615-9c29-d0182ab3e9e5"
      },
      "outputs": [
        {
          "output_type": "stream",
          "name": "stdout",
          "text": [
            "9/9 [==============================] - 2s 113ms/step\n",
            "                          precision    recall  f1-score   support\n",
            "\n",
            "        ABOUT_ALTIMETRIK       0.00      0.00      0.00         6\n",
            "         ALTIMETRIK_NEWS       0.20      0.12      0.15         8\n",
            "      CAPABILITY_CENTERS       1.00      1.00      1.00         3\n",
            "     COMPANY_INFORMATION       0.38      0.38      0.38        55\n",
            "                   EBOOK       1.00      1.00      1.00         1\n",
            "    EMPLOYEE_EXPERIENCES       0.00      0.00      0.00         4\n",
            "         FEATURED_VIDEOS       0.50      0.50      0.50        16\n",
            "     GLOBAL_RECOGNITIONS       1.00      0.67      0.80         3\n",
            "         INDUSTRY_UPDATE       0.58      0.52      0.55        29\n",
            "INNOVATION_AT_ALTIMETRIK       0.00      0.00      0.00         5\n",
            "    PEOPLE_OF_ALTIMETRIK       1.00      0.50      0.67         8\n",
            "        STORY_OF_THE_DAY       0.07      0.10      0.08        30\n",
            "           SUCCESS_STORY       0.69      0.92      0.79        12\n",
            "            TECHNO_PICKS       0.57      0.62      0.59        21\n",
            "          TRENDING_STORY       0.00      0.00      0.00         3\n",
            "                  TWEETS       0.85      0.87      0.86        69\n",
            "           WHO_SAID_WHAT       0.32      0.40      0.35        15\n",
            "\n",
            "                accuracy                           0.51       288\n",
            "               macro avg       0.48      0.45      0.45       288\n",
            "            weighted avg       0.51      0.51      0.51       288\n",
            "\n"
          ]
        },
        {
          "output_type": "stream",
          "name": "stderr",
          "text": [
            "/usr/local/lib/python3.7/dist-packages/sklearn/metrics/_classification.py:1318: UndefinedMetricWarning: Precision and F-score are ill-defined and being set to 0.0 in labels with no predicted samples. Use `zero_division` parameter to control this behavior.\n",
            "  _warn_prf(average, modifier, msg_start, len(result))\n",
            "/usr/local/lib/python3.7/dist-packages/sklearn/metrics/_classification.py:1318: UndefinedMetricWarning: Precision and F-score are ill-defined and being set to 0.0 in labels with no predicted samples. Use `zero_division` parameter to control this behavior.\n",
            "  _warn_prf(average, modifier, msg_start, len(result))\n",
            "/usr/local/lib/python3.7/dist-packages/sklearn/metrics/_classification.py:1318: UndefinedMetricWarning: Precision and F-score are ill-defined and being set to 0.0 in labels with no predicted samples. Use `zero_division` parameter to control this behavior.\n",
            "  _warn_prf(average, modifier, msg_start, len(result))\n"
          ]
        },
        {
          "output_type": "execute_result",
          "data": {
            "text/plain": [
              "array([[ 0,  0,  0,  1,  0,  0,  1,  0,  0,  0,  0,  3,  0,  0,  0,  1,\n",
              "         0],\n",
              "       [ 0,  1,  0,  3,  0,  0,  0,  0,  0,  0,  0,  1,  0,  0,  0,  1,\n",
              "         2],\n",
              "       [ 0,  0,  3,  0,  0,  0,  0,  0,  0,  0,  0,  0,  0,  0,  0,  0,\n",
              "         0],\n",
              "       [ 1,  1,  0, 21,  0,  0,  2,  0,  2,  0,  0, 19,  1,  0,  0,  5,\n",
              "         3],\n",
              "       [ 0,  0,  0,  0,  1,  0,  0,  0,  0,  0,  0,  0,  0,  0,  0,  0,\n",
              "         0],\n",
              "       [ 0,  0,  0,  1,  0,  0,  3,  0,  0,  0,  0,  0,  0,  0,  0,  0,\n",
              "         0],\n",
              "       [ 1,  0,  0,  4,  0,  0,  8,  0,  1,  0,  0,  2,  0,  0,  0,  0,\n",
              "         0],\n",
              "       [ 0,  0,  0,  0,  0,  0,  0,  2,  0,  0,  0,  1,  0,  0,  0,  0,\n",
              "         0],\n",
              "       [ 0,  1,  0,  0,  0,  0,  0,  0, 15,  0,  0,  5,  0,  6,  0,  2,\n",
              "         0],\n",
              "       [ 0,  0,  0,  0,  0,  0,  2,  0,  2,  0,  0,  0,  0,  0,  0,  1,\n",
              "         0],\n",
              "       [ 0,  0,  0,  4,  0,  0,  0,  0,  0,  0,  4,  0,  0,  0,  0,  0,\n",
              "         0],\n",
              "       [ 0,  0,  0, 13,  0,  0,  0,  0,  1,  0,  0,  3,  2,  3,  0,  1,\n",
              "         7],\n",
              "       [ 0,  0,  0,  1,  0,  0,  0,  0,  0,  0,  0,  0, 11,  0,  0,  0,\n",
              "         0],\n",
              "       [ 0,  1,  0,  1,  0,  0,  0,  0,  4,  0,  0,  1,  1, 13,  0,  0,\n",
              "         0],\n",
              "       [ 0,  1,  0,  0,  0,  0,  0,  0,  0,  0,  0,  2,  0,  0,  0,  0,\n",
              "         0],\n",
              "       [ 0,  0,  0,  4,  0,  0,  0,  0,  1,  0,  0,  1,  1,  1,  0, 60,\n",
              "         1],\n",
              "       [ 0,  0,  0,  2,  0,  0,  0,  0,  0,  0,  0,  7,  0,  0,  0,  0,\n",
              "         6]])"
            ]
          },
          "metadata": {},
          "execution_count": 32
        }
      ],
      "source": [
        "learner.validate(class_names=t.get_classes())"
      ]
    },
    {
      "cell_type": "code",
      "execution_count": 33,
      "metadata": {
        "colab": {
          "base_uri": "https://localhost:8080/"
        },
        "id": "rmvob5eepC2L",
        "outputId": "e4b97233-7f26-42ec-842f-a4d7532eb168"
      },
      "outputs": [
        {
          "output_type": "stream",
          "name": "stdout",
          "text": [
            "9/9 [==============================] - 1s 69ms/step\n",
            "----------\n",
            "id:214 | loss:8.27 | true:INNOVATION_AT_ALTIMETRIK | pred:TWEETS)\n",
            "\n"
          ]
        }
      ],
      "source": [
        "learner.view_top_losses(n=1, preproc=t)"
      ]
    },
    {
      "cell_type": "code",
      "execution_count": 34,
      "metadata": {
        "id": "4Bf8Kc6HpC8X"
      },
      "outputs": [],
      "source": [
        "predictor = ktrain.get_predictor(learner.model, preproc=t)"
      ]
    },
    {
      "cell_type": "code",
      "execution_count": 35,
      "metadata": {
        "colab": {
          "base_uri": "https://localhost:8080/",
          "height": 53
        },
        "id": "B7WjuTcqpnUV",
        "outputId": "74e55310-41a5-4378-e624-125536eab4df"
      },
      "outputs": [
        {
          "output_type": "stream",
          "name": "stdout",
          "text": [
            "1/1 [==============================] - 0s 82ms/step\n"
          ]
        },
        {
          "output_type": "execute_result",
          "data": {
            "text/plain": [
              "'COMPANY_INFORMATION'"
            ],
            "application/vnd.google.colaboratory.intrinsic+json": {
              "type": "string"
            }
          },
          "metadata": {},
          "execution_count": 35
        }
      ],
      "source": [
        "predictor.predict('Predict our GPTW 2022 Ranking !!!')"
      ]
    },
    {
      "cell_type": "code",
      "execution_count": 36,
      "metadata": {
        "colab": {
          "base_uri": "https://localhost:8080/",
          "height": 53
        },
        "id": "fd4m9rtlppzu",
        "outputId": "8d599d8a-4db2-46b9-8e1b-266e63b1bd3e"
      },
      "outputs": [
        {
          "output_type": "stream",
          "name": "stdout",
          "text": [
            "1/1 [==============================] - 0s 76ms/step\n"
          ]
        },
        {
          "output_type": "execute_result",
          "data": {
            "text/plain": [
              "'STORY_OF_THE_DAY'"
            ],
            "application/vnd.google.colaboratory.intrinsic+json": {
              "type": "string"
            }
          },
          "metadata": {},
          "execution_count": 36
        }
      ],
      "source": [
        "predictor.predict('Tech Live Session | Cloud custodian: Rules Engine for Managing Pubic Cloud Accounts and Resources')"
      ]
    },
    {
      "cell_type": "code",
      "execution_count": 37,
      "metadata": {
        "colab": {
          "base_uri": "https://localhost:8080/"
        },
        "id": "NUL2ee-cprs7",
        "outputId": "e4550956-6fcd-4400-a4ee-c923f562d8c8"
      },
      "outputs": [
        {
          "output_type": "stream",
          "name": "stdout",
          "text": [
            "1/1 [==============================] - 0s 71ms/step\n",
            "COMPANY_INFORMATION\n",
            "1/1 [==============================] - 0s 79ms/step\n",
            "[2.1069602e-03 3.9939578e-03 4.0496013e-04 9.2070556e-01 1.7046263e-04\n",
            " 6.1405980e-04 2.1850483e-03 6.5229507e-04 8.3939143e-04 6.6807307e-04\n",
            " 3.2883332e-04 5.5330433e-02 8.7866694e-04 6.6366891e-04 9.0950128e-04\n",
            " 3.8613204e-03 5.6867804e-03]\n"
          ]
        },
        {
          "output_type": "execute_result",
          "data": {
            "text/plain": [
              "['TWEETS',\n",
              " 'COMPANY_INFORMATION',\n",
              " 'STORY_OF_THE_DAY',\n",
              " 'TECHNO_PICKS',\n",
              " 'INDUSTRY_UPDATE',\n",
              " 'WHO_SAID_WHAT',\n",
              " 'FEATURED_VIDEOS',\n",
              " 'SUCCESS_STORY',\n",
              " 'PEOPLE_OF_ALTIMETRIK',\n",
              " 'ALTIMETRIK_NEWS',\n",
              " 'EMPLOYEE_EXPERIENCES',\n",
              " 'ABOUT_ALTIMETRIK',\n",
              " 'CAPABILITY_CENTERS',\n",
              " 'GLOBAL_RECOGNITIONS',\n",
              " 'INNOVATION_AT_ALTIMETRIK',\n",
              " 'TRENDING_STORY',\n",
              " 'EBOOK']"
            ]
          },
          "metadata": {},
          "execution_count": 37
        }
      ],
      "source": [
        "print(predictor.predict('Predict our GPTW 2022 Ranking !!!'))\n",
        "print(predictor.predict_proba('Predict our GPTW 2022 Ranking !!!'))\n",
        "categories"
      ]
    },
    {
      "cell_type": "code",
      "execution_count": 38,
      "metadata": {
        "colab": {
          "base_uri": "https://localhost:8080/",
          "height": 990
        },
        "id": "I6oF24lRtH6x",
        "outputId": "a2029c31-8b76-43a5-a0fe-c276e12c28dd"
      },
      "outputs": [
        {
          "output_type": "execute_result",
          "data": {
            "text/plain": [
              "                                                title             category\n",
              "0         4 Takeaways for the Future of Healthcare IT      INDUSTRY_UPDATE\n",
              "1   We are thrilled to announce that Jeff was conf...               TWEETS\n",
              "2   Cloud computing powers the worldâ€™s financial...         TECHNO_PICKS\n",
              "3                                          Test Tweet               TWEETS\n",
              "4                        Test Tweet 2 From Srinivas H               TWEETS\n",
              "5                             Test Tweet From Android               TWEETS\n",
              "6         Milestone | LinkedIn Followers Surpass 100k  COMPANY_INFORMATION\n",
              "7                                             tweet 1               TWEETS\n",
              "8                                Tweet from Sprinters               TWEETS\n",
              "9                        Tweet for vibes channel test               TWEETS\n",
              "10                                  Sprinters Tweet 2               TWEETS\n",
              "11                                 Sprinters Tweet 3                TWEETS\n",
              "12                                  Tweet 4 Sprinters               TWEETS\n",
              "13                                 tweet 5 Sprinters                TWEETS\n",
              "14                                  Tweet 6 Sprinters               TWEETS\n",
              "15         Exclusive session on Agile Ways of Working  COMPANY_INFORMATION\n",
              "16                               Innovate and Inspire       STATIC_CONTENT\n",
              "17                               Innovate and Inspire       STATIC_CONTENT\n",
              "18     Collider is back with the OWASP top 10 Part II               TWEETS\n",
              "19  Keys to Secure Code Pt II: Reducing Risk for S...  COMPANY_INFORMATION\n",
              "20      Long Service Awards - 5 Years - Suraj Bhojkar  COMPANY_INFORMATION\n",
              "21  Inauguration of Chennai Office by Raj S | May ...  COMPANY_INFORMATION\n",
              "22  Come and be part of the Chennai office Inaugur...               TWEETS\n",
              "23        Milestone | LinkedIn Followers Surpass 100k      ALTIMETRIK_NEWS\n",
              "24                    Take a Break for Mental Health!               TWEETS\n",
              "25     Employee Referral Virtual Drive - 14 May, 2022  COMPANY_INFORMATION\n",
              "26   The Future Trends In Mobility And Transportation      INDUSTRY_UPDATE\n",
              "27       The Keys to Pricing Power as Recession Looms      INDUSTRY_UPDATE\n",
              "28  Intelligence and unified data governance in th...         TECHNO_PICKS\n",
              "29  Creating a defined data centric space with AI ...         TECHNO_PICKS"
            ],
            "text/html": [
              "\n",
              "  <div id=\"df-79f2189f-8095-49c9-bad7-54cf0da8a316\">\n",
              "    <div class=\"colab-df-container\">\n",
              "      <div>\n",
              "<style scoped>\n",
              "    .dataframe tbody tr th:only-of-type {\n",
              "        vertical-align: middle;\n",
              "    }\n",
              "\n",
              "    .dataframe tbody tr th {\n",
              "        vertical-align: top;\n",
              "    }\n",
              "\n",
              "    .dataframe thead th {\n",
              "        text-align: right;\n",
              "    }\n",
              "</style>\n",
              "<table border=\"1\" class=\"dataframe\">\n",
              "  <thead>\n",
              "    <tr style=\"text-align: right;\">\n",
              "      <th></th>\n",
              "      <th>title</th>\n",
              "      <th>category</th>\n",
              "    </tr>\n",
              "  </thead>\n",
              "  <tbody>\n",
              "    <tr>\n",
              "      <th>0</th>\n",
              "      <td>4 Takeaways for the Future of Healthcare IT</td>\n",
              "      <td>INDUSTRY_UPDATE</td>\n",
              "    </tr>\n",
              "    <tr>\n",
              "      <th>1</th>\n",
              "      <td>We are thrilled to announce that Jeff was conf...</td>\n",
              "      <td>TWEETS</td>\n",
              "    </tr>\n",
              "    <tr>\n",
              "      <th>2</th>\n",
              "      <td>Cloud computing powers the worldâ€™s financial...</td>\n",
              "      <td>TECHNO_PICKS</td>\n",
              "    </tr>\n",
              "    <tr>\n",
              "      <th>3</th>\n",
              "      <td>Test Tweet</td>\n",
              "      <td>TWEETS</td>\n",
              "    </tr>\n",
              "    <tr>\n",
              "      <th>4</th>\n",
              "      <td>Test Tweet 2 From Srinivas H</td>\n",
              "      <td>TWEETS</td>\n",
              "    </tr>\n",
              "    <tr>\n",
              "      <th>5</th>\n",
              "      <td>Test Tweet From Android</td>\n",
              "      <td>TWEETS</td>\n",
              "    </tr>\n",
              "    <tr>\n",
              "      <th>6</th>\n",
              "      <td>Milestone | LinkedIn Followers Surpass 100k</td>\n",
              "      <td>COMPANY_INFORMATION</td>\n",
              "    </tr>\n",
              "    <tr>\n",
              "      <th>7</th>\n",
              "      <td>tweet 1</td>\n",
              "      <td>TWEETS</td>\n",
              "    </tr>\n",
              "    <tr>\n",
              "      <th>8</th>\n",
              "      <td>Tweet from Sprinters</td>\n",
              "      <td>TWEETS</td>\n",
              "    </tr>\n",
              "    <tr>\n",
              "      <th>9</th>\n",
              "      <td>Tweet for vibes channel test</td>\n",
              "      <td>TWEETS</td>\n",
              "    </tr>\n",
              "    <tr>\n",
              "      <th>10</th>\n",
              "      <td>Sprinters Tweet 2</td>\n",
              "      <td>TWEETS</td>\n",
              "    </tr>\n",
              "    <tr>\n",
              "      <th>11</th>\n",
              "      <td>Sprinters Tweet 3</td>\n",
              "      <td>TWEETS</td>\n",
              "    </tr>\n",
              "    <tr>\n",
              "      <th>12</th>\n",
              "      <td>Tweet 4 Sprinters</td>\n",
              "      <td>TWEETS</td>\n",
              "    </tr>\n",
              "    <tr>\n",
              "      <th>13</th>\n",
              "      <td>tweet 5 Sprinters</td>\n",
              "      <td>TWEETS</td>\n",
              "    </tr>\n",
              "    <tr>\n",
              "      <th>14</th>\n",
              "      <td>Tweet 6 Sprinters</td>\n",
              "      <td>TWEETS</td>\n",
              "    </tr>\n",
              "    <tr>\n",
              "      <th>15</th>\n",
              "      <td>Exclusive session on Agile Ways of Working</td>\n",
              "      <td>COMPANY_INFORMATION</td>\n",
              "    </tr>\n",
              "    <tr>\n",
              "      <th>16</th>\n",
              "      <td>Innovate and Inspire</td>\n",
              "      <td>STATIC_CONTENT</td>\n",
              "    </tr>\n",
              "    <tr>\n",
              "      <th>17</th>\n",
              "      <td>Innovate and Inspire</td>\n",
              "      <td>STATIC_CONTENT</td>\n",
              "    </tr>\n",
              "    <tr>\n",
              "      <th>18</th>\n",
              "      <td>Collider is back with the OWASP top 10 Part II</td>\n",
              "      <td>TWEETS</td>\n",
              "    </tr>\n",
              "    <tr>\n",
              "      <th>19</th>\n",
              "      <td>Keys to Secure Code Pt II: Reducing Risk for S...</td>\n",
              "      <td>COMPANY_INFORMATION</td>\n",
              "    </tr>\n",
              "    <tr>\n",
              "      <th>20</th>\n",
              "      <td>Long Service Awards - 5 Years - Suraj Bhojkar</td>\n",
              "      <td>COMPANY_INFORMATION</td>\n",
              "    </tr>\n",
              "    <tr>\n",
              "      <th>21</th>\n",
              "      <td>Inauguration of Chennai Office by Raj S | May ...</td>\n",
              "      <td>COMPANY_INFORMATION</td>\n",
              "    </tr>\n",
              "    <tr>\n",
              "      <th>22</th>\n",
              "      <td>Come and be part of the Chennai office Inaugur...</td>\n",
              "      <td>TWEETS</td>\n",
              "    </tr>\n",
              "    <tr>\n",
              "      <th>23</th>\n",
              "      <td>Milestone | LinkedIn Followers Surpass 100k</td>\n",
              "      <td>ALTIMETRIK_NEWS</td>\n",
              "    </tr>\n",
              "    <tr>\n",
              "      <th>24</th>\n",
              "      <td>Take a Break for Mental Health!</td>\n",
              "      <td>TWEETS</td>\n",
              "    </tr>\n",
              "    <tr>\n",
              "      <th>25</th>\n",
              "      <td>Employee Referral Virtual Drive - 14 May, 2022</td>\n",
              "      <td>COMPANY_INFORMATION</td>\n",
              "    </tr>\n",
              "    <tr>\n",
              "      <th>26</th>\n",
              "      <td>The Future Trends In Mobility And Transportation</td>\n",
              "      <td>INDUSTRY_UPDATE</td>\n",
              "    </tr>\n",
              "    <tr>\n",
              "      <th>27</th>\n",
              "      <td>The Keys to Pricing Power as Recession Looms</td>\n",
              "      <td>INDUSTRY_UPDATE</td>\n",
              "    </tr>\n",
              "    <tr>\n",
              "      <th>28</th>\n",
              "      <td>Intelligence and unified data governance in th...</td>\n",
              "      <td>TECHNO_PICKS</td>\n",
              "    </tr>\n",
              "    <tr>\n",
              "      <th>29</th>\n",
              "      <td>Creating a defined data centric space with AI ...</td>\n",
              "      <td>TECHNO_PICKS</td>\n",
              "    </tr>\n",
              "  </tbody>\n",
              "</table>\n",
              "</div>\n",
              "      <button class=\"colab-df-convert\" onclick=\"convertToInteractive('df-79f2189f-8095-49c9-bad7-54cf0da8a316')\"\n",
              "              title=\"Convert this dataframe to an interactive table.\"\n",
              "              style=\"display:none;\">\n",
              "        \n",
              "  <svg xmlns=\"http://www.w3.org/2000/svg\" height=\"24px\"viewBox=\"0 0 24 24\"\n",
              "       width=\"24px\">\n",
              "    <path d=\"M0 0h24v24H0V0z\" fill=\"none\"/>\n",
              "    <path d=\"M18.56 5.44l.94 2.06.94-2.06 2.06-.94-2.06-.94-.94-2.06-.94 2.06-2.06.94zm-11 1L8.5 8.5l.94-2.06 2.06-.94-2.06-.94L8.5 2.5l-.94 2.06-2.06.94zm10 10l.94 2.06.94-2.06 2.06-.94-2.06-.94-.94-2.06-.94 2.06-2.06.94z\"/><path d=\"M17.41 7.96l-1.37-1.37c-.4-.4-.92-.59-1.43-.59-.52 0-1.04.2-1.43.59L10.3 9.45l-7.72 7.72c-.78.78-.78 2.05 0 2.83L4 21.41c.39.39.9.59 1.41.59.51 0 1.02-.2 1.41-.59l7.78-7.78 2.81-2.81c.8-.78.8-2.07 0-2.86zM5.41 20L4 18.59l7.72-7.72 1.47 1.35L5.41 20z\"/>\n",
              "  </svg>\n",
              "      </button>\n",
              "      \n",
              "  <style>\n",
              "    .colab-df-container {\n",
              "      display:flex;\n",
              "      flex-wrap:wrap;\n",
              "      gap: 12px;\n",
              "    }\n",
              "\n",
              "    .colab-df-convert {\n",
              "      background-color: #E8F0FE;\n",
              "      border: none;\n",
              "      border-radius: 50%;\n",
              "      cursor: pointer;\n",
              "      display: none;\n",
              "      fill: #1967D2;\n",
              "      height: 32px;\n",
              "      padding: 0 0 0 0;\n",
              "      width: 32px;\n",
              "    }\n",
              "\n",
              "    .colab-df-convert:hover {\n",
              "      background-color: #E2EBFA;\n",
              "      box-shadow: 0px 1px 2px rgba(60, 64, 67, 0.3), 0px 1px 3px 1px rgba(60, 64, 67, 0.15);\n",
              "      fill: #174EA6;\n",
              "    }\n",
              "\n",
              "    [theme=dark] .colab-df-convert {\n",
              "      background-color: #3B4455;\n",
              "      fill: #D2E3FC;\n",
              "    }\n",
              "\n",
              "    [theme=dark] .colab-df-convert:hover {\n",
              "      background-color: #434B5C;\n",
              "      box-shadow: 0px 1px 3px 1px rgba(0, 0, 0, 0.15);\n",
              "      filter: drop-shadow(0px 1px 2px rgba(0, 0, 0, 0.3));\n",
              "      fill: #FFFFFF;\n",
              "    }\n",
              "  </style>\n",
              "\n",
              "      <script>\n",
              "        const buttonEl =\n",
              "          document.querySelector('#df-79f2189f-8095-49c9-bad7-54cf0da8a316 button.colab-df-convert');\n",
              "        buttonEl.style.display =\n",
              "          google.colab.kernel.accessAllowed ? 'block' : 'none';\n",
              "\n",
              "        async function convertToInteractive(key) {\n",
              "          const element = document.querySelector('#df-79f2189f-8095-49c9-bad7-54cf0da8a316');\n",
              "          const dataTable =\n",
              "            await google.colab.kernel.invokeFunction('convertToInteractive',\n",
              "                                                     [key], {});\n",
              "          if (!dataTable) return;\n",
              "\n",
              "          const docLinkHtml = 'Like what you see? Visit the ' +\n",
              "            '<a target=\"_blank\" href=https://colab.research.google.com/notebooks/data_table.ipynb>data table notebook</a>'\n",
              "            + ' to learn more about interactive tables.';\n",
              "          element.innerHTML = '';\n",
              "          dataTable['output_type'] = 'display_data';\n",
              "          await google.colab.output.renderOutput(dataTable, element);\n",
              "          const docLink = document.createElement('div');\n",
              "          docLink.innerHTML = docLinkHtml;\n",
              "          element.appendChild(docLink);\n",
              "        }\n",
              "      </script>\n",
              "    </div>\n",
              "  </div>\n",
              "  "
            ]
          },
          "metadata": {},
          "execution_count": 38
        }
      ],
      "source": [
        "testdata_1"
      ]
    },
    {
      "cell_type": "code",
      "source": [
        "xtest=list(testdata_1['title'])"
      ],
      "metadata": {
        "id": "y9ObJOKk3KIB"
      },
      "execution_count": 39,
      "outputs": []
    },
    {
      "cell_type": "code",
      "source": [
        "ytest=list(testdata_1['category'])"
      ],
      "metadata": {
        "id": "aIe2ykW53-_0"
      },
      "execution_count": 40,
      "outputs": []
    },
    {
      "cell_type": "code",
      "source": [
        "ytest"
      ],
      "metadata": {
        "colab": {
          "base_uri": "https://localhost:8080/"
        },
        "id": "9WdGP6JH-kLB",
        "outputId": "466643d4-7d2f-4a33-895f-2e50c91bb89f"
      },
      "execution_count": 41,
      "outputs": [
        {
          "output_type": "execute_result",
          "data": {
            "text/plain": [
              "['INDUSTRY_UPDATE',\n",
              " 'TWEETS',\n",
              " 'TECHNO_PICKS',\n",
              " 'TWEETS',\n",
              " 'TWEETS',\n",
              " 'TWEETS',\n",
              " 'COMPANY_INFORMATION',\n",
              " 'TWEETS',\n",
              " 'TWEETS',\n",
              " 'TWEETS',\n",
              " 'TWEETS',\n",
              " 'TWEETS',\n",
              " 'TWEETS',\n",
              " 'TWEETS',\n",
              " 'TWEETS',\n",
              " 'COMPANY_INFORMATION',\n",
              " 'STATIC_CONTENT',\n",
              " 'STATIC_CONTENT',\n",
              " 'TWEETS',\n",
              " 'COMPANY_INFORMATION',\n",
              " 'COMPANY_INFORMATION',\n",
              " 'COMPANY_INFORMATION',\n",
              " 'TWEETS',\n",
              " 'ALTIMETRIK_NEWS',\n",
              " 'TWEETS',\n",
              " 'COMPANY_INFORMATION',\n",
              " 'INDUSTRY_UPDATE',\n",
              " 'INDUSTRY_UPDATE',\n",
              " 'TECHNO_PICKS',\n",
              " 'TECHNO_PICKS']"
            ]
          },
          "metadata": {},
          "execution_count": 41
        }
      ]
    },
    {
      "cell_type": "code",
      "source": [
        "y_pred=predictor.predict(xtest)"
      ],
      "metadata": {
        "colab": {
          "base_uri": "https://localhost:8080/"
        },
        "id": "Ia0wZtp32itm",
        "outputId": "5ece1d78-a97f-4ab9-fc8e-ce63adc59ba3"
      },
      "execution_count": 42,
      "outputs": [
        {
          "output_type": "stream",
          "name": "stdout",
          "text": [
            "1/1 [==============================] - 0s 106ms/step\n"
          ]
        }
      ]
    },
    {
      "cell_type": "code",
      "source": [
        "y_pred"
      ],
      "metadata": {
        "colab": {
          "base_uri": "https://localhost:8080/"
        },
        "id": "7QRcjXY92izB",
        "outputId": "a6b54c38-5772-406c-9f60-a9761f79946b"
      },
      "execution_count": 43,
      "outputs": [
        {
          "output_type": "execute_result",
          "data": {
            "text/plain": [
              "['STORY_OF_THE_DAY',\n",
              " 'TWEETS',\n",
              " 'TECHNO_PICKS',\n",
              " 'TWEETS',\n",
              " 'TWEETS',\n",
              " 'TWEETS',\n",
              " 'TWEETS',\n",
              " 'TWEETS',\n",
              " 'TWEETS',\n",
              " 'TWEETS',\n",
              " 'TWEETS',\n",
              " 'TWEETS',\n",
              " 'TWEETS',\n",
              " 'TWEETS',\n",
              " 'TWEETS',\n",
              " 'COMPANY_INFORMATION',\n",
              " 'TWEETS',\n",
              " 'TWEETS',\n",
              " 'TWEETS',\n",
              " 'COMPANY_INFORMATION',\n",
              " 'COMPANY_INFORMATION',\n",
              " 'STORY_OF_THE_DAY',\n",
              " 'TWEETS',\n",
              " 'TWEETS',\n",
              " 'STORY_OF_THE_DAY',\n",
              " 'COMPANY_INFORMATION',\n",
              " 'TECHNO_PICKS',\n",
              " 'INDUSTRY_UPDATE',\n",
              " 'TECHNO_PICKS',\n",
              " 'TECHNO_PICKS']"
            ]
          },
          "metadata": {},
          "execution_count": 43
        }
      ]
    },
    {
      "cell_type": "code",
      "source": [
        "from sklearn.metrics import accuracy_score"
      ],
      "metadata": {
        "id": "8srf_LvQ32NV"
      },
      "execution_count": 44,
      "outputs": []
    },
    {
      "cell_type": "code",
      "source": [
        "accuracy_score(ytest,y_pred)"
      ],
      "metadata": {
        "colab": {
          "base_uri": "https://localhost:8080/"
        },
        "id": "aXEp4DsC32UO",
        "outputId": "017131d4-590d-4e1b-974a-8e78dd6aa0fe"
      },
      "execution_count": 45,
      "outputs": [
        {
          "output_type": "execute_result",
          "data": {
            "text/plain": [
              "0.7333333333333333"
            ]
          },
          "metadata": {},
          "execution_count": 45
        }
      ]
    },
    {
      "cell_type": "code",
      "source": [
        "predictor.predict_proba(xtest)"
      ],
      "metadata": {
        "id": "jHmk5I-Q32Y2",
        "outputId": "0f4b5c27-b45c-4904-a31c-7d76dad3c6b1",
        "colab": {
          "base_uri": "https://localhost:8080/"
        }
      },
      "execution_count": 46,
      "outputs": [
        {
          "output_type": "stream",
          "name": "stdout",
          "text": [
            "1/1 [==============================] - 0s 100ms/step\n"
          ]
        },
        {
          "output_type": "execute_result",
          "data": {
            "text/plain": [
              "array([[2.27208738e-03, 1.15656042e-02, 8.33707163e-04, 2.21404377e-02,\n",
              "        2.16603526e-04, 5.81847155e-04, 3.17579904e-03, 4.85149445e-04,\n",
              "        1.02406126e-02, 3.26413894e-03, 3.70543567e-04, 9.17830884e-01,\n",
              "        1.08924543e-03, 3.25061497e-03, 1.33798108e-03, 2.35679559e-03,\n",
              "        1.89879127e-02],\n",
              "       [1.26405794e-03, 7.76885310e-04, 2.68802396e-04, 3.22481268e-03,\n",
              "        1.68682949e-04, 4.61114163e-04, 7.02711986e-04, 4.39457886e-04,\n",
              "        5.19777357e-04, 3.24194029e-04, 2.30501581e-04, 5.18393982e-03,\n",
              "        2.28987378e-03, 8.23317503e-04, 5.15176856e-04, 9.80245769e-01,\n",
              "        2.56090751e-03],\n",
              "       [1.52904447e-03, 6.80714333e-03, 5.75876655e-03, 4.35201405e-03,\n",
              "        9.81500256e-04, 1.17974286e-03, 7.08593056e-03, 9.54791962e-04,\n",
              "        6.22603595e-02, 6.39156392e-03, 6.04186789e-04, 8.95934477e-02,\n",
              "        7.01752724e-03, 7.93151617e-01, 1.21829356e-03, 4.43513365e-03,\n",
              "        6.67903759e-03],\n",
              "       [6.13234763e-04, 2.51995487e-04, 1.42472796e-04, 1.54977664e-03,\n",
              "        1.19534554e-04, 3.39004851e-04, 4.17624426e-04, 2.72599456e-04,\n",
              "        2.86011345e-04, 1.79768220e-04, 1.39617376e-04, 1.10443693e-03,\n",
              "        2.47394317e-03, 4.85656230e-04, 2.10778744e-04, 9.90547359e-01,\n",
              "        8.66132963e-04],\n",
              "       [5.87143586e-04, 2.40165755e-04, 1.24304381e-04, 1.80890027e-03,\n",
              "        9.97540192e-05, 3.44904256e-04, 4.64686338e-04, 2.30668214e-04,\n",
              "        2.69304001e-04, 1.74565255e-04, 1.28931584e-04, 1.24560960e-03,\n",
              "        2.11689598e-03, 4.30667860e-04, 1.98668160e-04, 9.90555465e-01,\n",
              "        9.79552977e-04],\n",
              "       [5.99773659e-04, 2.38938039e-04, 1.30577842e-04, 1.54571084e-03,\n",
              "        1.11597481e-04, 3.36037396e-04, 4.44226607e-04, 2.77400948e-04,\n",
              "        2.83031346e-04, 1.70678439e-04, 1.31037668e-04, 1.12256454e-03,\n",
              "        2.45274836e-03, 5.16609638e-04, 2.03221993e-04, 9.90536511e-01,\n",
              "        8.99363309e-04],\n",
              "       [6.39357464e-03, 2.70911679e-03, 1.07972929e-03, 2.90413052e-01,\n",
              "        3.45939014e-04, 1.97914033e-03, 8.03520158e-03, 2.12649512e-03,\n",
              "        1.95448170e-03, 1.64919393e-03, 6.85385603e-04, 9.19290856e-02,\n",
              "        1.27304392e-02, 2.31191167e-03, 2.08501797e-03, 3.36483389e-01,\n",
              "        2.37088844e-01],\n",
              "       [6.36299839e-04, 2.84320529e-04, 1.39062671e-04, 2.03450583e-03,\n",
              "        1.17021904e-04, 3.75729811e-04, 4.52411507e-04, 2.48244585e-04,\n",
              "        3.59069818e-04, 2.01973307e-04, 1.45663900e-04, 1.69386691e-03,\n",
              "        1.59590249e-03, 5.73519792e-04, 2.30061894e-04, 9.89846408e-01,\n",
              "        1.06585736e-03],\n",
              "       [7.65509205e-04, 3.13442957e-04, 1.34053989e-04, 2.05856655e-03,\n",
              "        1.18021635e-04, 4.35804977e-04, 5.50754135e-04, 2.59511842e-04,\n",
              "        4.00023913e-04, 2.15408931e-04, 1.47739935e-04, 1.73458993e-03,\n",
              "        1.44519319e-03, 5.89455478e-04, 2.40296635e-04, 9.89682257e-01,\n",
              "        9.09388473e-04],\n",
              "       [5.70826349e-04, 2.36635577e-04, 1.27815627e-04, 1.55843690e-03,\n",
              "        1.05236388e-04, 3.19603889e-04, 4.19704098e-04, 2.49920529e-04,\n",
              "        2.83427828e-04, 1.69758627e-04, 1.25194594e-04, 1.22002792e-03,\n",
              "        2.10844027e-03, 4.78001079e-04, 1.98084279e-04, 9.90939736e-01,\n",
              "        8.89214629e-04],\n",
              "       [6.32188865e-04, 2.80438195e-04, 1.26544532e-04, 2.86927517e-03,\n",
              "        8.62952074e-05, 3.59510042e-04, 5.04038064e-04, 2.04738273e-04,\n",
              "        3.84312822e-04, 1.93210362e-04, 1.13260387e-04, 2.32316670e-03,\n",
              "        1.42983987e-03, 6.64930034e-04, 2.07874386e-04, 9.88396823e-01,\n",
              "        1.22359546e-03],\n",
              "       [6.57192140e-04, 2.87336617e-04, 1.28682455e-04, 3.27280979e-03,\n",
              "        8.67383205e-05, 3.73240997e-04, 5.30732155e-04, 2.07836216e-04,\n",
              "        3.85892199e-04, 1.97730813e-04, 1.14357630e-04, 2.47332011e-03,\n",
              "        1.43523491e-03, 6.50744012e-04, 2.13912412e-04, 9.87699032e-01,\n",
              "        1.28527428e-03],\n",
              "       [6.27810427e-04, 2.57558189e-04, 1.18121090e-04, 2.66681798e-03,\n",
              "        8.87155766e-05, 3.25625355e-04, 4.50549036e-04, 2.08456462e-04,\n",
              "        3.34443350e-04, 1.77060865e-04, 1.11133624e-04, 1.95477996e-03,\n",
              "        1.53474661e-03, 5.23239025e-04, 2.07244724e-04, 9.89289939e-01,\n",
              "        1.12382905e-03],\n",
              "       [6.14044664e-04, 2.50768295e-04, 1.15233175e-04, 2.42568646e-03,\n",
              "        8.86504495e-05, 3.26270354e-04, 4.38137067e-04, 2.07226738e-04,\n",
              "        3.23923363e-04, 1.74212095e-04, 1.12073423e-04, 1.82268512e-03,\n",
              "        1.44201878e-03, 5.03879448e-04, 2.03357806e-04, 9.89867449e-01,\n",
              "        1.08446693e-03],\n",
              "       [6.15475816e-04, 2.49101489e-04, 1.16717121e-04, 2.32964545e-03,\n",
              "        8.99462466e-05, 3.28868860e-04, 4.35159309e-04, 2.07884921e-04,\n",
              "        3.18021601e-04, 1.74462650e-04, 1.12285576e-04, 1.75376656e-03,\n",
              "        1.45900715e-03, 5.03774558e-04, 2.02939147e-04, 9.90057290e-01,\n",
              "        1.04573881e-03],\n",
              "       [2.10398715e-03, 2.82914052e-03, 1.44217582e-03, 8.74673426e-01,\n",
              "        2.25677519e-04, 8.23530252e-04, 4.65748319e-03, 1.13088591e-03,\n",
              "        9.00416984e-04, 9.37759876e-04, 3.93981405e-04, 7.05123916e-02,\n",
              "        2.80867843e-03, 1.34117017e-03, 1.07054191e-03, 8.52827355e-03,\n",
              "        2.56205853e-02],\n",
              "       [1.70289038e-03, 6.24992477e-04, 9.76384967e-04, 5.48997475e-03,\n",
              "        3.36525962e-04, 8.81598855e-04, 2.29857326e-03, 7.59155198e-04,\n",
              "        1.61995192e-03, 7.34209374e-04, 2.95955077e-04, 6.73550554e-03,\n",
              "        2.42831912e-02, 4.71732207e-03, 5.50902099e-04, 9.45354939e-01,\n",
              "        2.63795978e-03],\n",
              "       [1.70289038e-03, 6.24992477e-04, 9.76384967e-04, 5.48997475e-03,\n",
              "        3.36525962e-04, 8.81598855e-04, 2.29857326e-03, 7.59155198e-04,\n",
              "        1.61995192e-03, 7.34209374e-04, 2.95955077e-04, 6.73550554e-03,\n",
              "        2.42831912e-02, 4.71732207e-03, 5.50902099e-04, 9.45354939e-01,\n",
              "        2.63795978e-03],\n",
              "       [3.33222444e-03, 1.92459323e-03, 8.25349125e-04, 7.14214891e-02,\n",
              "        3.04688001e-04, 1.31707161e-03, 4.04863153e-03, 9.68172797e-04,\n",
              "        1.94973266e-03, 8.83023080e-04, 5.77438565e-04, 1.23037256e-01,\n",
              "        7.17031676e-03, 2.85638077e-03, 1.49700197e-03, 6.47508025e-01,\n",
              "        1.30378619e-01],\n",
              "       [1.74691039e-03, 2.54284870e-03, 6.88397442e-04, 9.55860078e-01,\n",
              "        2.36675536e-04, 9.59655677e-04, 3.75017989e-03, 7.79486436e-04,\n",
              "        9.13822849e-04, 7.81961367e-04, 5.57998719e-04, 1.90067310e-02,\n",
              "        2.28870567e-03, 6.07385766e-04, 8.92851618e-04, 3.16406647e-03,\n",
              "        5.22231823e-03],\n",
              "       [3.66485980e-03, 7.32528977e-03, 5.44582668e-04, 5.64586163e-01,\n",
              "        2.04032578e-04, 9.46123968e-04, 3.21972161e-03, 9.18827776e-04,\n",
              "        2.16426956e-03, 1.36956130e-03, 6.27741043e-04, 3.62280756e-01,\n",
              "        1.11420755e-03, 1.35129911e-03, 1.64231402e-03, 1.81636401e-02,\n",
              "        2.98766345e-02],\n",
              "       [5.80545096e-03, 1.78645514e-02, 9.66628257e-04, 5.36059141e-02,\n",
              "        2.72959907e-04, 1.34717906e-03, 1.02323415e-02, 1.05532852e-03,\n",
              "        3.24417418e-03, 2.31448724e-03, 8.55004473e-04, 7.78306007e-01,\n",
              "        9.63809784e-04, 2.23541469e-03, 2.16728612e-03, 5.34758857e-03,\n",
              "        1.13415897e-01],\n",
              "       [2.13683699e-03, 6.01887121e-04, 2.62066780e-04, 9.47216619e-03,\n",
              "        1.84033735e-04, 9.92608140e-04, 1.87061855e-03, 6.51724928e-04,\n",
              "        3.95877549e-04, 2.84368318e-04, 2.80995009e-04, 2.53035687e-03,\n",
              "        4.53161635e-03, 4.71290812e-04, 4.50793712e-04, 9.72347617e-01,\n",
              "        2.53512478e-03],\n",
              "       [6.39357464e-03, 2.70911679e-03, 1.07972929e-03, 2.90413052e-01,\n",
              "        3.45939014e-04, 1.97914033e-03, 8.03520158e-03, 2.12649512e-03,\n",
              "        1.95448170e-03, 1.64919393e-03, 6.85385603e-04, 9.19290856e-02,\n",
              "        1.27304392e-02, 2.31191167e-03, 2.08501797e-03, 3.36483389e-01,\n",
              "        2.37088844e-01],\n",
              "       [7.35600526e-03, 1.59364846e-02, 7.54641485e-04, 8.99891034e-02,\n",
              "        3.09010327e-04, 1.27522531e-03, 7.60226697e-03, 7.81310548e-04,\n",
              "        9.04427934e-03, 3.62237217e-03, 6.96411065e-04, 8.20831895e-01,\n",
              "        1.10973790e-03, 2.32124398e-03, 2.09037727e-03, 1.04727093e-02,\n",
              "        2.58068945e-02],\n",
              "       [1.76402472e-03, 1.91337673e-03, 5.38946653e-04, 9.68483150e-01,\n",
              "        2.74842314e-04, 9.39225487e-04, 2.51887762e-03, 9.20847582e-04,\n",
              "        7.55860121e-04, 6.40819955e-04, 4.76978254e-04, 8.50256719e-03,\n",
              "        1.52472220e-03, 6.68151653e-04, 8.50713695e-04, 5.90351596e-03,\n",
              "        3.32335103e-03],\n",
              "       [1.63984078e-03, 5.75723918e-03, 8.98520462e-03, 3.38513264e-03,\n",
              "        1.06111809e-03, 1.30077626e-03, 4.91308747e-03, 1.28981867e-03,\n",
              "        2.98729930e-02, 5.09531982e-03, 6.28377893e-04, 5.81063665e-02,\n",
              "        3.88331735e-03, 8.62255275e-01, 1.28829607e-03, 6.09915983e-03,\n",
              "        4.43869783e-03],\n",
              "       [1.32279901e-03, 1.43794371e-02, 1.05029379e-03, 3.17066303e-03,\n",
              "        7.23366276e-04, 1.15518714e-03, 3.69850826e-03, 6.23550906e-04,\n",
              "        8.71929526e-01, 9.34831891e-03, 5.97097969e-04, 3.17926370e-02,\n",
              "        1.77701667e-03, 5.33259995e-02, 6.48630026e-04, 1.66431360e-03,\n",
              "        2.79272557e-03],\n",
              "       [6.60369289e-04, 2.39735562e-03, 3.15420516e-03, 1.77019264e-03,\n",
              "        5.32833568e-04, 5.51679230e-04, 2.23233923e-03, 5.70813252e-04,\n",
              "        7.39992270e-03, 1.75878697e-03, 3.38498619e-04, 1.59130264e-02,\n",
              "        1.94268802e-03, 9.55830216e-01, 5.72481949e-04, 2.37846328e-03,\n",
              "        1.99602987e-03],\n",
              "       [9.53930314e-04, 3.02915531e-03, 7.61505961e-03, 2.57920823e-03,\n",
              "        8.72731674e-04, 8.27241747e-04, 3.14245000e-03, 9.17738187e-04,\n",
              "        6.14507683e-03, 2.41233478e-03, 5.12521598e-04, 1.85668021e-02,\n",
              "        3.06911231e-03, 9.42712545e-01, 8.53241247e-04, 3.23952828e-03,\n",
              "        2.55132304e-03]], dtype=float32)"
            ]
          },
          "metadata": {},
          "execution_count": 46
        }
      ]
    },
    {
      "cell_type": "markdown",
      "source": [
        "Load the saved model and predict"
      ],
      "metadata": {
        "id": "PqbadNpD3xfP"
      }
    },
    {
      "cell_type": "code",
      "source": [
        "#predictor.save('category_classification1')"
      ],
      "metadata": {
        "id": "KtsmpCwk5Kpl"
      },
      "execution_count": 47,
      "outputs": []
    },
    {
      "cell_type": "code",
      "source": [
        "import pickle\n",
        "from tensorflow.keras.models import load_model"
      ],
      "metadata": {
        "id": "Q5EBrBu_-jGc"
      },
      "execution_count": 48,
      "outputs": []
    },
    {
      "cell_type": "code",
      "source": [
        "# loading preprocess and model file\n",
        "#features = pickle.load(open('category_classification1/tf_model.preproc','rb'))\n",
        "#new_model = load_model('category_classification1/tf_model.h5')"
      ],
      "metadata": {
        "id": "qiIkilEE_CxQ"
      },
      "execution_count": 49,
      "outputs": []
    },
    {
      "cell_type": "code",
      "source": [
        "#predictor = ktrain.load_predictor('category_classification1//tf_model')"
      ],
      "metadata": {
        "id": "ODU24YHTivoL"
      },
      "execution_count": 52,
      "outputs": []
    },
    {
      "cell_type": "code",
      "source": [
        "#model = ktrain.get_predictor(predictor.model, predictor.preproc)"
      ],
      "metadata": {
        "id": "rGfWm25kB_yi"
      },
      "execution_count": 53,
      "outputs": []
    },
    {
      "cell_type": "code",
      "source": [
        "#predictions = model.predict(\"Tech Live Session | Istio Service Mesh\")\n",
        "#print(predictions)"
      ],
      "metadata": {
        "id": "2jz1IWFBmyES"
      },
      "execution_count": null,
      "outputs": []
    },
    {
      "cell_type": "code",
      "source": [
        "predictor.save(\"category_classification_modeldex\")"
      ],
      "metadata": {
        "id": "MdZW3OfOm6qb"
      },
      "execution_count": 54,
      "outputs": []
    },
    {
      "cell_type": "code",
      "source": [
        "# loading preprocess and model file\n",
        "#features = pickle.load(open('category_classification_model/tf_model.preproc','rb'))"
      ],
      "metadata": {
        "id": "rwq0fvn3nbQO"
      },
      "execution_count": 55,
      "outputs": []
    },
    {
      "cell_type": "code",
      "source": [
        "new_model = ktrain.load_predictor('category_classification_modeldex')"
      ],
      "metadata": {
        "id": "pFGSzL98nwe9"
      },
      "execution_count": 56,
      "outputs": []
    },
    {
      "cell_type": "code",
      "source": [
        "new_model.predict(\"Tech Live Session | Istio Service Mesh\")"
      ],
      "metadata": {
        "colab": {
          "base_uri": "https://localhost:8080/",
          "height": 53
        },
        "id": "peiypgIJnwla",
        "outputId": "ef291087-80ea-4fb5-fda0-0cdbc1ebb666"
      },
      "execution_count": 57,
      "outputs": [
        {
          "output_type": "stream",
          "name": "stdout",
          "text": [
            "1/1 [==============================] - 2s 2s/step\n"
          ]
        },
        {
          "output_type": "execute_result",
          "data": {
            "text/plain": [
              "'STORY_OF_THE_DAY'"
            ],
            "application/vnd.google.colaboratory.intrinsic+json": {
              "type": "string"
            }
          },
          "metadata": {},
          "execution_count": 57
        }
      ]
    },
    {
      "cell_type": "code",
      "source": [
        "from google.colab import files\n",
        "#files.download('/content/category_classification_modeldex')"
      ],
      "metadata": {
        "id": "VNHCCFxqowOf"
      },
      "execution_count": 62,
      "outputs": []
    },
    {
      "cell_type": "code",
      "source": [
        "!zip -r /content/category_classification_modeldex.zip /content/category_classification_modeldex"
      ],
      "metadata": {
        "colab": {
          "base_uri": "https://localhost:8080/"
        },
        "id": "utpOysNcvU7q",
        "outputId": "a451483a-973c-4c2c-c740-35f63ef99ea3"
      },
      "execution_count": 63,
      "outputs": [
        {
          "output_type": "stream",
          "name": "stdout",
          "text": [
            "  adding: content/category_classification_modeldex/ (stored 0%)\n",
            "  adding: content/category_classification_modeldex/special_tokens_map.json (deflated 40%)\n",
            "  adding: content/category_classification_modeldex/vocab.txt (deflated 53%)\n",
            "  adding: content/category_classification_modeldex/tokenizer.json (deflated 71%)\n",
            "  adding: content/category_classification_modeldex/tokenizer_config.json (deflated 40%)\n",
            "  adding: content/category_classification_modeldex/tf_model.preproc (deflated 56%)\n",
            "  adding: content/category_classification_modeldex/config.json (deflated 60%)\n",
            "  adding: content/category_classification_modeldex/tf_model.h5 (deflated 8%)\n"
          ]
        }
      ]
    },
    {
      "cell_type": "code",
      "source": [
        "files.download('/content/category_classification_modeldex.zip')"
      ],
      "metadata": {
        "colab": {
          "base_uri": "https://localhost:8080/",
          "height": 34
        },
        "id": "O2KVks8EwfOt",
        "outputId": "dd7e9b8e-5b60-4263-a4c7-c94c92169105"
      },
      "execution_count": 64,
      "outputs": [
        {
          "output_type": "display_data",
          "data": {
            "text/plain": [
              "<IPython.core.display.Javascript object>"
            ],
            "application/javascript": [
              "\n",
              "    async function download(id, filename, size) {\n",
              "      if (!google.colab.kernel.accessAllowed) {\n",
              "        return;\n",
              "      }\n",
              "      const div = document.createElement('div');\n",
              "      const label = document.createElement('label');\n",
              "      label.textContent = `Downloading \"${filename}\": `;\n",
              "      div.appendChild(label);\n",
              "      const progress = document.createElement('progress');\n",
              "      progress.max = size;\n",
              "      div.appendChild(progress);\n",
              "      document.body.appendChild(div);\n",
              "\n",
              "      const buffers = [];\n",
              "      let downloaded = 0;\n",
              "\n",
              "      const channel = await google.colab.kernel.comms.open(id);\n",
              "      // Send a message to notify the kernel that we're ready.\n",
              "      channel.send({})\n",
              "\n",
              "      for await (const message of channel.messages) {\n",
              "        // Send a message to notify the kernel that we're ready.\n",
              "        channel.send({})\n",
              "        if (message.buffers) {\n",
              "          for (const buffer of message.buffers) {\n",
              "            buffers.push(buffer);\n",
              "            downloaded += buffer.byteLength;\n",
              "            progress.value = downloaded;\n",
              "          }\n",
              "        }\n",
              "      }\n",
              "      const blob = new Blob(buffers, {type: 'application/binary'});\n",
              "      const a = document.createElement('a');\n",
              "      a.href = window.URL.createObjectURL(blob);\n",
              "      a.download = filename;\n",
              "      div.appendChild(a);\n",
              "      a.click();\n",
              "      div.remove();\n",
              "    }\n",
              "  "
            ]
          },
          "metadata": {}
        },
        {
          "output_type": "display_data",
          "data": {
            "text/plain": [
              "<IPython.core.display.Javascript object>"
            ],
            "application/javascript": [
              "download(\"download_4652b6cc-dad5-44cb-904d-4265da8190a1\", \"category_classification_modeldex.zip\", 247160824)"
            ]
          },
          "metadata": {}
        }
      ]
    },
    {
      "cell_type": "code",
      "source": [],
      "metadata": {
        "id": "2FxAn8DywsmD"
      },
      "execution_count": null,
      "outputs": []
    }
  ],
  "metadata": {
    "accelerator": "GPU",
    "colab": {
      "provenance": [],
      "mount_file_id": "https://github.com/RojaCM/DEEP-LEARNING-/blob/main/Distilbert-TEXTCLASSfication.ipynb",
      "authorship_tag": "ABX9TyMzLpzyJocJVUH/DYGZTYiM",
      "include_colab_link": true
    },
    "kernelspec": {
      "display_name": "Python 3",
      "name": "python3"
    },
    "language_info": {
      "name": "python"
    },
    "gpuClass": "standard"
  },
  "nbformat": 4,
  "nbformat_minor": 0
}