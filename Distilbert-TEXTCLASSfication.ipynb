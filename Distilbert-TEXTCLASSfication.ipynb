{
  "cells": [
    {
      "cell_type": "markdown",
      "metadata": {
        "id": "view-in-github",
        "colab_type": "text"
      },
      "source": [
        "<a href=\"https://colab.research.google.com/github/RojaCM/DEEP-LEARNING-/blob/main/Distilbert-TEXTCLASSfication.ipynb\" target=\"_parent\"><img src=\"https://colab.research.google.com/assets/colab-badge.svg\" alt=\"Open In Colab\"/></a>"
      ]
    },
    {
      "cell_type": "code",
      "execution_count": 1,
      "metadata": {
        "colab": {
          "base_uri": "https://localhost:8080/"
        },
        "id": "WRAuncYEia69",
        "outputId": "4f0ca086-e802-4e20-e7b3-1c86058801b0"
      },
      "outputs": [
        {
          "output_type": "stream",
          "name": "stdout",
          "text": [
            "\u001b[K     |████████████████████████████████| 421.8 MB 6.2 kB/s \n",
            "\u001b[K     |████████████████████████████████| 448 kB 68.9 MB/s \n",
            "\u001b[K     |████████████████████████████████| 26.1 MB 83.2 MB/s \n",
            "\u001b[K     |████████████████████████████████| 3.8 MB 60.4 MB/s \n",
            "\u001b[K     |████████████████████████████████| 50 kB 6.1 MB/s \n",
            "\u001b[?25h  Building wheel for gast (setup.py) ... \u001b[?25l\u001b[?25hdone\n",
            "\u001b[31mERROR: pip's dependency resolver does not currently take into account all the packages that are installed. This behaviour is the source of the following dependency conflicts.\n",
            "tensorflow 2.9.2 requires tensorboard<2.10,>=2.9, but you have tensorboard 2.1.1 which is incompatible.\n",
            "tensorflow 2.9.2 requires tensorflow-estimator<2.10.0,>=2.9.0rc0, but you have tensorflow-estimator 2.1.0 which is incompatible.\n",
            "tensorflow-probability 0.16.0 requires gast>=0.3.2, but you have gast 0.2.2 which is incompatible.\n",
            "plotnine 0.8.0 requires scipy>=1.5.0, but you have scipy 1.4.1 which is incompatible.\n",
            "jaxlib 0.3.22+cuda11.cudnn805 requires scipy>=1.5, but you have scipy 1.4.1 which is incompatible.\n",
            "jax 0.3.23 requires scipy>=1.5, but you have scipy 1.4.1 which is incompatible.\u001b[0m\n"
          ]
        }
      ],
      "source": [
        "!pip3 install -q tensorflow_gpu==2.1.0"
      ]
    },
    {
      "cell_type": "code",
      "execution_count": 2,
      "metadata": {
        "colab": {
          "base_uri": "https://localhost:8080/"
        },
        "id": "Lfra9t_Vid1d",
        "outputId": "8f22537d-56a7-4702-c660-17415537c170"
      },
      "outputs": [
        {
          "output_type": "stream",
          "name": "stdout",
          "text": [
            "Looking in indexes: https://pypi.org/simple, https://us-python.pkg.dev/colab-wheels/public/simple/\n",
            "Requirement already satisfied: tensorflow in /usr/local/lib/python3.7/dist-packages (2.9.2)\n",
            "Requirement already satisfied: libclang>=13.0.0 in /usr/local/lib/python3.7/dist-packages (from tensorflow) (14.0.6)\n",
            "Requirement already satisfied: absl-py>=1.0.0 in /usr/local/lib/python3.7/dist-packages (from tensorflow) (1.3.0)\n",
            "Requirement already satisfied: grpcio<2.0,>=1.24.3 in /usr/local/lib/python3.7/dist-packages (from tensorflow) (1.50.0)\n",
            "Requirement already satisfied: keras-preprocessing>=1.1.1 in /usr/local/lib/python3.7/dist-packages (from tensorflow) (1.1.2)\n",
            "Requirement already satisfied: gast<=0.4.0,>=0.2.1 in /usr/local/lib/python3.7/dist-packages (from tensorflow) (0.2.2)\n",
            "Collecting tensorboard<2.10,>=2.9\n",
            "  Downloading tensorboard-2.9.1-py3-none-any.whl (5.8 MB)\n",
            "\u001b[K     |████████████████████████████████| 5.8 MB 33.9 MB/s \n",
            "\u001b[?25hRequirement already satisfied: opt-einsum>=2.3.2 in /usr/local/lib/python3.7/dist-packages (from tensorflow) (3.3.0)\n",
            "Requirement already satisfied: flatbuffers<2,>=1.12 in /usr/local/lib/python3.7/dist-packages (from tensorflow) (1.12)\n",
            "Requirement already satisfied: termcolor>=1.1.0 in /usr/local/lib/python3.7/dist-packages (from tensorflow) (2.0.1)\n",
            "Requirement already satisfied: six>=1.12.0 in /usr/local/lib/python3.7/dist-packages (from tensorflow) (1.15.0)\n",
            "Requirement already satisfied: google-pasta>=0.1.1 in /usr/local/lib/python3.7/dist-packages (from tensorflow) (0.2.0)\n",
            "Requirement already satisfied: packaging in /usr/local/lib/python3.7/dist-packages (from tensorflow) (21.3)\n",
            "Requirement already satisfied: wrapt>=1.11.0 in /usr/local/lib/python3.7/dist-packages (from tensorflow) (1.14.1)\n",
            "Requirement already satisfied: astunparse>=1.6.0 in /usr/local/lib/python3.7/dist-packages (from tensorflow) (1.6.3)\n",
            "Requirement already satisfied: protobuf<3.20,>=3.9.2 in /usr/local/lib/python3.7/dist-packages (from tensorflow) (3.17.3)\n",
            "Requirement already satisfied: typing-extensions>=3.6.6 in /usr/local/lib/python3.7/dist-packages (from tensorflow) (4.1.1)\n",
            "Requirement already satisfied: h5py>=2.9.0 in /usr/local/lib/python3.7/dist-packages (from tensorflow) (3.1.0)\n",
            "Requirement already satisfied: tensorflow-io-gcs-filesystem>=0.23.1 in /usr/local/lib/python3.7/dist-packages (from tensorflow) (0.27.0)\n",
            "Requirement already satisfied: numpy>=1.20 in /usr/local/lib/python3.7/dist-packages (from tensorflow) (1.21.6)\n",
            "Requirement already satisfied: keras<2.10.0,>=2.9.0rc0 in /usr/local/lib/python3.7/dist-packages (from tensorflow) (2.9.0)\n",
            "Requirement already satisfied: setuptools in /usr/local/lib/python3.7/dist-packages (from tensorflow) (57.4.0)\n",
            "Collecting tensorflow-estimator<2.10.0,>=2.9.0rc0\n",
            "  Downloading tensorflow_estimator-2.9.0-py2.py3-none-any.whl (438 kB)\n",
            "\u001b[K     |████████████████████████████████| 438 kB 66.0 MB/s \n",
            "\u001b[?25hRequirement already satisfied: wheel<1.0,>=0.23.0 in /usr/local/lib/python3.7/dist-packages (from astunparse>=1.6.0->tensorflow) (0.37.1)\n",
            "Requirement already satisfied: cached-property in /usr/local/lib/python3.7/dist-packages (from h5py>=2.9.0->tensorflow) (1.5.2)\n",
            "Requirement already satisfied: markdown>=2.6.8 in /usr/local/lib/python3.7/dist-packages (from tensorboard<2.10,>=2.9->tensorflow) (3.4.1)\n",
            "Requirement already satisfied: google-auth-oauthlib<0.5,>=0.4.1 in /usr/local/lib/python3.7/dist-packages (from tensorboard<2.10,>=2.9->tensorflow) (0.4.6)\n",
            "Requirement already satisfied: tensorboard-plugin-wit>=1.6.0 in /usr/local/lib/python3.7/dist-packages (from tensorboard<2.10,>=2.9->tensorflow) (1.8.1)\n",
            "Requirement already satisfied: werkzeug>=1.0.1 in /usr/local/lib/python3.7/dist-packages (from tensorboard<2.10,>=2.9->tensorflow) (1.0.1)\n",
            "Requirement already satisfied: tensorboard-data-server<0.7.0,>=0.6.0 in /usr/local/lib/python3.7/dist-packages (from tensorboard<2.10,>=2.9->tensorflow) (0.6.1)\n",
            "Requirement already satisfied: google-auth<3,>=1.6.3 in /usr/local/lib/python3.7/dist-packages (from tensorboard<2.10,>=2.9->tensorflow) (1.35.0)\n",
            "Requirement already satisfied: requests<3,>=2.21.0 in /usr/local/lib/python3.7/dist-packages (from tensorboard<2.10,>=2.9->tensorflow) (2.23.0)\n",
            "Requirement already satisfied: rsa<5,>=3.1.4 in /usr/local/lib/python3.7/dist-packages (from google-auth<3,>=1.6.3->tensorboard<2.10,>=2.9->tensorflow) (4.9)\n",
            "Requirement already satisfied: cachetools<5.0,>=2.0.0 in /usr/local/lib/python3.7/dist-packages (from google-auth<3,>=1.6.3->tensorboard<2.10,>=2.9->tensorflow) (4.2.4)\n",
            "Requirement already satisfied: pyasn1-modules>=0.2.1 in /usr/local/lib/python3.7/dist-packages (from google-auth<3,>=1.6.3->tensorboard<2.10,>=2.9->tensorflow) (0.2.8)\n",
            "Requirement already satisfied: requests-oauthlib>=0.7.0 in /usr/local/lib/python3.7/dist-packages (from google-auth-oauthlib<0.5,>=0.4.1->tensorboard<2.10,>=2.9->tensorflow) (1.3.1)\n",
            "Requirement already satisfied: importlib-metadata>=4.4 in /usr/local/lib/python3.7/dist-packages (from markdown>=2.6.8->tensorboard<2.10,>=2.9->tensorflow) (4.13.0)\n",
            "Requirement already satisfied: zipp>=0.5 in /usr/local/lib/python3.7/dist-packages (from importlib-metadata>=4.4->markdown>=2.6.8->tensorboard<2.10,>=2.9->tensorflow) (3.9.0)\n",
            "Requirement already satisfied: pyasn1<0.5.0,>=0.4.6 in /usr/local/lib/python3.7/dist-packages (from pyasn1-modules>=0.2.1->google-auth<3,>=1.6.3->tensorboard<2.10,>=2.9->tensorflow) (0.4.8)\n",
            "Requirement already satisfied: idna<3,>=2.5 in /usr/local/lib/python3.7/dist-packages (from requests<3,>=2.21.0->tensorboard<2.10,>=2.9->tensorflow) (2.10)\n",
            "Requirement already satisfied: certifi>=2017.4.17 in /usr/local/lib/python3.7/dist-packages (from requests<3,>=2.21.0->tensorboard<2.10,>=2.9->tensorflow) (2022.9.24)\n",
            "Requirement already satisfied: urllib3!=1.25.0,!=1.25.1,<1.26,>=1.21.1 in /usr/local/lib/python3.7/dist-packages (from requests<3,>=2.21.0->tensorboard<2.10,>=2.9->tensorflow) (1.24.3)\n",
            "Requirement already satisfied: chardet<4,>=3.0.2 in /usr/local/lib/python3.7/dist-packages (from requests<3,>=2.21.0->tensorboard<2.10,>=2.9->tensorflow) (3.0.4)\n",
            "Requirement already satisfied: oauthlib>=3.0.0 in /usr/local/lib/python3.7/dist-packages (from requests-oauthlib>=0.7.0->google-auth-oauthlib<0.5,>=0.4.1->tensorboard<2.10,>=2.9->tensorflow) (3.2.2)\n",
            "Requirement already satisfied: pyparsing!=3.0.5,>=2.0.2 in /usr/local/lib/python3.7/dist-packages (from packaging->tensorflow) (3.0.9)\n",
            "Installing collected packages: tensorflow-estimator, tensorboard\n",
            "  Attempting uninstall: tensorflow-estimator\n",
            "    Found existing installation: tensorflow-estimator 2.1.0\n",
            "    Uninstalling tensorflow-estimator-2.1.0:\n",
            "      Successfully uninstalled tensorflow-estimator-2.1.0\n",
            "  Attempting uninstall: tensorboard\n",
            "    Found existing installation: tensorboard 2.1.1\n",
            "    Uninstalling tensorboard-2.1.1:\n",
            "      Successfully uninstalled tensorboard-2.1.1\n",
            "\u001b[31mERROR: pip's dependency resolver does not currently take into account all the packages that are installed. This behaviour is the source of the following dependency conflicts.\n",
            "tensorflow-gpu 2.1.0 requires tensorboard<2.2.0,>=2.1.0, but you have tensorboard 2.9.1 which is incompatible.\n",
            "tensorflow-gpu 2.1.0 requires tensorflow-estimator<2.2.0,>=2.1.0rc0, but you have tensorflow-estimator 2.9.0 which is incompatible.\u001b[0m\n",
            "Successfully installed tensorboard-2.9.1 tensorflow-estimator-2.9.0\n"
          ]
        }
      ],
      "source": [
        "pip install tensorflow"
      ]
    },
    {
      "cell_type": "code",
      "execution_count": 3,
      "metadata": {
        "colab": {
          "base_uri": "https://localhost:8080/"
        },
        "id": "pp9o0qYqilOn",
        "outputId": "5011df07-a557-4c38-d48b-d9e6e742f53a"
      },
      "outputs": [
        {
          "output_type": "stream",
          "name": "stdout",
          "text": [
            "Looking in indexes: https://pypi.org/simple, https://us-python.pkg.dev/colab-wheels/public/simple/\n",
            "Requirement already satisfied: tensorflow-gpu in /usr/local/lib/python3.7/dist-packages (2.1.0)\n",
            "Collecting tensorflow-gpu\n",
            "  Downloading tensorflow_gpu-2.10.0-cp37-cp37m-manylinux_2_17_x86_64.manylinux2014_x86_64.whl (578.0 MB)\n",
            "\u001b[K     |████████████████████████████████| 578.0 MB 16 kB/s \n",
            "\u001b[?25hRequirement already satisfied: six>=1.12.0 in /usr/local/lib/python3.7/dist-packages (from tensorflow-gpu) (1.15.0)\n",
            "Requirement already satisfied: grpcio<2.0,>=1.24.3 in /usr/local/lib/python3.7/dist-packages (from tensorflow-gpu) (1.50.0)\n",
            "Requirement already satisfied: typing-extensions>=3.6.6 in /usr/local/lib/python3.7/dist-packages (from tensorflow-gpu) (4.1.1)\n",
            "Requirement already satisfied: opt-einsum>=2.3.2 in /usr/local/lib/python3.7/dist-packages (from tensorflow-gpu) (3.3.0)\n",
            "Collecting tensorboard<2.11,>=2.10\n",
            "  Downloading tensorboard-2.10.1-py3-none-any.whl (5.9 MB)\n",
            "\u001b[K     |████████████████████████████████| 5.9 MB 49.6 MB/s \n",
            "\u001b[?25hCollecting flatbuffers>=2.0\n",
            "  Downloading flatbuffers-22.9.24-py2.py3-none-any.whl (26 kB)\n",
            "Requirement already satisfied: astunparse>=1.6.0 in /usr/local/lib/python3.7/dist-packages (from tensorflow-gpu) (1.6.3)\n",
            "Requirement already satisfied: h5py>=2.9.0 in /usr/local/lib/python3.7/dist-packages (from tensorflow-gpu) (3.1.0)\n",
            "Requirement already satisfied: setuptools in /usr/local/lib/python3.7/dist-packages (from tensorflow-gpu) (57.4.0)\n",
            "Requirement already satisfied: termcolor>=1.1.0 in /usr/local/lib/python3.7/dist-packages (from tensorflow-gpu) (2.0.1)\n",
            "Requirement already satisfied: numpy>=1.20 in /usr/local/lib/python3.7/dist-packages (from tensorflow-gpu) (1.21.6)\n",
            "Requirement already satisfied: protobuf<3.20,>=3.9.2 in /usr/local/lib/python3.7/dist-packages (from tensorflow-gpu) (3.17.3)\n",
            "Requirement already satisfied: absl-py>=1.0.0 in /usr/local/lib/python3.7/dist-packages (from tensorflow-gpu) (1.3.0)\n",
            "Requirement already satisfied: wrapt>=1.11.0 in /usr/local/lib/python3.7/dist-packages (from tensorflow-gpu) (1.14.1)\n",
            "Requirement already satisfied: tensorflow-io-gcs-filesystem>=0.23.1 in /usr/local/lib/python3.7/dist-packages (from tensorflow-gpu) (0.27.0)\n",
            "Requirement already satisfied: keras-preprocessing>=1.1.1 in /usr/local/lib/python3.7/dist-packages (from tensorflow-gpu) (1.1.2)\n",
            "Requirement already satisfied: libclang>=13.0.0 in /usr/local/lib/python3.7/dist-packages (from tensorflow-gpu) (14.0.6)\n",
            "Collecting tensorflow-estimator<2.11,>=2.10.0\n",
            "  Downloading tensorflow_estimator-2.10.0-py2.py3-none-any.whl (438 kB)\n",
            "\u001b[K     |████████████████████████████████| 438 kB 67.5 MB/s \n",
            "\u001b[?25hCollecting keras<2.11,>=2.10.0\n",
            "  Downloading keras-2.10.0-py2.py3-none-any.whl (1.7 MB)\n",
            "\u001b[K     |████████████████████████████████| 1.7 MB 45.5 MB/s \n",
            "\u001b[?25hRequirement already satisfied: google-pasta>=0.1.1 in /usr/local/lib/python3.7/dist-packages (from tensorflow-gpu) (0.2.0)\n",
            "Requirement already satisfied: packaging in /usr/local/lib/python3.7/dist-packages (from tensorflow-gpu) (21.3)\n",
            "Requirement already satisfied: gast<=0.4.0,>=0.2.1 in /usr/local/lib/python3.7/dist-packages (from tensorflow-gpu) (0.2.2)\n",
            "Requirement already satisfied: wheel<1.0,>=0.23.0 in /usr/local/lib/python3.7/dist-packages (from astunparse>=1.6.0->tensorflow-gpu) (0.37.1)\n",
            "Requirement already satisfied: cached-property in /usr/local/lib/python3.7/dist-packages (from h5py>=2.9.0->tensorflow-gpu) (1.5.2)\n",
            "Requirement already satisfied: requests<3,>=2.21.0 in /usr/local/lib/python3.7/dist-packages (from tensorboard<2.11,>=2.10->tensorflow-gpu) (2.23.0)\n",
            "Requirement already satisfied: tensorboard-data-server<0.7.0,>=0.6.0 in /usr/local/lib/python3.7/dist-packages (from tensorboard<2.11,>=2.10->tensorflow-gpu) (0.6.1)\n",
            "Requirement already satisfied: markdown>=2.6.8 in /usr/local/lib/python3.7/dist-packages (from tensorboard<2.11,>=2.10->tensorflow-gpu) (3.4.1)\n",
            "Requirement already satisfied: google-auth<3,>=1.6.3 in /usr/local/lib/python3.7/dist-packages (from tensorboard<2.11,>=2.10->tensorflow-gpu) (1.35.0)\n",
            "Requirement already satisfied: werkzeug>=1.0.1 in /usr/local/lib/python3.7/dist-packages (from tensorboard<2.11,>=2.10->tensorflow-gpu) (1.0.1)\n",
            "Requirement already satisfied: google-auth-oauthlib<0.5,>=0.4.1 in /usr/local/lib/python3.7/dist-packages (from tensorboard<2.11,>=2.10->tensorflow-gpu) (0.4.6)\n",
            "Requirement already satisfied: tensorboard-plugin-wit>=1.6.0 in /usr/local/lib/python3.7/dist-packages (from tensorboard<2.11,>=2.10->tensorflow-gpu) (1.8.1)\n",
            "Requirement already satisfied: cachetools<5.0,>=2.0.0 in /usr/local/lib/python3.7/dist-packages (from google-auth<3,>=1.6.3->tensorboard<2.11,>=2.10->tensorflow-gpu) (4.2.4)\n",
            "Requirement already satisfied: rsa<5,>=3.1.4 in /usr/local/lib/python3.7/dist-packages (from google-auth<3,>=1.6.3->tensorboard<2.11,>=2.10->tensorflow-gpu) (4.9)\n",
            "Requirement already satisfied: pyasn1-modules>=0.2.1 in /usr/local/lib/python3.7/dist-packages (from google-auth<3,>=1.6.3->tensorboard<2.11,>=2.10->tensorflow-gpu) (0.2.8)\n",
            "Requirement already satisfied: requests-oauthlib>=0.7.0 in /usr/local/lib/python3.7/dist-packages (from google-auth-oauthlib<0.5,>=0.4.1->tensorboard<2.11,>=2.10->tensorflow-gpu) (1.3.1)\n",
            "Requirement already satisfied: importlib-metadata>=4.4 in /usr/local/lib/python3.7/dist-packages (from markdown>=2.6.8->tensorboard<2.11,>=2.10->tensorflow-gpu) (4.13.0)\n",
            "Requirement already satisfied: zipp>=0.5 in /usr/local/lib/python3.7/dist-packages (from importlib-metadata>=4.4->markdown>=2.6.8->tensorboard<2.11,>=2.10->tensorflow-gpu) (3.9.0)\n",
            "Requirement already satisfied: pyasn1<0.5.0,>=0.4.6 in /usr/local/lib/python3.7/dist-packages (from pyasn1-modules>=0.2.1->google-auth<3,>=1.6.3->tensorboard<2.11,>=2.10->tensorflow-gpu) (0.4.8)\n",
            "Requirement already satisfied: urllib3!=1.25.0,!=1.25.1,<1.26,>=1.21.1 in /usr/local/lib/python3.7/dist-packages (from requests<3,>=2.21.0->tensorboard<2.11,>=2.10->tensorflow-gpu) (1.24.3)\n",
            "Requirement already satisfied: idna<3,>=2.5 in /usr/local/lib/python3.7/dist-packages (from requests<3,>=2.21.0->tensorboard<2.11,>=2.10->tensorflow-gpu) (2.10)\n",
            "Requirement already satisfied: certifi>=2017.4.17 in /usr/local/lib/python3.7/dist-packages (from requests<3,>=2.21.0->tensorboard<2.11,>=2.10->tensorflow-gpu) (2022.9.24)\n",
            "Requirement already satisfied: chardet<4,>=3.0.2 in /usr/local/lib/python3.7/dist-packages (from requests<3,>=2.21.0->tensorboard<2.11,>=2.10->tensorflow-gpu) (3.0.4)\n",
            "Requirement already satisfied: oauthlib>=3.0.0 in /usr/local/lib/python3.7/dist-packages (from requests-oauthlib>=0.7.0->google-auth-oauthlib<0.5,>=0.4.1->tensorboard<2.11,>=2.10->tensorflow-gpu) (3.2.2)\n",
            "Requirement already satisfied: pyparsing!=3.0.5,>=2.0.2 in /usr/local/lib/python3.7/dist-packages (from packaging->tensorflow-gpu) (3.0.9)\n",
            "Installing collected packages: tensorflow-estimator, tensorboard, keras, flatbuffers, tensorflow-gpu\n",
            "  Attempting uninstall: tensorflow-estimator\n",
            "    Found existing installation: tensorflow-estimator 2.9.0\n",
            "    Uninstalling tensorflow-estimator-2.9.0:\n",
            "      Successfully uninstalled tensorflow-estimator-2.9.0\n",
            "  Attempting uninstall: tensorboard\n",
            "    Found existing installation: tensorboard 2.9.1\n",
            "    Uninstalling tensorboard-2.9.1:\n",
            "      Successfully uninstalled tensorboard-2.9.1\n",
            "  Attempting uninstall: keras\n",
            "    Found existing installation: keras 2.9.0\n",
            "    Uninstalling keras-2.9.0:\n",
            "      Successfully uninstalled keras-2.9.0\n",
            "  Attempting uninstall: flatbuffers\n",
            "    Found existing installation: flatbuffers 1.12\n",
            "    Uninstalling flatbuffers-1.12:\n",
            "      Successfully uninstalled flatbuffers-1.12\n",
            "  Attempting uninstall: tensorflow-gpu\n",
            "    Found existing installation: tensorflow-gpu 2.1.0\n",
            "    Uninstalling tensorflow-gpu-2.1.0:\n",
            "      Successfully uninstalled tensorflow-gpu-2.1.0\n",
            "\u001b[31mERROR: pip's dependency resolver does not currently take into account all the packages that are installed. This behaviour is the source of the following dependency conflicts.\n",
            "tensorflow 2.9.2 requires flatbuffers<2,>=1.12, but you have flatbuffers 22.9.24 which is incompatible.\n",
            "tensorflow 2.9.2 requires keras<2.10.0,>=2.9.0rc0, but you have keras 2.10.0 which is incompatible.\n",
            "tensorflow 2.9.2 requires tensorboard<2.10,>=2.9, but you have tensorboard 2.10.1 which is incompatible.\n",
            "tensorflow 2.9.2 requires tensorflow-estimator<2.10.0,>=2.9.0rc0, but you have tensorflow-estimator 2.10.0 which is incompatible.\u001b[0m\n",
            "Successfully installed flatbuffers-22.9.24 keras-2.10.0 tensorboard-2.10.1 tensorflow-estimator-2.10.0 tensorflow-gpu-2.10.0\n"
          ]
        }
      ],
      "source": [
        "!pip3 install --upgrade tensorflow-gpu"
      ]
    },
    {
      "cell_type": "code",
      "execution_count": 4,
      "metadata": {
        "colab": {
          "base_uri": "https://localhost:8080/"
        },
        "id": "IQ47ZPsDilmp",
        "outputId": "7b4be912-9bfb-425f-a65e-ecd1a2de5a8f"
      },
      "outputs": [
        {
          "output_type": "stream",
          "name": "stdout",
          "text": [
            "\u001b[K     |████████████████████████████████| 25.3 MB 9.6 MB/s \n",
            "\u001b[K     |████████████████████████████████| 981 kB 42.9 MB/s \n",
            "\u001b[K     |████████████████████████████████| 263 kB 44.6 MB/s \n",
            "\u001b[K     |████████████████████████████████| 3.8 MB 54.1 MB/s \n",
            "\u001b[K     |████████████████████████████████| 1.3 MB 51.4 MB/s \n",
            "\u001b[K     |████████████████████████████████| 468 kB 60.0 MB/s \n",
            "\u001b[K     |████████████████████████████████| 880 kB 59.4 MB/s \n",
            "\u001b[K     |████████████████████████████████| 163 kB 68.6 MB/s \n",
            "\u001b[K     |████████████████████████████████| 7.6 MB 56.9 MB/s \n",
            "\u001b[?25h  Building wheel for ktrain (setup.py) ... \u001b[?25l\u001b[?25hdone\n",
            "  Building wheel for keras-bert (setup.py) ... \u001b[?25l\u001b[?25hdone\n",
            "  Building wheel for keras-transformer (setup.py) ... \u001b[?25l\u001b[?25hdone\n",
            "  Building wheel for keras-embed-sim (setup.py) ... \u001b[?25l\u001b[?25hdone\n",
            "  Building wheel for keras-layer-normalization (setup.py) ... \u001b[?25l\u001b[?25hdone\n",
            "  Building wheel for keras-multi-head (setup.py) ... \u001b[?25l\u001b[?25hdone\n",
            "  Building wheel for keras-pos-embd (setup.py) ... \u001b[?25l\u001b[?25hdone\n",
            "  Building wheel for keras-position-wise-feed-forward (setup.py) ... \u001b[?25l\u001b[?25hdone\n",
            "  Building wheel for keras-self-attention (setup.py) ... \u001b[?25l\u001b[?25hdone\n",
            "  Building wheel for langdetect (setup.py) ... \u001b[?25l\u001b[?25hdone\n",
            "  Building wheel for sacremoses (setup.py) ... \u001b[?25l\u001b[?25hdone\n"
          ]
        }
      ],
      "source": [
        "!pip3 install -q ktrain"
      ]
    },
    {
      "cell_type": "code",
      "execution_count": 6,
      "metadata": {
        "id": "56uaDZJAinUL"
      },
      "outputs": [],
      "source": [
        "import pandas as pd\n",
        "data=pd.read_csv('sample_dex_train.csv')"
      ]
    },
    {
      "cell_type": "code",
      "execution_count": 7,
      "metadata": {
        "id": "6tXTPUIJipX-"
      },
      "outputs": [],
      "source": [
        "df1=data.copy()"
      ]
    },
    {
      "cell_type": "code",
      "execution_count": 8,
      "metadata": {
        "id": "WBu-2yEQiuAS"
      },
      "outputs": [],
      "source": [
        "df2=df1[['title','category']]"
      ]
    },
    {
      "cell_type": "code",
      "execution_count": 9,
      "metadata": {
        "colab": {
          "base_uri": "https://localhost:8080/"
        },
        "id": "FNTvoiP0ivYX",
        "outputId": "bcd4b30a-4657-4bc7-ac1c-6fae2391e44c"
      },
      "outputs": [
        {
          "output_type": "stream",
          "name": "stderr",
          "text": [
            "/usr/local/lib/python3.7/dist-packages/pandas/util/_decorators.py:311: SettingWithCopyWarning: \n",
            "A value is trying to be set on a copy of a slice from a DataFrame\n",
            "\n",
            "See the caveats in the documentation: https://pandas.pydata.org/pandas-docs/stable/user_guide/indexing.html#returning-a-view-versus-a-copy\n",
            "  return func(*args, **kwargs)\n"
          ]
        }
      ],
      "source": [
        "df2.dropna(inplace=True)"
      ]
    },
    {
      "cell_type": "code",
      "execution_count": 10,
      "metadata": {
        "colab": {
          "base_uri": "https://localhost:8080/"
        },
        "id": "gOhzXK7BjCMc",
        "outputId": "87470738-3f23-425f-cbfa-5640e8186f57"
      },
      "outputs": [
        {
          "output_type": "execute_result",
          "data": {
            "text/plain": [
              "(963, 2)"
            ]
          },
          "metadata": {},
          "execution_count": 10
        }
      ],
      "source": [
        "df2.shape"
      ]
    },
    {
      "cell_type": "code",
      "source": [
        "df2.category.value_counts()"
      ],
      "metadata": {
        "colab": {
          "base_uri": "https://localhost:8080/"
        },
        "id": "yuK3GG867bUJ",
        "outputId": "061e4ded-7d38-4a65-d3b0-db35f11b4914"
      },
      "execution_count": 11,
      "outputs": [
        {
          "output_type": "execute_result",
          "data": {
            "text/plain": [
              "TWEETS                      231\n",
              "COMPANY_INFORMATION         165\n",
              "STORY_OF_THE_DAY            105\n",
              "TECHNO_PICKS                 89\n",
              "INDUSTRY_UPDATE              84\n",
              "WHO_SAID_WHAT                65\n",
              "FEATURED_VIDEOS              53\n",
              "SUCCESS_STORY                33\n",
              "ALTIMETRIK_NEWS              25\n",
              "EMPLOYEE_EXPERIENCES         22\n",
              "PEOPLE_OF_ALTIMETRIK         20\n",
              "ABOUT_ALTIMETRIK             19\n",
              "CAPABILITY_CENTERS           13\n",
              "GLOBAL_RECOGNITIONS          12\n",
              "INNOVATION_AT_ALTIMETRIK     11\n",
              "TRENDING_STORY                7\n",
              "EBOOK                         6\n",
              "STATIC_CONTENT                2\n",
              "DIGITAL_BUSINESS              1\n",
              "Name: category, dtype: int64"
            ]
          },
          "metadata": {},
          "execution_count": 11
        }
      ]
    },
    {
      "cell_type": "code",
      "execution_count": 12,
      "metadata": {
        "colab": {
          "base_uri": "https://localhost:8080/",
          "height": 81
        },
        "id": "45vtWfHzkJj7",
        "outputId": "ab044737-1562-4679-ea7e-9d95e41133f5"
      },
      "outputs": [
        {
          "output_type": "execute_result",
          "data": {
            "text/plain": [
              "                  title          category\n",
              "437  Digital Business 2  DIGITAL_BUSINESS"
            ],
            "text/html": [
              "\n",
              "  <div id=\"df-b6512261-4d37-4819-adba-42217aff5578\">\n",
              "    <div class=\"colab-df-container\">\n",
              "      <div>\n",
              "<style scoped>\n",
              "    .dataframe tbody tr th:only-of-type {\n",
              "        vertical-align: middle;\n",
              "    }\n",
              "\n",
              "    .dataframe tbody tr th {\n",
              "        vertical-align: top;\n",
              "    }\n",
              "\n",
              "    .dataframe thead th {\n",
              "        text-align: right;\n",
              "    }\n",
              "</style>\n",
              "<table border=\"1\" class=\"dataframe\">\n",
              "  <thead>\n",
              "    <tr style=\"text-align: right;\">\n",
              "      <th></th>\n",
              "      <th>title</th>\n",
              "      <th>category</th>\n",
              "    </tr>\n",
              "  </thead>\n",
              "  <tbody>\n",
              "    <tr>\n",
              "      <th>437</th>\n",
              "      <td>Digital Business 2</td>\n",
              "      <td>DIGITAL_BUSINESS</td>\n",
              "    </tr>\n",
              "  </tbody>\n",
              "</table>\n",
              "</div>\n",
              "      <button class=\"colab-df-convert\" onclick=\"convertToInteractive('df-b6512261-4d37-4819-adba-42217aff5578')\"\n",
              "              title=\"Convert this dataframe to an interactive table.\"\n",
              "              style=\"display:none;\">\n",
              "        \n",
              "  <svg xmlns=\"http://www.w3.org/2000/svg\" height=\"24px\"viewBox=\"0 0 24 24\"\n",
              "       width=\"24px\">\n",
              "    <path d=\"M0 0h24v24H0V0z\" fill=\"none\"/>\n",
              "    <path d=\"M18.56 5.44l.94 2.06.94-2.06 2.06-.94-2.06-.94-.94-2.06-.94 2.06-2.06.94zm-11 1L8.5 8.5l.94-2.06 2.06-.94-2.06-.94L8.5 2.5l-.94 2.06-2.06.94zm10 10l.94 2.06.94-2.06 2.06-.94-2.06-.94-.94-2.06-.94 2.06-2.06.94z\"/><path d=\"M17.41 7.96l-1.37-1.37c-.4-.4-.92-.59-1.43-.59-.52 0-1.04.2-1.43.59L10.3 9.45l-7.72 7.72c-.78.78-.78 2.05 0 2.83L4 21.41c.39.39.9.59 1.41.59.51 0 1.02-.2 1.41-.59l7.78-7.78 2.81-2.81c.8-.78.8-2.07 0-2.86zM5.41 20L4 18.59l7.72-7.72 1.47 1.35L5.41 20z\"/>\n",
              "  </svg>\n",
              "      </button>\n",
              "      \n",
              "  <style>\n",
              "    .colab-df-container {\n",
              "      display:flex;\n",
              "      flex-wrap:wrap;\n",
              "      gap: 12px;\n",
              "    }\n",
              "\n",
              "    .colab-df-convert {\n",
              "      background-color: #E8F0FE;\n",
              "      border: none;\n",
              "      border-radius: 50%;\n",
              "      cursor: pointer;\n",
              "      display: none;\n",
              "      fill: #1967D2;\n",
              "      height: 32px;\n",
              "      padding: 0 0 0 0;\n",
              "      width: 32px;\n",
              "    }\n",
              "\n",
              "    .colab-df-convert:hover {\n",
              "      background-color: #E2EBFA;\n",
              "      box-shadow: 0px 1px 2px rgba(60, 64, 67, 0.3), 0px 1px 3px 1px rgba(60, 64, 67, 0.15);\n",
              "      fill: #174EA6;\n",
              "    }\n",
              "\n",
              "    [theme=dark] .colab-df-convert {\n",
              "      background-color: #3B4455;\n",
              "      fill: #D2E3FC;\n",
              "    }\n",
              "\n",
              "    [theme=dark] .colab-df-convert:hover {\n",
              "      background-color: #434B5C;\n",
              "      box-shadow: 0px 1px 3px 1px rgba(0, 0, 0, 0.15);\n",
              "      filter: drop-shadow(0px 1px 2px rgba(0, 0, 0, 0.3));\n",
              "      fill: #FFFFFF;\n",
              "    }\n",
              "  </style>\n",
              "\n",
              "      <script>\n",
              "        const buttonEl =\n",
              "          document.querySelector('#df-b6512261-4d37-4819-adba-42217aff5578 button.colab-df-convert');\n",
              "        buttonEl.style.display =\n",
              "          google.colab.kernel.accessAllowed ? 'block' : 'none';\n",
              "\n",
              "        async function convertToInteractive(key) {\n",
              "          const element = document.querySelector('#df-b6512261-4d37-4819-adba-42217aff5578');\n",
              "          const dataTable =\n",
              "            await google.colab.kernel.invokeFunction('convertToInteractive',\n",
              "                                                     [key], {});\n",
              "          if (!dataTable) return;\n",
              "\n",
              "          const docLinkHtml = 'Like what you see? Visit the ' +\n",
              "            '<a target=\"_blank\" href=https://colab.research.google.com/notebooks/data_table.ipynb>data table notebook</a>'\n",
              "            + ' to learn more about interactive tables.';\n",
              "          element.innerHTML = '';\n",
              "          dataTable['output_type'] = 'display_data';\n",
              "          await google.colab.output.renderOutput(dataTable, element);\n",
              "          const docLink = document.createElement('div');\n",
              "          docLink.innerHTML = docLinkHtml;\n",
              "          element.appendChild(docLink);\n",
              "        }\n",
              "      </script>\n",
              "    </div>\n",
              "  </div>\n",
              "  "
            ]
          },
          "metadata": {},
          "execution_count": 12
        }
      ],
      "source": [
        "df2[df2['category']=='DIGITAL_BUSINESS']"
      ]
    },
    {
      "cell_type": "code",
      "execution_count": 13,
      "metadata": {
        "colab": {
          "base_uri": "https://localhost:8080/",
          "height": 112
        },
        "id": "T8TFM_WZkPuS",
        "outputId": "57a19dff-172b-4681-fb05-03aa07d8e40a"
      },
      "outputs": [
        {
          "output_type": "execute_result",
          "data": {
            "text/plain": [
              "                    title        category\n",
              "517              ABOUT US  STATIC_CONTENT\n",
              "628  Innovate and Inspire  STATIC_CONTENT"
            ],
            "text/html": [
              "\n",
              "  <div id=\"df-32656ed0-16ff-4eab-b6a8-304f4dca174b\">\n",
              "    <div class=\"colab-df-container\">\n",
              "      <div>\n",
              "<style scoped>\n",
              "    .dataframe tbody tr th:only-of-type {\n",
              "        vertical-align: middle;\n",
              "    }\n",
              "\n",
              "    .dataframe tbody tr th {\n",
              "        vertical-align: top;\n",
              "    }\n",
              "\n",
              "    .dataframe thead th {\n",
              "        text-align: right;\n",
              "    }\n",
              "</style>\n",
              "<table border=\"1\" class=\"dataframe\">\n",
              "  <thead>\n",
              "    <tr style=\"text-align: right;\">\n",
              "      <th></th>\n",
              "      <th>title</th>\n",
              "      <th>category</th>\n",
              "    </tr>\n",
              "  </thead>\n",
              "  <tbody>\n",
              "    <tr>\n",
              "      <th>517</th>\n",
              "      <td>ABOUT US</td>\n",
              "      <td>STATIC_CONTENT</td>\n",
              "    </tr>\n",
              "    <tr>\n",
              "      <th>628</th>\n",
              "      <td>Innovate and Inspire</td>\n",
              "      <td>STATIC_CONTENT</td>\n",
              "    </tr>\n",
              "  </tbody>\n",
              "</table>\n",
              "</div>\n",
              "      <button class=\"colab-df-convert\" onclick=\"convertToInteractive('df-32656ed0-16ff-4eab-b6a8-304f4dca174b')\"\n",
              "              title=\"Convert this dataframe to an interactive table.\"\n",
              "              style=\"display:none;\">\n",
              "        \n",
              "  <svg xmlns=\"http://www.w3.org/2000/svg\" height=\"24px\"viewBox=\"0 0 24 24\"\n",
              "       width=\"24px\">\n",
              "    <path d=\"M0 0h24v24H0V0z\" fill=\"none\"/>\n",
              "    <path d=\"M18.56 5.44l.94 2.06.94-2.06 2.06-.94-2.06-.94-.94-2.06-.94 2.06-2.06.94zm-11 1L8.5 8.5l.94-2.06 2.06-.94-2.06-.94L8.5 2.5l-.94 2.06-2.06.94zm10 10l.94 2.06.94-2.06 2.06-.94-2.06-.94-.94-2.06-.94 2.06-2.06.94z\"/><path d=\"M17.41 7.96l-1.37-1.37c-.4-.4-.92-.59-1.43-.59-.52 0-1.04.2-1.43.59L10.3 9.45l-7.72 7.72c-.78.78-.78 2.05 0 2.83L4 21.41c.39.39.9.59 1.41.59.51 0 1.02-.2 1.41-.59l7.78-7.78 2.81-2.81c.8-.78.8-2.07 0-2.86zM5.41 20L4 18.59l7.72-7.72 1.47 1.35L5.41 20z\"/>\n",
              "  </svg>\n",
              "      </button>\n",
              "      \n",
              "  <style>\n",
              "    .colab-df-container {\n",
              "      display:flex;\n",
              "      flex-wrap:wrap;\n",
              "      gap: 12px;\n",
              "    }\n",
              "\n",
              "    .colab-df-convert {\n",
              "      background-color: #E8F0FE;\n",
              "      border: none;\n",
              "      border-radius: 50%;\n",
              "      cursor: pointer;\n",
              "      display: none;\n",
              "      fill: #1967D2;\n",
              "      height: 32px;\n",
              "      padding: 0 0 0 0;\n",
              "      width: 32px;\n",
              "    }\n",
              "\n",
              "    .colab-df-convert:hover {\n",
              "      background-color: #E2EBFA;\n",
              "      box-shadow: 0px 1px 2px rgba(60, 64, 67, 0.3), 0px 1px 3px 1px rgba(60, 64, 67, 0.15);\n",
              "      fill: #174EA6;\n",
              "    }\n",
              "\n",
              "    [theme=dark] .colab-df-convert {\n",
              "      background-color: #3B4455;\n",
              "      fill: #D2E3FC;\n",
              "    }\n",
              "\n",
              "    [theme=dark] .colab-df-convert:hover {\n",
              "      background-color: #434B5C;\n",
              "      box-shadow: 0px 1px 3px 1px rgba(0, 0, 0, 0.15);\n",
              "      filter: drop-shadow(0px 1px 2px rgba(0, 0, 0, 0.3));\n",
              "      fill: #FFFFFF;\n",
              "    }\n",
              "  </style>\n",
              "\n",
              "      <script>\n",
              "        const buttonEl =\n",
              "          document.querySelector('#df-32656ed0-16ff-4eab-b6a8-304f4dca174b button.colab-df-convert');\n",
              "        buttonEl.style.display =\n",
              "          google.colab.kernel.accessAllowed ? 'block' : 'none';\n",
              "\n",
              "        async function convertToInteractive(key) {\n",
              "          const element = document.querySelector('#df-32656ed0-16ff-4eab-b6a8-304f4dca174b');\n",
              "          const dataTable =\n",
              "            await google.colab.kernel.invokeFunction('convertToInteractive',\n",
              "                                                     [key], {});\n",
              "          if (!dataTable) return;\n",
              "\n",
              "          const docLinkHtml = 'Like what you see? Visit the ' +\n",
              "            '<a target=\"_blank\" href=https://colab.research.google.com/notebooks/data_table.ipynb>data table notebook</a>'\n",
              "            + ' to learn more about interactive tables.';\n",
              "          element.innerHTML = '';\n",
              "          dataTable['output_type'] = 'display_data';\n",
              "          await google.colab.output.renderOutput(dataTable, element);\n",
              "          const docLink = document.createElement('div');\n",
              "          docLink.innerHTML = docLinkHtml;\n",
              "          element.appendChild(docLink);\n",
              "        }\n",
              "      </script>\n",
              "    </div>\n",
              "  </div>\n",
              "  "
            ]
          },
          "metadata": {},
          "execution_count": 13
        }
      ],
      "source": [
        "df2[df2['category']=='STATIC_CONTENT']"
      ]
    },
    {
      "cell_type": "code",
      "execution_count": 14,
      "metadata": {
        "colab": {
          "base_uri": "https://localhost:8080/",
          "height": 237
        },
        "id": "e39bILwtk7_H",
        "outputId": "0956d45d-0e1a-44a9-eaa7-ee2f118c5302"
      },
      "outputs": [
        {
          "output_type": "execute_result",
          "data": {
            "text/plain": [
              "          title category\n",
              "682       EBOOK    EBOOK\n",
              "683  EBOOK-Dup1    EBOOK\n",
              "684  EBOOK-Dup2    EBOOK\n",
              "685  EBOOK-Dup3    EBOOK\n",
              "686  EBOOK-Dup4    EBOOK\n",
              "687  EBOOK-Dup5    EBOOK"
            ],
            "text/html": [
              "\n",
              "  <div id=\"df-2f91139e-7b7c-4e70-9ec9-d752c74b3c0c\">\n",
              "    <div class=\"colab-df-container\">\n",
              "      <div>\n",
              "<style scoped>\n",
              "    .dataframe tbody tr th:only-of-type {\n",
              "        vertical-align: middle;\n",
              "    }\n",
              "\n",
              "    .dataframe tbody tr th {\n",
              "        vertical-align: top;\n",
              "    }\n",
              "\n",
              "    .dataframe thead th {\n",
              "        text-align: right;\n",
              "    }\n",
              "</style>\n",
              "<table border=\"1\" class=\"dataframe\">\n",
              "  <thead>\n",
              "    <tr style=\"text-align: right;\">\n",
              "      <th></th>\n",
              "      <th>title</th>\n",
              "      <th>category</th>\n",
              "    </tr>\n",
              "  </thead>\n",
              "  <tbody>\n",
              "    <tr>\n",
              "      <th>682</th>\n",
              "      <td>EBOOK</td>\n",
              "      <td>EBOOK</td>\n",
              "    </tr>\n",
              "    <tr>\n",
              "      <th>683</th>\n",
              "      <td>EBOOK-Dup1</td>\n",
              "      <td>EBOOK</td>\n",
              "    </tr>\n",
              "    <tr>\n",
              "      <th>684</th>\n",
              "      <td>EBOOK-Dup2</td>\n",
              "      <td>EBOOK</td>\n",
              "    </tr>\n",
              "    <tr>\n",
              "      <th>685</th>\n",
              "      <td>EBOOK-Dup3</td>\n",
              "      <td>EBOOK</td>\n",
              "    </tr>\n",
              "    <tr>\n",
              "      <th>686</th>\n",
              "      <td>EBOOK-Dup4</td>\n",
              "      <td>EBOOK</td>\n",
              "    </tr>\n",
              "    <tr>\n",
              "      <th>687</th>\n",
              "      <td>EBOOK-Dup5</td>\n",
              "      <td>EBOOK</td>\n",
              "    </tr>\n",
              "  </tbody>\n",
              "</table>\n",
              "</div>\n",
              "      <button class=\"colab-df-convert\" onclick=\"convertToInteractive('df-2f91139e-7b7c-4e70-9ec9-d752c74b3c0c')\"\n",
              "              title=\"Convert this dataframe to an interactive table.\"\n",
              "              style=\"display:none;\">\n",
              "        \n",
              "  <svg xmlns=\"http://www.w3.org/2000/svg\" height=\"24px\"viewBox=\"0 0 24 24\"\n",
              "       width=\"24px\">\n",
              "    <path d=\"M0 0h24v24H0V0z\" fill=\"none\"/>\n",
              "    <path d=\"M18.56 5.44l.94 2.06.94-2.06 2.06-.94-2.06-.94-.94-2.06-.94 2.06-2.06.94zm-11 1L8.5 8.5l.94-2.06 2.06-.94-2.06-.94L8.5 2.5l-.94 2.06-2.06.94zm10 10l.94 2.06.94-2.06 2.06-.94-2.06-.94-.94-2.06-.94 2.06-2.06.94z\"/><path d=\"M17.41 7.96l-1.37-1.37c-.4-.4-.92-.59-1.43-.59-.52 0-1.04.2-1.43.59L10.3 9.45l-7.72 7.72c-.78.78-.78 2.05 0 2.83L4 21.41c.39.39.9.59 1.41.59.51 0 1.02-.2 1.41-.59l7.78-7.78 2.81-2.81c.8-.78.8-2.07 0-2.86zM5.41 20L4 18.59l7.72-7.72 1.47 1.35L5.41 20z\"/>\n",
              "  </svg>\n",
              "      </button>\n",
              "      \n",
              "  <style>\n",
              "    .colab-df-container {\n",
              "      display:flex;\n",
              "      flex-wrap:wrap;\n",
              "      gap: 12px;\n",
              "    }\n",
              "\n",
              "    .colab-df-convert {\n",
              "      background-color: #E8F0FE;\n",
              "      border: none;\n",
              "      border-radius: 50%;\n",
              "      cursor: pointer;\n",
              "      display: none;\n",
              "      fill: #1967D2;\n",
              "      height: 32px;\n",
              "      padding: 0 0 0 0;\n",
              "      width: 32px;\n",
              "    }\n",
              "\n",
              "    .colab-df-convert:hover {\n",
              "      background-color: #E2EBFA;\n",
              "      box-shadow: 0px 1px 2px rgba(60, 64, 67, 0.3), 0px 1px 3px 1px rgba(60, 64, 67, 0.15);\n",
              "      fill: #174EA6;\n",
              "    }\n",
              "\n",
              "    [theme=dark] .colab-df-convert {\n",
              "      background-color: #3B4455;\n",
              "      fill: #D2E3FC;\n",
              "    }\n",
              "\n",
              "    [theme=dark] .colab-df-convert:hover {\n",
              "      background-color: #434B5C;\n",
              "      box-shadow: 0px 1px 3px 1px rgba(0, 0, 0, 0.15);\n",
              "      filter: drop-shadow(0px 1px 2px rgba(0, 0, 0, 0.3));\n",
              "      fill: #FFFFFF;\n",
              "    }\n",
              "  </style>\n",
              "\n",
              "      <script>\n",
              "        const buttonEl =\n",
              "          document.querySelector('#df-2f91139e-7b7c-4e70-9ec9-d752c74b3c0c button.colab-df-convert');\n",
              "        buttonEl.style.display =\n",
              "          google.colab.kernel.accessAllowed ? 'block' : 'none';\n",
              "\n",
              "        async function convertToInteractive(key) {\n",
              "          const element = document.querySelector('#df-2f91139e-7b7c-4e70-9ec9-d752c74b3c0c');\n",
              "          const dataTable =\n",
              "            await google.colab.kernel.invokeFunction('convertToInteractive',\n",
              "                                                     [key], {});\n",
              "          if (!dataTable) return;\n",
              "\n",
              "          const docLinkHtml = 'Like what you see? Visit the ' +\n",
              "            '<a target=\"_blank\" href=https://colab.research.google.com/notebooks/data_table.ipynb>data table notebook</a>'\n",
              "            + ' to learn more about interactive tables.';\n",
              "          element.innerHTML = '';\n",
              "          dataTable['output_type'] = 'display_data';\n",
              "          await google.colab.output.renderOutput(dataTable, element);\n",
              "          const docLink = document.createElement('div');\n",
              "          docLink.innerHTML = docLinkHtml;\n",
              "          element.appendChild(docLink);\n",
              "        }\n",
              "      </script>\n",
              "    </div>\n",
              "  </div>\n",
              "  "
            ]
          },
          "metadata": {},
          "execution_count": 14
        }
      ],
      "source": [
        "df2[df2['category']=='EBOOK']"
      ]
    },
    {
      "cell_type": "code",
      "execution_count": 15,
      "metadata": {
        "id": "_bfpzWJalBCL"
      },
      "outputs": [],
      "source": [
        "rows=[517,628,437]"
      ]
    },
    {
      "cell_type": "code",
      "source": [
        "df2.category.nunique()"
      ],
      "metadata": {
        "colab": {
          "base_uri": "https://localhost:8080/"
        },
        "id": "RZoXK4Nn7qC7",
        "outputId": "5dfcd6fd-a14e-4c06-de58-a202e843fbe4"
      },
      "execution_count": 16,
      "outputs": [
        {
          "output_type": "execute_result",
          "data": {
            "text/plain": [
              "19"
            ]
          },
          "metadata": {},
          "execution_count": 16
        }
      ]
    },
    {
      "cell_type": "code",
      "execution_count": 17,
      "metadata": {
        "colab": {
          "base_uri": "https://localhost:8080/"
        },
        "id": "PEs2pEgmlRDZ",
        "outputId": "d461e200-b6b9-490f-ba8b-2551a6655fb0"
      },
      "outputs": [
        {
          "output_type": "stream",
          "name": "stderr",
          "text": [
            "/usr/local/lib/python3.7/dist-packages/pandas/core/frame.py:4913: SettingWithCopyWarning: \n",
            "A value is trying to be set on a copy of a slice from a DataFrame\n",
            "\n",
            "See the caveats in the documentation: https://pandas.pydata.org/pandas-docs/stable/user_guide/indexing.html#returning-a-view-versus-a-copy\n",
            "  errors=errors,\n"
          ]
        }
      ],
      "source": [
        "df2.drop(index=rows,inplace=True)"
      ]
    },
    {
      "cell_type": "code",
      "execution_count": 18,
      "metadata": {
        "colab": {
          "base_uri": "https://localhost:8080/"
        },
        "id": "c-fSN3yIlU7G",
        "outputId": "24908fac-db63-4730-bcdd-f4d4fa198f1f"
      },
      "outputs": [
        {
          "output_type": "execute_result",
          "data": {
            "text/plain": [
              "TWEETS                      231\n",
              "COMPANY_INFORMATION         165\n",
              "STORY_OF_THE_DAY            105\n",
              "TECHNO_PICKS                 89\n",
              "INDUSTRY_UPDATE              84\n",
              "WHO_SAID_WHAT                65\n",
              "FEATURED_VIDEOS              53\n",
              "SUCCESS_STORY                33\n",
              "ALTIMETRIK_NEWS              25\n",
              "EMPLOYEE_EXPERIENCES         22\n",
              "PEOPLE_OF_ALTIMETRIK         20\n",
              "ABOUT_ALTIMETRIK             19\n",
              "CAPABILITY_CENTERS           13\n",
              "GLOBAL_RECOGNITIONS          12\n",
              "INNOVATION_AT_ALTIMETRIK     11\n",
              "TRENDING_STORY                7\n",
              "EBOOK                         6\n",
              "Name: category, dtype: int64"
            ]
          },
          "metadata": {},
          "execution_count": 18
        }
      ],
      "source": [
        "df2['category'].value_counts()"
      ]
    },
    {
      "cell_type": "code",
      "source": [
        "df2.nunique()"
      ],
      "metadata": {
        "colab": {
          "base_uri": "https://localhost:8080/"
        },
        "id": "TAtz5pl07wQx",
        "outputId": "b684d77e-2a3c-4e3e-b13b-1e93ed794584"
      },
      "execution_count": 19,
      "outputs": [
        {
          "output_type": "execute_result",
          "data": {
            "text/plain": [
              "title       781\n",
              "category     17\n",
              "dtype: int64"
            ]
          },
          "metadata": {},
          "execution_count": 19
        }
      ]
    },
    {
      "cell_type": "code",
      "source": [
        "testdata_1=pd.read_excel('sample_dex_test.xlsx')"
      ],
      "metadata": {
        "id": "bLzs6MNx4jN0"
      },
      "execution_count": 20,
      "outputs": []
    },
    {
      "cell_type": "code",
      "source": [
        "testdata_1.head()"
      ],
      "metadata": {
        "colab": {
          "base_uri": "https://localhost:8080/",
          "height": 206
        },
        "id": "S-1b-YlH4oPx",
        "outputId": "7b112e16-09da-443e-c005-1a26d5ba8249"
      },
      "execution_count": 21,
      "outputs": [
        {
          "output_type": "execute_result",
          "data": {
            "text/plain": [
              "   Unnamed: 0                                              title  \\\n",
              "0         970        4 Takeaways for the Future of Healthcare IT   \n",
              "1         971  We are thrilled to announce that Jeff was conf...   \n",
              "2         972  Cloud computing powers the worldâ€™s financial...   \n",
              "3         973                                         Test Tweet   \n",
              "4         974                       Test Tweet 2 From Srinivas H   \n",
              "\n",
              "          category  \n",
              "0  INDUSTRY_UPDATE  \n",
              "1           TWEETS  \n",
              "2     TECHNO_PICKS  \n",
              "3           TWEETS  \n",
              "4           TWEETS  "
            ],
            "text/html": [
              "\n",
              "  <div id=\"df-2fea6f7a-11fe-4939-9901-95b3125d1dbe\">\n",
              "    <div class=\"colab-df-container\">\n",
              "      <div>\n",
              "<style scoped>\n",
              "    .dataframe tbody tr th:only-of-type {\n",
              "        vertical-align: middle;\n",
              "    }\n",
              "\n",
              "    .dataframe tbody tr th {\n",
              "        vertical-align: top;\n",
              "    }\n",
              "\n",
              "    .dataframe thead th {\n",
              "        text-align: right;\n",
              "    }\n",
              "</style>\n",
              "<table border=\"1\" class=\"dataframe\">\n",
              "  <thead>\n",
              "    <tr style=\"text-align: right;\">\n",
              "      <th></th>\n",
              "      <th>Unnamed: 0</th>\n",
              "      <th>title</th>\n",
              "      <th>category</th>\n",
              "    </tr>\n",
              "  </thead>\n",
              "  <tbody>\n",
              "    <tr>\n",
              "      <th>0</th>\n",
              "      <td>970</td>\n",
              "      <td>4 Takeaways for the Future of Healthcare IT</td>\n",
              "      <td>INDUSTRY_UPDATE</td>\n",
              "    </tr>\n",
              "    <tr>\n",
              "      <th>1</th>\n",
              "      <td>971</td>\n",
              "      <td>We are thrilled to announce that Jeff was conf...</td>\n",
              "      <td>TWEETS</td>\n",
              "    </tr>\n",
              "    <tr>\n",
              "      <th>2</th>\n",
              "      <td>972</td>\n",
              "      <td>Cloud computing powers the worldâ€™s financial...</td>\n",
              "      <td>TECHNO_PICKS</td>\n",
              "    </tr>\n",
              "    <tr>\n",
              "      <th>3</th>\n",
              "      <td>973</td>\n",
              "      <td>Test Tweet</td>\n",
              "      <td>TWEETS</td>\n",
              "    </tr>\n",
              "    <tr>\n",
              "      <th>4</th>\n",
              "      <td>974</td>\n",
              "      <td>Test Tweet 2 From Srinivas H</td>\n",
              "      <td>TWEETS</td>\n",
              "    </tr>\n",
              "  </tbody>\n",
              "</table>\n",
              "</div>\n",
              "      <button class=\"colab-df-convert\" onclick=\"convertToInteractive('df-2fea6f7a-11fe-4939-9901-95b3125d1dbe')\"\n",
              "              title=\"Convert this dataframe to an interactive table.\"\n",
              "              style=\"display:none;\">\n",
              "        \n",
              "  <svg xmlns=\"http://www.w3.org/2000/svg\" height=\"24px\"viewBox=\"0 0 24 24\"\n",
              "       width=\"24px\">\n",
              "    <path d=\"M0 0h24v24H0V0z\" fill=\"none\"/>\n",
              "    <path d=\"M18.56 5.44l.94 2.06.94-2.06 2.06-.94-2.06-.94-.94-2.06-.94 2.06-2.06.94zm-11 1L8.5 8.5l.94-2.06 2.06-.94-2.06-.94L8.5 2.5l-.94 2.06-2.06.94zm10 10l.94 2.06.94-2.06 2.06-.94-2.06-.94-.94-2.06-.94 2.06-2.06.94z\"/><path d=\"M17.41 7.96l-1.37-1.37c-.4-.4-.92-.59-1.43-.59-.52 0-1.04.2-1.43.59L10.3 9.45l-7.72 7.72c-.78.78-.78 2.05 0 2.83L4 21.41c.39.39.9.59 1.41.59.51 0 1.02-.2 1.41-.59l7.78-7.78 2.81-2.81c.8-.78.8-2.07 0-2.86zM5.41 20L4 18.59l7.72-7.72 1.47 1.35L5.41 20z\"/>\n",
              "  </svg>\n",
              "      </button>\n",
              "      \n",
              "  <style>\n",
              "    .colab-df-container {\n",
              "      display:flex;\n",
              "      flex-wrap:wrap;\n",
              "      gap: 12px;\n",
              "    }\n",
              "\n",
              "    .colab-df-convert {\n",
              "      background-color: #E8F0FE;\n",
              "      border: none;\n",
              "      border-radius: 50%;\n",
              "      cursor: pointer;\n",
              "      display: none;\n",
              "      fill: #1967D2;\n",
              "      height: 32px;\n",
              "      padding: 0 0 0 0;\n",
              "      width: 32px;\n",
              "    }\n",
              "\n",
              "    .colab-df-convert:hover {\n",
              "      background-color: #E2EBFA;\n",
              "      box-shadow: 0px 1px 2px rgba(60, 64, 67, 0.3), 0px 1px 3px 1px rgba(60, 64, 67, 0.15);\n",
              "      fill: #174EA6;\n",
              "    }\n",
              "\n",
              "    [theme=dark] .colab-df-convert {\n",
              "      background-color: #3B4455;\n",
              "      fill: #D2E3FC;\n",
              "    }\n",
              "\n",
              "    [theme=dark] .colab-df-convert:hover {\n",
              "      background-color: #434B5C;\n",
              "      box-shadow: 0px 1px 3px 1px rgba(0, 0, 0, 0.15);\n",
              "      filter: drop-shadow(0px 1px 2px rgba(0, 0, 0, 0.3));\n",
              "      fill: #FFFFFF;\n",
              "    }\n",
              "  </style>\n",
              "\n",
              "      <script>\n",
              "        const buttonEl =\n",
              "          document.querySelector('#df-2fea6f7a-11fe-4939-9901-95b3125d1dbe button.colab-df-convert');\n",
              "        buttonEl.style.display =\n",
              "          google.colab.kernel.accessAllowed ? 'block' : 'none';\n",
              "\n",
              "        async function convertToInteractive(key) {\n",
              "          const element = document.querySelector('#df-2fea6f7a-11fe-4939-9901-95b3125d1dbe');\n",
              "          const dataTable =\n",
              "            await google.colab.kernel.invokeFunction('convertToInteractive',\n",
              "                                                     [key], {});\n",
              "          if (!dataTable) return;\n",
              "\n",
              "          const docLinkHtml = 'Like what you see? Visit the ' +\n",
              "            '<a target=\"_blank\" href=https://colab.research.google.com/notebooks/data_table.ipynb>data table notebook</a>'\n",
              "            + ' to learn more about interactive tables.';\n",
              "          element.innerHTML = '';\n",
              "          dataTable['output_type'] = 'display_data';\n",
              "          await google.colab.output.renderOutput(dataTable, element);\n",
              "          const docLink = document.createElement('div');\n",
              "          docLink.innerHTML = docLinkHtml;\n",
              "          element.appendChild(docLink);\n",
              "        }\n",
              "      </script>\n",
              "    </div>\n",
              "  </div>\n",
              "  "
            ]
          },
          "metadata": {},
          "execution_count": 21
        }
      ]
    },
    {
      "cell_type": "code",
      "source": [
        "testdata_1.drop('Unnamed: 0',axis=1,inplace=True)"
      ],
      "metadata": {
        "id": "cBMcEFtT8BWw"
      },
      "execution_count": 22,
      "outputs": []
    },
    {
      "cell_type": "code",
      "execution_count": 23,
      "metadata": {
        "id": "PMOPOsDNizGH"
      },
      "outputs": [],
      "source": [
        "from sklearn.model_selection import train_test_split"
      ]
    },
    {
      "cell_type": "code",
      "source": [
        "x=df2['title']\n",
        "y=df2['category']"
      ],
      "metadata": {
        "id": "AuGZNceD8L0H"
      },
      "execution_count": 24,
      "outputs": []
    },
    {
      "cell_type": "code",
      "execution_count": 25,
      "metadata": {
        "id": "SUs71R_2i1ao"
      },
      "outputs": [],
      "source": [
        "x_train,x_test,y_train,y_test=train_test_split(x,y,train_size=0.7,random_state=100)"
      ]
    },
    {
      "cell_type": "code",
      "execution_count": 26,
      "metadata": {
        "colab": {
          "base_uri": "https://localhost:8080/"
        },
        "id": "EmtUkjdii3rv",
        "outputId": "1e0c4783-7065-4ac8-9c63-7a64252d7bf5"
      },
      "outputs": [
        {
          "output_type": "stream",
          "name": "stdout",
          "text": [
            "(672,) (672,)\n"
          ]
        }
      ],
      "source": [
        "print(x_train.shape,y_train.shape)"
      ]
    },
    {
      "cell_type": "code",
      "execution_count": 27,
      "metadata": {
        "colab": {
          "base_uri": "https://localhost:8080/"
        },
        "id": "Y12Tvzu0lfuJ",
        "outputId": "623e9fa1-1aba-4655-b101-4112d85391ec"
      },
      "outputs": [
        {
          "output_type": "execute_result",
          "data": {
            "text/plain": [
              "19"
            ]
          },
          "metadata": {},
          "execution_count": 27
        }
      ],
      "source": [
        "categories=['TWEETS','COMPANY_INFORMATION','STORY_OF_THE_DAY','TECHNO_PICKS','INDUSTRY_UPDATE','WHO_SAID_WHAT','FEATURED_VIDEOS','SUCCESS_STORY','PEOPLE_OF_ALTIMETRIK',\n",
        "        'ALTIMETRIK_NEWS','EMPLOYEE_EXPERIENCES','ABOUT_ALTIMETRIK','CAPABILITY_CENTERS','GLOBAL_RECOGNITIONS','INNOVATION_AT_ALTIMETRIK','TRENDING_STORY','EBOOK',\n",
        "        'STATIC_CONTENT','DIGITAL_BUSINESS']\n",
        "len(categories)"
      ]
    },
    {
      "cell_type": "code",
      "execution_count": 29,
      "metadata": {
        "colab": {
          "base_uri": "https://localhost:8080/",
          "height": 332
        },
        "id": "2mMSoj8hlf9C",
        "outputId": "4ec0a199-2b67-4b68-c1ab-8243f8eb0d9c"
      },
      "outputs": [
        {
          "output_type": "stream",
          "name": "stderr",
          "text": [
            "/usr/local/lib/python3.7/dist-packages/ktrain/text/preprocessor.py:490: UserWarning: The class_names argument is replacing the classes argument. Please update your code.\n",
            "  \"The class_names argument is replacing the classes argument. Please update your code.\"\n"
          ]
        },
        {
          "output_type": "stream",
          "name": "stdout",
          "text": [
            "preprocessing train...\n",
            "language: en\n",
            "train sequence lengths:\n",
            "\tmean : 8\n",
            "\t95percentile : 15\n",
            "\t99percentile : 27\n"
          ]
        },
        {
          "output_type": "stream",
          "name": "stderr",
          "text": [
            "/usr/local/lib/python3.7/dist-packages/ktrain/utils.py:738: UserWarning: class_names argument was ignored, as they were extracted from string labels in dataset\n",
            "  \"class_names argument was ignored, as they were extracted from string labels in dataset\"\n"
          ]
        },
        {
          "output_type": "display_data",
          "data": {
            "text/plain": [
              "<IPython.core.display.HTML object>"
            ],
            "text/html": [
              "\n",
              "<style>\n",
              "    /* Turns off some styling */\n",
              "    progress {\n",
              "        /* gets rid of default border in Firefox and Opera. */\n",
              "        border: none;\n",
              "        /* Needs to be in here for Safari polyfill so background images work as expected. */\n",
              "        background-size: auto;\n",
              "    }\n",
              "    progress:not([value]), progress:not([value])::-webkit-progress-bar {\n",
              "        background: repeating-linear-gradient(45deg, #7e7e7e, #7e7e7e 10px, #5c5c5c 10px, #5c5c5c 20px);\n",
              "    }\n",
              "    .progress-bar-interrupted, .progress-bar-interrupted::-webkit-progress-bar {\n",
              "        background: #F44336;\n",
              "    }\n",
              "</style>\n"
            ]
          },
          "metadata": {}
        },
        {
          "output_type": "display_data",
          "data": {
            "text/plain": [
              "<IPython.core.display.HTML object>"
            ],
            "text/html": []
          },
          "metadata": {}
        },
        {
          "output_type": "stream",
          "name": "stdout",
          "text": [
            "Is Multi-Label? False\n",
            "preprocessing test...\n",
            "language: en\n",
            "test sequence lengths:\n",
            "\tmean : 8\n",
            "\t95percentile : 17\n",
            "\t99percentile : 25\n"
          ]
        },
        {
          "output_type": "display_data",
          "data": {
            "text/plain": [
              "<IPython.core.display.HTML object>"
            ],
            "text/html": [
              "\n",
              "<style>\n",
              "    /* Turns off some styling */\n",
              "    progress {\n",
              "        /* gets rid of default border in Firefox and Opera. */\n",
              "        border: none;\n",
              "        /* Needs to be in here for Safari polyfill so background images work as expected. */\n",
              "        background-size: auto;\n",
              "    }\n",
              "    progress:not([value]), progress:not([value])::-webkit-progress-bar {\n",
              "        background: repeating-linear-gradient(45deg, #7e7e7e, #7e7e7e 10px, #5c5c5c 10px, #5c5c5c 20px);\n",
              "    }\n",
              "    .progress-bar-interrupted, .progress-bar-interrupted::-webkit-progress-bar {\n",
              "        background: #F44336;\n",
              "    }\n",
              "</style>\n"
            ]
          },
          "metadata": {}
        },
        {
          "output_type": "display_data",
          "data": {
            "text/plain": [
              "<IPython.core.display.HTML object>"
            ],
            "text/html": []
          },
          "metadata": {}
        }
      ],
      "source": [
        "import ktrain\n",
        "from ktrain import text\n",
        "MODEL_NAME = 'distilbert-base-uncased'\n",
        "t = text.Transformer(MODEL_NAME, maxlen=500, classes=categories)\n",
        "trn = t.preprocess_train(list(x_train), list(y_train))\n",
        "val = t.preprocess_test(list(x_test), list(y_test))\n",
        "model = t.get_classifier()\n",
        "learner = ktrain.get_learner(model, train_data=trn, val_data=val, batch_size=10)"
      ]
    },
    {
      "cell_type": "code",
      "source": [
        "learner.lr_find(max_epochs=4) "
      ],
      "metadata": {
        "id": "MbFqrHPET22g",
        "outputId": "e96cf79c-e511-4975-8367-616a9375db83",
        "colab": {
          "base_uri": "https://localhost:8080/"
        }
      },
      "execution_count": 36,
      "outputs": [
        {
          "output_type": "stream",
          "name": "stdout",
          "text": [
            "simulating training for different learning rates... this may take a few moments...\n",
            "Epoch 1/4\n",
            "67/67 [==============================] - 46s 550ms/step - loss: 2.8366 - accuracy: 0.0254\n",
            "Epoch 2/4\n",
            "67/67 [==============================] - 36s 550ms/step - loss: 2.3592 - accuracy: 0.3097\n",
            "Epoch 3/4\n",
            "67/67 [==============================] - 36s 539ms/step - loss: 5.8415 - accuracy: 0.1586\n",
            "Epoch 4/4\n",
            "67/67 [==============================] - 4s 45ms/step - loss: 267.5154 - accuracy: 0.0968\n",
            "\n",
            "\n",
            "done.\n",
            "Please invoke the Learner.lr_plot() method to visually inspect the loss plot to help identify the maximal learning rate associated with falling loss.\n"
          ]
        }
      ]
    },
    {
      "cell_type": "code",
      "source": [
        "learner.lr_plot()"
      ],
      "metadata": {
        "id": "ORrD4LUKT28n",
        "outputId": "2b98bcce-a9e8-4c0e-e503-1629a793cea3",
        "colab": {
          "base_uri": "https://localhost:8080/",
          "height": 283
        }
      },
      "execution_count": 37,
      "outputs": [
        {
          "output_type": "display_data",
          "data": {
            "text/plain": [
              "<Figure size 432x288 with 1 Axes>"
            ],
            "image/png": "[encoded data removed]"
          },
          "metadata": {
            "needs_background": "light"
          }
        }
      ]
    },
    {
      "cell_type": "code",
      "execution_count": 38,
      "metadata": {
        "colab": {
          "base_uri": "https://localhost:8080/"
        },
        "id": "MH9kNjUFliXd",
        "outputId": "96ef7f56-90c8-44fb-c231-a6540f0bbb00"
      },
      "outputs": [
        {
          "output_type": "stream",
          "name": "stdout",
          "text": [
            "\n",
            "\n",
            "begin training using onecycle policy with max lr of 3e-05...\n",
            "Epoch 1/10\n",
            "68/68 [==============================] - 49s 578ms/step - loss: 2.7652 - accuracy: 0.1622 - val_loss: 2.6051 - val_accuracy: 0.2743\n",
            "Epoch 2/10\n",
            "68/68 [==============================] - 38s 551ms/step - loss: 2.4185 - accuracy: 0.2723 - val_loss: 2.2445 - val_accuracy: 0.3194\n",
            "Epoch 3/10\n",
            "68/68 [==============================] - 37s 549ms/step - loss: 2.0367 - accuracy: 0.4167 - val_loss: 1.8591 - val_accuracy: 0.4340\n",
            "Epoch 4/10\n",
            "68/68 [==============================] - 38s 551ms/step - loss: 1.6523 - accuracy: 0.5268 - val_loss: 1.6271 - val_accuracy: 0.5451\n",
            "Epoch 5/10\n",
            "68/68 [==============================] - 38s 551ms/step - loss: 1.2964 - accuracy: 0.6354 - val_loss: 1.4910 - val_accuracy: 0.5799\n",
            "Epoch 6/10\n",
            "68/68 [==============================] - 38s 551ms/step - loss: 0.9933 - accuracy: 0.7232 - val_loss: 1.5360 - val_accuracy: 0.5382\n",
            "Epoch 7/10\n",
            "68/68 [==============================] - 38s 551ms/step - loss: 0.7637 - accuracy: 0.7932 - val_loss: 1.6051 - val_accuracy: 0.5382\n",
            "Epoch 8/10\n",
            "68/68 [==============================] - 38s 551ms/step - loss: 0.6297 - accuracy: 0.8289 - val_loss: 1.5582 - val_accuracy: 0.5556\n",
            "Epoch 9/10\n",
            "68/68 [==============================] - 38s 550ms/step - loss: 0.5217 - accuracy: 0.8393 - val_loss: 1.5989 - val_accuracy: 0.5521\n",
            "Epoch 10/10\n",
            "68/68 [==============================] - 38s 550ms/step - loss: 0.4807 - accuracy: 0.8557 - val_loss: 1.6318 - val_accuracy: 0.5278\n"
          ]
        },
        {
          "output_type": "execute_result",
          "data": {
            "text/plain": [
              "<keras.callbacks.History at 0x7f8b69210750>"
            ]
          },
          "metadata": {},
          "execution_count": 38
        }
      ],
      "source": [
        "learner.fit_onecycle(3e-5, 10)"
      ]
    },
    {
      "cell_type": "markdown",
      "metadata": {
        "id": "NrGjCW7mncdL"
      },
      "source": [
        "Evaluate and Inspect the Model"
      ]
    },
    {
      "cell_type": "code",
      "execution_count": 39,
      "metadata": {
        "colab": {
          "base_uri": "https://localhost:8080/"
        },
        "id": "pCvMnMAQpCzy",
        "outputId": "1f67872d-7577-415e-ef89-e2ef45a0c924"
      },
      "outputs": [
        {
          "output_type": "stream",
          "name": "stdout",
          "text": [
            "9/9 [==============================] - 2s 81ms/step\n",
            "                          precision    recall  f1-score   support\n",
            "\n",
            "        ABOUT_ALTIMETRIK       0.33      0.17      0.22         6\n",
            "         ALTIMETRIK_NEWS       0.25      0.12      0.17         8\n",
            "      CAPABILITY_CENTERS       1.00      0.67      0.80         3\n",
            "     COMPANY_INFORMATION       0.42      0.36      0.39        55\n",
            "                   EBOOK       1.00      1.00      1.00         1\n",
            "    EMPLOYEE_EXPERIENCES       0.00      0.00      0.00         4\n",
            "         FEATURED_VIDEOS       0.47      0.44      0.45        16\n",
            "     GLOBAL_RECOGNITIONS       1.00      0.67      0.80         3\n",
            "         INDUSTRY_UPDATE       0.83      0.66      0.73        29\n",
            "INNOVATION_AT_ALTIMETRIK       0.00      0.00      0.00         5\n",
            "    PEOPLE_OF_ALTIMETRIK       0.80      0.50      0.62         8\n",
            "        STORY_OF_THE_DAY       0.10      0.17      0.12        30\n",
            "           SUCCESS_STORY       0.67      0.83      0.74        12\n",
            "            TECHNO_PICKS       0.50      0.67      0.57        21\n",
            "          TRENDING_STORY       0.00      0.00      0.00         3\n",
            "                  TWEETS       0.85      0.84      0.85        69\n",
            "           WHO_SAID_WHAT       0.35      0.53      0.42        15\n",
            "\n",
            "                accuracy                           0.53       288\n",
            "               macro avg       0.50      0.45      0.46       288\n",
            "            weighted avg       0.55      0.53      0.53       288\n",
            "\n"
          ]
        },
        {
          "output_type": "stream",
          "name": "stderr",
          "text": [
            "/usr/local/lib/python3.7/dist-packages/sklearn/metrics/_classification.py:1318: UndefinedMetricWarning: Precision and F-score are ill-defined and being set to 0.0 in labels with no predicted samples. Use `zero_division` parameter to control this behavior.\n",
            "  _warn_prf(average, modifier, msg_start, len(result))\n",
            "/usr/local/lib/python3.7/dist-packages/sklearn/metrics/_classification.py:1318: UndefinedMetricWarning: Precision and F-score are ill-defined and being set to 0.0 in labels with no predicted samples. Use `zero_division` parameter to control this behavior.\n",
            "  _warn_prf(average, modifier, msg_start, len(result))\n",
            "/usr/local/lib/python3.7/dist-packages/sklearn/metrics/_classification.py:1318: UndefinedMetricWarning: Precision and F-score are ill-defined and being set to 0.0 in labels with no predicted samples. Use `zero_division` parameter to control this behavior.\n",
            "  _warn_prf(average, modifier, msg_start, len(result))\n"
          ]
        },
        {
          "output_type": "execute_result",
          "data": {
            "text/plain": [
              "array([[ 1,  0,  0,  1,  0,  0,  0,  0,  0,  0,  0,  3,  0,  0,  0,  1,\n",
              "         0],\n",
              "       [ 0,  1,  0,  2,  0,  0,  0,  0,  0,  0,  1,  2,  0,  0,  0,  0,\n",
              "         2],\n",
              "       [ 0,  0,  2,  0,  0,  0,  0,  0,  0,  0,  0,  0,  0,  1,  0,  0,\n",
              "         0],\n",
              "       [ 0,  1,  0, 20,  0,  0,  2,  0,  0,  0,  0, 24,  1,  0,  0,  4,\n",
              "         3],\n",
              "       [ 0,  0,  0,  0,  1,  0,  0,  0,  0,  0,  0,  0,  0,  0,  0,  0,\n",
              "         0],\n",
              "       [ 0,  0,  0,  0,  0,  0,  3,  0,  0,  0,  0,  1,  0,  0,  0,  0,\n",
              "         0],\n",
              "       [ 2,  0,  0,  3,  0,  0,  7,  0,  0,  0,  0,  4,  0,  0,  0,  0,\n",
              "         0],\n",
              "       [ 0,  1,  0,  0,  0,  0,  0,  2,  0,  0,  0,  0,  0,  0,  0,  0,\n",
              "         0],\n",
              "       [ 0,  0,  0,  0,  0,  0,  0,  0, 19,  0,  0,  2,  0,  7,  0,  1,\n",
              "         0],\n",
              "       [ 0,  0,  0,  1,  0,  0,  1,  0,  1,  0,  0,  0,  0,  1,  0,  1,\n",
              "         0],\n",
              "       [ 0,  0,  0,  4,  0,  0,  0,  0,  0,  0,  4,  0,  0,  0,  0,  0,\n",
              "         0],\n",
              "       [ 0,  0,  0, 10,  0,  0,  2,  0,  0,  0,  0,  5,  2,  3,  0,  1,\n",
              "         7],\n",
              "       [ 0,  0,  0,  1,  0,  0,  0,  0,  0,  0,  0,  0, 10,  1,  0,  0,\n",
              "         0],\n",
              "       [ 0,  0,  0,  0,  0,  0,  0,  0,  3,  0,  0,  1,  1, 14,  0,  2,\n",
              "         0],\n",
              "       [ 0,  1,  0,  0,  0,  0,  0,  0,  0,  0,  0,  0,  0,  0,  0,  0,\n",
              "         2],\n",
              "       [ 0,  0,  0,  5,  0,  0,  0,  0,  0,  0,  0,  3,  1,  1,  0, 58,\n",
              "         1],\n",
              "       [ 0,  0,  0,  1,  0,  0,  0,  0,  0,  0,  0,  6,  0,  0,  0,  0,\n",
              "         8]])"
            ]
          },
          "metadata": {},
          "execution_count": 39
        }
      ],
      "source": [
        "learner.validate(class_names=t.get_classes())"
      ]
    },
    {
      "cell_type": "code",
      "execution_count": 40,
      "metadata": {
        "colab": {
          "base_uri": "https://localhost:8080/"
        },
        "id": "rmvob5eepC2L",
        "outputId": "c5cbb989-ef93-48f8-dc11-a199f50432c8"
      },
      "outputs": [
        {
          "output_type": "stream",
          "name": "stdout",
          "text": [
            "9/9 [==============================] - 1s 78ms/step\n",
            "----------\n",
            "id:214 | loss:7.74 | true:INNOVATION_AT_ALTIMETRIK | pred:TWEETS)\n",
            "\n"
          ]
        }
      ],
      "source": [
        "learner.view_top_losses(n=1, preproc=t)"
      ]
    },
    {
      "cell_type": "code",
      "execution_count": 41,
      "metadata": {
        "id": "4Bf8Kc6HpC8X"
      },
      "outputs": [],
      "source": [
        "predictor = ktrain.get_predictor(learner.model, preproc=t)"
      ]
    },
    {
      "cell_type": "code",
      "execution_count": 42,
      "metadata": {
        "colab": {
          "base_uri": "https://localhost:8080/",
          "height": 53
        },
        "id": "B7WjuTcqpnUV",
        "outputId": "b6a9a9ad-bb7b-4ced-c814-d0ddb9cbd5be"
      },
      "outputs": [
        {
          "output_type": "stream",
          "name": "stdout",
          "text": [
            "1/1 [==============================] - 0s 110ms/step\n"
          ]
        },
        {
          "output_type": "execute_result",
          "data": {
            "text/plain": [
              "'COMPANY_INFORMATION'"
            ],
            "application/vnd.google.colaboratory.intrinsic+json": {
              "type": "string"
            }
          },
          "metadata": {},
          "execution_count": 42
        }
      ],
      "source": [
        "predictor.predict('Predict our GPTW 2022 Ranking !!!')"
      ]
    },
    {
      "cell_type": "code",
      "execution_count": 43,
      "metadata": {
        "colab": {
          "base_uri": "https://localhost:8080/",
          "height": 53
        },
        "id": "fd4m9rtlppzu",
        "outputId": "831142a1-5f73-4388-f4a7-518ba2b0a842"
      },
      "outputs": [
        {
          "output_type": "stream",
          "name": "stdout",
          "text": [
            "1/1 [==============================] - 0s 89ms/step\n"
          ]
        },
        {
          "output_type": "execute_result",
          "data": {
            "text/plain": [
              "'STORY_OF_THE_DAY'"
            ],
            "application/vnd.google.colaboratory.intrinsic+json": {
              "type": "string"
            }
          },
          "metadata": {},
          "execution_count": 43
        }
      ],
      "source": [
        "predictor.predict('Tech Live Session | Cloud custodian: Rules Engine for Managing Pubic Cloud Accounts and Resources')"
      ]
    },
    {
      "cell_type": "code",
      "execution_count": 58,
      "metadata": {
        "colab": {
          "base_uri": "https://localhost:8080/"
        },
        "id": "NUL2ee-cprs7",
        "outputId": "50812b85-ff80-4765-c0ea-d4fc1e68bc52"
      },
      "outputs": [
        {
          "output_type": "stream",
          "name": "stdout",
          "text": [
            "1/1 [==============================] - 0s 85ms/step\n",
            "COMPANY_INFORMATION\n",
            "1/1 [==============================] - 0s 83ms/step\n",
            "[5.1571932e-03 6.2777521e-03 1.4163555e-03 8.6260593e-01 1.2399126e-03\n",
            " 8.7917474e-04 3.0460758e-03 1.1137185e-03 1.5819117e-03 1.0824919e-03\n",
            " 8.1342133e-04 9.1205396e-02 2.7740151e-03 9.8201644e-04 1.2193497e-03\n",
            " 1.2646059e-02 5.9592132e-03]\n"
          ]
        },
        {
          "output_type": "execute_result",
          "data": {
            "text/plain": [
              "['TWEETS',\n",
              " 'COMPANY_INFORMATION',\n",
              " 'STORY_OF_THE_DAY',\n",
              " 'TECHNO_PICKS',\n",
              " 'INDUSTRY_UPDATE',\n",
              " 'WHO_SAID_WHAT',\n",
              " 'FEATURED_VIDEOS',\n",
              " 'SUCCESS_STORY',\n",
              " 'PEOPLE_OF_ALTIMETRIK',\n",
              " 'ALTIMETRIK_NEWS',\n",
              " 'EMPLOYEE_EXPERIENCES',\n",
              " 'ABOUT_ALTIMETRIK',\n",
              " 'CAPABILITY_CENTERS',\n",
              " 'GLOBAL_RECOGNITIONS',\n",
              " 'INNOVATION_AT_ALTIMETRIK',\n",
              " 'TRENDING_STORY',\n",
              " 'EBOOK',\n",
              " 'STATIC_CONTENT',\n",
              " 'DIGITAL_BUSINESS']"
            ]
          },
          "metadata": {},
          "execution_count": 58
        }
      ],
      "source": [
        "print(predictor.predict('Predict our GPTW 2022 Ranking !!!'))\n",
        "print(predictor.predict_proba('Predict our GPTW 2022 Ranking !!!'))\n",
        "categories"
      ]
    },
    {
      "cell_type": "code",
      "execution_count": 59,
      "metadata": {
        "colab": {
          "base_uri": "https://localhost:8080/",
          "height": 990
        },
        "id": "I6oF24lRtH6x",
        "outputId": "f11c4cf2-4014-4971-8ed6-e594ec613651"
      },
      "outputs": [
        {
          "output_type": "execute_result",
          "data": {
            "text/plain": [
              "                                                title             category\n",
              "0         4 Takeaways for the Future of Healthcare IT      INDUSTRY_UPDATE\n",
              "1   We are thrilled to announce that Jeff was conf...               TWEETS\n",
              "2   Cloud computing powers the worldâ€™s financial...         TECHNO_PICKS\n",
              "3                                          Test Tweet               TWEETS\n",
              "4                        Test Tweet 2 From Srinivas H               TWEETS\n",
              "5                             Test Tweet From Android               TWEETS\n",
              "6         Milestone | LinkedIn Followers Surpass 100k  COMPANY_INFORMATION\n",
              "7                                             tweet 1               TWEETS\n",
              "8                                Tweet from Sprinters               TWEETS\n",
              "9                        Tweet for vibes channel test               TWEETS\n",
              "10                                  Sprinters Tweet 2               TWEETS\n",
              "11                                 Sprinters Tweet 3                TWEETS\n",
              "12                                  Tweet 4 Sprinters               TWEETS\n",
              "13                                 tweet 5 Sprinters                TWEETS\n",
              "14                                  Tweet 6 Sprinters               TWEETS\n",
              "15         Exclusive session on Agile Ways of Working  COMPANY_INFORMATION\n",
              "16                               Innovate and Inspire       STATIC_CONTENT\n",
              "17                               Innovate and Inspire       STATIC_CONTENT\n",
              "18     Collider is back with the OWASP top 10 Part II               TWEETS\n",
              "19  Keys to Secure Code Pt II: Reducing Risk for S...  COMPANY_INFORMATION\n",
              "20      Long Service Awards - 5 Years - Suraj Bhojkar  COMPANY_INFORMATION\n",
              "21  Inauguration of Chennai Office by Raj S | May ...  COMPANY_INFORMATION\n",
              "22  Come and be part of the Chennai office Inaugur...               TWEETS\n",
              "23        Milestone | LinkedIn Followers Surpass 100k      ALTIMETRIK_NEWS\n",
              "24                    Take a Break for Mental Health!               TWEETS\n",
              "25     Employee Referral Virtual Drive - 14 May, 2022  COMPANY_INFORMATION\n",
              "26   The Future Trends In Mobility And Transportation      INDUSTRY_UPDATE\n",
              "27       The Keys to Pricing Power as Recession Looms      INDUSTRY_UPDATE\n",
              "28  Intelligence and unified data governance in th...         TECHNO_PICKS\n",
              "29  Creating a defined data centric space with AI ...         TECHNO_PICKS"
            ],
            "text/html": [
              "\n",
              "  <div id=\"df-051ec188-a7c3-4a63-a5d6-f341f413106b\">\n",
              "    <div class=\"colab-df-container\">\n",
              "      <div>\n",
              "<style scoped>\n",
              "    .dataframe tbody tr th:only-of-type {\n",
              "        vertical-align: middle;\n",
              "    }\n",
              "\n",
              "    .dataframe tbody tr th {\n",
              "        vertical-align: top;\n",
              "    }\n",
              "\n",
              "    .dataframe thead th {\n",
              "        text-align: right;\n",
              "    }\n",
              "</style>\n",
              "<table border=\"1\" class=\"dataframe\">\n",
              "  <thead>\n",
              "    <tr style=\"text-align: right;\">\n",
              "      <th></th>\n",
              "      <th>title</th>\n",
              "      <th>category</th>\n",
              "    </tr>\n",
              "  </thead>\n",
              "  <tbody>\n",
              "    <tr>\n",
              "      <th>0</th>\n",
              "      <td>4 Takeaways for the Future of Healthcare IT</td>\n",
              "      <td>INDUSTRY_UPDATE</td>\n",
              "    </tr>\n",
              "    <tr>\n",
              "      <th>1</th>\n",
              "      <td>We are thrilled to announce that Jeff was conf...</td>\n",
              "      <td>TWEETS</td>\n",
              "    </tr>\n",
              "    <tr>\n",
              "      <th>2</th>\n",
              "      <td>Cloud computing powers the worldâ€™s financial...</td>\n",
              "      <td>TECHNO_PICKS</td>\n",
              "    </tr>\n",
              "    <tr>\n",
              "      <th>3</th>\n",
              "      <td>Test Tweet</td>\n",
              "      <td>TWEETS</td>\n",
              "    </tr>\n",
              "    <tr>\n",
              "      <th>4</th>\n",
              "      <td>Test Tweet 2 From Srinivas H</td>\n",
              "      <td>TWEETS</td>\n",
              "    </tr>\n",
              "    <tr>\n",
              "      <th>5</th>\n",
              "      <td>Test Tweet From Android</td>\n",
              "      <td>TWEETS</td>\n",
              "    </tr>\n",
              "    <tr>\n",
              "      <th>6</th>\n",
              "      <td>Milestone | LinkedIn Followers Surpass 100k</td>\n",
              "      <td>COMPANY_INFORMATION</td>\n",
              "    </tr>\n",
              "    <tr>\n",
              "      <th>7</th>\n",
              "      <td>tweet 1</td>\n",
              "      <td>TWEETS</td>\n",
              "    </tr>\n",
              "    <tr>\n",
              "      <th>8</th>\n",
              "      <td>Tweet from Sprinters</td>\n",
              "      <td>TWEETS</td>\n",
              "    </tr>\n",
              "    <tr>\n",
              "      <th>9</th>\n",
              "      <td>Tweet for vibes channel test</td>\n",
              "      <td>TWEETS</td>\n",
              "    </tr>\n",
              "    <tr>\n",
              "      <th>10</th>\n",
              "      <td>Sprinters Tweet 2</td>\n",
              "      <td>TWEETS</td>\n",
              "    </tr>\n",
              "    <tr>\n",
              "      <th>11</th>\n",
              "      <td>Sprinters Tweet 3</td>\n",
              "      <td>TWEETS</td>\n",
              "    </tr>\n",
              "    <tr>\n",
              "      <th>12</th>\n",
              "      <td>Tweet 4 Sprinters</td>\n",
              "      <td>TWEETS</td>\n",
              "    </tr>\n",
              "    <tr>\n",
              "      <th>13</th>\n",
              "      <td>tweet 5 Sprinters</td>\n",
              "      <td>TWEETS</td>\n",
              "    </tr>\n",
              "    <tr>\n",
              "      <th>14</th>\n",
              "      <td>Tweet 6 Sprinters</td>\n",
              "      <td>TWEETS</td>\n",
              "    </tr>\n",
              "    <tr>\n",
              "      <th>15</th>\n",
              "      <td>Exclusive session on Agile Ways of Working</td>\n",
              "      <td>COMPANY_INFORMATION</td>\n",
              "    </tr>\n",
              "    <tr>\n",
              "      <th>16</th>\n",
              "      <td>Innovate and Inspire</td>\n",
              "      <td>STATIC_CONTENT</td>\n",
              "    </tr>\n",
              "    <tr>\n",
              "      <th>17</th>\n",
              "      <td>Innovate and Inspire</td>\n",
              "      <td>STATIC_CONTENT</td>\n",
              "    </tr>\n",
              "    <tr>\n",
              "      <th>18</th>\n",
              "      <td>Collider is back with the OWASP top 10 Part II</td>\n",
              "      <td>TWEETS</td>\n",
              "    </tr>\n",
              "    <tr>\n",
              "      <th>19</th>\n",
              "      <td>Keys to Secure Code Pt II: Reducing Risk for S...</td>\n",
              "      <td>COMPANY_INFORMATION</td>\n",
              "    </tr>\n",
              "    <tr>\n",
              "      <th>20</th>\n",
              "      <td>Long Service Awards - 5 Years - Suraj Bhojkar</td>\n",
              "      <td>COMPANY_INFORMATION</td>\n",
              "    </tr>\n",
              "    <tr>\n",
              "      <th>21</th>\n",
              "      <td>Inauguration of Chennai Office by Raj S | May ...</td>\n",
              "      <td>COMPANY_INFORMATION</td>\n",
              "    </tr>\n",
              "    <tr>\n",
              "      <th>22</th>\n",
              "      <td>Come and be part of the Chennai office Inaugur...</td>\n",
              "      <td>TWEETS</td>\n",
              "    </tr>\n",
              "    <tr>\n",
              "      <th>23</th>\n",
              "      <td>Milestone | LinkedIn Followers Surpass 100k</td>\n",
              "      <td>ALTIMETRIK_NEWS</td>\n",
              "    </tr>\n",
              "    <tr>\n",
              "      <th>24</th>\n",
              "      <td>Take a Break for Mental Health!</td>\n",
              "      <td>TWEETS</td>\n",
              "    </tr>\n",
              "    <tr>\n",
              "      <th>25</th>\n",
              "      <td>Employee Referral Virtual Drive - 14 May, 2022</td>\n",
              "      <td>COMPANY_INFORMATION</td>\n",
              "    </tr>\n",
              "    <tr>\n",
              "      <th>26</th>\n",
              "      <td>The Future Trends In Mobility And Transportation</td>\n",
              "      <td>INDUSTRY_UPDATE</td>\n",
              "    </tr>\n",
              "    <tr>\n",
              "      <th>27</th>\n",
              "      <td>The Keys to Pricing Power as Recession Looms</td>\n",
              "      <td>INDUSTRY_UPDATE</td>\n",
              "    </tr>\n",
              "    <tr>\n",
              "      <th>28</th>\n",
              "      <td>Intelligence and unified data governance in th...</td>\n",
              "      <td>TECHNO_PICKS</td>\n",
              "    </tr>\n",
              "    <tr>\n",
              "      <th>29</th>\n",
              "      <td>Creating a defined data centric space with AI ...</td>\n",
              "      <td>TECHNO_PICKS</td>\n",
              "    </tr>\n",
              "  </tbody>\n",
              "</table>\n",
              "</div>\n",
              "      <button class=\"colab-df-convert\" onclick=\"convertToInteractive('df-051ec188-a7c3-4a63-a5d6-f341f413106b')\"\n",
              "              title=\"Convert this dataframe to an interactive table.\"\n",
              "              style=\"display:none;\">\n",
              "        \n",
              "  <svg xmlns=\"http://www.w3.org/2000/svg\" height=\"24px\"viewBox=\"0 0 24 24\"\n",
              "       width=\"24px\">\n",
              "    <path d=\"M0 0h24v24H0V0z\" fill=\"none\"/>\n",
              "    <path d=\"M18.56 5.44l.94 2.06.94-2.06 2.06-.94-2.06-.94-.94-2.06-.94 2.06-2.06.94zm-11 1L8.5 8.5l.94-2.06 2.06-.94-2.06-.94L8.5 2.5l-.94 2.06-2.06.94zm10 10l.94 2.06.94-2.06 2.06-.94-2.06-.94-.94-2.06-.94 2.06-2.06.94z\"/><path d=\"M17.41 7.96l-1.37-1.37c-.4-.4-.92-.59-1.43-.59-.52 0-1.04.2-1.43.59L10.3 9.45l-7.72 7.72c-.78.78-.78 2.05 0 2.83L4 21.41c.39.39.9.59 1.41.59.51 0 1.02-.2 1.41-.59l7.78-7.78 2.81-2.81c.8-.78.8-2.07 0-2.86zM5.41 20L4 18.59l7.72-7.72 1.47 1.35L5.41 20z\"/>\n",
              "  </svg>\n",
              "      </button>\n",
              "      \n",
              "  <style>\n",
              "    .colab-df-container {\n",
              "      display:flex;\n",
              "      flex-wrap:wrap;\n",
              "      gap: 12px;\n",
              "    }\n",
              "\n",
              "    .colab-df-convert {\n",
              "      background-color: #E8F0FE;\n",
              "      border: none;\n",
              "      border-radius: 50%;\n",
              "      cursor: pointer;\n",
              "      display: none;\n",
              "      fill: #1967D2;\n",
              "      height: 32px;\n",
              "      padding: 0 0 0 0;\n",
              "      width: 32px;\n",
              "    }\n",
              "\n",
              "    .colab-df-convert:hover {\n",
              "      background-color: #E2EBFA;\n",
              "      box-shadow: 0px 1px 2px rgba(60, 64, 67, 0.3), 0px 1px 3px 1px rgba(60, 64, 67, 0.15);\n",
              "      fill: #174EA6;\n",
              "    }\n",
              "\n",
              "    [theme=dark] .colab-df-convert {\n",
              "      background-color: #3B4455;\n",
              "      fill: #D2E3FC;\n",
              "    }\n",
              "\n",
              "    [theme=dark] .colab-df-convert:hover {\n",
              "      background-color: #434B5C;\n",
              "      box-shadow: 0px 1px 3px 1px rgba(0, 0, 0, 0.15);\n",
              "      filter: drop-shadow(0px 1px 2px rgba(0, 0, 0, 0.3));\n",
              "      fill: #FFFFFF;\n",
              "    }\n",
              "  </style>\n",
              "\n",
              "      <script>\n",
              "        const buttonEl =\n",
              "          document.querySelector('#df-051ec188-a7c3-4a63-a5d6-f341f413106b button.colab-df-convert');\n",
              "        buttonEl.style.display =\n",
              "          google.colab.kernel.accessAllowed ? 'block' : 'none';\n",
              "\n",
              "        async function convertToInteractive(key) {\n",
              "          const element = document.querySelector('#df-051ec188-a7c3-4a63-a5d6-f341f413106b');\n",
              "          const dataTable =\n",
              "            await google.colab.kernel.invokeFunction('convertToInteractive',\n",
              "                                                     [key], {});\n",
              "          if (!dataTable) return;\n",
              "\n",
              "          const docLinkHtml = 'Like what you see? Visit the ' +\n",
              "            '<a target=\"_blank\" href=https://colab.research.google.com/notebooks/data_table.ipynb>data table notebook</a>'\n",
              "            + ' to learn more about interactive tables.';\n",
              "          element.innerHTML = '';\n",
              "          dataTable['output_type'] = 'display_data';\n",
              "          await google.colab.output.renderOutput(dataTable, element);\n",
              "          const docLink = document.createElement('div');\n",
              "          docLink.innerHTML = docLinkHtml;\n",
              "          element.appendChild(docLink);\n",
              "        }\n",
              "      </script>\n",
              "    </div>\n",
              "  </div>\n",
              "  "
            ]
          },
          "metadata": {},
          "execution_count": 59
        }
      ],
      "source": [
        "testdata_1"
      ]
    },
    {
      "cell_type": "code",
      "source": [
        "xtest=list(testdata_1['title'])"
      ],
      "metadata": {
        "id": "y9ObJOKk3KIB"
      },
      "execution_count": 60,
      "outputs": []
    },
    {
      "cell_type": "code",
      "source": [
        "ytest=list(testdata_1['category'])"
      ],
      "metadata": {
        "id": "aIe2ykW53-_0"
      },
      "execution_count": 61,
      "outputs": []
    },
    {
      "cell_type": "code",
      "source": [
        "ytest"
      ],
      "metadata": {
        "colab": {
          "base_uri": "https://localhost:8080/"
        },
        "id": "9WdGP6JH-kLB",
        "outputId": "c50ba8ae-405e-42eb-ad46-5f9f3c4e8bc6"
      },
      "execution_count": 62,
      "outputs": [
        {
          "output_type": "execute_result",
          "data": {
            "text/plain": [
              "['INDUSTRY_UPDATE',\n",
              " 'TWEETS',\n",
              " 'TECHNO_PICKS',\n",
              " 'TWEETS',\n",
              " 'TWEETS',\n",
              " 'TWEETS',\n",
              " 'COMPANY_INFORMATION',\n",
              " 'TWEETS',\n",
              " 'TWEETS',\n",
              " 'TWEETS',\n",
              " 'TWEETS',\n",
              " 'TWEETS',\n",
              " 'TWEETS',\n",
              " 'TWEETS',\n",
              " 'TWEETS',\n",
              " 'COMPANY_INFORMATION',\n",
              " 'STATIC_CONTENT',\n",
              " 'STATIC_CONTENT',\n",
              " 'TWEETS',\n",
              " 'COMPANY_INFORMATION',\n",
              " 'COMPANY_INFORMATION',\n",
              " 'COMPANY_INFORMATION',\n",
              " 'TWEETS',\n",
              " 'ALTIMETRIK_NEWS',\n",
              " 'TWEETS',\n",
              " 'COMPANY_INFORMATION',\n",
              " 'INDUSTRY_UPDATE',\n",
              " 'INDUSTRY_UPDATE',\n",
              " 'TECHNO_PICKS',\n",
              " 'TECHNO_PICKS']"
            ]
          },
          "metadata": {},
          "execution_count": 62
        }
      ]
    },
    {
      "cell_type": "code",
      "source": [
        "y_pred=predictor.predict(xtest)"
      ],
      "metadata": {
        "colab": {
          "base_uri": "https://localhost:8080/"
        },
        "id": "Ia0wZtp32itm",
        "outputId": "6c4c988f-6d4a-4e93-e452-abe5340eb98b"
      },
      "execution_count": 63,
      "outputs": [
        {
          "output_type": "stream",
          "name": "stdout",
          "text": [
            "1/1 [==============================] - 0s 143ms/step\n"
          ]
        }
      ]
    },
    {
      "cell_type": "code",
      "source": [
        "y_pred"
      ],
      "metadata": {
        "colab": {
          "base_uri": "https://localhost:8080/"
        },
        "id": "7QRcjXY92izB",
        "outputId": "b54b971f-37c0-472d-a4ee-0b62f4aacabc"
      },
      "execution_count": 64,
      "outputs": [
        {
          "output_type": "execute_result",
          "data": {
            "text/plain": [
              "['STORY_OF_THE_DAY',\n",
              " 'TWEETS',\n",
              " 'TECHNO_PICKS',\n",
              " 'TWEETS',\n",
              " 'TWEETS',\n",
              " 'TWEETS',\n",
              " 'STORY_OF_THE_DAY',\n",
              " 'TWEETS',\n",
              " 'TWEETS',\n",
              " 'TWEETS',\n",
              " 'TWEETS',\n",
              " 'TWEETS',\n",
              " 'TWEETS',\n",
              " 'TWEETS',\n",
              " 'TWEETS',\n",
              " 'COMPANY_INFORMATION',\n",
              " 'TWEETS',\n",
              " 'TWEETS',\n",
              " 'TWEETS',\n",
              " 'COMPANY_INFORMATION',\n",
              " 'COMPANY_INFORMATION',\n",
              " 'STORY_OF_THE_DAY',\n",
              " 'TWEETS',\n",
              " 'STORY_OF_THE_DAY',\n",
              " 'STORY_OF_THE_DAY',\n",
              " 'COMPANY_INFORMATION',\n",
              " 'TECHNO_PICKS',\n",
              " 'INDUSTRY_UPDATE',\n",
              " 'TECHNO_PICKS',\n",
              " 'TECHNO_PICKS']"
            ]
          },
          "metadata": {},
          "execution_count": 64
        }
      ]
    },
    {
      "cell_type": "code",
      "source": [
        "from sklearn.metrics import accuracy_score"
      ],
      "metadata": {
        "id": "8srf_LvQ32NV"
      },
      "execution_count": 65,
      "outputs": []
    },
    {
      "cell_type": "code",
      "source": [
        "accuracy_score(ytest,y_pred)"
      ],
      "metadata": {
        "colab": {
          "base_uri": "https://localhost:8080/"
        },
        "id": "aXEp4DsC32UO",
        "outputId": "b17b0de8-de14-48d3-c09c-2d7bbf55ba9e"
      },
      "execution_count": 66,
      "outputs": [
        {
          "output_type": "execute_result",
          "data": {
            "text/plain": [
              "0.7333333333333333"
            ]
          },
          "metadata": {},
          "execution_count": 66
        }
      ]
    },
    {
      "cell_type": "code",
      "source": [
        "predictor.predict_proba(xtest)"
      ],
      "metadata": {
        "id": "jHmk5I-Q32Y2",
        "outputId": "1ea0de8f-b89b-4140-fbe3-02d372429dda",
        "colab": {
          "base_uri": "https://localhost:8080/"
        }
      },
      "execution_count": 67,
      "outputs": [
        {
          "output_type": "stream",
          "name": "stdout",
          "text": [
            "1/1 [==============================] - 0s 141ms/step\n"
          ]
        },
        {
          "output_type": "execute_result",
          "data": {
            "text/plain": [
              "array([[1.69343371e-02, 1.34934038e-02, 4.68137069e-03, 3.04559357e-02,\n",
              "        3.14336270e-03, 2.60601891e-03, 1.74350496e-02, 4.83672181e-03,\n",
              "        1.84886828e-02, 9.67963506e-03, 3.53666279e-03, 7.85214126e-01,\n",
              "        1.54520273e-02, 5.26321819e-03, 5.35518490e-03, 5.52207697e-03,\n",
              "        5.79022244e-02],\n",
              "       [1.66505273e-03, 4.77959123e-03, 6.16706151e-04, 1.33753242e-02,\n",
              "        8.76799226e-04, 8.16514192e-04, 1.31132756e-03, 1.29680801e-03,\n",
              "        1.53851206e-03, 4.48438717e-04, 7.82252464e-04, 7.56566087e-03,\n",
              "        1.99068082e-03, 2.83296057e-03, 1.04455615e-03, 9.55975235e-01,\n",
              "        3.08355317e-03],\n",
              "       [2.10963283e-03, 6.45204773e-03, 2.45143077e-03, 3.66258528e-03,\n",
              "        1.82715361e-03, 1.18271587e-03, 5.33463852e-03, 2.12119333e-03,\n",
              "        8.46781861e-03, 1.79136998e-03, 8.83266097e-04, 1.65099483e-02,\n",
              "        1.37210460e-02, 9.03563142e-01, 1.63521862e-03, 2.51873117e-02,\n",
              "        3.09943804e-03],\n",
              "       [1.03915029e-03, 1.88355392e-03, 5.11507678e-04, 4.45134100e-03,\n",
              "        7.45167490e-04, 6.51568931e-04, 8.89696064e-04, 9.80586163e-04,\n",
              "        1.02942518e-03, 2.89214979e-04, 5.62776986e-04, 2.45450647e-03,\n",
              "        2.19276571e-03, 2.04908289e-03, 6.49406691e-04, 9.77537632e-01,\n",
              "        2.08269851e-03],\n",
              "       [9.99194686e-04, 1.83003594e-03, 4.74198314e-04, 4.35546366e-03,\n",
              "        6.94344693e-04, 6.06894144e-04, 8.35677376e-04, 8.93043645e-04,\n",
              "        9.77801858e-04, 2.78467080e-04, 5.22123242e-04, 2.64048437e-03,\n",
              "        2.14216765e-03, 1.98975857e-03, 6.20890060e-04, 9.78187561e-01,\n",
              "        1.95182313e-03],\n",
              "       [1.05667044e-03, 2.00013933e-03, 5.34138351e-04, 4.23921458e-03,\n",
              "        7.72924745e-04, 6.89386681e-04, 9.28451307e-04, 1.02433749e-03,\n",
              "        1.03745179e-03, 3.03217326e-04, 5.79294341e-04, 2.30682851e-03,\n",
              "        2.26673600e-03, 2.20646546e-03, 6.78887474e-04, 9.77290809e-01,\n",
              "        2.08505895e-03],\n",
              "       [1.19904438e-02, 7.22578960e-03, 1.90502044e-03, 2.38747731e-01,\n",
              "        2.54148454e-03, 1.05879793e-03, 5.27382083e-03, 3.28110578e-03,\n",
              "        3.48216761e-03, 2.09299801e-03, 1.34107564e-03, 5.78953326e-01,\n",
              "        6.66963775e-03, 2.46327254e-03, 2.70529697e-03, 3.43591496e-02,\n",
              "        9.59088430e-02],\n",
              "       [1.07932638e-03, 2.01216480e-03, 5.05742093e-04, 4.51964000e-03,\n",
              "        7.45644909e-04, 6.69070345e-04, 9.07208771e-04, 9.88060259e-04,\n",
              "        1.11123128e-03, 3.09082563e-04, 5.88377472e-04, 2.63161655e-03,\n",
              "        1.98819209e-03, 2.01916648e-03, 6.77438336e-04, 9.77098227e-01,\n",
              "        2.14985595e-03],\n",
              "       [1.07066357e-03, 2.02811533e-03, 4.65806166e-04, 4.25893161e-03,\n",
              "        7.23829202e-04, 6.51906768e-04, 9.06153466e-04, 9.50987393e-04,\n",
              "        1.16452435e-03, 3.00269458e-04, 5.82285458e-04, 2.89170025e-03,\n",
              "        1.90816389e-03, 2.02921126e-03, 6.75661373e-04, 9.77307439e-01,\n",
              "        2.08443520e-03],\n",
              "       [1.06799288e-03, 1.93047349e-03, 4.88448539e-04, 4.42401506e-03,\n",
              "        7.41621479e-04, 6.54247764e-04, 8.70353018e-04, 9.64059262e-04,\n",
              "        9.65432962e-04, 2.88109179e-04, 5.44574868e-04, 2.50331988e-03,\n",
              "        1.95355644e-03, 1.77170662e-03, 6.61144673e-04, 9.78105664e-01,\n",
              "        2.06534052e-03],\n",
              "       [9.71712056e-04, 1.83133397e-03, 4.06111358e-04, 5.05455444e-03,\n",
              "        6.49739988e-04, 5.58856467e-04, 7.98229943e-04, 8.28261313e-04,\n",
              "        9.38123325e-04, 2.64536269e-04, 4.83833108e-04, 2.95297499e-03,\n",
              "        1.75149634e-03, 1.91137940e-03, 5.94795507e-04, 9.77981031e-01,\n",
              "        2.02293531e-03],\n",
              "       [9.56571370e-04, 1.82707608e-03, 4.06605075e-04, 5.24652749e-03,\n",
              "        6.48594985e-04, 5.48484619e-04, 7.88091100e-04, 8.13233783e-04,\n",
              "        9.45313019e-04, 2.63002468e-04, 4.79620823e-04, 3.00187850e-03,\n",
              "        1.78222428e-03, 1.89403933e-03, 5.90029289e-04, 9.77773607e-01,\n",
              "        2.03512050e-03],\n",
              "       [1.07150152e-03, 2.07387493e-03, 4.37409908e-04, 5.22115314e-03,\n",
              "        7.29087449e-04, 6.11144991e-04, 8.26753385e-04, 9.16899473e-04,\n",
              "        1.05335435e-03, 2.91796023e-04, 5.68856893e-04, 3.57572595e-03,\n",
              "        2.18969816e-03, 1.93632627e-03, 6.83375460e-04, 9.75569189e-01,\n",
              "        2.24390416e-03],\n",
              "       [1.03184313e-03, 1.99208362e-03, 4.36561648e-04, 4.90391208e-03,\n",
              "        7.11841683e-04, 5.96284634e-04, 8.07103235e-04, 9.06149857e-04,\n",
              "        1.04230433e-03, 2.87572999e-04, 5.43203554e-04, 3.24062025e-03,\n",
              "        2.03687046e-03, 2.00193236e-03, 6.60485297e-04, 9.76651371e-01,\n",
              "        2.14991183e-03],\n",
              "       [1.02222746e-03, 1.96673977e-03, 4.33117675e-04, 4.94201900e-03,\n",
              "        7.01933401e-04, 5.92324999e-04, 8.11221020e-04, 8.89361487e-04,\n",
              "        1.03059213e-03, 2.81914341e-04, 5.39128494e-04, 3.13691515e-03,\n",
              "        2.01417482e-03, 1.99539121e-03, 6.54158415e-04, 9.76903975e-01,\n",
              "        2.08486058e-03],\n",
              "       [7.88194221e-03, 7.89206196e-03, 2.45016045e-03, 5.05811393e-01,\n",
              "        2.06372514e-03, 1.02820131e-03, 4.33296012e-03, 2.11825524e-03,\n",
              "        2.50673271e-03, 1.85192958e-03, 1.26153766e-03, 3.69652480e-01,\n",
              "        1.16716009e-02, 3.39398230e-03, 2.39217584e-03, 2.70623099e-02,\n",
              "        4.66285124e-02],\n",
              "       [8.44677631e-03, 1.52112925e-02, 4.81773680e-03, 4.68426086e-02,\n",
              "        3.81228351e-03, 3.50105297e-03, 1.07034184e-02, 4.51025600e-03,\n",
              "        8.74835998e-03, 2.79556098e-03, 1.90650427e-03, 3.34308036e-02,\n",
              "        6.01442903e-02, 5.54881580e-02, 3.50787560e-03, 7.27578044e-01,\n",
              "        8.55496712e-03],\n",
              "       [8.44677631e-03, 1.52112925e-02, 4.81773680e-03, 4.68426086e-02,\n",
              "        3.81228351e-03, 3.50105297e-03, 1.07034184e-02, 4.51025600e-03,\n",
              "        8.74835998e-03, 2.79556098e-03, 1.90650427e-03, 3.34308036e-02,\n",
              "        6.01442903e-02, 5.54881580e-02, 3.50787560e-03, 7.27578044e-01,\n",
              "        8.55496712e-03],\n",
              "       [1.21402759e-02, 8.89500882e-03, 1.81628088e-03, 1.87854424e-01,\n",
              "        2.57924572e-03, 1.69266283e-03, 5.51077770e-03, 4.15586121e-03,\n",
              "        4.64574946e-03, 1.89154712e-03, 1.64336781e-03, 3.16475689e-01,\n",
              "        1.08491611e-02, 4.79674945e-03, 3.48010450e-03, 3.82888585e-01,\n",
              "        4.86844480e-02],\n",
              "       [4.64858906e-03, 6.55554282e-03, 1.59747258e-03, 8.77999842e-01,\n",
              "        1.31355831e-03, 1.07752706e-03, 3.25640687e-03, 1.01284334e-03,\n",
              "        1.90622394e-03, 1.23367272e-03, 8.97331047e-04, 7.58738518e-02,\n",
              "        4.02764417e-03, 9.53046547e-04, 1.20180415e-03, 9.10177734e-03,\n",
              "        7.34280096e-03],\n",
              "       [4.18914855e-03, 7.44086504e-03, 1.04575010e-03, 8.83643150e-01,\n",
              "        1.06395246e-03, 8.29299155e-04, 2.58099847e-03, 9.61117970e-04,\n",
              "        1.43017399e-03, 8.06025695e-04, 8.41549714e-04, 6.21627532e-02,\n",
              "        2.67941901e-03, 8.45919771e-04, 1.08130835e-03, 2.27336884e-02,\n",
              "        5.66489901e-03],\n",
              "       [1.70436837e-02, 1.30524375e-02, 2.78800586e-03, 8.96845609e-02,\n",
              "        1.77981320e-03, 2.56274268e-03, 1.92607660e-02, 3.32370563e-03,\n",
              "        5.69031527e-03, 4.13172506e-03, 2.69437325e-03, 7.18586206e-01,\n",
              "        4.60892636e-03, 2.51424289e-03, 3.49988043e-03, 6.31429907e-03,\n",
              "        1.02464356e-01],\n",
              "       [5.84712019e-03, 1.06819123e-02, 9.94924689e-04, 7.56024718e-02,\n",
              "        1.54451968e-03, 3.94876627e-03, 8.66873935e-03, 1.95917417e-03,\n",
              "        2.00796104e-03, 8.43245245e-04, 1.69908826e-03, 2.05370337e-02,\n",
              "        3.62728396e-03, 2.24395399e-03, 1.90313195e-03, 8.50505650e-01,\n",
              "        7.38505553e-03],\n",
              "       [1.19904438e-02, 7.22578960e-03, 1.90502044e-03, 2.38747731e-01,\n",
              "        2.54148454e-03, 1.05879793e-03, 5.27382083e-03, 3.28110578e-03,\n",
              "        3.48216761e-03, 2.09299801e-03, 1.34107564e-03, 5.78953326e-01,\n",
              "        6.66963775e-03, 2.46327254e-03, 2.70529697e-03, 3.43591496e-02,\n",
              "        9.59088430e-02],\n",
              "       [3.73837166e-02, 5.29465154e-02, 4.57280874e-03, 1.97604731e-01,\n",
              "        3.62357870e-03, 1.02760233e-02, 8.43970254e-02, 4.16291878e-03,\n",
              "        1.31324185e-02, 1.02861635e-02, 5.30728372e-03, 5.14809608e-01,\n",
              "        6.10392028e-03, 3.76580050e-03, 5.93310688e-03, 1.74391177e-02,\n",
              "        2.82551926e-02],\n",
              "       [3.89508437e-03, 5.47121139e-03, 1.32568204e-03, 9.14602399e-01,\n",
              "        1.33633998e-03, 8.80861364e-04, 2.11296184e-03, 1.02517824e-03,\n",
              "        1.54662051e-03, 8.82535125e-04, 9.00038576e-04, 4.19386104e-02,\n",
              "        2.82111485e-03, 9.88100190e-04, 1.15132495e-03, 1.38535677e-02,\n",
              "        5.26842102e-03],\n",
              "       [3.82523462e-02, 4.83899899e-02, 3.62645835e-02, 1.12746926e-02,\n",
              "        1.39366267e-02, 2.05154363e-02, 1.15336336e-01, 3.86690870e-02,\n",
              "        6.82924166e-02, 5.36767356e-02, 1.69972703e-02, 1.65165842e-01,\n",
              "        6.07907176e-02, 2.22182617e-01, 1.86930932e-02, 1.68870129e-02,\n",
              "        5.46752550e-02],\n",
              "       [2.79867905e-03, 1.54731609e-02, 2.33560451e-03, 4.97081457e-03,\n",
              "        1.99509435e-03, 1.96460937e-03, 1.04140043e-02, 2.11148430e-03,\n",
              "        8.63494575e-01, 6.13621948e-03, 3.13285645e-03, 2.54422929e-02,\n",
              "        5.20420168e-03, 4.28197645e-02, 2.32812576e-03, 5.10011613e-03,\n",
              "        4.27822350e-03],\n",
              "       [1.95381977e-03, 6.16295123e-03, 3.13334074e-03, 2.19893293e-03,\n",
              "        1.60577951e-03, 1.36795477e-03, 6.66237250e-03, 1.81841990e-03,\n",
              "        8.88362899e-03, 2.44855881e-03, 1.03408622e-03, 1.07202455e-02,\n",
              "        1.11313835e-02, 9.30492222e-01, 1.47017231e-03, 6.45078486e-03,\n",
              "        2.46540806e-03],\n",
              "       [2.47232011e-03, 6.22296194e-03, 3.55902570e-03, 3.44597315e-03,\n",
              "        2.00014189e-03, 1.43316749e-03, 6.11184258e-03, 2.25308118e-03,\n",
              "        6.82157977e-03, 1.85830111e-03, 1.02443399e-03, 1.15070371e-02,\n",
              "        2.57282965e-02, 8.94695938e-01, 1.77659362e-03, 2.56756339e-02,\n",
              "        3.41371866e-03]], dtype=float32)"
            ]
          },
          "metadata": {},
          "execution_count": 67
        }
      ]
    },
    {
      "cell_type": "code",
      "source": [],
      "metadata": {
        "id": "QcuIpIfHdsBt"
      },
      "execution_count": null,
      "outputs": []
    }
  ],
  "metadata": {
    "accelerator": "GPU",
    "colab": {
      "provenance": [],
      "authorship_tag": "ABX9TyP09Z2rPnNmFDcNULTEEIb3",
      "include_colab_link": true
    },
    "kernelspec": {
      "display_name": "Python 3",
      "name": "python3"
    },
    "language_info": {
      "name": "python"
    }
  },
  "nbformat": 4,
  "nbformat_minor": 0
}