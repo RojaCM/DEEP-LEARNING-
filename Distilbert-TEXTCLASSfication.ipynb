{
  "cells": [
    {
      "cell_type": "markdown",
      "metadata": {
        "id": "view-in-github",
        "colab_type": "text"
      },
      "source": [
        "<a href=\"https://colab.research.google.com/github/RojaCM/DEEP-LEARNING-/blob/main/Distilbert-TEXTCLASSfication.ipynb\" target=\"_parent\"><img src=\"https://colab.research.google.com/assets/colab-badge.svg\" alt=\"Open In Colab\"/></a>"
      ]
    },
    {
      "cell_type": "code",
      "execution_count": 1,
      "metadata": {
        "colab": {
          "base_uri": "https://localhost:8080/"
        },
        "id": "WRAuncYEia69",
        "outputId": "c9e865a6-064c-4172-fbc5-5aa4b352bb3d"
      },
      "outputs": [
        {
          "output_type": "stream",
          "name": "stdout",
          "text": [
            "\u001b[K     |████████████████████████████████| 421.8 MB 5.7 kB/s \n",
            "\u001b[K     |████████████████████████████████| 3.8 MB 43.8 MB/s \n",
            "\u001b[K     |████████████████████████████████| 448 kB 56.3 MB/s \n",
            "\u001b[K     |████████████████████████████████| 50 kB 7.1 MB/s \n",
            "\u001b[K     |████████████████████████████████| 26.1 MB 1.4 MB/s \n",
            "\u001b[?25h  Building wheel for gast (setup.py) ... \u001b[?25l\u001b[?25hdone\n",
            "\u001b[31mERROR: pip's dependency resolver does not currently take into account all the packages that are installed. This behaviour is the source of the following dependency conflicts.\n",
            "tensorflow 2.9.2 requires tensorboard<2.10,>=2.9, but you have tensorboard 2.1.1 which is incompatible.\n",
            "tensorflow 2.9.2 requires tensorflow-estimator<2.10.0,>=2.9.0rc0, but you have tensorflow-estimator 2.1.0 which is incompatible.\n",
            "tensorflow-probability 0.16.0 requires gast>=0.3.2, but you have gast 0.2.2 which is incompatible.\n",
            "plotnine 0.8.0 requires scipy>=1.5.0, but you have scipy 1.4.1 which is incompatible.\n",
            "jaxlib 0.3.22+cuda11.cudnn805 requires scipy>=1.5, but you have scipy 1.4.1 which is incompatible.\n",
            "jax 0.3.23 requires scipy>=1.5, but you have scipy 1.4.1 which is incompatible.\u001b[0m\n"
          ]
        }
      ],
      "source": [
        "!pip3 install -q tensorflow_gpu==2.1.0"
      ]
    },
    {
      "cell_type": "code",
      "execution_count": 2,
      "metadata": {
        "colab": {
          "base_uri": "https://localhost:8080/"
        },
        "id": "Lfra9t_Vid1d",
        "outputId": "560a48a5-0c9f-4bb9-d3bb-5041d4bf9d5d"
      },
      "outputs": [
        {
          "output_type": "stream",
          "name": "stdout",
          "text": [
            "Looking in indexes: https://pypi.org/simple, https://us-python.pkg.dev/colab-wheels/public/simple/\n",
            "Requirement already satisfied: tensorflow in /usr/local/lib/python3.7/dist-packages (2.9.2)\n",
            "Requirement already satisfied: numpy>=1.20 in /usr/local/lib/python3.7/dist-packages (from tensorflow) (1.21.6)\n",
            "Requirement already satisfied: astunparse>=1.6.0 in /usr/local/lib/python3.7/dist-packages (from tensorflow) (1.6.3)\n",
            "Requirement already satisfied: packaging in /usr/local/lib/python3.7/dist-packages (from tensorflow) (21.3)\n",
            "Requirement already satisfied: gast<=0.4.0,>=0.2.1 in /usr/local/lib/python3.7/dist-packages (from tensorflow) (0.2.2)\n",
            "Requirement already satisfied: typing-extensions>=3.6.6 in /usr/local/lib/python3.7/dist-packages (from tensorflow) (4.1.1)\n",
            "Requirement already satisfied: h5py>=2.9.0 in /usr/local/lib/python3.7/dist-packages (from tensorflow) (3.1.0)\n",
            "Collecting tensorboard<2.10,>=2.9\n",
            "  Downloading tensorboard-2.9.1-py3-none-any.whl (5.8 MB)\n",
            "\u001b[K     |████████████████████████████████| 5.8 MB 4.7 MB/s \n",
            "\u001b[?25hCollecting tensorflow-estimator<2.10.0,>=2.9.0rc0\n",
            "  Downloading tensorflow_estimator-2.9.0-py2.py3-none-any.whl (438 kB)\n",
            "\u001b[K     |████████████████████████████████| 438 kB 63.6 MB/s \n",
            "\u001b[?25hRequirement already satisfied: flatbuffers<2,>=1.12 in /usr/local/lib/python3.7/dist-packages (from tensorflow) (1.12)\n",
            "Requirement already satisfied: six>=1.12.0 in /usr/local/lib/python3.7/dist-packages (from tensorflow) (1.15.0)\n",
            "Requirement already satisfied: keras-preprocessing>=1.1.1 in /usr/local/lib/python3.7/dist-packages (from tensorflow) (1.1.2)\n",
            "Requirement already satisfied: tensorflow-io-gcs-filesystem>=0.23.1 in /usr/local/lib/python3.7/dist-packages (from tensorflow) (0.27.0)\n",
            "Requirement already satisfied: opt-einsum>=2.3.2 in /usr/local/lib/python3.7/dist-packages (from tensorflow) (3.3.0)\n",
            "Requirement already satisfied: keras<2.10.0,>=2.9.0rc0 in /usr/local/lib/python3.7/dist-packages (from tensorflow) (2.9.0)\n",
            "Requirement already satisfied: grpcio<2.0,>=1.24.3 in /usr/local/lib/python3.7/dist-packages (from tensorflow) (1.50.0)\n",
            "Requirement already satisfied: libclang>=13.0.0 in /usr/local/lib/python3.7/dist-packages (from tensorflow) (14.0.6)\n",
            "Requirement already satisfied: setuptools in /usr/local/lib/python3.7/dist-packages (from tensorflow) (57.4.0)\n",
            "Requirement already satisfied: google-pasta>=0.1.1 in /usr/local/lib/python3.7/dist-packages (from tensorflow) (0.2.0)\n",
            "Requirement already satisfied: termcolor>=1.1.0 in /usr/local/lib/python3.7/dist-packages (from tensorflow) (2.0.1)\n",
            "Requirement already satisfied: absl-py>=1.0.0 in /usr/local/lib/python3.7/dist-packages (from tensorflow) (1.3.0)\n",
            "Requirement already satisfied: wrapt>=1.11.0 in /usr/local/lib/python3.7/dist-packages (from tensorflow) (1.14.1)\n",
            "Requirement already satisfied: protobuf<3.20,>=3.9.2 in /usr/local/lib/python3.7/dist-packages (from tensorflow) (3.17.3)\n",
            "Requirement already satisfied: wheel<1.0,>=0.23.0 in /usr/local/lib/python3.7/dist-packages (from astunparse>=1.6.0->tensorflow) (0.37.1)\n",
            "Requirement already satisfied: cached-property in /usr/local/lib/python3.7/dist-packages (from h5py>=2.9.0->tensorflow) (1.5.2)\n",
            "Requirement already satisfied: requests<3,>=2.21.0 in /usr/local/lib/python3.7/dist-packages (from tensorboard<2.10,>=2.9->tensorflow) (2.23.0)\n",
            "Requirement already satisfied: werkzeug>=1.0.1 in /usr/local/lib/python3.7/dist-packages (from tensorboard<2.10,>=2.9->tensorflow) (1.0.1)\n",
            "Requirement already satisfied: google-auth-oauthlib<0.5,>=0.4.1 in /usr/local/lib/python3.7/dist-packages (from tensorboard<2.10,>=2.9->tensorflow) (0.4.6)\n",
            "Requirement already satisfied: tensorboard-data-server<0.7.0,>=0.6.0 in /usr/local/lib/python3.7/dist-packages (from tensorboard<2.10,>=2.9->tensorflow) (0.6.1)\n",
            "Requirement already satisfied: google-auth<3,>=1.6.3 in /usr/local/lib/python3.7/dist-packages (from tensorboard<2.10,>=2.9->tensorflow) (1.35.0)\n",
            "Requirement already satisfied: tensorboard-plugin-wit>=1.6.0 in /usr/local/lib/python3.7/dist-packages (from tensorboard<2.10,>=2.9->tensorflow) (1.8.1)\n",
            "Requirement already satisfied: markdown>=2.6.8 in /usr/local/lib/python3.7/dist-packages (from tensorboard<2.10,>=2.9->tensorflow) (3.4.1)\n",
            "Requirement already satisfied: cachetools<5.0,>=2.0.0 in /usr/local/lib/python3.7/dist-packages (from google-auth<3,>=1.6.3->tensorboard<2.10,>=2.9->tensorflow) (4.2.4)\n",
            "Requirement already satisfied: pyasn1-modules>=0.2.1 in /usr/local/lib/python3.7/dist-packages (from google-auth<3,>=1.6.3->tensorboard<2.10,>=2.9->tensorflow) (0.2.8)\n",
            "Requirement already satisfied: rsa<5,>=3.1.4 in /usr/local/lib/python3.7/dist-packages (from google-auth<3,>=1.6.3->tensorboard<2.10,>=2.9->tensorflow) (4.9)\n",
            "Requirement already satisfied: requests-oauthlib>=0.7.0 in /usr/local/lib/python3.7/dist-packages (from google-auth-oauthlib<0.5,>=0.4.1->tensorboard<2.10,>=2.9->tensorflow) (1.3.1)\n",
            "Requirement already satisfied: importlib-metadata>=4.4 in /usr/local/lib/python3.7/dist-packages (from markdown>=2.6.8->tensorboard<2.10,>=2.9->tensorflow) (4.13.0)\n",
            "Requirement already satisfied: zipp>=0.5 in /usr/local/lib/python3.7/dist-packages (from importlib-metadata>=4.4->markdown>=2.6.8->tensorboard<2.10,>=2.9->tensorflow) (3.9.0)\n",
            "Requirement already satisfied: pyasn1<0.5.0,>=0.4.6 in /usr/local/lib/python3.7/dist-packages (from pyasn1-modules>=0.2.1->google-auth<3,>=1.6.3->tensorboard<2.10,>=2.9->tensorflow) (0.4.8)\n",
            "Requirement already satisfied: chardet<4,>=3.0.2 in /usr/local/lib/python3.7/dist-packages (from requests<3,>=2.21.0->tensorboard<2.10,>=2.9->tensorflow) (3.0.4)\n",
            "Requirement already satisfied: certifi>=2017.4.17 in /usr/local/lib/python3.7/dist-packages (from requests<3,>=2.21.0->tensorboard<2.10,>=2.9->tensorflow) (2022.9.24)\n",
            "Requirement already satisfied: urllib3!=1.25.0,!=1.25.1,<1.26,>=1.21.1 in /usr/local/lib/python3.7/dist-packages (from requests<3,>=2.21.0->tensorboard<2.10,>=2.9->tensorflow) (1.24.3)\n",
            "Requirement already satisfied: idna<3,>=2.5 in /usr/local/lib/python3.7/dist-packages (from requests<3,>=2.21.0->tensorboard<2.10,>=2.9->tensorflow) (2.10)\n",
            "Requirement already satisfied: oauthlib>=3.0.0 in /usr/local/lib/python3.7/dist-packages (from requests-oauthlib>=0.7.0->google-auth-oauthlib<0.5,>=0.4.1->tensorboard<2.10,>=2.9->tensorflow) (3.2.2)\n",
            "Requirement already satisfied: pyparsing!=3.0.5,>=2.0.2 in /usr/local/lib/python3.7/dist-packages (from packaging->tensorflow) (3.0.9)\n",
            "Installing collected packages: tensorflow-estimator, tensorboard\n",
            "  Attempting uninstall: tensorflow-estimator\n",
            "    Found existing installation: tensorflow-estimator 2.1.0\n",
            "    Uninstalling tensorflow-estimator-2.1.0:\n",
            "      Successfully uninstalled tensorflow-estimator-2.1.0\n",
            "  Attempting uninstall: tensorboard\n",
            "    Found existing installation: tensorboard 2.1.1\n",
            "    Uninstalling tensorboard-2.1.1:\n",
            "      Successfully uninstalled tensorboard-2.1.1\n",
            "\u001b[31mERROR: pip's dependency resolver does not currently take into account all the packages that are installed. This behaviour is the source of the following dependency conflicts.\n",
            "tensorflow-gpu 2.1.0 requires tensorboard<2.2.0,>=2.1.0, but you have tensorboard 2.9.1 which is incompatible.\n",
            "tensorflow-gpu 2.1.0 requires tensorflow-estimator<2.2.0,>=2.1.0rc0, but you have tensorflow-estimator 2.9.0 which is incompatible.\u001b[0m\n",
            "Successfully installed tensorboard-2.9.1 tensorflow-estimator-2.9.0\n"
          ]
        }
      ],
      "source": [
        "pip install tensorflow"
      ]
    },
    {
      "cell_type": "code",
      "execution_count": 3,
      "metadata": {
        "colab": {
          "base_uri": "https://localhost:8080/"
        },
        "id": "pp9o0qYqilOn",
        "outputId": "e3644b78-abc1-4d04-9685-4c08211cbeac"
      },
      "outputs": [
        {
          "output_type": "stream",
          "name": "stdout",
          "text": [
            "Looking in indexes: https://pypi.org/simple, https://us-python.pkg.dev/colab-wheels/public/simple/\n",
            "Requirement already satisfied: tensorflow-gpu in /usr/local/lib/python3.7/dist-packages (2.1.0)\n",
            "Collecting tensorflow-gpu\n",
            "  Downloading tensorflow_gpu-2.10.0-cp37-cp37m-manylinux_2_17_x86_64.manylinux2014_x86_64.whl (578.0 MB)\n",
            "\u001b[K     |████████████████████████████████| 578.0 MB 15 kB/s \n",
            "\u001b[?25hRequirement already satisfied: termcolor>=1.1.0 in /usr/local/lib/python3.7/dist-packages (from tensorflow-gpu) (2.0.1)\n",
            "Requirement already satisfied: six>=1.12.0 in /usr/local/lib/python3.7/dist-packages (from tensorflow-gpu) (1.15.0)\n",
            "Collecting tensorboard<2.11,>=2.10\n",
            "  Downloading tensorboard-2.10.1-py3-none-any.whl (5.9 MB)\n",
            "\u001b[K     |████████████████████████████████| 5.9 MB 49.7 MB/s \n",
            "\u001b[?25hRequirement already satisfied: packaging in /usr/local/lib/python3.7/dist-packages (from tensorflow-gpu) (21.3)\n",
            "Requirement already satisfied: wrapt>=1.11.0 in /usr/local/lib/python3.7/dist-packages (from tensorflow-gpu) (1.14.1)\n",
            "Requirement already satisfied: h5py>=2.9.0 in /usr/local/lib/python3.7/dist-packages (from tensorflow-gpu) (3.1.0)\n",
            "Requirement already satisfied: tensorflow-io-gcs-filesystem>=0.23.1 in /usr/local/lib/python3.7/dist-packages (from tensorflow-gpu) (0.27.0)\n",
            "Requirement already satisfied: google-pasta>=0.1.1 in /usr/local/lib/python3.7/dist-packages (from tensorflow-gpu) (0.2.0)\n",
            "Requirement already satisfied: opt-einsum>=2.3.2 in /usr/local/lib/python3.7/dist-packages (from tensorflow-gpu) (3.3.0)\n",
            "Collecting tensorflow-estimator<2.11,>=2.10.0\n",
            "  Downloading tensorflow_estimator-2.10.0-py2.py3-none-any.whl (438 kB)\n",
            "\u001b[K     |████████████████████████████████| 438 kB 64.6 MB/s \n",
            "\u001b[?25hRequirement already satisfied: grpcio<2.0,>=1.24.3 in /usr/local/lib/python3.7/dist-packages (from tensorflow-gpu) (1.50.0)\n",
            "Requirement already satisfied: astunparse>=1.6.0 in /usr/local/lib/python3.7/dist-packages (from tensorflow-gpu) (1.6.3)\n",
            "Requirement already satisfied: libclang>=13.0.0 in /usr/local/lib/python3.7/dist-packages (from tensorflow-gpu) (14.0.6)\n",
            "Requirement already satisfied: numpy>=1.20 in /usr/local/lib/python3.7/dist-packages (from tensorflow-gpu) (1.21.6)\n",
            "Collecting keras<2.11,>=2.10.0\n",
            "  Downloading keras-2.10.0-py2.py3-none-any.whl (1.7 MB)\n",
            "\u001b[K     |████████████████████████████████| 1.7 MB 46.7 MB/s \n",
            "\u001b[?25hRequirement already satisfied: protobuf<3.20,>=3.9.2 in /usr/local/lib/python3.7/dist-packages (from tensorflow-gpu) (3.17.3)\n",
            "Collecting flatbuffers>=2.0\n",
            "  Downloading flatbuffers-22.10.26-py2.py3-none-any.whl (26 kB)\n",
            "Requirement already satisfied: setuptools in /usr/local/lib/python3.7/dist-packages (from tensorflow-gpu) (57.4.0)\n",
            "Requirement already satisfied: typing-extensions>=3.6.6 in /usr/local/lib/python3.7/dist-packages (from tensorflow-gpu) (4.1.1)\n",
            "Requirement already satisfied: keras-preprocessing>=1.1.1 in /usr/local/lib/python3.7/dist-packages (from tensorflow-gpu) (1.1.2)\n",
            "Requirement already satisfied: absl-py>=1.0.0 in /usr/local/lib/python3.7/dist-packages (from tensorflow-gpu) (1.3.0)\n",
            "Requirement already satisfied: gast<=0.4.0,>=0.2.1 in /usr/local/lib/python3.7/dist-packages (from tensorflow-gpu) (0.2.2)\n",
            "Requirement already satisfied: wheel<1.0,>=0.23.0 in /usr/local/lib/python3.7/dist-packages (from astunparse>=1.6.0->tensorflow-gpu) (0.37.1)\n",
            "Requirement already satisfied: cached-property in /usr/local/lib/python3.7/dist-packages (from h5py>=2.9.0->tensorflow-gpu) (1.5.2)\n",
            "Requirement already satisfied: markdown>=2.6.8 in /usr/local/lib/python3.7/dist-packages (from tensorboard<2.11,>=2.10->tensorflow-gpu) (3.4.1)\n",
            "Requirement already satisfied: tensorboard-plugin-wit>=1.6.0 in /usr/local/lib/python3.7/dist-packages (from tensorboard<2.11,>=2.10->tensorflow-gpu) (1.8.1)\n",
            "Requirement already satisfied: werkzeug>=1.0.1 in /usr/local/lib/python3.7/dist-packages (from tensorboard<2.11,>=2.10->tensorflow-gpu) (1.0.1)\n",
            "Requirement already satisfied: google-auth-oauthlib<0.5,>=0.4.1 in /usr/local/lib/python3.7/dist-packages (from tensorboard<2.11,>=2.10->tensorflow-gpu) (0.4.6)\n",
            "Requirement already satisfied: tensorboard-data-server<0.7.0,>=0.6.0 in /usr/local/lib/python3.7/dist-packages (from tensorboard<2.11,>=2.10->tensorflow-gpu) (0.6.1)\n",
            "Requirement already satisfied: requests<3,>=2.21.0 in /usr/local/lib/python3.7/dist-packages (from tensorboard<2.11,>=2.10->tensorflow-gpu) (2.23.0)\n",
            "Requirement already satisfied: google-auth<3,>=1.6.3 in /usr/local/lib/python3.7/dist-packages (from tensorboard<2.11,>=2.10->tensorflow-gpu) (1.35.0)\n",
            "Requirement already satisfied: rsa<5,>=3.1.4 in /usr/local/lib/python3.7/dist-packages (from google-auth<3,>=1.6.3->tensorboard<2.11,>=2.10->tensorflow-gpu) (4.9)\n",
            "Requirement already satisfied: cachetools<5.0,>=2.0.0 in /usr/local/lib/python3.7/dist-packages (from google-auth<3,>=1.6.3->tensorboard<2.11,>=2.10->tensorflow-gpu) (4.2.4)\n",
            "Requirement already satisfied: pyasn1-modules>=0.2.1 in /usr/local/lib/python3.7/dist-packages (from google-auth<3,>=1.6.3->tensorboard<2.11,>=2.10->tensorflow-gpu) (0.2.8)\n",
            "Requirement already satisfied: requests-oauthlib>=0.7.0 in /usr/local/lib/python3.7/dist-packages (from google-auth-oauthlib<0.5,>=0.4.1->tensorboard<2.11,>=2.10->tensorflow-gpu) (1.3.1)\n",
            "Requirement already satisfied: importlib-metadata>=4.4 in /usr/local/lib/python3.7/dist-packages (from markdown>=2.6.8->tensorboard<2.11,>=2.10->tensorflow-gpu) (4.13.0)\n",
            "Requirement already satisfied: zipp>=0.5 in /usr/local/lib/python3.7/dist-packages (from importlib-metadata>=4.4->markdown>=2.6.8->tensorboard<2.11,>=2.10->tensorflow-gpu) (3.9.0)\n",
            "Requirement already satisfied: pyasn1<0.5.0,>=0.4.6 in /usr/local/lib/python3.7/dist-packages (from pyasn1-modules>=0.2.1->google-auth<3,>=1.6.3->tensorboard<2.11,>=2.10->tensorflow-gpu) (0.4.8)\n",
            "Requirement already satisfied: urllib3!=1.25.0,!=1.25.1,<1.26,>=1.21.1 in /usr/local/lib/python3.7/dist-packages (from requests<3,>=2.21.0->tensorboard<2.11,>=2.10->tensorflow-gpu) (1.24.3)\n",
            "Requirement already satisfied: certifi>=2017.4.17 in /usr/local/lib/python3.7/dist-packages (from requests<3,>=2.21.0->tensorboard<2.11,>=2.10->tensorflow-gpu) (2022.9.24)\n",
            "Requirement already satisfied: chardet<4,>=3.0.2 in /usr/local/lib/python3.7/dist-packages (from requests<3,>=2.21.0->tensorboard<2.11,>=2.10->tensorflow-gpu) (3.0.4)\n",
            "Requirement already satisfied: idna<3,>=2.5 in /usr/local/lib/python3.7/dist-packages (from requests<3,>=2.21.0->tensorboard<2.11,>=2.10->tensorflow-gpu) (2.10)\n",
            "Requirement already satisfied: oauthlib>=3.0.0 in /usr/local/lib/python3.7/dist-packages (from requests-oauthlib>=0.7.0->google-auth-oauthlib<0.5,>=0.4.1->tensorboard<2.11,>=2.10->tensorflow-gpu) (3.2.2)\n",
            "Requirement already satisfied: pyparsing!=3.0.5,>=2.0.2 in /usr/local/lib/python3.7/dist-packages (from packaging->tensorflow-gpu) (3.0.9)\n",
            "Installing collected packages: tensorflow-estimator, tensorboard, keras, flatbuffers, tensorflow-gpu\n",
            "  Attempting uninstall: tensorflow-estimator\n",
            "    Found existing installation: tensorflow-estimator 2.9.0\n",
            "    Uninstalling tensorflow-estimator-2.9.0:\n",
            "      Successfully uninstalled tensorflow-estimator-2.9.0\n",
            "  Attempting uninstall: tensorboard\n",
            "    Found existing installation: tensorboard 2.9.1\n",
            "    Uninstalling tensorboard-2.9.1:\n",
            "      Successfully uninstalled tensorboard-2.9.1\n",
            "  Attempting uninstall: keras\n",
            "    Found existing installation: keras 2.9.0\n",
            "    Uninstalling keras-2.9.0:\n",
            "      Successfully uninstalled keras-2.9.0\n",
            "  Attempting uninstall: flatbuffers\n",
            "    Found existing installation: flatbuffers 1.12\n",
            "    Uninstalling flatbuffers-1.12:\n",
            "      Successfully uninstalled flatbuffers-1.12\n",
            "  Attempting uninstall: tensorflow-gpu\n",
            "    Found existing installation: tensorflow-gpu 2.1.0\n",
            "    Uninstalling tensorflow-gpu-2.1.0:\n",
            "      Successfully uninstalled tensorflow-gpu-2.1.0\n",
            "\u001b[31mERROR: pip's dependency resolver does not currently take into account all the packages that are installed. This behaviour is the source of the following dependency conflicts.\n",
            "tensorflow 2.9.2 requires flatbuffers<2,>=1.12, but you have flatbuffers 22.10.26 which is incompatible.\n",
            "tensorflow 2.9.2 requires keras<2.10.0,>=2.9.0rc0, but you have keras 2.10.0 which is incompatible.\n",
            "tensorflow 2.9.2 requires tensorboard<2.10,>=2.9, but you have tensorboard 2.10.1 which is incompatible.\n",
            "tensorflow 2.9.2 requires tensorflow-estimator<2.10.0,>=2.9.0rc0, but you have tensorflow-estimator 2.10.0 which is incompatible.\u001b[0m\n",
            "Successfully installed flatbuffers-22.10.26 keras-2.10.0 tensorboard-2.10.1 tensorflow-estimator-2.10.0 tensorflow-gpu-2.10.0\n"
          ]
        }
      ],
      "source": [
        "!pip3 install --upgrade tensorflow-gpu"
      ]
    },
    {
      "cell_type": "code",
      "execution_count": 4,
      "metadata": {
        "colab": {
          "base_uri": "https://localhost:8080/"
        },
        "id": "IQ47ZPsDilmp",
        "outputId": "ce8c7814-8ec7-4733-80f4-c0ef8eb7fa65"
      },
      "outputs": [
        {
          "output_type": "stream",
          "name": "stdout",
          "text": [
            "\u001b[K     |████████████████████████████████| 25.3 MB 210 kB/s \n",
            "\u001b[K     |████████████████████████████████| 981 kB 34.6 MB/s \n",
            "\u001b[K     |████████████████████████████████| 263 kB 48.7 MB/s \n",
            "\u001b[K     |████████████████████████████████| 3.8 MB 24.6 MB/s \n",
            "\u001b[K     |████████████████████████████████| 1.3 MB 49.3 MB/s \n",
            "\u001b[K     |████████████████████████████████| 468 kB 45.8 MB/s \n",
            "\u001b[K     |████████████████████████████████| 880 kB 49.7 MB/s \n",
            "\u001b[K     |████████████████████████████████| 163 kB 43.7 MB/s \n",
            "\u001b[K     |████████████████████████████████| 7.6 MB 32.2 MB/s \n",
            "\u001b[?25h  Building wheel for ktrain (setup.py) ... \u001b[?25l\u001b[?25hdone\n",
            "  Building wheel for keras-bert (setup.py) ... \u001b[?25l\u001b[?25hdone\n",
            "  Building wheel for keras-transformer (setup.py) ... \u001b[?25l\u001b[?25hdone\n",
            "  Building wheel for keras-embed-sim (setup.py) ... \u001b[?25l\u001b[?25hdone\n",
            "  Building wheel for keras-layer-normalization (setup.py) ... \u001b[?25l\u001b[?25hdone\n",
            "  Building wheel for keras-multi-head (setup.py) ... \u001b[?25l\u001b[?25hdone\n",
            "  Building wheel for keras-pos-embd (setup.py) ... \u001b[?25l\u001b[?25hdone\n",
            "  Building wheel for keras-position-wise-feed-forward (setup.py) ... \u001b[?25l\u001b[?25hdone\n",
            "  Building wheel for keras-self-attention (setup.py) ... \u001b[?25l\u001b[?25hdone\n",
            "  Building wheel for langdetect (setup.py) ... \u001b[?25l\u001b[?25hdone\n",
            "  Building wheel for sacremoses (setup.py) ... \u001b[?25l\u001b[?25hdone\n"
          ]
        }
      ],
      "source": [
        "!pip3 install -q ktrain"
      ]
    },
    {
      "cell_type": "code",
      "execution_count": 24,
      "metadata": {
        "id": "56uaDZJAinUL"
      },
      "outputs": [],
      "source": [
        "import pandas as pd\n",
        "data=pd.read_csv('sample_dex_train.csv')"
      ]
    },
    {
      "cell_type": "code",
      "execution_count": 25,
      "metadata": {
        "id": "6tXTPUIJipX-"
      },
      "outputs": [],
      "source": [
        "df1=data.copy()"
      ]
    },
    {
      "cell_type": "code",
      "execution_count": 26,
      "metadata": {
        "id": "WBu-2yEQiuAS"
      },
      "outputs": [],
      "source": [
        "df2=df1.copy()"
      ]
    },
    {
      "cell_type": "code",
      "execution_count": 27,
      "metadata": {
        "id": "FNTvoiP0ivYX"
      },
      "outputs": [],
      "source": [
        "df2.dropna(inplace=True)"
      ]
    },
    {
      "cell_type": "code",
      "source": [
        "df2.drop('Unnamed: 0',axis=1,inplace=True)"
      ],
      "metadata": {
        "id": "H2bxLQoEzxeo"
      },
      "execution_count": 28,
      "outputs": []
    },
    {
      "cell_type": "code",
      "source": [
        "df2.head()"
      ],
      "metadata": {
        "colab": {
          "base_uri": "https://localhost:8080/",
          "height": 206
        },
        "id": "kTQocC1Xy_mU",
        "outputId": "91a2a381-28b3-4548-f52d-d1fcd0cc3f19"
      },
      "execution_count": 29,
      "outputs": [
        {
          "output_type": "execute_result",
          "data": {
            "text/plain": [
              "                                               title          category\n",
              "0     Reminder - Optimus -  Best People Manager 2022            TWEETS\n",
              "1  It starts this 23 October, till 26 October 202...            TWEETS\n",
              "2  Congratulations Triveni Arun Bhalerao | Long S...     WHO_SAID_WHAT\n",
              "3   Long Service Awards - 5 years - Triveni Arun ...  STORY_OF_THE_DAY\n",
              "4                                     tweets testing            TWEETS"
            ],
            "text/html": [
              "\n",
              "  <div id=\"df-e3b332ac-7ca2-45a8-b759-765826475ce9\">\n",
              "    <div class=\"colab-df-container\">\n",
              "      <div>\n",
              "<style scoped>\n",
              "    .dataframe tbody tr th:only-of-type {\n",
              "        vertical-align: middle;\n",
              "    }\n",
              "\n",
              "    .dataframe tbody tr th {\n",
              "        vertical-align: top;\n",
              "    }\n",
              "\n",
              "    .dataframe thead th {\n",
              "        text-align: right;\n",
              "    }\n",
              "</style>\n",
              "<table border=\"1\" class=\"dataframe\">\n",
              "  <thead>\n",
              "    <tr style=\"text-align: right;\">\n",
              "      <th></th>\n",
              "      <th>title</th>\n",
              "      <th>category</th>\n",
              "    </tr>\n",
              "  </thead>\n",
              "  <tbody>\n",
              "    <tr>\n",
              "      <th>0</th>\n",
              "      <td>Reminder - Optimus -  Best People Manager 2022</td>\n",
              "      <td>TWEETS</td>\n",
              "    </tr>\n",
              "    <tr>\n",
              "      <th>1</th>\n",
              "      <td>It starts this 23 October, till 26 October 202...</td>\n",
              "      <td>TWEETS</td>\n",
              "    </tr>\n",
              "    <tr>\n",
              "      <th>2</th>\n",
              "      <td>Congratulations Triveni Arun Bhalerao | Long S...</td>\n",
              "      <td>WHO_SAID_WHAT</td>\n",
              "    </tr>\n",
              "    <tr>\n",
              "      <th>3</th>\n",
              "      <td>Long Service Awards - 5 years - Triveni Arun ...</td>\n",
              "      <td>STORY_OF_THE_DAY</td>\n",
              "    </tr>\n",
              "    <tr>\n",
              "      <th>4</th>\n",
              "      <td>tweets testing</td>\n",
              "      <td>TWEETS</td>\n",
              "    </tr>\n",
              "  </tbody>\n",
              "</table>\n",
              "</div>\n",
              "      <button class=\"colab-df-convert\" onclick=\"convertToInteractive('df-e3b332ac-7ca2-45a8-b759-765826475ce9')\"\n",
              "              title=\"Convert this dataframe to an interactive table.\"\n",
              "              style=\"display:none;\">\n",
              "        \n",
              "  <svg xmlns=\"http://www.w3.org/2000/svg\" height=\"24px\"viewBox=\"0 0 24 24\"\n",
              "       width=\"24px\">\n",
              "    <path d=\"M0 0h24v24H0V0z\" fill=\"none\"/>\n",
              "    <path d=\"M18.56 5.44l.94 2.06.94-2.06 2.06-.94-2.06-.94-.94-2.06-.94 2.06-2.06.94zm-11 1L8.5 8.5l.94-2.06 2.06-.94-2.06-.94L8.5 2.5l-.94 2.06-2.06.94zm10 10l.94 2.06.94-2.06 2.06-.94-2.06-.94-.94-2.06-.94 2.06-2.06.94z\"/><path d=\"M17.41 7.96l-1.37-1.37c-.4-.4-.92-.59-1.43-.59-.52 0-1.04.2-1.43.59L10.3 9.45l-7.72 7.72c-.78.78-.78 2.05 0 2.83L4 21.41c.39.39.9.59 1.41.59.51 0 1.02-.2 1.41-.59l7.78-7.78 2.81-2.81c.8-.78.8-2.07 0-2.86zM5.41 20L4 18.59l7.72-7.72 1.47 1.35L5.41 20z\"/>\n",
              "  </svg>\n",
              "      </button>\n",
              "      \n",
              "  <style>\n",
              "    .colab-df-container {\n",
              "      display:flex;\n",
              "      flex-wrap:wrap;\n",
              "      gap: 12px;\n",
              "    }\n",
              "\n",
              "    .colab-df-convert {\n",
              "      background-color: #E8F0FE;\n",
              "      border: none;\n",
              "      border-radius: 50%;\n",
              "      cursor: pointer;\n",
              "      display: none;\n",
              "      fill: #1967D2;\n",
              "      height: 32px;\n",
              "      padding: 0 0 0 0;\n",
              "      width: 32px;\n",
              "    }\n",
              "\n",
              "    .colab-df-convert:hover {\n",
              "      background-color: #E2EBFA;\n",
              "      box-shadow: 0px 1px 2px rgba(60, 64, 67, 0.3), 0px 1px 3px 1px rgba(60, 64, 67, 0.15);\n",
              "      fill: #174EA6;\n",
              "    }\n",
              "\n",
              "    [theme=dark] .colab-df-convert {\n",
              "      background-color: #3B4455;\n",
              "      fill: #D2E3FC;\n",
              "    }\n",
              "\n",
              "    [theme=dark] .colab-df-convert:hover {\n",
              "      background-color: #434B5C;\n",
              "      box-shadow: 0px 1px 3px 1px rgba(0, 0, 0, 0.15);\n",
              "      filter: drop-shadow(0px 1px 2px rgba(0, 0, 0, 0.3));\n",
              "      fill: #FFFFFF;\n",
              "    }\n",
              "  </style>\n",
              "\n",
              "      <script>\n",
              "        const buttonEl =\n",
              "          document.querySelector('#df-e3b332ac-7ca2-45a8-b759-765826475ce9 button.colab-df-convert');\n",
              "        buttonEl.style.display =\n",
              "          google.colab.kernel.accessAllowed ? 'block' : 'none';\n",
              "\n",
              "        async function convertToInteractive(key) {\n",
              "          const element = document.querySelector('#df-e3b332ac-7ca2-45a8-b759-765826475ce9');\n",
              "          const dataTable =\n",
              "            await google.colab.kernel.invokeFunction('convertToInteractive',\n",
              "                                                     [key], {});\n",
              "          if (!dataTable) return;\n",
              "\n",
              "          const docLinkHtml = 'Like what you see? Visit the ' +\n",
              "            '<a target=\"_blank\" href=https://colab.research.google.com/notebooks/data_table.ipynb>data table notebook</a>'\n",
              "            + ' to learn more about interactive tables.';\n",
              "          element.innerHTML = '';\n",
              "          dataTable['output_type'] = 'display_data';\n",
              "          await google.colab.output.renderOutput(dataTable, element);\n",
              "          const docLink = document.createElement('div');\n",
              "          docLink.innerHTML = docLinkHtml;\n",
              "          element.appendChild(docLink);\n",
              "        }\n",
              "      </script>\n",
              "    </div>\n",
              "  </div>\n",
              "  "
            ]
          },
          "metadata": {},
          "execution_count": 29
        }
      ]
    },
    {
      "cell_type": "code",
      "execution_count": 30,
      "metadata": {
        "colab": {
          "base_uri": "https://localhost:8080/"
        },
        "id": "gOhzXK7BjCMc",
        "outputId": "9d124940-99b7-4ae0-c70d-c8fcfde22fda"
      },
      "outputs": [
        {
          "output_type": "execute_result",
          "data": {
            "text/plain": [
              "(963, 2)"
            ]
          },
          "metadata": {},
          "execution_count": 30
        }
      ],
      "source": [
        "df2.shape"
      ]
    },
    {
      "cell_type": "code",
      "source": [
        "df2.category.value_counts()"
      ],
      "metadata": {
        "colab": {
          "base_uri": "https://localhost:8080/"
        },
        "id": "yuK3GG867bUJ",
        "outputId": "b72d2583-d5af-4130-e3b7-32ff174f90d6"
      },
      "execution_count": 31,
      "outputs": [
        {
          "output_type": "execute_result",
          "data": {
            "text/plain": [
              "TWEETS                      231\n",
              "COMPANY_INFORMATION         165\n",
              "STORY_OF_THE_DAY            105\n",
              "TECHNO_PICKS                 89\n",
              "INDUSTRY_UPDATE              84\n",
              "WHO_SAID_WHAT                65\n",
              "FEATURED_VIDEOS              53\n",
              "SUCCESS_STORY                33\n",
              "ALTIMETRIK_NEWS              25\n",
              "EMPLOYEE_EXPERIENCES         22\n",
              "PEOPLE_OF_ALTIMETRIK         20\n",
              "ABOUT_ALTIMETRIK             19\n",
              "CAPABILITY_CENTERS           13\n",
              "GLOBAL_RECOGNITIONS          12\n",
              "INNOVATION_AT_ALTIMETRIK     11\n",
              "TRENDING_STORY                7\n",
              "EBOOK                         6\n",
              "STATIC_CONTENT                2\n",
              "DIGITAL_BUSINESS              1\n",
              "Name: category, dtype: int64"
            ]
          },
          "metadata": {},
          "execution_count": 31
        }
      ]
    },
    {
      "cell_type": "code",
      "execution_count": 32,
      "metadata": {
        "colab": {
          "base_uri": "https://localhost:8080/",
          "height": 81
        },
        "id": "45vtWfHzkJj7",
        "outputId": "1ab38c0a-7321-4596-b1f1-1ea911c20513"
      },
      "outputs": [
        {
          "output_type": "execute_result",
          "data": {
            "text/plain": [
              "                  title          category\n",
              "437  Digital Business 2  DIGITAL_BUSINESS"
            ],
            "text/html": [
              "\n",
              "  <div id=\"df-851e44d9-9476-47f9-b7c7-30b0096d6faf\">\n",
              "    <div class=\"colab-df-container\">\n",
              "      <div>\n",
              "<style scoped>\n",
              "    .dataframe tbody tr th:only-of-type {\n",
              "        vertical-align: middle;\n",
              "    }\n",
              "\n",
              "    .dataframe tbody tr th {\n",
              "        vertical-align: top;\n",
              "    }\n",
              "\n",
              "    .dataframe thead th {\n",
              "        text-align: right;\n",
              "    }\n",
              "</style>\n",
              "<table border=\"1\" class=\"dataframe\">\n",
              "  <thead>\n",
              "    <tr style=\"text-align: right;\">\n",
              "      <th></th>\n",
              "      <th>title</th>\n",
              "      <th>category</th>\n",
              "    </tr>\n",
              "  </thead>\n",
              "  <tbody>\n",
              "    <tr>\n",
              "      <th>437</th>\n",
              "      <td>Digital Business 2</td>\n",
              "      <td>DIGITAL_BUSINESS</td>\n",
              "    </tr>\n",
              "  </tbody>\n",
              "</table>\n",
              "</div>\n",
              "      <button class=\"colab-df-convert\" onclick=\"convertToInteractive('df-851e44d9-9476-47f9-b7c7-30b0096d6faf')\"\n",
              "              title=\"Convert this dataframe to an interactive table.\"\n",
              "              style=\"display:none;\">\n",
              "        \n",
              "  <svg xmlns=\"http://www.w3.org/2000/svg\" height=\"24px\"viewBox=\"0 0 24 24\"\n",
              "       width=\"24px\">\n",
              "    <path d=\"M0 0h24v24H0V0z\" fill=\"none\"/>\n",
              "    <path d=\"M18.56 5.44l.94 2.06.94-2.06 2.06-.94-2.06-.94-.94-2.06-.94 2.06-2.06.94zm-11 1L8.5 8.5l.94-2.06 2.06-.94-2.06-.94L8.5 2.5l-.94 2.06-2.06.94zm10 10l.94 2.06.94-2.06 2.06-.94-2.06-.94-.94-2.06-.94 2.06-2.06.94z\"/><path d=\"M17.41 7.96l-1.37-1.37c-.4-.4-.92-.59-1.43-.59-.52 0-1.04.2-1.43.59L10.3 9.45l-7.72 7.72c-.78.78-.78 2.05 0 2.83L4 21.41c.39.39.9.59 1.41.59.51 0 1.02-.2 1.41-.59l7.78-7.78 2.81-2.81c.8-.78.8-2.07 0-2.86zM5.41 20L4 18.59l7.72-7.72 1.47 1.35L5.41 20z\"/>\n",
              "  </svg>\n",
              "      </button>\n",
              "      \n",
              "  <style>\n",
              "    .colab-df-container {\n",
              "      display:flex;\n",
              "      flex-wrap:wrap;\n",
              "      gap: 12px;\n",
              "    }\n",
              "\n",
              "    .colab-df-convert {\n",
              "      background-color: #E8F0FE;\n",
              "      border: none;\n",
              "      border-radius: 50%;\n",
              "      cursor: pointer;\n",
              "      display: none;\n",
              "      fill: #1967D2;\n",
              "      height: 32px;\n",
              "      padding: 0 0 0 0;\n",
              "      width: 32px;\n",
              "    }\n",
              "\n",
              "    .colab-df-convert:hover {\n",
              "      background-color: #E2EBFA;\n",
              "      box-shadow: 0px 1px 2px rgba(60, 64, 67, 0.3), 0px 1px 3px 1px rgba(60, 64, 67, 0.15);\n",
              "      fill: #174EA6;\n",
              "    }\n",
              "\n",
              "    [theme=dark] .colab-df-convert {\n",
              "      background-color: #3B4455;\n",
              "      fill: #D2E3FC;\n",
              "    }\n",
              "\n",
              "    [theme=dark] .colab-df-convert:hover {\n",
              "      background-color: #434B5C;\n",
              "      box-shadow: 0px 1px 3px 1px rgba(0, 0, 0, 0.15);\n",
              "      filter: drop-shadow(0px 1px 2px rgba(0, 0, 0, 0.3));\n",
              "      fill: #FFFFFF;\n",
              "    }\n",
              "  </style>\n",
              "\n",
              "      <script>\n",
              "        const buttonEl =\n",
              "          document.querySelector('#df-851e44d9-9476-47f9-b7c7-30b0096d6faf button.colab-df-convert');\n",
              "        buttonEl.style.display =\n",
              "          google.colab.kernel.accessAllowed ? 'block' : 'none';\n",
              "\n",
              "        async function convertToInteractive(key) {\n",
              "          const element = document.querySelector('#df-851e44d9-9476-47f9-b7c7-30b0096d6faf');\n",
              "          const dataTable =\n",
              "            await google.colab.kernel.invokeFunction('convertToInteractive',\n",
              "                                                     [key], {});\n",
              "          if (!dataTable) return;\n",
              "\n",
              "          const docLinkHtml = 'Like what you see? Visit the ' +\n",
              "            '<a target=\"_blank\" href=https://colab.research.google.com/notebooks/data_table.ipynb>data table notebook</a>'\n",
              "            + ' to learn more about interactive tables.';\n",
              "          element.innerHTML = '';\n",
              "          dataTable['output_type'] = 'display_data';\n",
              "          await google.colab.output.renderOutput(dataTable, element);\n",
              "          const docLink = document.createElement('div');\n",
              "          docLink.innerHTML = docLinkHtml;\n",
              "          element.appendChild(docLink);\n",
              "        }\n",
              "      </script>\n",
              "    </div>\n",
              "  </div>\n",
              "  "
            ]
          },
          "metadata": {},
          "execution_count": 32
        }
      ],
      "source": [
        "df2[df2['category']=='DIGITAL_BUSINESS']"
      ]
    },
    {
      "cell_type": "code",
      "execution_count": 33,
      "metadata": {
        "colab": {
          "base_uri": "https://localhost:8080/",
          "height": 112
        },
        "id": "T8TFM_WZkPuS",
        "outputId": "9b1f4e81-883e-4a5b-9414-fbc7c665115b"
      },
      "outputs": [
        {
          "output_type": "execute_result",
          "data": {
            "text/plain": [
              "                    title        category\n",
              "517              ABOUT US  STATIC_CONTENT\n",
              "628  Innovate and Inspire  STATIC_CONTENT"
            ],
            "text/html": [
              "\n",
              "  <div id=\"df-1c718b69-c99b-4abc-b657-202ff6e24026\">\n",
              "    <div class=\"colab-df-container\">\n",
              "      <div>\n",
              "<style scoped>\n",
              "    .dataframe tbody tr th:only-of-type {\n",
              "        vertical-align: middle;\n",
              "    }\n",
              "\n",
              "    .dataframe tbody tr th {\n",
              "        vertical-align: top;\n",
              "    }\n",
              "\n",
              "    .dataframe thead th {\n",
              "        text-align: right;\n",
              "    }\n",
              "</style>\n",
              "<table border=\"1\" class=\"dataframe\">\n",
              "  <thead>\n",
              "    <tr style=\"text-align: right;\">\n",
              "      <th></th>\n",
              "      <th>title</th>\n",
              "      <th>category</th>\n",
              "    </tr>\n",
              "  </thead>\n",
              "  <tbody>\n",
              "    <tr>\n",
              "      <th>517</th>\n",
              "      <td>ABOUT US</td>\n",
              "      <td>STATIC_CONTENT</td>\n",
              "    </tr>\n",
              "    <tr>\n",
              "      <th>628</th>\n",
              "      <td>Innovate and Inspire</td>\n",
              "      <td>STATIC_CONTENT</td>\n",
              "    </tr>\n",
              "  </tbody>\n",
              "</table>\n",
              "</div>\n",
              "      <button class=\"colab-df-convert\" onclick=\"convertToInteractive('df-1c718b69-c99b-4abc-b657-202ff6e24026')\"\n",
              "              title=\"Convert this dataframe to an interactive table.\"\n",
              "              style=\"display:none;\">\n",
              "        \n",
              "  <svg xmlns=\"http://www.w3.org/2000/svg\" height=\"24px\"viewBox=\"0 0 24 24\"\n",
              "       width=\"24px\">\n",
              "    <path d=\"M0 0h24v24H0V0z\" fill=\"none\"/>\n",
              "    <path d=\"M18.56 5.44l.94 2.06.94-2.06 2.06-.94-2.06-.94-.94-2.06-.94 2.06-2.06.94zm-11 1L8.5 8.5l.94-2.06 2.06-.94-2.06-.94L8.5 2.5l-.94 2.06-2.06.94zm10 10l.94 2.06.94-2.06 2.06-.94-2.06-.94-.94-2.06-.94 2.06-2.06.94z\"/><path d=\"M17.41 7.96l-1.37-1.37c-.4-.4-.92-.59-1.43-.59-.52 0-1.04.2-1.43.59L10.3 9.45l-7.72 7.72c-.78.78-.78 2.05 0 2.83L4 21.41c.39.39.9.59 1.41.59.51 0 1.02-.2 1.41-.59l7.78-7.78 2.81-2.81c.8-.78.8-2.07 0-2.86zM5.41 20L4 18.59l7.72-7.72 1.47 1.35L5.41 20z\"/>\n",
              "  </svg>\n",
              "      </button>\n",
              "      \n",
              "  <style>\n",
              "    .colab-df-container {\n",
              "      display:flex;\n",
              "      flex-wrap:wrap;\n",
              "      gap: 12px;\n",
              "    }\n",
              "\n",
              "    .colab-df-convert {\n",
              "      background-color: #E8F0FE;\n",
              "      border: none;\n",
              "      border-radius: 50%;\n",
              "      cursor: pointer;\n",
              "      display: none;\n",
              "      fill: #1967D2;\n",
              "      height: 32px;\n",
              "      padding: 0 0 0 0;\n",
              "      width: 32px;\n",
              "    }\n",
              "\n",
              "    .colab-df-convert:hover {\n",
              "      background-color: #E2EBFA;\n",
              "      box-shadow: 0px 1px 2px rgba(60, 64, 67, 0.3), 0px 1px 3px 1px rgba(60, 64, 67, 0.15);\n",
              "      fill: #174EA6;\n",
              "    }\n",
              "\n",
              "    [theme=dark] .colab-df-convert {\n",
              "      background-color: #3B4455;\n",
              "      fill: #D2E3FC;\n",
              "    }\n",
              "\n",
              "    [theme=dark] .colab-df-convert:hover {\n",
              "      background-color: #434B5C;\n",
              "      box-shadow: 0px 1px 3px 1px rgba(0, 0, 0, 0.15);\n",
              "      filter: drop-shadow(0px 1px 2px rgba(0, 0, 0, 0.3));\n",
              "      fill: #FFFFFF;\n",
              "    }\n",
              "  </style>\n",
              "\n",
              "      <script>\n",
              "        const buttonEl =\n",
              "          document.querySelector('#df-1c718b69-c99b-4abc-b657-202ff6e24026 button.colab-df-convert');\n",
              "        buttonEl.style.display =\n",
              "          google.colab.kernel.accessAllowed ? 'block' : 'none';\n",
              "\n",
              "        async function convertToInteractive(key) {\n",
              "          const element = document.querySelector('#df-1c718b69-c99b-4abc-b657-202ff6e24026');\n",
              "          const dataTable =\n",
              "            await google.colab.kernel.invokeFunction('convertToInteractive',\n",
              "                                                     [key], {});\n",
              "          if (!dataTable) return;\n",
              "\n",
              "          const docLinkHtml = 'Like what you see? Visit the ' +\n",
              "            '<a target=\"_blank\" href=https://colab.research.google.com/notebooks/data_table.ipynb>data table notebook</a>'\n",
              "            + ' to learn more about interactive tables.';\n",
              "          element.innerHTML = '';\n",
              "          dataTable['output_type'] = 'display_data';\n",
              "          await google.colab.output.renderOutput(dataTable, element);\n",
              "          const docLink = document.createElement('div');\n",
              "          docLink.innerHTML = docLinkHtml;\n",
              "          element.appendChild(docLink);\n",
              "        }\n",
              "      </script>\n",
              "    </div>\n",
              "  </div>\n",
              "  "
            ]
          },
          "metadata": {},
          "execution_count": 33
        }
      ],
      "source": [
        "df2[df2['category']=='STATIC_CONTENT']"
      ]
    },
    {
      "cell_type": "code",
      "execution_count": 34,
      "metadata": {
        "colab": {
          "base_uri": "https://localhost:8080/",
          "height": 237
        },
        "id": "e39bILwtk7_H",
        "outputId": "31e95359-1c94-49bd-eead-c640ba3afc70"
      },
      "outputs": [
        {
          "output_type": "execute_result",
          "data": {
            "text/plain": [
              "          title category\n",
              "682       EBOOK    EBOOK\n",
              "683  EBOOK-Dup1    EBOOK\n",
              "684  EBOOK-Dup2    EBOOK\n",
              "685  EBOOK-Dup3    EBOOK\n",
              "686  EBOOK-Dup4    EBOOK\n",
              "687  EBOOK-Dup5    EBOOK"
            ],
            "text/html": [
              "\n",
              "  <div id=\"df-cb5d8bca-089b-4960-9551-d80ea6ae4399\">\n",
              "    <div class=\"colab-df-container\">\n",
              "      <div>\n",
              "<style scoped>\n",
              "    .dataframe tbody tr th:only-of-type {\n",
              "        vertical-align: middle;\n",
              "    }\n",
              "\n",
              "    .dataframe tbody tr th {\n",
              "        vertical-align: top;\n",
              "    }\n",
              "\n",
              "    .dataframe thead th {\n",
              "        text-align: right;\n",
              "    }\n",
              "</style>\n",
              "<table border=\"1\" class=\"dataframe\">\n",
              "  <thead>\n",
              "    <tr style=\"text-align: right;\">\n",
              "      <th></th>\n",
              "      <th>title</th>\n",
              "      <th>category</th>\n",
              "    </tr>\n",
              "  </thead>\n",
              "  <tbody>\n",
              "    <tr>\n",
              "      <th>682</th>\n",
              "      <td>EBOOK</td>\n",
              "      <td>EBOOK</td>\n",
              "    </tr>\n",
              "    <tr>\n",
              "      <th>683</th>\n",
              "      <td>EBOOK-Dup1</td>\n",
              "      <td>EBOOK</td>\n",
              "    </tr>\n",
              "    <tr>\n",
              "      <th>684</th>\n",
              "      <td>EBOOK-Dup2</td>\n",
              "      <td>EBOOK</td>\n",
              "    </tr>\n",
              "    <tr>\n",
              "      <th>685</th>\n",
              "      <td>EBOOK-Dup3</td>\n",
              "      <td>EBOOK</td>\n",
              "    </tr>\n",
              "    <tr>\n",
              "      <th>686</th>\n",
              "      <td>EBOOK-Dup4</td>\n",
              "      <td>EBOOK</td>\n",
              "    </tr>\n",
              "    <tr>\n",
              "      <th>687</th>\n",
              "      <td>EBOOK-Dup5</td>\n",
              "      <td>EBOOK</td>\n",
              "    </tr>\n",
              "  </tbody>\n",
              "</table>\n",
              "</div>\n",
              "      <button class=\"colab-df-convert\" onclick=\"convertToInteractive('df-cb5d8bca-089b-4960-9551-d80ea6ae4399')\"\n",
              "              title=\"Convert this dataframe to an interactive table.\"\n",
              "              style=\"display:none;\">\n",
              "        \n",
              "  <svg xmlns=\"http://www.w3.org/2000/svg\" height=\"24px\"viewBox=\"0 0 24 24\"\n",
              "       width=\"24px\">\n",
              "    <path d=\"M0 0h24v24H0V0z\" fill=\"none\"/>\n",
              "    <path d=\"M18.56 5.44l.94 2.06.94-2.06 2.06-.94-2.06-.94-.94-2.06-.94 2.06-2.06.94zm-11 1L8.5 8.5l.94-2.06 2.06-.94-2.06-.94L8.5 2.5l-.94 2.06-2.06.94zm10 10l.94 2.06.94-2.06 2.06-.94-2.06-.94-.94-2.06-.94 2.06-2.06.94z\"/><path d=\"M17.41 7.96l-1.37-1.37c-.4-.4-.92-.59-1.43-.59-.52 0-1.04.2-1.43.59L10.3 9.45l-7.72 7.72c-.78.78-.78 2.05 0 2.83L4 21.41c.39.39.9.59 1.41.59.51 0 1.02-.2 1.41-.59l7.78-7.78 2.81-2.81c.8-.78.8-2.07 0-2.86zM5.41 20L4 18.59l7.72-7.72 1.47 1.35L5.41 20z\"/>\n",
              "  </svg>\n",
              "      </button>\n",
              "      \n",
              "  <style>\n",
              "    .colab-df-container {\n",
              "      display:flex;\n",
              "      flex-wrap:wrap;\n",
              "      gap: 12px;\n",
              "    }\n",
              "\n",
              "    .colab-df-convert {\n",
              "      background-color: #E8F0FE;\n",
              "      border: none;\n",
              "      border-radius: 50%;\n",
              "      cursor: pointer;\n",
              "      display: none;\n",
              "      fill: #1967D2;\n",
              "      height: 32px;\n",
              "      padding: 0 0 0 0;\n",
              "      width: 32px;\n",
              "    }\n",
              "\n",
              "    .colab-df-convert:hover {\n",
              "      background-color: #E2EBFA;\n",
              "      box-shadow: 0px 1px 2px rgba(60, 64, 67, 0.3), 0px 1px 3px 1px rgba(60, 64, 67, 0.15);\n",
              "      fill: #174EA6;\n",
              "    }\n",
              "\n",
              "    [theme=dark] .colab-df-convert {\n",
              "      background-color: #3B4455;\n",
              "      fill: #D2E3FC;\n",
              "    }\n",
              "\n",
              "    [theme=dark] .colab-df-convert:hover {\n",
              "      background-color: #434B5C;\n",
              "      box-shadow: 0px 1px 3px 1px rgba(0, 0, 0, 0.15);\n",
              "      filter: drop-shadow(0px 1px 2px rgba(0, 0, 0, 0.3));\n",
              "      fill: #FFFFFF;\n",
              "    }\n",
              "  </style>\n",
              "\n",
              "      <script>\n",
              "        const buttonEl =\n",
              "          document.querySelector('#df-cb5d8bca-089b-4960-9551-d80ea6ae4399 button.colab-df-convert');\n",
              "        buttonEl.style.display =\n",
              "          google.colab.kernel.accessAllowed ? 'block' : 'none';\n",
              "\n",
              "        async function convertToInteractive(key) {\n",
              "          const element = document.querySelector('#df-cb5d8bca-089b-4960-9551-d80ea6ae4399');\n",
              "          const dataTable =\n",
              "            await google.colab.kernel.invokeFunction('convertToInteractive',\n",
              "                                                     [key], {});\n",
              "          if (!dataTable) return;\n",
              "\n",
              "          const docLinkHtml = 'Like what you see? Visit the ' +\n",
              "            '<a target=\"_blank\" href=https://colab.research.google.com/notebooks/data_table.ipynb>data table notebook</a>'\n",
              "            + ' to learn more about interactive tables.';\n",
              "          element.innerHTML = '';\n",
              "          dataTable['output_type'] = 'display_data';\n",
              "          await google.colab.output.renderOutput(dataTable, element);\n",
              "          const docLink = document.createElement('div');\n",
              "          docLink.innerHTML = docLinkHtml;\n",
              "          element.appendChild(docLink);\n",
              "        }\n",
              "      </script>\n",
              "    </div>\n",
              "  </div>\n",
              "  "
            ]
          },
          "metadata": {},
          "execution_count": 34
        }
      ],
      "source": [
        "df2[df2['category']=='EBOOK']"
      ]
    },
    {
      "cell_type": "code",
      "execution_count": 17,
      "metadata": {
        "id": "_bfpzWJalBCL"
      },
      "outputs": [],
      "source": [
        "rows=[517,628,437]"
      ]
    },
    {
      "cell_type": "code",
      "source": [
        "df2.category.nunique()"
      ],
      "metadata": {
        "colab": {
          "base_uri": "https://localhost:8080/"
        },
        "id": "RZoXK4Nn7qC7",
        "outputId": "681e36b0-39d7-4958-9a60-6937f4e21d0d"
      },
      "execution_count": 18,
      "outputs": [
        {
          "output_type": "execute_result",
          "data": {
            "text/plain": [
              "19"
            ]
          },
          "metadata": {},
          "execution_count": 18
        }
      ]
    },
    {
      "cell_type": "code",
      "execution_count": 48,
      "metadata": {
        "id": "PEs2pEgmlRDZ"
      },
      "outputs": [],
      "source": [
        "df2.drop(index=rows,inplace=True)"
      ]
    },
    {
      "cell_type": "code",
      "execution_count": 49,
      "metadata": {
        "colab": {
          "base_uri": "https://localhost:8080/"
        },
        "id": "c-fSN3yIlU7G",
        "outputId": "b3d7bbbb-d40b-4b57-8218-0b4c09f1013d"
      },
      "outputs": [
        {
          "output_type": "execute_result",
          "data": {
            "text/plain": [
              "TWEETS                      231\n",
              "COMPANY_INFORMATION         165\n",
              "STORY_OF_THE_DAY            105\n",
              "TECHNO_PICKS                 89\n",
              "INDUSTRY_UPDATE              84\n",
              "WHO_SAID_WHAT                65\n",
              "FEATURED_VIDEOS              53\n",
              "SUCCESS_STORY                33\n",
              "ALTIMETRIK_NEWS              25\n",
              "EMPLOYEE_EXPERIENCES         22\n",
              "PEOPLE_OF_ALTIMETRIK         20\n",
              "ABOUT_ALTIMETRIK             19\n",
              "CAPABILITY_CENTERS           13\n",
              "GLOBAL_RECOGNITIONS          12\n",
              "INNOVATION_AT_ALTIMETRIK     11\n",
              "TRENDING_STORY                7\n",
              "EBOOK                         6\n",
              "Name: category, dtype: int64"
            ]
          },
          "metadata": {},
          "execution_count": 49
        }
      ],
      "source": [
        "df2['category'].value_counts()"
      ]
    },
    {
      "cell_type": "code",
      "source": [
        "df2.nunique()"
      ],
      "metadata": {
        "colab": {
          "base_uri": "https://localhost:8080/"
        },
        "id": "TAtz5pl07wQx",
        "outputId": "5e7b756b-4bed-459c-d37b-cba4173a60da"
      },
      "execution_count": 50,
      "outputs": [
        {
          "output_type": "execute_result",
          "data": {
            "text/plain": [
              "title       781\n",
              "category     17\n",
              "dtype: int64"
            ]
          },
          "metadata": {},
          "execution_count": 50
        }
      ]
    },
    {
      "cell_type": "code",
      "source": [
        "testdata_1=pd.read_excel('sample_dex_test.xlsx')"
      ],
      "metadata": {
        "id": "bLzs6MNx4jN0"
      },
      "execution_count": 51,
      "outputs": []
    },
    {
      "cell_type": "code",
      "source": [
        "testdata_1.head()"
      ],
      "metadata": {
        "colab": {
          "base_uri": "https://localhost:8080/",
          "height": 206
        },
        "id": "S-1b-YlH4oPx",
        "outputId": "459099ae-39b5-44de-cbc7-8e6747d1e597"
      },
      "execution_count": 52,
      "outputs": [
        {
          "output_type": "execute_result",
          "data": {
            "text/plain": [
              "   Unnamed: 0                                              title  \\\n",
              "0         970        4 Takeaways for the Future of Healthcare IT   \n",
              "1         971  We are thrilled to announce that Jeff was conf...   \n",
              "2         972  Cloud computing powers the worldâ€™s financial...   \n",
              "3         973                                         Test Tweet   \n",
              "4         974                       Test Tweet 2 From Srinivas H   \n",
              "\n",
              "          category  \n",
              "0  INDUSTRY_UPDATE  \n",
              "1           TWEETS  \n",
              "2     TECHNO_PICKS  \n",
              "3           TWEETS  \n",
              "4           TWEETS  "
            ],
            "text/html": [
              "\n",
              "  <div id=\"df-b74e1fca-8c01-4063-822b-fe497dd688ac\">\n",
              "    <div class=\"colab-df-container\">\n",
              "      <div>\n",
              "<style scoped>\n",
              "    .dataframe tbody tr th:only-of-type {\n",
              "        vertical-align: middle;\n",
              "    }\n",
              "\n",
              "    .dataframe tbody tr th {\n",
              "        vertical-align: top;\n",
              "    }\n",
              "\n",
              "    .dataframe thead th {\n",
              "        text-align: right;\n",
              "    }\n",
              "</style>\n",
              "<table border=\"1\" class=\"dataframe\">\n",
              "  <thead>\n",
              "    <tr style=\"text-align: right;\">\n",
              "      <th></th>\n",
              "      <th>Unnamed: 0</th>\n",
              "      <th>title</th>\n",
              "      <th>category</th>\n",
              "    </tr>\n",
              "  </thead>\n",
              "  <tbody>\n",
              "    <tr>\n",
              "      <th>0</th>\n",
              "      <td>970</td>\n",
              "      <td>4 Takeaways for the Future of Healthcare IT</td>\n",
              "      <td>INDUSTRY_UPDATE</td>\n",
              "    </tr>\n",
              "    <tr>\n",
              "      <th>1</th>\n",
              "      <td>971</td>\n",
              "      <td>We are thrilled to announce that Jeff was conf...</td>\n",
              "      <td>TWEETS</td>\n",
              "    </tr>\n",
              "    <tr>\n",
              "      <th>2</th>\n",
              "      <td>972</td>\n",
              "      <td>Cloud computing powers the worldâ€™s financial...</td>\n",
              "      <td>TECHNO_PICKS</td>\n",
              "    </tr>\n",
              "    <tr>\n",
              "      <th>3</th>\n",
              "      <td>973</td>\n",
              "      <td>Test Tweet</td>\n",
              "      <td>TWEETS</td>\n",
              "    </tr>\n",
              "    <tr>\n",
              "      <th>4</th>\n",
              "      <td>974</td>\n",
              "      <td>Test Tweet 2 From Srinivas H</td>\n",
              "      <td>TWEETS</td>\n",
              "    </tr>\n",
              "  </tbody>\n",
              "</table>\n",
              "</div>\n",
              "      <button class=\"colab-df-convert\" onclick=\"convertToInteractive('df-b74e1fca-8c01-4063-822b-fe497dd688ac')\"\n",
              "              title=\"Convert this dataframe to an interactive table.\"\n",
              "              style=\"display:none;\">\n",
              "        \n",
              "  <svg xmlns=\"http://www.w3.org/2000/svg\" height=\"24px\"viewBox=\"0 0 24 24\"\n",
              "       width=\"24px\">\n",
              "    <path d=\"M0 0h24v24H0V0z\" fill=\"none\"/>\n",
              "    <path d=\"M18.56 5.44l.94 2.06.94-2.06 2.06-.94-2.06-.94-.94-2.06-.94 2.06-2.06.94zm-11 1L8.5 8.5l.94-2.06 2.06-.94-2.06-.94L8.5 2.5l-.94 2.06-2.06.94zm10 10l.94 2.06.94-2.06 2.06-.94-2.06-.94-.94-2.06-.94 2.06-2.06.94z\"/><path d=\"M17.41 7.96l-1.37-1.37c-.4-.4-.92-.59-1.43-.59-.52 0-1.04.2-1.43.59L10.3 9.45l-7.72 7.72c-.78.78-.78 2.05 0 2.83L4 21.41c.39.39.9.59 1.41.59.51 0 1.02-.2 1.41-.59l7.78-7.78 2.81-2.81c.8-.78.8-2.07 0-2.86zM5.41 20L4 18.59l7.72-7.72 1.47 1.35L5.41 20z\"/>\n",
              "  </svg>\n",
              "      </button>\n",
              "      \n",
              "  <style>\n",
              "    .colab-df-container {\n",
              "      display:flex;\n",
              "      flex-wrap:wrap;\n",
              "      gap: 12px;\n",
              "    }\n",
              "\n",
              "    .colab-df-convert {\n",
              "      background-color: #E8F0FE;\n",
              "      border: none;\n",
              "      border-radius: 50%;\n",
              "      cursor: pointer;\n",
              "      display: none;\n",
              "      fill: #1967D2;\n",
              "      height: 32px;\n",
              "      padding: 0 0 0 0;\n",
              "      width: 32px;\n",
              "    }\n",
              "\n",
              "    .colab-df-convert:hover {\n",
              "      background-color: #E2EBFA;\n",
              "      box-shadow: 0px 1px 2px rgba(60, 64, 67, 0.3), 0px 1px 3px 1px rgba(60, 64, 67, 0.15);\n",
              "      fill: #174EA6;\n",
              "    }\n",
              "\n",
              "    [theme=dark] .colab-df-convert {\n",
              "      background-color: #3B4455;\n",
              "      fill: #D2E3FC;\n",
              "    }\n",
              "\n",
              "    [theme=dark] .colab-df-convert:hover {\n",
              "      background-color: #434B5C;\n",
              "      box-shadow: 0px 1px 3px 1px rgba(0, 0, 0, 0.15);\n",
              "      filter: drop-shadow(0px 1px 2px rgba(0, 0, 0, 0.3));\n",
              "      fill: #FFFFFF;\n",
              "    }\n",
              "  </style>\n",
              "\n",
              "      <script>\n",
              "        const buttonEl =\n",
              "          document.querySelector('#df-b74e1fca-8c01-4063-822b-fe497dd688ac button.colab-df-convert');\n",
              "        buttonEl.style.display =\n",
              "          google.colab.kernel.accessAllowed ? 'block' : 'none';\n",
              "\n",
              "        async function convertToInteractive(key) {\n",
              "          const element = document.querySelector('#df-b74e1fca-8c01-4063-822b-fe497dd688ac');\n",
              "          const dataTable =\n",
              "            await google.colab.kernel.invokeFunction('convertToInteractive',\n",
              "                                                     [key], {});\n",
              "          if (!dataTable) return;\n",
              "\n",
              "          const docLinkHtml = 'Like what you see? Visit the ' +\n",
              "            '<a target=\"_blank\" href=https://colab.research.google.com/notebooks/data_table.ipynb>data table notebook</a>'\n",
              "            + ' to learn more about interactive tables.';\n",
              "          element.innerHTML = '';\n",
              "          dataTable['output_type'] = 'display_data';\n",
              "          await google.colab.output.renderOutput(dataTable, element);\n",
              "          const docLink = document.createElement('div');\n",
              "          docLink.innerHTML = docLinkHtml;\n",
              "          element.appendChild(docLink);\n",
              "        }\n",
              "      </script>\n",
              "    </div>\n",
              "  </div>\n",
              "  "
            ]
          },
          "metadata": {},
          "execution_count": 52
        }
      ]
    },
    {
      "cell_type": "code",
      "source": [
        "testdata_1.drop('Unnamed: 0',axis=1,inplace=True)"
      ],
      "metadata": {
        "id": "cBMcEFtT8BWw"
      },
      "execution_count": 53,
      "outputs": []
    },
    {
      "cell_type": "code",
      "execution_count": 54,
      "metadata": {
        "id": "PMOPOsDNizGH"
      },
      "outputs": [],
      "source": [
        "from sklearn.model_selection import train_test_split"
      ]
    },
    {
      "cell_type": "code",
      "source": [
        "x=df2['title']\n",
        "y=df2['category']"
      ],
      "metadata": {
        "id": "AuGZNceD8L0H"
      },
      "execution_count": 55,
      "outputs": []
    },
    {
      "cell_type": "code",
      "execution_count": 56,
      "metadata": {
        "id": "SUs71R_2i1ao"
      },
      "outputs": [],
      "source": [
        "x_train,x_test,y_train,y_test=train_test_split(x,y,train_size=0.7,random_state=100)"
      ]
    },
    {
      "cell_type": "code",
      "execution_count": 57,
      "metadata": {
        "colab": {
          "base_uri": "https://localhost:8080/"
        },
        "id": "EmtUkjdii3rv",
        "outputId": "bb2adf73-1cb7-4ca2-d0f9-af4dbb06e2d3"
      },
      "outputs": [
        {
          "output_type": "stream",
          "name": "stdout",
          "text": [
            "(672,) (672,)\n"
          ]
        }
      ],
      "source": [
        "print(x_train.shape,y_train.shape)"
      ]
    },
    {
      "cell_type": "code",
      "execution_count": 58,
      "metadata": {
        "colab": {
          "base_uri": "https://localhost:8080/"
        },
        "id": "Y12Tvzu0lfuJ",
        "outputId": "7b17c062-5c02-4d51-d26a-5dda9afe929b"
      },
      "outputs": [
        {
          "output_type": "execute_result",
          "data": {
            "text/plain": [
              "17"
            ]
          },
          "metadata": {},
          "execution_count": 58
        }
      ],
      "source": [
        "categories=['TWEETS','COMPANY_INFORMATION','STORY_OF_THE_DAY','TECHNO_PICKS','INDUSTRY_UPDATE','WHO_SAID_WHAT','FEATURED_VIDEOS','SUCCESS_STORY','PEOPLE_OF_ALTIMETRIK',\n",
        "        'ALTIMETRIK_NEWS','EMPLOYEE_EXPERIENCES','ABOUT_ALTIMETRIK','CAPABILITY_CENTERS','GLOBAL_RECOGNITIONS','INNOVATION_AT_ALTIMETRIK','TRENDING_STORY','EBOOK']\n",
        "len(categories)"
      ]
    },
    {
      "cell_type": "code",
      "source": [
        "from transformers import AutoTokenizer, AutoModelForSequenceClassification\n",
        "tokenizer = AutoTokenizer.from_pretrained(\"distilbert-base-uncased-finetuned-sst-2-english\")\n",
        "MODEL_NAME = AutoModelForSequenceClassification.from_pretrained(\"distilbert-base-uncased-finetuned-sst-2-english\")"
      ],
      "metadata": {
        "id": "AxtI9ItrU5_M"
      },
      "execution_count": 61,
      "outputs": []
    },
    {
      "cell_type": "code",
      "execution_count": 63,
      "metadata": {
        "colab": {
          "base_uri": "https://localhost:8080/",
          "height": 332
        },
        "id": "2mMSoj8hlf9C",
        "outputId": "88590173-0fae-44c2-d7c6-c2454fce6c46"
      },
      "outputs": [
        {
          "output_type": "stream",
          "name": "stderr",
          "text": [
            "/usr/local/lib/python3.7/dist-packages/ktrain/text/preprocessor.py:490: UserWarning: The class_names argument is replacing the classes argument. Please update your code.\n",
            "  \"The class_names argument is replacing the classes argument. Please update your code.\"\n"
          ]
        },
        {
          "output_type": "stream",
          "name": "stdout",
          "text": [
            "preprocessing train...\n",
            "language: en\n",
            "train sequence lengths:\n",
            "\tmean : 8\n",
            "\t95percentile : 15\n",
            "\t99percentile : 27\n"
          ]
        },
        {
          "output_type": "stream",
          "name": "stderr",
          "text": [
            "/usr/local/lib/python3.7/dist-packages/ktrain/utils.py:738: UserWarning: class_names argument was ignored, as they were extracted from string labels in dataset\n",
            "  \"class_names argument was ignored, as they were extracted from string labels in dataset\"\n"
          ]
        },
        {
          "output_type": "display_data",
          "data": {
            "text/plain": [
              "<IPython.core.display.HTML object>"
            ],
            "text/html": [
              "\n",
              "<style>\n",
              "    /* Turns off some styling */\n",
              "    progress {\n",
              "        /* gets rid of default border in Firefox and Opera. */\n",
              "        border: none;\n",
              "        /* Needs to be in here for Safari polyfill so background images work as expected. */\n",
              "        background-size: auto;\n",
              "    }\n",
              "    progress:not([value]), progress:not([value])::-webkit-progress-bar {\n",
              "        background: repeating-linear-gradient(45deg, #7e7e7e, #7e7e7e 10px, #5c5c5c 10px, #5c5c5c 20px);\n",
              "    }\n",
              "    .progress-bar-interrupted, .progress-bar-interrupted::-webkit-progress-bar {\n",
              "        background: #F44336;\n",
              "    }\n",
              "</style>\n"
            ]
          },
          "metadata": {}
        },
        {
          "output_type": "display_data",
          "data": {
            "text/plain": [
              "<IPython.core.display.HTML object>"
            ],
            "text/html": []
          },
          "metadata": {}
        },
        {
          "output_type": "stream",
          "name": "stdout",
          "text": [
            "Is Multi-Label? False\n",
            "preprocessing test...\n",
            "language: en\n",
            "test sequence lengths:\n",
            "\tmean : 8\n",
            "\t95percentile : 17\n",
            "\t99percentile : 25\n"
          ]
        },
        {
          "output_type": "display_data",
          "data": {
            "text/plain": [
              "<IPython.core.display.HTML object>"
            ],
            "text/html": [
              "\n",
              "<style>\n",
              "    /* Turns off some styling */\n",
              "    progress {\n",
              "        /* gets rid of default border in Firefox and Opera. */\n",
              "        border: none;\n",
              "        /* Needs to be in here for Safari polyfill so background images work as expected. */\n",
              "        background-size: auto;\n",
              "    }\n",
              "    progress:not([value]), progress:not([value])::-webkit-progress-bar {\n",
              "        background: repeating-linear-gradient(45deg, #7e7e7e, #7e7e7e 10px, #5c5c5c 10px, #5c5c5c 20px);\n",
              "    }\n",
              "    .progress-bar-interrupted, .progress-bar-interrupted::-webkit-progress-bar {\n",
              "        background: #F44336;\n",
              "    }\n",
              "</style>\n"
            ]
          },
          "metadata": {}
        },
        {
          "output_type": "display_data",
          "data": {
            "text/plain": [
              "<IPython.core.display.HTML object>"
            ],
            "text/html": []
          },
          "metadata": {}
        }
      ],
      "source": [
        "import ktrain\n",
        "from ktrain import text\n",
        "MODEL_NAME = 'distilbert-base-uncased'\n",
        "#MODEL_NAME = 'distilbert-base-uncased-finetuned-sst-2-english'\n",
        "t = text.Transformer(MODEL_NAME, maxlen=500, classes=categories)\n",
        "trn = t.preprocess_train(list(x_train), list(y_train))\n",
        "val = t.preprocess_test(list(x_test), list(y_test))\n",
        "model = t.get_classifier()\n",
        "learner = ktrain.get_learner(model, train_data=trn, val_data=val, batch_size=10)"
      ]
    },
    {
      "cell_type": "code",
      "execution_count": 45,
      "metadata": {
        "colab": {
          "base_uri": "https://localhost:8080/"
        },
        "id": "MH9kNjUFliXd",
        "outputId": "f1b9d7e1-6d24-4e71-d3f2-f7bc7e956bc1"
      },
      "outputs": [
        {
          "output_type": "stream",
          "name": "stdout",
          "text": [
            "\n",
            "\n",
            "begin training using onecycle policy with max lr of 5e-05...\n",
            "Epoch 1/10\n",
            "68/68 [==============================] - 47s 546ms/step - loss: 2.8016 - accuracy: 0.1855 - val_loss: 2.5395 - val_accuracy: 0.2353\n",
            "Epoch 2/10\n",
            "68/68 [==============================] - 36s 531ms/step - loss: 2.3274 - accuracy: 0.2967 - val_loss: 2.0567 - val_accuracy: 0.4152\n",
            "Epoch 3/10\n",
            "68/68 [==============================] - 37s 541ms/step - loss: 1.8129 - accuracy: 0.4866 - val_loss: 1.7508 - val_accuracy: 0.4810\n",
            "Epoch 4/10\n",
            "68/68 [==============================] - 38s 551ms/step - loss: 1.4063 - accuracy: 0.6068 - val_loss: 1.6741 - val_accuracy: 0.4567\n",
            "Epoch 5/10\n",
            "68/68 [==============================] - 37s 546ms/step - loss: 1.0799 - accuracy: 0.6795 - val_loss: 1.7200 - val_accuracy: 0.4844\n",
            "Epoch 6/10\n",
            "68/68 [==============================] - 37s 548ms/step - loss: 0.8162 - accuracy: 0.7745 - val_loss: 1.6556 - val_accuracy: 0.5121\n",
            "Epoch 7/10\n",
            "68/68 [==============================] - 37s 548ms/step - loss: 0.5881 - accuracy: 0.8131 - val_loss: 1.7509 - val_accuracy: 0.4913\n",
            "Epoch 8/10\n",
            "68/68 [==============================] - 37s 548ms/step - loss: 0.4781 - accuracy: 0.8383 - val_loss: 1.8402 - val_accuracy: 0.4879\n",
            "Epoch 9/10\n",
            "68/68 [==============================] - 37s 549ms/step - loss: 0.3919 - accuracy: 0.8472 - val_loss: 1.8653 - val_accuracy: 0.4671\n",
            "Epoch 10/10\n",
            "68/68 [==============================] - 37s 549ms/step - loss: 0.3374 - accuracy: 0.8665 - val_loss: 1.8594 - val_accuracy: 0.4879\n"
          ]
        },
        {
          "output_type": "execute_result",
          "data": {
            "text/plain": [
              "<keras.callbacks.History at 0x7fc3a3f13110>"
            ]
          },
          "metadata": {},
          "execution_count": 45
        }
      ],
      "source": [
        "learner.fit_onecycle(5e-5, 10)"
      ]
    },
    {
      "cell_type": "markdown",
      "metadata": {
        "id": "NrGjCW7mncdL"
      },
      "source": [
        "Evaluate and Inspect the Model"
      ]
    },
    {
      "cell_type": "code",
      "execution_count": 72,
      "metadata": {
        "colab": {
          "base_uri": "https://localhost:8080/"
        },
        "id": "pCvMnMAQpCzy",
        "outputId": "36cc8e81-40af-4cad-bdae-1a406fbfa9ea"
      },
      "outputs": [
        {
          "output_type": "stream",
          "name": "stdout",
          "text": [
            "9/9 [==============================] - 2s 76ms/step\n",
            "                          precision    recall  f1-score   support\n",
            "\n",
            "        ABOUT_ALTIMETRIK       0.17      0.17      0.17         6\n",
            "         ALTIMETRIK_NEWS       0.25      0.25      0.25         8\n",
            "      CAPABILITY_CENTERS       1.00      0.67      0.80         3\n",
            "     COMPANY_INFORMATION       0.36      0.31      0.33        55\n",
            "                   EBOOK       1.00      1.00      1.00         1\n",
            "    EMPLOYEE_EXPERIENCES       0.00      0.00      0.00         4\n",
            "         FEATURED_VIDEOS       0.58      0.44      0.50        16\n",
            "     GLOBAL_RECOGNITIONS       1.00      0.67      0.80         3\n",
            "         INDUSTRY_UPDATE       0.59      0.59      0.59        29\n",
            "INNOVATION_AT_ALTIMETRIK       0.00      0.00      0.00         5\n",
            "    PEOPLE_OF_ALTIMETRIK       1.00      0.50      0.67         8\n",
            "        STORY_OF_THE_DAY       0.09      0.17      0.11        30\n",
            "           SUCCESS_STORY       1.00      0.58      0.74        12\n",
            "            TECHNO_PICKS       0.55      0.52      0.54        21\n",
            "          TRENDING_STORY       0.00      0.00      0.00         3\n",
            "                  TWEETS       0.81      0.87      0.84        69\n",
            "           WHO_SAID_WHAT       0.42      0.53      0.47        15\n",
            "\n",
            "                accuracy                           0.50       288\n",
            "               macro avg       0.52      0.43      0.46       288\n",
            "            weighted avg       0.53      0.50      0.51       288\n",
            "\n"
          ]
        },
        {
          "output_type": "stream",
          "name": "stderr",
          "text": [
            "/usr/local/lib/python3.7/dist-packages/sklearn/metrics/_classification.py:1318: UndefinedMetricWarning: Precision and F-score are ill-defined and being set to 0.0 in labels with no predicted samples. Use `zero_division` parameter to control this behavior.\n",
            "  _warn_prf(average, modifier, msg_start, len(result))\n",
            "/usr/local/lib/python3.7/dist-packages/sklearn/metrics/_classification.py:1318: UndefinedMetricWarning: Precision and F-score are ill-defined and being set to 0.0 in labels with no predicted samples. Use `zero_division` parameter to control this behavior.\n",
            "  _warn_prf(average, modifier, msg_start, len(result))\n",
            "/usr/local/lib/python3.7/dist-packages/sklearn/metrics/_classification.py:1318: UndefinedMetricWarning: Precision and F-score are ill-defined and being set to 0.0 in labels with no predicted samples. Use `zero_division` parameter to control this behavior.\n",
            "  _warn_prf(average, modifier, msg_start, len(result))\n"
          ]
        },
        {
          "output_type": "execute_result",
          "data": {
            "text/plain": [
              "array([[ 1,  0,  0,  1,  0,  0,  0,  0,  0,  0,  0,  3,  0,  0,  0,  1,\n",
              "         0],\n",
              "       [ 0,  2,  0,  2,  0,  0,  0,  0,  0,  0,  0,  2,  0,  0,  0,  0,\n",
              "         2],\n",
              "       [ 0,  0,  2,  0,  0,  0,  0,  0,  0,  0,  0,  0,  0,  1,  0,  0,\n",
              "         0],\n",
              "       [ 1,  2,  0, 17,  0,  0,  1,  0,  0,  0,  0, 29,  0,  0,  0,  4,\n",
              "         1],\n",
              "       [ 0,  0,  0,  0,  1,  0,  0,  0,  0,  0,  0,  0,  0,  0,  0,  0,\n",
              "         0],\n",
              "       [ 0,  0,  0,  2,  0,  0,  2,  0,  0,  0,  0,  0,  0,  0,  0,  0,\n",
              "         0],\n",
              "       [ 2,  0,  0,  2,  0,  0,  7,  0,  1,  0,  0,  3,  0,  0,  0,  0,\n",
              "         1],\n",
              "       [ 0,  0,  0,  0,  0,  0,  1,  2,  0,  0,  0,  0,  0,  0,  0,  0,\n",
              "         0],\n",
              "       [ 0,  1,  0,  0,  0,  0,  0,  0, 17,  0,  0,  5,  0,  5,  0,  1,\n",
              "         0],\n",
              "       [ 0,  0,  0,  1,  0,  0,  1,  0,  2,  0,  0,  0,  0,  0,  0,  1,\n",
              "         0],\n",
              "       [ 0,  0,  0,  4,  0,  0,  0,  0,  0,  0,  4,  0,  0,  0,  0,  0,\n",
              "         0],\n",
              "       [ 1,  1,  0, 11,  0,  0,  0,  0,  1,  0,  0,  5,  0,  2,  0,  3,\n",
              "         6],\n",
              "       [ 0,  0,  0,  0,  0,  0,  0,  0,  1,  0,  0,  0,  7,  0,  0,  3,\n",
              "         1],\n",
              "       [ 0,  1,  0,  1,  0,  0,  0,  0,  6,  0,  0,  1,  0, 11,  0,  1,\n",
              "         0],\n",
              "       [ 0,  1,  0,  0,  0,  0,  0,  0,  0,  0,  0,  2,  0,  0,  0,  0,\n",
              "         0],\n",
              "       [ 1,  0,  0,  5,  0,  0,  0,  0,  1,  0,  0,  1,  0,  1,  0, 60,\n",
              "         0],\n",
              "       [ 0,  0,  0,  1,  0,  0,  0,  0,  0,  0,  0,  6,  0,  0,  0,  0,\n",
              "         8]])"
            ]
          },
          "metadata": {},
          "execution_count": 72
        }
      ],
      "source": [
        "learner.validate(class_names=t.get_classes())"
      ]
    },
    {
      "cell_type": "code",
      "execution_count": 73,
      "metadata": {
        "colab": {
          "base_uri": "https://localhost:8080/"
        },
        "id": "rmvob5eepC2L",
        "outputId": "024b7d16-a6d9-46ae-e470-d32ec6be4b31"
      },
      "outputs": [
        {
          "output_type": "stream",
          "name": "stdout",
          "text": [
            "9/9 [==============================] - 1s 80ms/step\n",
            "----------\n",
            "id:14 | loss:8.04 | true:PEOPLE_OF_ALTIMETRIK | pred:COMPANY_INFORMATION)\n",
            "\n"
          ]
        }
      ],
      "source": [
        "learner.view_top_losses(n=1, preproc=t)"
      ]
    },
    {
      "cell_type": "code",
      "execution_count": 74,
      "metadata": {
        "id": "4Bf8Kc6HpC8X"
      },
      "outputs": [],
      "source": [
        "predictor = ktrain.get_predictor(learner.model, preproc=t)"
      ]
    },
    {
      "cell_type": "code",
      "execution_count": 75,
      "metadata": {
        "colab": {
          "base_uri": "https://localhost:8080/",
          "height": 53
        },
        "id": "B7WjuTcqpnUV",
        "outputId": "5520ce4a-3c97-4188-8bf4-97bfb57fe708"
      },
      "outputs": [
        {
          "output_type": "stream",
          "name": "stdout",
          "text": [
            "1/1 [==============================] - 0s 114ms/step\n"
          ]
        },
        {
          "output_type": "execute_result",
          "data": {
            "text/plain": [
              "'COMPANY_INFORMATION'"
            ],
            "application/vnd.google.colaboratory.intrinsic+json": {
              "type": "string"
            }
          },
          "metadata": {},
          "execution_count": 75
        }
      ],
      "source": [
        "predictor.predict('Predict our GPTW 2022 Ranking !!!')"
      ]
    },
    {
      "cell_type": "code",
      "execution_count": 76,
      "metadata": {
        "colab": {
          "base_uri": "https://localhost:8080/",
          "height": 53
        },
        "id": "fd4m9rtlppzu",
        "outputId": "49194a9c-f265-4b3d-c59b-1f548994e249"
      },
      "outputs": [
        {
          "output_type": "stream",
          "name": "stdout",
          "text": [
            "1/1 [==============================] - 0s 109ms/step\n"
          ]
        },
        {
          "output_type": "execute_result",
          "data": {
            "text/plain": [
              "'STORY_OF_THE_DAY'"
            ],
            "application/vnd.google.colaboratory.intrinsic+json": {
              "type": "string"
            }
          },
          "metadata": {},
          "execution_count": 76
        }
      ],
      "source": [
        "predictor.predict('Tech Live Session | Cloud custodian: Rules Engine for Managing Pubic Cloud Accounts and Resources')"
      ]
    },
    {
      "cell_type": "code",
      "execution_count": 37,
      "metadata": {
        "colab": {
          "base_uri": "https://localhost:8080/"
        },
        "id": "NUL2ee-cprs7",
        "outputId": "c57632fb-8c59-4732-ac91-a047b9c9809c"
      },
      "outputs": [
        {
          "output_type": "stream",
          "name": "stdout",
          "text": [
            "1/1 [==============================] - 0s 70ms/step\n",
            "COMPANY_INFORMATION\n",
            "1/1 [==============================] - 0s 81ms/step\n",
            "[2.0912800e-03 3.8324597e-03 6.6635746e-04 9.0928304e-01 3.3618213e-04\n",
            " 2.8978416e-04 1.9066260e-03 8.1667333e-04 7.9193321e-04 6.1391795e-04\n",
            " 3.4040230e-04 5.8934603e-02 1.4602467e-03 9.7996916e-04 9.7119197e-04\n",
            " 1.3411926e-02 3.2734217e-03]\n"
          ]
        },
        {
          "output_type": "execute_result",
          "data": {
            "text/plain": [
              "['TWEETS',\n",
              " 'COMPANY_INFORMATION',\n",
              " 'STORY_OF_THE_DAY',\n",
              " 'TECHNO_PICKS',\n",
              " 'INDUSTRY_UPDATE',\n",
              " 'WHO_SAID_WHAT',\n",
              " 'FEATURED_VIDEOS',\n",
              " 'SUCCESS_STORY',\n",
              " 'PEOPLE_OF_ALTIMETRIK',\n",
              " 'ALTIMETRIK_NEWS',\n",
              " 'EMPLOYEE_EXPERIENCES',\n",
              " 'ABOUT_ALTIMETRIK',\n",
              " 'CAPABILITY_CENTERS',\n",
              " 'GLOBAL_RECOGNITIONS',\n",
              " 'INNOVATION_AT_ALTIMETRIK',\n",
              " 'TRENDING_STORY',\n",
              " 'EBOOK',\n",
              " 'STATIC_CONTENT',\n",
              " 'DIGITAL_BUSINESS']"
            ]
          },
          "metadata": {},
          "execution_count": 37
        }
      ],
      "source": [
        "print(predictor.predict('Predict our GPTW 2022 Ranking !!!'))\n",
        "print(predictor.predict_proba('Predict our GPTW 2022 Ranking !!!'))\n",
        "categories"
      ]
    },
    {
      "cell_type": "code",
      "execution_count": 77,
      "metadata": {
        "colab": {
          "base_uri": "https://localhost:8080/",
          "height": 990
        },
        "id": "I6oF24lRtH6x",
        "outputId": "7fccffa9-2ddb-43eb-9e44-03c403c85994"
      },
      "outputs": [
        {
          "output_type": "execute_result",
          "data": {
            "text/plain": [
              "                                                title             category\n",
              "0         4 Takeaways for the Future of Healthcare IT      INDUSTRY_UPDATE\n",
              "1   We are thrilled to announce that Jeff was conf...               TWEETS\n",
              "2   Cloud computing powers the worldâ€™s financial...         TECHNO_PICKS\n",
              "3                                          Test Tweet               TWEETS\n",
              "4                        Test Tweet 2 From Srinivas H               TWEETS\n",
              "5                             Test Tweet From Android               TWEETS\n",
              "6         Milestone | LinkedIn Followers Surpass 100k  COMPANY_INFORMATION\n",
              "7                                             tweet 1               TWEETS\n",
              "8                                Tweet from Sprinters               TWEETS\n",
              "9                        Tweet for vibes channel test               TWEETS\n",
              "10                                  Sprinters Tweet 2               TWEETS\n",
              "11                                 Sprinters Tweet 3                TWEETS\n",
              "12                                  Tweet 4 Sprinters               TWEETS\n",
              "13                                 tweet 5 Sprinters                TWEETS\n",
              "14                                  Tweet 6 Sprinters               TWEETS\n",
              "15         Exclusive session on Agile Ways of Working  COMPANY_INFORMATION\n",
              "16                               Innovate and Inspire       STATIC_CONTENT\n",
              "17                               Innovate and Inspire       STATIC_CONTENT\n",
              "18     Collider is back with the OWASP top 10 Part II               TWEETS\n",
              "19  Keys to Secure Code Pt II: Reducing Risk for S...  COMPANY_INFORMATION\n",
              "20      Long Service Awards - 5 Years - Suraj Bhojkar  COMPANY_INFORMATION\n",
              "21  Inauguration of Chennai Office by Raj S | May ...  COMPANY_INFORMATION\n",
              "22  Come and be part of the Chennai office Inaugur...               TWEETS\n",
              "23        Milestone | LinkedIn Followers Surpass 100k      ALTIMETRIK_NEWS\n",
              "24                    Take a Break for Mental Health!               TWEETS\n",
              "25     Employee Referral Virtual Drive - 14 May, 2022  COMPANY_INFORMATION\n",
              "26   The Future Trends In Mobility And Transportation      INDUSTRY_UPDATE\n",
              "27       The Keys to Pricing Power as Recession Looms      INDUSTRY_UPDATE\n",
              "28  Intelligence and unified data governance in th...         TECHNO_PICKS\n",
              "29  Creating a defined data centric space with AI ...         TECHNO_PICKS"
            ],
            "text/html": [
              "\n",
              "  <div id=\"df-34917723-8419-4cc7-9339-aa386a97917f\">\n",
              "    <div class=\"colab-df-container\">\n",
              "      <div>\n",
              "<style scoped>\n",
              "    .dataframe tbody tr th:only-of-type {\n",
              "        vertical-align: middle;\n",
              "    }\n",
              "\n",
              "    .dataframe tbody tr th {\n",
              "        vertical-align: top;\n",
              "    }\n",
              "\n",
              "    .dataframe thead th {\n",
              "        text-align: right;\n",
              "    }\n",
              "</style>\n",
              "<table border=\"1\" class=\"dataframe\">\n",
              "  <thead>\n",
              "    <tr style=\"text-align: right;\">\n",
              "      <th></th>\n",
              "      <th>title</th>\n",
              "      <th>category</th>\n",
              "    </tr>\n",
              "  </thead>\n",
              "  <tbody>\n",
              "    <tr>\n",
              "      <th>0</th>\n",
              "      <td>4 Takeaways for the Future of Healthcare IT</td>\n",
              "      <td>INDUSTRY_UPDATE</td>\n",
              "    </tr>\n",
              "    <tr>\n",
              "      <th>1</th>\n",
              "      <td>We are thrilled to announce that Jeff was conf...</td>\n",
              "      <td>TWEETS</td>\n",
              "    </tr>\n",
              "    <tr>\n",
              "      <th>2</th>\n",
              "      <td>Cloud computing powers the worldâ€™s financial...</td>\n",
              "      <td>TECHNO_PICKS</td>\n",
              "    </tr>\n",
              "    <tr>\n",
              "      <th>3</th>\n",
              "      <td>Test Tweet</td>\n",
              "      <td>TWEETS</td>\n",
              "    </tr>\n",
              "    <tr>\n",
              "      <th>4</th>\n",
              "      <td>Test Tweet 2 From Srinivas H</td>\n",
              "      <td>TWEETS</td>\n",
              "    </tr>\n",
              "    <tr>\n",
              "      <th>5</th>\n",
              "      <td>Test Tweet From Android</td>\n",
              "      <td>TWEETS</td>\n",
              "    </tr>\n",
              "    <tr>\n",
              "      <th>6</th>\n",
              "      <td>Milestone | LinkedIn Followers Surpass 100k</td>\n",
              "      <td>COMPANY_INFORMATION</td>\n",
              "    </tr>\n",
              "    <tr>\n",
              "      <th>7</th>\n",
              "      <td>tweet 1</td>\n",
              "      <td>TWEETS</td>\n",
              "    </tr>\n",
              "    <tr>\n",
              "      <th>8</th>\n",
              "      <td>Tweet from Sprinters</td>\n",
              "      <td>TWEETS</td>\n",
              "    </tr>\n",
              "    <tr>\n",
              "      <th>9</th>\n",
              "      <td>Tweet for vibes channel test</td>\n",
              "      <td>TWEETS</td>\n",
              "    </tr>\n",
              "    <tr>\n",
              "      <th>10</th>\n",
              "      <td>Sprinters Tweet 2</td>\n",
              "      <td>TWEETS</td>\n",
              "    </tr>\n",
              "    <tr>\n",
              "      <th>11</th>\n",
              "      <td>Sprinters Tweet 3</td>\n",
              "      <td>TWEETS</td>\n",
              "    </tr>\n",
              "    <tr>\n",
              "      <th>12</th>\n",
              "      <td>Tweet 4 Sprinters</td>\n",
              "      <td>TWEETS</td>\n",
              "    </tr>\n",
              "    <tr>\n",
              "      <th>13</th>\n",
              "      <td>tweet 5 Sprinters</td>\n",
              "      <td>TWEETS</td>\n",
              "    </tr>\n",
              "    <tr>\n",
              "      <th>14</th>\n",
              "      <td>Tweet 6 Sprinters</td>\n",
              "      <td>TWEETS</td>\n",
              "    </tr>\n",
              "    <tr>\n",
              "      <th>15</th>\n",
              "      <td>Exclusive session on Agile Ways of Working</td>\n",
              "      <td>COMPANY_INFORMATION</td>\n",
              "    </tr>\n",
              "    <tr>\n",
              "      <th>16</th>\n",
              "      <td>Innovate and Inspire</td>\n",
              "      <td>STATIC_CONTENT</td>\n",
              "    </tr>\n",
              "    <tr>\n",
              "      <th>17</th>\n",
              "      <td>Innovate and Inspire</td>\n",
              "      <td>STATIC_CONTENT</td>\n",
              "    </tr>\n",
              "    <tr>\n",
              "      <th>18</th>\n",
              "      <td>Collider is back with the OWASP top 10 Part II</td>\n",
              "      <td>TWEETS</td>\n",
              "    </tr>\n",
              "    <tr>\n",
              "      <th>19</th>\n",
              "      <td>Keys to Secure Code Pt II: Reducing Risk for S...</td>\n",
              "      <td>COMPANY_INFORMATION</td>\n",
              "    </tr>\n",
              "    <tr>\n",
              "      <th>20</th>\n",
              "      <td>Long Service Awards - 5 Years - Suraj Bhojkar</td>\n",
              "      <td>COMPANY_INFORMATION</td>\n",
              "    </tr>\n",
              "    <tr>\n",
              "      <th>21</th>\n",
              "      <td>Inauguration of Chennai Office by Raj S | May ...</td>\n",
              "      <td>COMPANY_INFORMATION</td>\n",
              "    </tr>\n",
              "    <tr>\n",
              "      <th>22</th>\n",
              "      <td>Come and be part of the Chennai office Inaugur...</td>\n",
              "      <td>TWEETS</td>\n",
              "    </tr>\n",
              "    <tr>\n",
              "      <th>23</th>\n",
              "      <td>Milestone | LinkedIn Followers Surpass 100k</td>\n",
              "      <td>ALTIMETRIK_NEWS</td>\n",
              "    </tr>\n",
              "    <tr>\n",
              "      <th>24</th>\n",
              "      <td>Take a Break for Mental Health!</td>\n",
              "      <td>TWEETS</td>\n",
              "    </tr>\n",
              "    <tr>\n",
              "      <th>25</th>\n",
              "      <td>Employee Referral Virtual Drive - 14 May, 2022</td>\n",
              "      <td>COMPANY_INFORMATION</td>\n",
              "    </tr>\n",
              "    <tr>\n",
              "      <th>26</th>\n",
              "      <td>The Future Trends In Mobility And Transportation</td>\n",
              "      <td>INDUSTRY_UPDATE</td>\n",
              "    </tr>\n",
              "    <tr>\n",
              "      <th>27</th>\n",
              "      <td>The Keys to Pricing Power as Recession Looms</td>\n",
              "      <td>INDUSTRY_UPDATE</td>\n",
              "    </tr>\n",
              "    <tr>\n",
              "      <th>28</th>\n",
              "      <td>Intelligence and unified data governance in th...</td>\n",
              "      <td>TECHNO_PICKS</td>\n",
              "    </tr>\n",
              "    <tr>\n",
              "      <th>29</th>\n",
              "      <td>Creating a defined data centric space with AI ...</td>\n",
              "      <td>TECHNO_PICKS</td>\n",
              "    </tr>\n",
              "  </tbody>\n",
              "</table>\n",
              "</div>\n",
              "      <button class=\"colab-df-convert\" onclick=\"convertToInteractive('df-34917723-8419-4cc7-9339-aa386a97917f')\"\n",
              "              title=\"Convert this dataframe to an interactive table.\"\n",
              "              style=\"display:none;\">\n",
              "        \n",
              "  <svg xmlns=\"http://www.w3.org/2000/svg\" height=\"24px\"viewBox=\"0 0 24 24\"\n",
              "       width=\"24px\">\n",
              "    <path d=\"M0 0h24v24H0V0z\" fill=\"none\"/>\n",
              "    <path d=\"M18.56 5.44l.94 2.06.94-2.06 2.06-.94-2.06-.94-.94-2.06-.94 2.06-2.06.94zm-11 1L8.5 8.5l.94-2.06 2.06-.94-2.06-.94L8.5 2.5l-.94 2.06-2.06.94zm10 10l.94 2.06.94-2.06 2.06-.94-2.06-.94-.94-2.06-.94 2.06-2.06.94z\"/><path d=\"M17.41 7.96l-1.37-1.37c-.4-.4-.92-.59-1.43-.59-.52 0-1.04.2-1.43.59L10.3 9.45l-7.72 7.72c-.78.78-.78 2.05 0 2.83L4 21.41c.39.39.9.59 1.41.59.51 0 1.02-.2 1.41-.59l7.78-7.78 2.81-2.81c.8-.78.8-2.07 0-2.86zM5.41 20L4 18.59l7.72-7.72 1.47 1.35L5.41 20z\"/>\n",
              "  </svg>\n",
              "      </button>\n",
              "      \n",
              "  <style>\n",
              "    .colab-df-container {\n",
              "      display:flex;\n",
              "      flex-wrap:wrap;\n",
              "      gap: 12px;\n",
              "    }\n",
              "\n",
              "    .colab-df-convert {\n",
              "      background-color: #E8F0FE;\n",
              "      border: none;\n",
              "      border-radius: 50%;\n",
              "      cursor: pointer;\n",
              "      display: none;\n",
              "      fill: #1967D2;\n",
              "      height: 32px;\n",
              "      padding: 0 0 0 0;\n",
              "      width: 32px;\n",
              "    }\n",
              "\n",
              "    .colab-df-convert:hover {\n",
              "      background-color: #E2EBFA;\n",
              "      box-shadow: 0px 1px 2px rgba(60, 64, 67, 0.3), 0px 1px 3px 1px rgba(60, 64, 67, 0.15);\n",
              "      fill: #174EA6;\n",
              "    }\n",
              "\n",
              "    [theme=dark] .colab-df-convert {\n",
              "      background-color: #3B4455;\n",
              "      fill: #D2E3FC;\n",
              "    }\n",
              "\n",
              "    [theme=dark] .colab-df-convert:hover {\n",
              "      background-color: #434B5C;\n",
              "      box-shadow: 0px 1px 3px 1px rgba(0, 0, 0, 0.15);\n",
              "      filter: drop-shadow(0px 1px 2px rgba(0, 0, 0, 0.3));\n",
              "      fill: #FFFFFF;\n",
              "    }\n",
              "  </style>\n",
              "\n",
              "      <script>\n",
              "        const buttonEl =\n",
              "          document.querySelector('#df-34917723-8419-4cc7-9339-aa386a97917f button.colab-df-convert');\n",
              "        buttonEl.style.display =\n",
              "          google.colab.kernel.accessAllowed ? 'block' : 'none';\n",
              "\n",
              "        async function convertToInteractive(key) {\n",
              "          const element = document.querySelector('#df-34917723-8419-4cc7-9339-aa386a97917f');\n",
              "          const dataTable =\n",
              "            await google.colab.kernel.invokeFunction('convertToInteractive',\n",
              "                                                     [key], {});\n",
              "          if (!dataTable) return;\n",
              "\n",
              "          const docLinkHtml = 'Like what you see? Visit the ' +\n",
              "            '<a target=\"_blank\" href=https://colab.research.google.com/notebooks/data_table.ipynb>data table notebook</a>'\n",
              "            + ' to learn more about interactive tables.';\n",
              "          element.innerHTML = '';\n",
              "          dataTable['output_type'] = 'display_data';\n",
              "          await google.colab.output.renderOutput(dataTable, element);\n",
              "          const docLink = document.createElement('div');\n",
              "          docLink.innerHTML = docLinkHtml;\n",
              "          element.appendChild(docLink);\n",
              "        }\n",
              "      </script>\n",
              "    </div>\n",
              "  </div>\n",
              "  "
            ]
          },
          "metadata": {},
          "execution_count": 77
        }
      ],
      "source": [
        "testdata_1"
      ]
    },
    {
      "cell_type": "code",
      "source": [
        "xtest=list(testdata_1['title'])"
      ],
      "metadata": {
        "id": "y9ObJOKk3KIB"
      },
      "execution_count": 78,
      "outputs": []
    },
    {
      "cell_type": "code",
      "source": [
        "ytest=list(testdata_1['category'])"
      ],
      "metadata": {
        "id": "aIe2ykW53-_0"
      },
      "execution_count": 79,
      "outputs": []
    },
    {
      "cell_type": "code",
      "source": [
        "ytest"
      ],
      "metadata": {
        "colab": {
          "base_uri": "https://localhost:8080/"
        },
        "id": "9WdGP6JH-kLB",
        "outputId": "36b79d27-b5e0-4857-8f3b-f1828d588ddf"
      },
      "execution_count": 80,
      "outputs": [
        {
          "output_type": "execute_result",
          "data": {
            "text/plain": [
              "['INDUSTRY_UPDATE',\n",
              " 'TWEETS',\n",
              " 'TECHNO_PICKS',\n",
              " 'TWEETS',\n",
              " 'TWEETS',\n",
              " 'TWEETS',\n",
              " 'COMPANY_INFORMATION',\n",
              " 'TWEETS',\n",
              " 'TWEETS',\n",
              " 'TWEETS',\n",
              " 'TWEETS',\n",
              " 'TWEETS',\n",
              " 'TWEETS',\n",
              " 'TWEETS',\n",
              " 'TWEETS',\n",
              " 'COMPANY_INFORMATION',\n",
              " 'STATIC_CONTENT',\n",
              " 'STATIC_CONTENT',\n",
              " 'TWEETS',\n",
              " 'COMPANY_INFORMATION',\n",
              " 'COMPANY_INFORMATION',\n",
              " 'COMPANY_INFORMATION',\n",
              " 'TWEETS',\n",
              " 'ALTIMETRIK_NEWS',\n",
              " 'TWEETS',\n",
              " 'COMPANY_INFORMATION',\n",
              " 'INDUSTRY_UPDATE',\n",
              " 'INDUSTRY_UPDATE',\n",
              " 'TECHNO_PICKS',\n",
              " 'TECHNO_PICKS']"
            ]
          },
          "metadata": {},
          "execution_count": 80
        }
      ]
    },
    {
      "cell_type": "code",
      "source": [
        "y_pred=predictor.predict(xtest)"
      ],
      "metadata": {
        "colab": {
          "base_uri": "https://localhost:8080/"
        },
        "id": "Ia0wZtp32itm",
        "outputId": "e38fd76d-47fa-4f9e-93b8-61f10cc6965a"
      },
      "execution_count": 81,
      "outputs": [
        {
          "output_type": "stream",
          "name": "stdout",
          "text": [
            "1/1 [==============================] - 0s 130ms/step\n"
          ]
        }
      ]
    },
    {
      "cell_type": "code",
      "source": [
        "y_pred"
      ],
      "metadata": {
        "colab": {
          "base_uri": "https://localhost:8080/"
        },
        "id": "7QRcjXY92izB",
        "outputId": "f1ff3112-bf95-485a-a3f9-a58f06902c0c"
      },
      "execution_count": 82,
      "outputs": [
        {
          "output_type": "execute_result",
          "data": {
            "text/plain": [
              "['STORY_OF_THE_DAY',\n",
              " 'TWEETS',\n",
              " 'TECHNO_PICKS',\n",
              " 'TWEETS',\n",
              " 'TWEETS',\n",
              " 'TWEETS',\n",
              " 'COMPANY_INFORMATION',\n",
              " 'TWEETS',\n",
              " 'TWEETS',\n",
              " 'TWEETS',\n",
              " 'TWEETS',\n",
              " 'TWEETS',\n",
              " 'TWEETS',\n",
              " 'TWEETS',\n",
              " 'TWEETS',\n",
              " 'COMPANY_INFORMATION',\n",
              " 'TWEETS',\n",
              " 'TWEETS',\n",
              " 'STORY_OF_THE_DAY',\n",
              " 'COMPANY_INFORMATION',\n",
              " 'STORY_OF_THE_DAY',\n",
              " 'STORY_OF_THE_DAY',\n",
              " 'TWEETS',\n",
              " 'COMPANY_INFORMATION',\n",
              " 'STORY_OF_THE_DAY',\n",
              " 'COMPANY_INFORMATION',\n",
              " 'TECHNO_PICKS',\n",
              " 'INDUSTRY_UPDATE',\n",
              " 'TECHNO_PICKS',\n",
              " 'TECHNO_PICKS']"
            ]
          },
          "metadata": {},
          "execution_count": 82
        }
      ]
    },
    {
      "cell_type": "code",
      "source": [
        "from sklearn.metrics import accuracy_score"
      ],
      "metadata": {
        "id": "8srf_LvQ32NV"
      },
      "execution_count": 83,
      "outputs": []
    },
    {
      "cell_type": "code",
      "source": [
        "accuracy_score(ytest,y_pred)"
      ],
      "metadata": {
        "colab": {
          "base_uri": "https://localhost:8080/"
        },
        "id": "aXEp4DsC32UO",
        "outputId": "959de17e-7225-4984-9b1d-3ec64686c009"
      },
      "execution_count": 84,
      "outputs": [
        {
          "output_type": "execute_result",
          "data": {
            "text/plain": [
              "0.7"
            ]
          },
          "metadata": {},
          "execution_count": 84
        }
      ]
    },
    {
      "cell_type": "code",
      "source": [
        "predictor.predict_proba(xtest)"
      ],
      "metadata": {
        "id": "jHmk5I-Q32Y2",
        "outputId": "06d4f22f-c983-45a2-d560-71c06cae2e14",
        "colab": {
          "base_uri": "https://localhost:8080/"
        }
      },
      "execution_count": 85,
      "outputs": [
        {
          "output_type": "stream",
          "name": "stdout",
          "text": [
            "1/1 [==============================] - 0s 129ms/step\n"
          ]
        },
        {
          "output_type": "execute_result",
          "data": {
            "text/plain": [
              "array([[1.8925533e-03, 5.4461989e-03, 9.5893658e-04, 2.3087198e-02,\n",
              "        3.6853671e-04, 6.9780421e-04, 5.5634598e-03, 5.9990946e-04,\n",
              "        1.0583344e-02, 2.8864737e-03, 5.7721487e-04, 9.2161876e-01,\n",
              "        2.0303321e-03, 2.3371608e-03, 1.3594434e-03, 9.9670654e-04,\n",
              "        1.8995859e-02],\n",
              "       [9.8299247e-04, 2.9071150e-03, 4.2095469e-04, 4.8963269e-03,\n",
              "        3.1915290e-04, 4.0701049e-04, 9.4445073e-04, 5.1799673e-04,\n",
              "        2.3582981e-03, 4.1063328e-04, 1.9777419e-04, 7.0980410e-03,\n",
              "        1.7179358e-03, 1.0460250e-03, 2.6923054e-04, 9.7194868e-01,\n",
              "        3.5572869e-03],\n",
              "       [4.0193801e-04, 2.7013037e-03, 1.2922939e-03, 2.3233488e-03,\n",
              "        3.5257605e-04, 4.7586084e-04, 4.8866360e-03, 6.0212676e-04,\n",
              "        6.2024193e-03, 1.7764188e-03, 2.3466950e-04, 1.4827030e-02,\n",
              "        2.7315982e-03, 9.5638567e-01, 4.3827214e-04, 2.7614839e-03,\n",
              "        1.6062732e-03],\n",
              "       [5.7087286e-04, 4.2601067e-04, 2.0741766e-04, 1.1007568e-03,\n",
              "        1.6868614e-04, 2.2573950e-04, 5.0816243e-04, 3.3163492e-04,\n",
              "        7.3807820e-04, 1.6086093e-04, 8.1894999e-05, 7.1419566e-04,\n",
              "        1.5492811e-03, 4.2718192e-04, 9.9081051e-05, 9.9178910e-01,\n",
              "        9.0104446e-04],\n",
              "       [5.6419807e-04, 3.9293786e-04, 1.9681548e-04, 1.1891462e-03,\n",
              "        1.6274292e-04, 2.0874335e-04, 4.8005019e-04, 3.2727417e-04,\n",
              "        6.9863349e-04, 1.5936141e-04, 7.9521626e-05, 7.4756687e-04,\n",
              "        1.7228423e-03, 3.7702234e-04, 9.4890718e-05, 9.9160516e-01,\n",
              "        9.9303690e-04],\n",
              "       [5.4979831e-04, 4.2309277e-04, 1.7903731e-04, 1.3302120e-03,\n",
              "        1.5826242e-04, 1.9701112e-04, 4.3647323e-04, 3.0318374e-04,\n",
              "        6.7842397e-04, 1.5039231e-04, 7.4966774e-05, 7.4186333e-04,\n",
              "        1.3426518e-03, 3.8676761e-04, 9.1749833e-05, 9.9197477e-01,\n",
              "        9.8135928e-04],\n",
              "       [4.9268110e-03, 7.0234197e-03, 9.3652616e-04, 3.3949205e-01,\n",
              "        1.0780991e-03, 7.5512816e-04, 3.8667612e-03, 1.7762909e-03,\n",
              "        4.4152196e-03, 1.4618201e-03, 6.4307265e-04, 1.7254999e-01,\n",
              "        3.3353453e-03, 4.7732168e-03, 1.0838591e-03, 2.4403384e-01,\n",
              "        2.0784844e-01],\n",
              "       [5.4170989e-04, 4.5642658e-04, 2.0640694e-04, 1.2478455e-03,\n",
              "        1.7186708e-04, 2.3932462e-04, 5.1975390e-04, 3.2112090e-04,\n",
              "        7.7826408e-04, 1.6358262e-04, 8.4968953e-05, 8.3460310e-04,\n",
              "        1.3536233e-03, 4.6718135e-04, 9.8855191e-05, 9.9162638e-01,\n",
              "        8.8800990e-04],\n",
              "       [5.5602344e-04, 4.5914738e-04, 1.7088468e-04, 1.5384360e-03,\n",
              "        1.5536659e-04, 2.1621448e-04, 4.7550158e-04, 2.7609745e-04,\n",
              "        8.0839661e-04, 1.5254952e-04, 7.5223943e-05, 9.2587137e-04,\n",
              "        1.1036743e-03, 4.6092775e-04, 9.0298345e-05, 9.9155468e-01,\n",
              "        9.8058267e-04],\n",
              "       [5.0691166e-04, 3.9747771e-04, 1.7147610e-04, 1.2565540e-03,\n",
              "        1.4022754e-04, 1.8948861e-04, 4.2781403e-04, 2.7769554e-04,\n",
              "        6.9753156e-04, 1.4007837e-04, 6.9681650e-05, 8.1400829e-04,\n",
              "        1.2421635e-03, 3.8154691e-04, 8.4233776e-05, 9.9213529e-01,\n",
              "        1.0678107e-03],\n",
              "       [1.0243948e-03, 7.2976784e-04, 1.7110746e-04, 7.2085764e-03,\n",
              "        2.0832624e-04, 2.6370867e-04, 7.2031032e-04, 3.7870489e-04,\n",
              "        1.0797381e-03, 2.0315559e-04, 1.0375253e-04, 3.4508253e-03,\n",
              "        1.2991391e-03, 7.2126574e-04, 1.4470784e-04, 9.7970563e-01,\n",
              "        2.5870679e-03],\n",
              "       [1.1560917e-03, 8.0430025e-04, 1.7751209e-04, 8.9892121e-03,\n",
              "        2.2456415e-04, 2.8235235e-04, 7.9207920e-04, 4.0584628e-04,\n",
              "        1.1051896e-03, 2.1766644e-04, 1.1058384e-04, 4.1275611e-03,\n",
              "        1.3605256e-03, 7.7154930e-04, 1.5866726e-04, 9.7657597e-01,\n",
              "        2.7403277e-03],\n",
              "       [5.8665237e-04, 4.5913612e-04, 1.4760125e-04, 2.3391491e-03,\n",
              "        1.4757647e-04, 1.9010737e-04, 4.4024261e-04, 2.7273831e-04,\n",
              "        7.9854066e-04, 1.4270739e-04, 6.9856069e-05, 1.2915521e-03,\n",
              "        1.0249878e-03, 4.4701769e-04, 9.0315509e-05, 9.9024898e-01,\n",
              "        1.3029157e-03],\n",
              "       [5.8050134e-04, 4.5342476e-04, 1.4879757e-04, 2.2088964e-03,\n",
              "        1.4805148e-04, 1.9219659e-04, 4.4065158e-04, 2.7064336e-04,\n",
              "        8.0279197e-04, 1.4296627e-04, 6.9471578e-05, 1.2273424e-03,\n",
              "        1.0085023e-03, 4.4739942e-04, 8.8933746e-05, 9.9049789e-01,\n",
              "        1.2714647e-03],\n",
              "       [6.1131007e-04, 4.7148531e-04, 1.5221807e-04, 2.3826086e-03,\n",
              "        1.5280813e-04, 1.9864911e-04, 4.5878373e-04, 2.7694085e-04,\n",
              "        7.6998881e-04, 1.4704234e-04, 7.2455477e-05, 1.2363517e-03,\n",
              "        1.0262283e-03, 4.4981891e-04, 9.3627721e-05, 9.9026114e-01,\n",
              "        1.2385143e-03],\n",
              "       [4.5164484e-03, 3.8466421e-03, 4.0389536e-04, 6.3599658e-01,\n",
              "        4.4568285e-04, 4.2141910e-04, 3.7986124e-03, 6.8700133e-04,\n",
              "        1.2416265e-03, 9.4620115e-04, 3.3940119e-04, 2.8682312e-01,\n",
              "        1.4665523e-03, 2.3254203e-03, 8.7523361e-04, 1.0079028e-02,\n",
              "        4.5787148e-02],\n",
              "       [2.6413959e-03, 9.3908963e-04, 5.4804725e-04, 2.7572229e-03,\n",
              "        4.4612307e-04, 9.8498189e-04, 4.2753359e-03, 1.2462683e-03,\n",
              "        3.7138686e-03, 5.0853955e-04, 2.5786425e-04, 2.3624590e-03,\n",
              "        6.1592115e-03, 1.2664031e-03, 2.8928713e-04, 9.6877813e-01,\n",
              "        2.8256990e-03],\n",
              "       [2.6413959e-03, 9.3908963e-04, 5.4804725e-04, 2.7572229e-03,\n",
              "        4.4612307e-04, 9.8498189e-04, 4.2753359e-03, 1.2462683e-03,\n",
              "        3.7138686e-03, 5.0853955e-04, 2.5786425e-04, 2.3624590e-03,\n",
              "        6.1592115e-03, 1.2664031e-03, 2.8928713e-04, 9.6877813e-01,\n",
              "        2.8256990e-03],\n",
              "       [6.1483569e-03, 5.5932757e-03, 1.0123928e-03, 6.4677313e-02,\n",
              "        6.3830049e-04, 1.1467324e-03, 8.0969641e-03, 1.9159911e-03,\n",
              "        1.2639092e-02, 1.3987524e-03, 4.9068430e-04, 4.2235526e-01,\n",
              "        7.8401752e-03, 5.7326755e-03, 1.1534420e-03, 4.0593937e-01,\n",
              "        5.3221218e-02],\n",
              "       [5.6848875e-03, 3.8892711e-03, 4.0545093e-04, 9.0900409e-01,\n",
              "        9.1044989e-04, 5.2183605e-04, 2.7328923e-03, 8.6295727e-04,\n",
              "        6.6292245e-04, 7.2527886e-04, 3.9699386e-04, 4.0640663e-02,\n",
              "        1.4460541e-03, 1.6391824e-03, 9.7586506e-04, 2.4221471e-02,\n",
              "        5.2797445e-03],\n",
              "       [3.3754327e-03, 1.2424012e-02, 5.7741941e-04, 2.9199958e-01,\n",
              "        4.3616549e-04, 7.1092922e-04, 5.9257830e-03, 5.8129255e-04,\n",
              "        3.2559519e-03, 2.0108935e-03, 6.1099243e-04, 6.4063865e-01,\n",
              "        9.3442935e-04, 1.7851533e-03, 1.7206719e-03, 1.4909372e-03,\n",
              "        3.1521711e-02],\n",
              "       [3.4117196e-03, 4.1326634e-03, 9.2938298e-04, 7.9655074e-02,\n",
              "        3.7554908e-04, 1.0893166e-03, 1.1282257e-02, 1.0439891e-03,\n",
              "        3.0621137e-03, 1.8772406e-03, 6.6608115e-04, 7.2004139e-01,\n",
              "        2.0939345e-03, 2.1257189e-03, 1.3309630e-03, 3.5045876e-03,\n",
              "        1.6337806e-01],\n",
              "       [1.0597986e-03, 5.7136425e-04, 1.7179664e-04, 3.6489018e-03,\n",
              "        1.7723755e-04, 3.6047195e-04, 1.0559640e-03, 3.8915765e-04,\n",
              "        6.8296568e-04, 1.6239712e-04, 1.0305237e-04, 1.3983789e-03,\n",
              "        1.2197150e-03, 4.2219125e-04, 1.1907509e-04, 9.8684442e-01,\n",
              "        1.6131091e-03],\n",
              "       [4.9268110e-03, 7.0234197e-03, 9.3652616e-04, 3.3949205e-01,\n",
              "        1.0780991e-03, 7.5512816e-04, 3.8667612e-03, 1.7762909e-03,\n",
              "        4.4152196e-03, 1.4618201e-03, 6.4307265e-04, 1.7254999e-01,\n",
              "        3.3353453e-03, 4.7732168e-03, 1.0838591e-03, 2.4403384e-01,\n",
              "        2.0784844e-01],\n",
              "       [6.7779273e-03, 1.7451176e-02, 9.4449060e-04, 1.9978046e-01,\n",
              "        8.0069783e-04, 1.7913004e-03, 1.3114980e-02, 8.8158448e-04,\n",
              "        5.7189530e-03, 3.0051195e-03, 8.2181924e-04, 7.0699531e-01,\n",
              "        1.8260105e-03, 3.7794164e-03, 1.7834236e-03, 1.9683655e-02,\n",
              "        1.4843772e-02],\n",
              "       [2.9988519e-03, 4.3249987e-03, 3.0012624e-04, 9.5289594e-01,\n",
              "        5.3320924e-04, 3.4448909e-04, 1.3587807e-03, 5.6181703e-04,\n",
              "        5.4621429e-04, 5.6836178e-04, 2.8445668e-04, 2.2490585e-02,\n",
              "        6.8554876e-04, 8.7675411e-04, 7.7844219e-04, 7.7947294e-03,\n",
              "        2.6567797e-03],\n",
              "       [3.0217024e-03, 3.0570516e-02, 2.0060943e-02, 5.3258245e-03,\n",
              "        1.7057752e-03, 5.4880688e-03, 5.0399378e-02, 3.9855256e-03,\n",
              "        1.9744551e-01, 3.3194110e-02, 2.5346698e-03, 5.6866307e-02,\n",
              "        1.9279318e-02, 5.5253339e-01, 3.0487205e-03, 7.0645101e-03,\n",
              "        7.4757268e-03],\n",
              "       [9.1392273e-04, 2.5199819e-02, 2.0465276e-03, 2.8328749e-03,\n",
              "        5.5646332e-04, 1.4588846e-03, 9.0334369e-03, 1.0387709e-03,\n",
              "        8.3522969e-01, 1.2938967e-02, 8.0609752e-04, 5.5413015e-02,\n",
              "        1.9887602e-03, 4.0396862e-02, 1.0881025e-03, 3.0428681e-03,\n",
              "        6.0149068e-03],\n",
              "       [5.3211657e-04, 3.2132335e-03, 1.9926494e-03, 1.8979238e-03,\n",
              "        4.1829050e-04, 8.7626156e-04, 1.0852342e-02, 6.5653695e-04,\n",
              "        7.4661598e-03, 2.9700485e-03, 2.8263166e-04, 1.5588573e-02,\n",
              "        3.7813729e-03, 9.4534069e-01, 5.2419113e-04, 2.4105415e-03,\n",
              "        1.1964410e-03],\n",
              "       [7.0097792e-04, 2.8155316e-03, 2.4832399e-03, 2.7718502e-03,\n",
              "        5.3307833e-04, 9.4048696e-04, 1.1126381e-02, 9.3186216e-04,\n",
              "        5.5202190e-03, 2.2516220e-03, 3.2448210e-04, 1.2342007e-02,\n",
              "        1.0388494e-02, 9.3704742e-01, 5.7727250e-04, 7.6206480e-03,\n",
              "        1.6244532e-03]], dtype=float32)"
            ]
          },
          "metadata": {},
          "execution_count": 85
        }
      ]
    },
    {
      "cell_type": "markdown",
      "source": [
        "Load the saved model and predict"
      ],
      "metadata": {
        "id": "PqbadNpD3xfP"
      }
    },
    {
      "cell_type": "code",
      "source": [
        "predictor.save('category_classification')"
      ],
      "metadata": {
        "id": "KtsmpCwk5Kpl"
      },
      "execution_count": 86,
      "outputs": []
    },
    {
      "cell_type": "code",
      "source": [
        "import pickle\n",
        "from tensorflow.keras.models import load_model"
      ],
      "metadata": {
        "id": "Q5EBrBu_-jGc"
      },
      "execution_count": 87,
      "outputs": []
    },
    {
      "cell_type": "code",
      "source": [
        "# loading preprocess and model file\n",
        "features = pickle.load(open('category_classification/tf_model.preproc','rb'))\n",
        "new_model = load_model('category_classification/tf_model.h5')"
      ],
      "metadata": {
        "colab": {
          "base_uri": "https://localhost:8080/",
          "height": 345
        },
        "id": "qiIkilEE_CxQ",
        "outputId": "dd91e1e2-5e12-4011-c385-1ca0e3e1b6ba"
      },
      "execution_count": 90,
      "outputs": [
        {
          "output_type": "error",
          "ename": "ValueError",
          "evalue": "ignored",
          "traceback": [
            "\u001b[0;31m---------------------------------------------------------------------------\u001b[0m",
            "\u001b[0;31mValueError\u001b[0m                                Traceback (most recent call last)",
            "\u001b[0;32m<ipython-input-90-4b8b9f2885ce>\u001b[0m in \u001b[0;36m<module>\u001b[0;34m\u001b[0m\n\u001b[1;32m      1\u001b[0m \u001b[0;31m# loading preprocess and model file\u001b[0m\u001b[0;34m\u001b[0m\u001b[0;34m\u001b[0m\u001b[0;34m\u001b[0m\u001b[0m\n\u001b[1;32m      2\u001b[0m \u001b[0mfeatures\u001b[0m \u001b[0;34m=\u001b[0m \u001b[0mpickle\u001b[0m\u001b[0;34m.\u001b[0m\u001b[0mload\u001b[0m\u001b[0;34m(\u001b[0m\u001b[0mopen\u001b[0m\u001b[0;34m(\u001b[0m\u001b[0;34m'category_classification/tf_model.preproc'\u001b[0m\u001b[0;34m,\u001b[0m\u001b[0;34m'rb'\u001b[0m\u001b[0;34m)\u001b[0m\u001b[0;34m)\u001b[0m\u001b[0;34m\u001b[0m\u001b[0;34m\u001b[0m\u001b[0m\n\u001b[0;32m----> 3\u001b[0;31m \u001b[0mnew_model\u001b[0m \u001b[0;34m=\u001b[0m \u001b[0mload_model\u001b[0m\u001b[0;34m(\u001b[0m\u001b[0;34m'category_classification/tf_model.h5'\u001b[0m\u001b[0;34m)\u001b[0m\u001b[0;34m\u001b[0m\u001b[0;34m\u001b[0m\u001b[0m\n\u001b[0m",
            "\u001b[0;32m/usr/local/lib/python3.7/dist-packages/keras/utils/traceback_utils.py\u001b[0m in \u001b[0;36merror_handler\u001b[0;34m(*args, **kwargs)\u001b[0m\n\u001b[1;32m     68\u001b[0m             \u001b[0;31m# To get the full stack trace, call:\u001b[0m\u001b[0;34m\u001b[0m\u001b[0;34m\u001b[0m\u001b[0;34m\u001b[0m\u001b[0m\n\u001b[1;32m     69\u001b[0m             \u001b[0;31m# `tf.debugging.disable_traceback_filtering()`\u001b[0m\u001b[0;34m\u001b[0m\u001b[0;34m\u001b[0m\u001b[0;34m\u001b[0m\u001b[0m\n\u001b[0;32m---> 70\u001b[0;31m             \u001b[0;32mraise\u001b[0m \u001b[0me\u001b[0m\u001b[0;34m.\u001b[0m\u001b[0mwith_traceback\u001b[0m\u001b[0;34m(\u001b[0m\u001b[0mfiltered_tb\u001b[0m\u001b[0;34m)\u001b[0m \u001b[0;32mfrom\u001b[0m \u001b[0;32mNone\u001b[0m\u001b[0;34m\u001b[0m\u001b[0;34m\u001b[0m\u001b[0m\n\u001b[0m\u001b[1;32m     71\u001b[0m         \u001b[0;32mfinally\u001b[0m\u001b[0;34m:\u001b[0m\u001b[0;34m\u001b[0m\u001b[0;34m\u001b[0m\u001b[0m\n\u001b[1;32m     72\u001b[0m             \u001b[0;32mdel\u001b[0m \u001b[0mfiltered_tb\u001b[0m\u001b[0;34m\u001b[0m\u001b[0;34m\u001b[0m\u001b[0m\n",
            "\u001b[0;32m/usr/local/lib/python3.7/dist-packages/keras/saving/hdf5_format.py\u001b[0m in \u001b[0;36mload_model_from_hdf5\u001b[0;34m(filepath, custom_objects, compile)\u001b[0m\n\u001b[1;32m    193\u001b[0m         \u001b[0;32mif\u001b[0m \u001b[0mmodel_config\u001b[0m \u001b[0;32mis\u001b[0m \u001b[0;32mNone\u001b[0m\u001b[0;34m:\u001b[0m\u001b[0;34m\u001b[0m\u001b[0;34m\u001b[0m\u001b[0m\n\u001b[1;32m    194\u001b[0m             raise ValueError(\n\u001b[0;32m--> 195\u001b[0;31m                 \u001b[0;34mf\"No model config found in the file at {filepath}.\"\u001b[0m\u001b[0;34m\u001b[0m\u001b[0;34m\u001b[0m\u001b[0m\n\u001b[0m\u001b[1;32m    196\u001b[0m             )\n\u001b[1;32m    197\u001b[0m         \u001b[0;32mif\u001b[0m \u001b[0mhasattr\u001b[0m\u001b[0;34m(\u001b[0m\u001b[0mmodel_config\u001b[0m\u001b[0;34m,\u001b[0m \u001b[0;34m\"decode\"\u001b[0m\u001b[0;34m)\u001b[0m\u001b[0;34m:\u001b[0m\u001b[0;34m\u001b[0m\u001b[0;34m\u001b[0m\u001b[0m\n",
            "\u001b[0;31mValueError\u001b[0m: No model config found in the file at <tensorflow.python.platform.gfile.GFile object at 0x7f371d0d1a10>."
          ]
        }
      ]
    },
    {
      "cell_type": "code",
      "source": [],
      "metadata": {
        "id": "rGfWm25kB_yi"
      },
      "execution_count": null,
      "outputs": []
    }
  ],
  "metadata": {
    "accelerator": "GPU",
    "colab": {
      "provenance": [],
      "authorship_tag": "ABX9TyPhP/6QAkL/vl4hu7H92+rm",
      "include_colab_link": true
    },
    "kernelspec": {
      "display_name": "Python 3",
      "name": "python3"
    },
    "language_info": {
      "name": "python"
    }
  },
  "nbformat": 4,
  "nbformat_minor": 0
}