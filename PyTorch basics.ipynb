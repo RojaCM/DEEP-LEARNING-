{
  "nbformat": 4,
  "nbformat_minor": 0,
  "metadata": {
    "colab": {
      "provenance": [],
      "authorship_tag": "ABX9TyPGfaR1gM4VNfl+08dHaNhX",
      "include_colab_link": true
    },
    "kernelspec": {
      "name": "python3",
      "display_name": "Python 3"
    },
    "language_info": {
      "name": "python"
    }
  },
  "cells": [
    {
      "cell_type": "markdown",
      "metadata": {
        "id": "view-in-github",
        "colab_type": "text"
      },
      "source": [
        "<a href=\"https://colab.research.google.com/github/RojaCM/DEEP-LEARNING-/blob/main/PyTorch%20basics.ipynb\" target=\"_parent\"><img src=\"https://colab.research.google.com/assets/colab-badge.svg\" alt=\"Open In Colab\"/></a>"
      ]
    },
    {
      "cell_type": "markdown",
      "source": [
        "PYTORCH"
      ],
      "metadata": {
        "id": "7wWhPxccBx25"
      }
    },
    {
      "cell_type": "code",
      "source": [
        "import numpy as np\n",
        "import torch"
      ],
      "metadata": {
        "id": "oD9PZcDBB0pe"
      },
      "execution_count": 1,
      "outputs": []
    },
    {
      "cell_type": "code",
      "source": [
        "a=np.array(1)"
      ],
      "metadata": {
        "id": "H33bqSYoB0xN"
      },
      "execution_count": 2,
      "outputs": []
    },
    {
      "cell_type": "code",
      "source": [
        "b=torch.tensor(1)"
      ],
      "metadata": {
        "id": "TuAO_7rlB010"
      },
      "execution_count": 4,
      "outputs": []
    },
    {
      "cell_type": "code",
      "source": [
        "a"
      ],
      "metadata": {
        "colab": {
          "base_uri": "https://localhost:8080/"
        },
        "id": "EfMyMJtsB06Y",
        "outputId": "5b9d8efd-7e06-49f5-9752-cc8ee10db058"
      },
      "execution_count": 5,
      "outputs": [
        {
          "output_type": "execute_result",
          "data": {
            "text/plain": [
              "array(1)"
            ]
          },
          "metadata": {},
          "execution_count": 5
        }
      ]
    },
    {
      "cell_type": "code",
      "source": [
        "b"
      ],
      "metadata": {
        "colab": {
          "base_uri": "https://localhost:8080/"
        },
        "id": "kano4sjsB0_A",
        "outputId": "fef85c22-400d-4e5e-c758-00e0c409c5c1"
      },
      "execution_count": 6,
      "outputs": [
        {
          "output_type": "execute_result",
          "data": {
            "text/plain": [
              "tensor(1)"
            ]
          },
          "metadata": {},
          "execution_count": 6
        }
      ]
    },
    {
      "cell_type": "code",
      "source": [
        "type(a)"
      ],
      "metadata": {
        "colab": {
          "base_uri": "https://localhost:8080/"
        },
        "id": "5WGsNBBXB1Dx",
        "outputId": "62b8bedb-4e84-40a5-dd1a-1b70bbd9dd59"
      },
      "execution_count": 7,
      "outputs": [
        {
          "output_type": "execute_result",
          "data": {
            "text/plain": [
              "numpy.ndarray"
            ]
          },
          "metadata": {},
          "execution_count": 7
        }
      ]
    },
    {
      "cell_type": "code",
      "source": [
        "type(b)"
      ],
      "metadata": {
        "colab": {
          "base_uri": "https://localhost:8080/"
        },
        "id": "e7bd6Y4QB1Ia",
        "outputId": "e8073829-cf54-4a5b-f638-a7c42c055258"
      },
      "execution_count": 8,
      "outputs": [
        {
          "output_type": "execute_result",
          "data": {
            "text/plain": [
              "torch.Tensor"
            ]
          },
          "metadata": {},
          "execution_count": 8
        }
      ]
    },
    {
      "cell_type": "markdown",
      "source": [
        "Mathematical operations"
      ],
      "metadata": {
        "id": "f0Fa9MHCB1Rn"
      }
    },
    {
      "cell_type": "code",
      "source": [
        "c=np.array(2)"
      ],
      "metadata": {
        "id": "kGplBp_NDq9n"
      },
      "execution_count": 11,
      "outputs": []
    },
    {
      "cell_type": "code",
      "source": [
        "a+c"
      ],
      "metadata": {
        "colab": {
          "base_uri": "https://localhost:8080/"
        },
        "id": "lwKEJeH3DrA6",
        "outputId": "3c24b4d8-d04a-4024-bfc5-0c85f9393cd3"
      },
      "execution_count": 12,
      "outputs": [
        {
          "output_type": "execute_result",
          "data": {
            "text/plain": [
              "3"
            ]
          },
          "metadata": {},
          "execution_count": 12
        }
      ]
    },
    {
      "cell_type": "code",
      "source": [
        "a-c"
      ],
      "metadata": {
        "colab": {
          "base_uri": "https://localhost:8080/"
        },
        "id": "LR5ab0xMDrHG",
        "outputId": "30442096-66e3-4b3f-d01b-7f1dee2d7e6f"
      },
      "execution_count": 13,
      "outputs": [
        {
          "output_type": "execute_result",
          "data": {
            "text/plain": [
              "-1"
            ]
          },
          "metadata": {},
          "execution_count": 13
        }
      ]
    },
    {
      "cell_type": "code",
      "source": [
        "d=torch.tensor(5)"
      ],
      "metadata": {
        "id": "wy4j56R4EO97"
      },
      "execution_count": 14,
      "outputs": []
    },
    {
      "cell_type": "code",
      "source": [
        "b+d"
      ],
      "metadata": {
        "colab": {
          "base_uri": "https://localhost:8080/"
        },
        "id": "xBoO5u5aEPG1",
        "outputId": "63a1a124-45be-4186-cb57-2c08ddd7889b"
      },
      "execution_count": 15,
      "outputs": [
        {
          "output_type": "execute_result",
          "data": {
            "text/plain": [
              "tensor(6)"
            ]
          },
          "metadata": {},
          "execution_count": 15
        }
      ]
    },
    {
      "cell_type": "code",
      "source": [
        "a1=np.random.randn(3,3)\n",
        "a1"
      ],
      "metadata": {
        "colab": {
          "base_uri": "https://localhost:8080/"
        },
        "id": "oqlUhrH3DrLK",
        "outputId": "a5d75919-eb32-435a-9ce6-4df13a8ed59a"
      },
      "execution_count": 20,
      "outputs": [
        {
          "output_type": "execute_result",
          "data": {
            "text/plain": [
              "array([[ 1.0841792 , -0.25299436,  1.01465532],\n",
              "       [ 1.19243615,  0.03364076,  0.12519277],\n",
              "       [-0.96045486, -1.02552703, -0.83902501]])"
            ]
          },
          "metadata": {},
          "execution_count": 20
        }
      ]
    },
    {
      "cell_type": "code",
      "source": [
        "b1=np.random.randn(3,3)"
      ],
      "metadata": {
        "id": "Lk3PaX91EV3P"
      },
      "execution_count": 21,
      "outputs": []
    },
    {
      "cell_type": "code",
      "source": [
        "np.add(a1,b1)"
      ],
      "metadata": {
        "colab": {
          "base_uri": "https://localhost:8080/"
        },
        "id": "bJpzOm5wEV8O",
        "outputId": "9edd24dd-94dd-46f6-f5dd-f0292687fa75"
      },
      "execution_count": 22,
      "outputs": [
        {
          "output_type": "execute_result",
          "data": {
            "text/plain": [
              "array([[ 2.97435445, -1.54009267,  0.28769181],\n",
              "       [ 1.11552572, -1.85483199, -1.68687401],\n",
              "       [-1.08930393, -1.53479489, -2.2446926 ]])"
            ]
          },
          "metadata": {},
          "execution_count": 22
        }
      ]
    },
    {
      "cell_type": "code",
      "source": [
        "np.subtract(a1,b1)"
      ],
      "metadata": {
        "colab": {
          "base_uri": "https://localhost:8080/"
        },
        "id": "ltHeF45uB1V9",
        "outputId": "3d7c4e13-3a83-4fd7-a0ce-0a9d9add8f2a"
      },
      "execution_count": 23,
      "outputs": [
        {
          "output_type": "execute_result",
          "data": {
            "text/plain": [
              "array([[-0.80599605,  1.03410396,  1.74161883],\n",
              "       [ 1.26934659,  1.9221135 ,  1.93725955],\n",
              "       [-0.83160579, -0.51625916,  0.56664258]])"
            ]
          },
          "metadata": {},
          "execution_count": 23
        }
      ]
    },
    {
      "cell_type": "code",
      "source": [
        "np.dot(a1,b1)"
      ],
      "metadata": {
        "colab": {
          "base_uri": "https://localhost:8080/"
        },
        "id": "tl4awLyMMw7L",
        "outputId": "85cbda5d-7756-4918-c34d-e154f48b8da1"
      },
      "execution_count": 24,
      "outputs": [
        {
          "output_type": "execute_result",
          "data": {
            "text/plain": [
              "array([[ 1.93800921, -1.43440362, -1.75598415],\n",
              "       [ 2.23519501, -1.66206887, -1.10379629],\n",
              "       [-1.62844668,  3.60016815,  3.73592936]])"
            ]
          },
          "metadata": {},
          "execution_count": 24
        }
      ]
    },
    {
      "cell_type": "code",
      "source": [
        "np.divide(a1,b1)"
      ],
      "metadata": {
        "colab": {
          "base_uri": "https://localhost:8080/"
        },
        "id": "UgJoz15PMz5L",
        "outputId": "271a9c7a-03e5-49c0-93fd-bb8367489427"
      },
      "execution_count": 25,
      "outputs": [
        {
          "output_type": "execute_result",
          "data": {
            "text/plain": [
              "array([[  0.5735866 ,   0.1965618 ,  -1.3957445 ],\n",
              "       [-15.50421766,  -0.01781374,  -0.06908839],\n",
              "       [  7.454108  ,   2.01372813,   0.59688721]])"
            ]
          },
          "metadata": {},
          "execution_count": 25
        }
      ]
    },
    {
      "cell_type": "code",
      "source": [
        "np.transpose(a1)"
      ],
      "metadata": {
        "colab": {
          "base_uri": "https://localhost:8080/"
        },
        "id": "jPVsvQUPMz-o",
        "outputId": "621cf31a-e140-49b0-abeb-66b6e15b3775"
      },
      "execution_count": 27,
      "outputs": [
        {
          "output_type": "execute_result",
          "data": {
            "text/plain": [
              "array([[ 1.0841792 ,  1.19243615, -0.96045486],\n",
              "       [-0.25299436,  0.03364076, -1.02552703],\n",
              "       [ 1.01465532,  0.12519277, -0.83902501]])"
            ]
          },
          "metadata": {},
          "execution_count": 27
        }
      ]
    },
    {
      "cell_type": "code",
      "source": [
        "torch.manual_seed(42)\n",
        "\n",
        "d1=torch.randn(3,3)"
      ],
      "metadata": {
        "id": "XbQ1zBV7M8KH"
      },
      "execution_count": 29,
      "outputs": []
    },
    {
      "cell_type": "code",
      "source": [
        "d2=torch.randn(3,3)"
      ],
      "metadata": {
        "id": "yg2FNKewNCNO"
      },
      "execution_count": 30,
      "outputs": []
    },
    {
      "cell_type": "code",
      "source": [
        "torch.add(d1,d2)"
      ],
      "metadata": {
        "colab": {
          "base_uri": "https://localhost:8080/"
        },
        "id": "6aeMxTNFNb3I",
        "outputId": "df8fe28e-2b54-4363-fce5-be5e146786d0"
      },
      "execution_count": 31,
      "outputs": [
        {
          "output_type": "execute_result",
          "data": {
            "text/plain": [
              "tensor([[ 0.6040,  0.6637,  1.0438],\n",
              "        [ 1.3406, -2.8127, -1.1753],\n",
              "        [ 3.1662,  0.6841,  1.2788]])"
            ]
          },
          "metadata": {},
          "execution_count": 31
        }
      ]
    },
    {
      "cell_type": "code",
      "source": [
        "torch.sub(d1,d2)"
      ],
      "metadata": {
        "colab": {
          "base_uri": "https://localhost:8080/"
        },
        "id": "SI80jbxUNb8E",
        "outputId": "7aef75ed-9a0d-46cb-ba23-b2ef45be9dc0"
      },
      "execution_count": 32,
      "outputs": [
        {
          "output_type": "execute_result",
          "data": {
            "text/plain": [
              "tensor([[ 0.0693, -0.4061, -0.5749],\n",
              "        [-0.8800,  0.5669,  0.8026],\n",
              "        [ 1.2502, -1.9601, -0.3555]])"
            ]
          },
          "metadata": {},
          "execution_count": 32
        }
      ]
    },
    {
      "cell_type": "code",
      "source": [
        "torch.mm(d1,d2)"
      ],
      "metadata": {
        "colab": {
          "base_uri": "https://localhost:8080/"
        },
        "id": "yCq_jFcvNCRp",
        "outputId": "21983071-319a-4fe7-ec0c-9d2badd96558"
      },
      "execution_count": 33,
      "outputs": [
        {
          "output_type": "execute_result",
          "data": {
            "text/plain": [
              "tensor([[ 0.4576,  0.2724,  0.3367],\n",
              "        [-1.3636,  1.7743,  1.1446],\n",
              "        [ 0.3243,  2.8696,  2.7954]])"
            ]
          },
          "metadata": {},
          "execution_count": 33
        }
      ]
    },
    {
      "cell_type": "code",
      "source": [
        "torch.div(d1,d2)"
      ],
      "metadata": {
        "colab": {
          "base_uri": "https://localhost:8080/"
        },
        "id": "iPpT8dLkNqB_",
        "outputId": "45a2848f-4c7c-44bd-eddf-b5eb11b2e155"
      },
      "execution_count": 34,
      "outputs": [
        {
          "output_type": "execute_result",
          "data": {
            "text/plain": [
              "tensor([[ 1.2594,  0.2408,  0.2897],\n",
              "        [ 0.2075,  0.6645,  0.1884],\n",
              "        [ 2.3051, -0.4826,  0.5649]])"
            ]
          },
          "metadata": {},
          "execution_count": 34
        }
      ]
    },
    {
      "cell_type": "code",
      "source": [
        "torch.t(d1)"
      ],
      "metadata": {
        "colab": {
          "base_uri": "https://localhost:8080/"
        },
        "id": "cITA7xMCNqHH",
        "outputId": "5a0e039b-661c-477c-9f89-26491418f776"
      },
      "execution_count": 35,
      "outputs": [
        {
          "output_type": "execute_result",
          "data": {
            "text/plain": [
              "tensor([[ 0.3367,  0.2303,  2.2082],\n",
              "        [ 0.1288, -1.1229, -0.6380],\n",
              "        [ 0.2345, -0.1863,  0.4617]])"
            ]
          },
          "metadata": {},
          "execution_count": 35
        }
      ]
    },
    {
      "cell_type": "markdown",
      "source": [
        "#Concatenating Tensors"
      ],
      "metadata": {
        "id": "egaCLZIoNwxh"
      }
    },
    {
      "cell_type": "code",
      "source": [
        "w=torch.tensor([[1,2],[3,4]])"
      ],
      "metadata": {
        "id": "F5liu_KsOCzW"
      },
      "execution_count": 38,
      "outputs": []
    },
    {
      "cell_type": "code",
      "source": [
        "x=torch.tensor([[5,6],[7,8]])"
      ],
      "metadata": {
        "id": "nWrHvHaEOC4G"
      },
      "execution_count": 40,
      "outputs": []
    },
    {
      "cell_type": "code",
      "source": [
        "torch.cat((w,x))"
      ],
      "metadata": {
        "colab": {
          "base_uri": "https://localhost:8080/"
        },
        "id": "3F7PKKbjOC8f",
        "outputId": "1b97e1c0-a402-47de-be9c-258ae3f4587f"
      },
      "execution_count": 42,
      "outputs": [
        {
          "output_type": "execute_result",
          "data": {
            "text/plain": [
              "tensor([[1, 2],\n",
              "        [3, 4],\n",
              "        [5, 6],\n",
              "        [7, 8]])"
            ]
          },
          "metadata": {},
          "execution_count": 42
        }
      ]
    },
    {
      "cell_type": "code",
      "source": [
        "torch.cat((w,x),dim=1)"
      ],
      "metadata": {
        "colab": {
          "base_uri": "https://localhost:8080/"
        },
        "id": "o2KMV9zsODBh",
        "outputId": "1a0610ee-819f-477e-cd76-a0fc65899919"
      },
      "execution_count": 43,
      "outputs": [
        {
          "output_type": "execute_result",
          "data": {
            "text/plain": [
              "tensor([[1, 2, 5, 6],\n",
              "        [3, 4, 7, 8]])"
            ]
          },
          "metadata": {},
          "execution_count": 43
        }
      ]
    },
    {
      "cell_type": "markdown",
      "source": [
        "#Reshaping Tensors"
      ],
      "metadata": {
        "id": "esMbOzhiOzzT"
      }
    },
    {
      "cell_type": "code",
      "source": [
        "torch.manual_seed(42)\n",
        "y=torch.randn(2,4)"
      ],
      "metadata": {
        "id": "JMDpP0SkOz4e"
      },
      "execution_count": 45,
      "outputs": []
    },
    {
      "cell_type": "code",
      "source": [
        "y"
      ],
      "metadata": {
        "colab": {
          "base_uri": "https://localhost:8080/"
        },
        "id": "QThXvA3-Oz9Z",
        "outputId": "2333de22-92b2-48ad-8953-f4ff269f8b32"
      },
      "execution_count": 46,
      "outputs": [
        {
          "output_type": "execute_result",
          "data": {
            "text/plain": [
              "tensor([[ 0.3367,  0.1288,  0.2345,  0.2303],\n",
              "        [-1.1229, -0.1863,  2.2082, -0.6380]])"
            ]
          },
          "metadata": {},
          "execution_count": 46
        }
      ]
    },
    {
      "cell_type": "code",
      "source": [
        "y.reshape(1,8)"
      ],
      "metadata": {
        "colab": {
          "base_uri": "https://localhost:8080/"
        },
        "id": "muT1BIZtO0CW",
        "outputId": "773c9887-565f-4e65-8699-a08ea09e8f63"
      },
      "execution_count": 47,
      "outputs": [
        {
          "output_type": "execute_result",
          "data": {
            "text/plain": [
              "tensor([[ 0.3367,  0.1288,  0.2345,  0.2303, -1.1229, -0.1863,  2.2082, -0.6380]])"
            ]
          },
          "metadata": {},
          "execution_count": 47
        }
      ]
    },
    {
      "cell_type": "code",
      "source": [
        "a=np.array([[6,7],[8,9]])"
      ],
      "metadata": {
        "id": "8ix4rcnTODGr"
      },
      "execution_count": 48,
      "outputs": []
    },
    {
      "cell_type": "code",
      "source": [
        "torch.from_numpy(a)"
      ],
      "metadata": {
        "colab": {
          "base_uri": "https://localhost:8080/"
        },
        "id": "H0CMm2cGNw3e",
        "outputId": "25b64c39-26b8-4bcf-c141-b1793cac1752"
      },
      "execution_count": 49,
      "outputs": [
        {
          "output_type": "execute_result",
          "data": {
            "text/plain": [
              "tensor([[6, 7],\n",
              "        [8, 9]])"
            ]
          },
          "metadata": {},
          "execution_count": 49
        }
      ]
    },
    {
      "cell_type": "markdown",
      "source": [
        "Common PyTorch Modules\n",
        "Autograd Module"
      ],
      "metadata": {
        "id": "dBKp2VabM8Pe"
      }
    },
    {
      "cell_type": "markdown",
      "source": [
        "PyTorch uses a technique called automatic differentiation. It records all the operations that we are performing and replays it backward to compute gradients. This technique helps us to save time on each epoch as we are calculating the gradients on the forward pass itself."
      ],
      "metadata": {
        "id": "1wcOvyJTM0D8"
      }
    },
    {
      "cell_type": "code",
      "source": [
        "p=torch.ones(2,2,requires_grad=True)"
      ],
      "metadata": {
        "id": "m4gAI_ITMw_9"
      },
      "execution_count": 50,
      "outputs": []
    },
    {
      "cell_type": "code",
      "source": [
        "q=p+5"
      ],
      "metadata": {
        "id": "47VPy0xVMd-f"
      },
      "execution_count": 51,
      "outputs": []
    },
    {
      "cell_type": "code",
      "source": [
        "c=q.mean()"
      ],
      "metadata": {
        "id": "ExC6XLq5MeDV"
      },
      "execution_count": 52,
      "outputs": []
    },
    {
      "cell_type": "code",
      "source": [
        "c.backward()"
      ],
      "metadata": {
        "id": "a0VbM1NaB1ap"
      },
      "execution_count": 54,
      "outputs": []
    },
    {
      "cell_type": "code",
      "source": [
        "q"
      ],
      "metadata": {
        "colab": {
          "base_uri": "https://localhost:8080/"
        },
        "id": "Zu56ScgHR2Ob",
        "outputId": "2731703a-0a3a-4d07-943b-e3c7fa2331e4"
      },
      "execution_count": 55,
      "outputs": [
        {
          "output_type": "execute_result",
          "data": {
            "text/plain": [
              "tensor([[6., 6.],\n",
              "        [6., 6.]], grad_fn=<AddBackward0>)"
            ]
          },
          "metadata": {},
          "execution_count": 55
        }
      ]
    },
    {
      "cell_type": "code",
      "source": [
        "p.grad"
      ],
      "metadata": {
        "colab": {
          "base_uri": "https://localhost:8080/"
        },
        "id": "TQtDU4LhSKd6",
        "outputId": "c040a762-ce56-40cc-9639-b867245b8d7a"
      },
      "execution_count": 58,
      "outputs": [
        {
          "output_type": "execute_result",
          "data": {
            "text/plain": [
              "tensor([[0.2500, 0.2500],\n",
              "        [0.2500, 0.2500]])"
            ]
          },
          "metadata": {},
          "execution_count": 58
        }
      ]
    },
    {
      "cell_type": "markdown",
      "source": [
        "The autograd module helps us to compute the gradients in the forward pass itself which saves a lot of computation time of an epoch."
      ],
      "metadata": {
        "id": "pKwWtre8SNyK"
      }
    },
    {
      "cell_type": "markdown",
      "source": [
        "#OPTIM MODULE\n",
        "IT HAS PREWRITTEN CODES FOR THE OPTIMIZERS THAT ARE USED WHILE BUILDING THE NEURAL NETWORK.WE JUST HAVE TO IMPORT THEM AND THEN THEY CAN BE USED TO BUILD MODELS."
      ],
      "metadata": {
        "id": "8U872G0OSXwA"
      }
    },
    {
      "cell_type": "markdown",
      "source": [
        "# importing the optim module\n",
        "from torch import optim\n",
        "\n",
        "# adam\n",
        "## adam = optim.Adam(model.parameters(), lr=learning_rate)\n",
        "\n",
        "# sgd\n",
        "## SGD = optim.SGD(model.parameters(), lr=learning_rate)"
      ],
      "metadata": {
        "id": "nJKNVFkBSX0R"
      }
    },
    {
      "cell_type": "markdown",
      "source": [
        "Above are the examples to get the ADAM and SGD optimizers. Most of the commonly used optimizers are supported in PyTorch and hence we do not have to write them from scratch. Some of them are:\n",
        "\n",
        "SGD\n",
        "Adam\n",
        "Adadelta\n",
        "Adagrad\n",
        "AdamW\n",
        "SparseAdam\n",
        "Adamax\n",
        "ASGD (Averaged Stochastic Gradient Descent)\n",
        "RMSprop\n",
        "Rprop (resilient backpropagation)"
      ],
      "metadata": {
        "id": "IigioiVeSX4m"
      }
    },
    {
      "cell_type": "markdown",
      "source": [
        "Building a Neural Network from Scratch in PyTorch"
      ],
      "metadata": {
        "id": "R8NM6vo8SX9E"
      }
    },
    {
      "cell_type": "code",
      "source": [
        "#input tensor\n",
        "x=torch.tensor([[1,0,1,0],[1,0,1,1],[0,1,0,1]])"
      ],
      "metadata": {
        "id": "y19X0EPlSYBe"
      },
      "execution_count": 60,
      "outputs": []
    },
    {
      "cell_type": "code",
      "source": [
        "y=torch.tensor([[1],[1],[0]])"
      ],
      "metadata": {
        "id": "uo7zy38mSYFt"
      },
      "execution_count": 61,
      "outputs": []
    },
    {
      "cell_type": "code",
      "source": [
        "x"
      ],
      "metadata": {
        "colab": {
          "base_uri": "https://localhost:8080/"
        },
        "id": "KmP5Mby1SYKF",
        "outputId": "7f9d9ba8-b7fc-4d0d-bcb6-c5d62f2ba107"
      },
      "execution_count": 62,
      "outputs": [
        {
          "output_type": "execute_result",
          "data": {
            "text/plain": [
              "tensor([[1, 0, 1, 0],\n",
              "        [1, 0, 1, 1],\n",
              "        [0, 1, 0, 1]])"
            ]
          },
          "metadata": {},
          "execution_count": 62
        }
      ]
    },
    {
      "cell_type": "code",
      "source": [
        "y"
      ],
      "metadata": {
        "colab": {
          "base_uri": "https://localhost:8080/"
        },
        "id": "sBOoxScZYLc3",
        "outputId": "73b71acd-c17a-4a17-a690-3f491aa6d401"
      },
      "execution_count": 63,
      "outputs": [
        {
          "output_type": "execute_result",
          "data": {
            "text/plain": [
              "tensor([[1],\n",
              "        [1],\n",
              "        [0]])"
            ]
          },
          "metadata": {},
          "execution_count": 63
        }
      ]
    },
    {
      "cell_type": "markdown",
      "source": [
        "Next, we will define the sigmoid function which will act as the activation function and the derivative of the sigmoid function which will help us in the backpropagation step:"
      ],
      "metadata": {
        "id": "kgi5xYglYLhY"
      }
    },
    {
      "cell_type": "code",
      "source": [
        "#sigmoid function\n",
        "\n",
        "def sigmoid_fun(x):\n",
        "  return 1/(1+torch.exp(-x))"
      ],
      "metadata": {
        "id": "FDHST9eNYPJ3"
      },
      "execution_count": 64,
      "outputs": []
    },
    {
      "cell_type": "code",
      "source": [
        "def derivative_sig_fun(x):\n",
        "  return sigmoid(x) * (1-sigmoid(x))"
      ],
      "metadata": {
        "id": "jpCXU9o3YLmE"
      },
      "execution_count": 66,
      "outputs": []
    },
    {
      "cell_type": "code",
      "source": [
        "x.shape"
      ],
      "metadata": {
        "colab": {
          "base_uri": "https://localhost:8080/"
        },
        "id": "eJhevCcjZPjo",
        "outputId": "b17ef7d3-c43f-4e9e-8270-8c6d9517ecfb"
      },
      "execution_count": 69,
      "outputs": [
        {
          "output_type": "execute_result",
          "data": {
            "text/plain": [
              "torch.Size([3, 4])"
            ]
          },
          "metadata": {},
          "execution_count": 69
        }
      ]
    },
    {
      "cell_type": "markdown",
      "source": [
        "Next, initialize the parameters for our model including the number of epochs, learning rate, weights, biases, etc.:"
      ],
      "metadata": {
        "id": "qn2kHprfZe8w"
      }
    },
    {
      "cell_type": "code",
      "source": [
        "epochs=50\n",
        "learning_rate=0.1\n",
        "input_layers=x.shape[1]\n",
        "hidden_layers=3\n",
        "output_layers=1"
      ],
      "metadata": {
        "id": "UKo5PIHGZt8S"
      },
      "execution_count": 70,
      "outputs": []
    },
    {
      "cell_type": "code",
      "source": [
        "#weight and bias initialization\n",
        "wh=torch.randn(input_layers, hidden_layers)\n",
        "bh=torch.randn(1, hidden_layers)\n",
        "wout=torch.randn(hidden_layers, output_layers)\n",
        "bout=torch.randn(1, output_layers)"
      ],
      "metadata": {
        "id": "VDw7iOAxZuAm"
      },
      "execution_count": 81,
      "outputs": []
    },
    {
      "cell_type": "code",
      "source": [
        "for i in range(epochs):\n",
        "    #Forward Propogation\n",
        "    hidden_layer_input1 = torch.mm(x, wh)\n",
        "    hidden_layer_input = hidden_layer_input1 + bh\n",
        "    hidden_layer_activations = sigmoid(hidden_layer_input)\n",
        "\n",
        "    output_layer_input1 = torch.mm(hidden_layer_activations, wout)\n",
        "    output_layer_input = output_layer_input1 + bout\n",
        "    output = sigmoid(output_layer_input)\n",
        "\n",
        "     #Backpropagation\n",
        "    E = y-output\n",
        "    slope_output_layer = derivatives_sigmoid(output)\n",
        "    slope_hidden_layer = derivatives_sigmoid(hidden_layer_activations)\n",
        "    d_output = E * slope_output_layer\n",
        "    Error_at_hidden_layer = torch.mm(d_output, wout.t())\n",
        "    d_hiddenlayer = Error_at_hidden_layer * slope_hidden_layer\n",
        "    wout += torch.mm(hidden_layer_activations.t(), d_output) *lr\n",
        "    bout += d_output.sum() *lr\n",
        "    wh += torch.mm(X.t(), d_hiddenlayer) *lr\n",
        "    bh += d_output.sum() *lr"
      ],
      "metadata": {
        "colab": {
          "base_uri": "https://localhost:8080/",
          "height": 235
        },
        "id": "AjFCl0U5ZuEv",
        "outputId": "4c840a32-bd58-4c40-b21c-83b61254c1a7"
      },
      "execution_count": 83,
      "outputs": [
        {
          "output_type": "error",
          "ename": "RuntimeError",
          "evalue": "ignored",
          "traceback": [
            "\u001b[0;31m---------------------------------------------------------------------------\u001b[0m",
            "\u001b[0;31mRuntimeError\u001b[0m                              Traceback (most recent call last)",
            "\u001b[0;32m<ipython-input-83-035bf3b6195c>\u001b[0m in \u001b[0;36m<module>\u001b[0;34m\u001b[0m\n\u001b[1;32m      1\u001b[0m \u001b[0;32mfor\u001b[0m \u001b[0mi\u001b[0m \u001b[0;32min\u001b[0m \u001b[0mrange\u001b[0m\u001b[0;34m(\u001b[0m\u001b[0mepochs\u001b[0m\u001b[0;34m)\u001b[0m\u001b[0;34m:\u001b[0m\u001b[0;34m\u001b[0m\u001b[0;34m\u001b[0m\u001b[0m\n\u001b[1;32m      2\u001b[0m     \u001b[0;31m#Forward Propogation\u001b[0m\u001b[0;34m\u001b[0m\u001b[0;34m\u001b[0m\u001b[0;34m\u001b[0m\u001b[0m\n\u001b[0;32m----> 3\u001b[0;31m     \u001b[0mhidden_layer_input1\u001b[0m \u001b[0;34m=\u001b[0m \u001b[0mtorch\u001b[0m\u001b[0;34m.\u001b[0m\u001b[0mmm\u001b[0m\u001b[0;34m(\u001b[0m\u001b[0mx\u001b[0m\u001b[0;34m,\u001b[0m \u001b[0mwh\u001b[0m\u001b[0;34m)\u001b[0m\u001b[0;34m\u001b[0m\u001b[0;34m\u001b[0m\u001b[0m\n\u001b[0m\u001b[1;32m      4\u001b[0m     \u001b[0mhidden_layer_input\u001b[0m \u001b[0;34m=\u001b[0m \u001b[0mhidden_layer_input1\u001b[0m \u001b[0;34m+\u001b[0m \u001b[0mbh\u001b[0m\u001b[0;34m\u001b[0m\u001b[0;34m\u001b[0m\u001b[0m\n\u001b[1;32m      5\u001b[0m     \u001b[0mhidden_layer_activations\u001b[0m \u001b[0;34m=\u001b[0m \u001b[0msigmoid\u001b[0m\u001b[0;34m(\u001b[0m\u001b[0mhidden_layer_input\u001b[0m\u001b[0;34m)\u001b[0m\u001b[0;34m\u001b[0m\u001b[0;34m\u001b[0m\u001b[0m\n",
            "\u001b[0;31mRuntimeError\u001b[0m: expected scalar type Long but found Float"
          ]
        }
      ]
    },
    {
      "cell_type": "code",
      "source": [],
      "metadata": {
        "id": "OhSCO2IIZuI5"
      },
      "execution_count": null,
      "outputs": []
    },
    {
      "cell_type": "code",
      "source": [],
      "metadata": {
        "id": "usetFKL2ZuNX"
      },
      "execution_count": null,
      "outputs": []
    }
  ]
}