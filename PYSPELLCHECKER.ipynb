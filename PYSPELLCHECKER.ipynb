{
  "nbformat": 4,
  "nbformat_minor": 0,
  "metadata": {
    "colab": {
      "provenance": [],
      "collapsed_sections": [],
      "authorship_tag": "ABX9TyNZW2xsYeKFT2G+Y1Z6guyg",
      "include_colab_link": true
    },
    "kernelspec": {
      "name": "python3",
      "display_name": "Python 3"
    },
    "language_info": {
      "name": "python"
    }
  },
  "cells": [
    {
      "cell_type": "markdown",
      "metadata": {
        "id": "view-in-github",
        "colab_type": "text"
      },
      "source": [
        "<a href=\"https://colab.research.google.com/github/RojaCM/DEEP-LEARNING-/blob/main/PYSPELLCHECKER.ipynb\" target=\"_parent\"><img src=\"https://colab.research.google.com/assets/colab-badge.svg\" alt=\"Open In Colab\"/></a>"
      ]
    },
    {
      "cell_type": "markdown",
      "source": [
        "#PYSPELL CHECKER"
      ],
      "metadata": {
        "id": "N2IkjVpt-uoy"
      }
    },
    {
      "cell_type": "code",
      "source": [
        "pip install pyspellchecker"
      ],
      "metadata": {
        "colab": {
          "base_uri": "https://localhost:8080/"
        },
        "id": "nmA-WZcf-1TH",
        "outputId": "4975d6a7-c389-476f-ef67-d985edf11918"
      },
      "execution_count": 1,
      "outputs": [
        {
          "output_type": "stream",
          "name": "stdout",
          "text": [
            "Looking in indexes: https://pypi.org/simple, https://us-python.pkg.dev/colab-wheels/public/simple/\n",
            "Collecting pyspellchecker\n",
            "  Downloading pyspellchecker-0.7.0-py3-none-any.whl (2.5 MB)\n",
            "\u001b[K     |████████████████████████████████| 2.5 MB 5.2 MB/s \n",
            "\u001b[?25hInstalling collected packages: pyspellchecker\n",
            "Successfully installed pyspellchecker-0.7.0\n"
          ]
        }
      ]
    },
    {
      "cell_type": "code",
      "source": [
        "from spellchecker import SpellChecker"
      ],
      "metadata": {
        "id": "LTmrsvvQ-1Vj"
      },
      "execution_count": 2,
      "outputs": []
    },
    {
      "cell_type": "code",
      "source": [
        "spell=SpellChecker()"
      ],
      "metadata": {
        "id": "azYTPu1g-1YG"
      },
      "execution_count": 3,
      "outputs": []
    },
    {
      "cell_type": "code",
      "source": [
        "#function that take an input as query/sentence that may be contains mispelled words and returns the sentences by correcting the mispelled words\n",
        "\n",
        "def spellcheck_correction(query):\n",
        "\n",
        "  #splitting the sentences into list of words\n",
        "  words=query.split()\n",
        "\n",
        "  #function 'Unknown' find out the words in a sentence that may be mispelled\n",
        "\n",
        "  mispelled_words=spell.unknown(words)\n",
        "  print(f'mispelled words in a sentences are {mispelled_words}')\n",
        "\n",
        "   #method  'correction' returns the corrected mispelled words\n",
        "\n",
        "  for word in mispelled_words:\n",
        "      print(f'correct word for {word} is {spell.correction(word)}')\n",
        "\n",
        "  print(\"======= the corrected sentence is below :===========\")\n",
        "\n",
        "  corrected_sentence_list=[]\n",
        "  corrected_sentence=''\n",
        "\n",
        "  #loop over each words in a sentence ,if a word is mispelled ,the method 'correction' is able to correct the mispelled word\n",
        "\n",
        "  for word in words:\n",
        "    corrected_sentence_list.append(spell.correction(word))\n",
        "  \n",
        "  #joining the corrected mispelled words into the variable 'corrected_sentence' and return it.\n",
        "\n",
        "  corrected_sentence += ' '.join(corrected_sentence_list)\n",
        "\n",
        "  return corrected_sentence"
      ],
      "metadata": {
        "id": "ZEDKK_vY_Kgk"
      },
      "execution_count": 4,
      "outputs": []
    },
    {
      "cell_type": "code",
      "source": [
        "spellcheck_correction(\"Altimetrk Corporte Websit Maintnance\")"
      ],
      "metadata": {
        "colab": {
          "base_uri": "https://localhost:8080/",
          "height": 140
        },
        "id": "cYNMpq5nAoyL",
        "outputId": "66a977a6-4ee9-4a8b-e10c-3a34ee299c0b"
      },
      "execution_count": 6,
      "outputs": [
        {
          "output_type": "stream",
          "name": "stdout",
          "text": [
            "mispelled words in a sentences are {'altimetrk', 'websit', 'maintnance', 'corporte'}\n",
            "correct word for altimetrk is altimeter\n",
            "correct word for websit is website\n",
            "correct word for maintnance is maintenance\n",
            "correct word for corporte is corporate\n",
            "======= the corrected sentence is below :===========\n"
          ]
        },
        {
          "output_type": "execute_result",
          "data": {
            "text/plain": [
              "'altimeter corporate website maintenance'"
            ],
            "application/vnd.google.colaboratory.intrinsic+json": {
              "type": "string"
            }
          },
          "metadata": {},
          "execution_count": 6
        }
      ]
    },
    {
      "cell_type": "code",
      "source": [
        "def spellcheck_correction1(sentence):\n",
        "        isSpellCorrected = False\n",
        "        # splitting the sentences into list of words\n",
        "        print(sentence)\n",
        "        words = sentence.split()\n",
        "        print(words)\n",
        "\n",
        "        # function 'Unknown' find out the words in a sentence that may be mispelled\n",
        "        mispelled_words = spell.unknown(words)\n",
        "\n",
        "        if len(mispelled_words) > 0:\n",
        "            isSpellCorrected = True\n",
        "\n",
        "        #print(f'mispelled words in a sentences are {mispelled_words}')\n",
        "        # method  'correction' returns the corrected mispelled words\n",
        "        #for word in mispelled_words:\n",
        "        #print(f'correct word for {word} is {spell.correction(word)}')\n",
        "        #print(\"======= the corrected sentence is below :===========\")\n",
        "\n",
        "        corrected_sentence_list = []\n",
        "        corrected_sentence = ''\n",
        "\n",
        "        # loop over each words in a sentence ,if a word is mispelled ,the method 'correction' is able to correct the mispelled word\n",
        "        for word in words:\n",
        "            corrected_sentence_list.append(spell.correction(word))\n",
        "\n",
        "        # joining the corrected mispelled words into the variable 'corrected_sentence' and return it.\n",
        "        print(corrected_sentence_list)\n",
        "        for i in range(len(corrected_sentence_list)):\n",
        "          if corrected_sentence_list[i] is None:\n",
        "            corrected_sentence_list[i]=words[i]\n",
        "\n",
        "\n",
        "        print(corrected_sentence_list)\n",
        "        corrected_sentence += ' '.join(corrected_sentence_list)\n",
        "        return isSpellCorrected,corrected_sentence"
      ],
      "metadata": {
        "id": "T7WtjmeCIHLV"
      },
      "execution_count": 49,
      "outputs": []
    },
    {
      "cell_type": "code",
      "source": [
        "spellcheck_correction1(\"Altimetrik Corporae Website Maintennce Y2023\")"
      ],
      "metadata": {
        "id": "qtv0OdraIHQq",
        "outputId": "3585c8ab-4f6e-4933-bc23-15e0c9fa33f4",
        "colab": {
          "base_uri": "https://localhost:8080/"
        }
      },
      "execution_count": 50,
      "outputs": [
        {
          "output_type": "stream",
          "name": "stdout",
          "text": [
            "Altimetrik Corporae Website Maintennce Y2023\n",
            "['Altimetrik', 'Corporae', 'Website', 'Maintennce', 'Y2023']\n",
            "[None, 'corporate', 'Website', 'maintenance', None]\n",
            "['Altimetrik', 'corporate', 'Website', 'maintenance', 'Y2023']\n"
          ]
        },
        {
          "output_type": "execute_result",
          "data": {
            "text/plain": [
              "(True, 'Altimetrik corporate Website maintenance Y2023')"
            ]
          },
          "metadata": {},
          "execution_count": 50
        }
      ]
    },
    {
      "cell_type": "code",
      "source": [
        "a=[None, 'corporate', 'Website', 'maintenance', '2023']"
      ],
      "metadata": {
        "id": "rBOKj6Y1IHbG"
      },
      "execution_count": 26,
      "outputs": []
    },
    {
      "cell_type": "code",
      "source": [
        "for i in a:\n",
        "  print(type(i))"
      ],
      "metadata": {
        "id": "mcbqptSJGE9T",
        "outputId": "261311e3-a378-460f-bf5e-d01a2daf2259",
        "colab": {
          "base_uri": "https://localhost:8080/"
        }
      },
      "execution_count": 27,
      "outputs": [
        {
          "output_type": "stream",
          "name": "stdout",
          "text": [
            "<class 'NoneType'>\n",
            "<class 'str'>\n",
            "<class 'str'>\n",
            "<class 'str'>\n",
            "<class 'str'>\n"
          ]
        }
      ]
    },
    {
      "cell_type": "code",
      "source": [],
      "metadata": {
        "id": "cIWa__LuGFCX"
      },
      "execution_count": null,
      "outputs": []
    },
    {
      "cell_type": "code",
      "source": [],
      "metadata": {
        "id": "m8uBv_itD4GV"
      },
      "execution_count": null,
      "outputs": []
    },
    {
      "cell_type": "code",
      "source": [],
      "metadata": {
        "id": "uRWuTvV4D4Lh"
      },
      "execution_count": null,
      "outputs": []
    },
    {
      "cell_type": "code",
      "source": [],
      "metadata": {
        "id": "xr3qBMSuGFG6"
      },
      "execution_count": null,
      "outputs": []
    },
    {
      "cell_type": "code",
      "source": [],
      "metadata": {
        "id": "wetYbktdGFME"
      },
      "execution_count": null,
      "outputs": []
    },
    {
      "cell_type": "code",
      "source": [],
      "metadata": {
        "id": "UQ0XQujdFtra"
      },
      "execution_count": null,
      "outputs": []
    },
    {
      "cell_type": "code",
      "source": [],
      "metadata": {
        "id": "nDNAgrJBFtxT"
      },
      "execution_count": null,
      "outputs": []
    },
    {
      "cell_type": "code",
      "source": [],
      "metadata": {
        "id": "bkfk1dzeFuBB"
      },
      "execution_count": null,
      "outputs": []
    },
    {
      "cell_type": "code",
      "source": [],
      "metadata": {
        "id": "JWOJ-ZNNFuHI"
      },
      "execution_count": null,
      "outputs": []
    },
    {
      "cell_type": "code",
      "source": [],
      "metadata": {
        "id": "Mk-oHEa1AmDk"
      },
      "execution_count": null,
      "outputs": []
    },
    {
      "cell_type": "code",
      "source": [],
      "metadata": {
        "id": "pVDGyMhHAmH2"
      },
      "execution_count": null,
      "outputs": []
    },
    {
      "cell_type": "code",
      "source": [],
      "metadata": {
        "id": "-K6mJ7y__KlK"
      },
      "execution_count": null,
      "outputs": []
    },
    {
      "cell_type": "code",
      "source": [],
      "metadata": {
        "id": "6mO3RVfd_Kpw"
      },
      "execution_count": null,
      "outputs": []
    },
    {
      "cell_type": "code",
      "source": [],
      "metadata": {
        "id": "LNTomPc3_KuU"
      },
      "execution_count": null,
      "outputs": []
    },
    {
      "cell_type": "code",
      "source": [],
      "metadata": {
        "id": "IdN8F2LT_KzC"
      },
      "execution_count": null,
      "outputs": []
    },
    {
      "cell_type": "code",
      "source": [],
      "metadata": {
        "id": "5GdTaWcO-1l0"
      },
      "execution_count": null,
      "outputs": []
    },
    {
      "cell_type": "code",
      "source": [],
      "metadata": {
        "id": "cKf4kXk--1os"
      },
      "execution_count": null,
      "outputs": []
    },
    {
      "cell_type": "code",
      "source": [],
      "metadata": {
        "id": "Z3ud76cr-1sI"
      },
      "execution_count": null,
      "outputs": []
    }
  ]
}