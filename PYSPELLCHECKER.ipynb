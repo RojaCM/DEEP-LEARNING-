{
  "nbformat": 4,
  "nbformat_minor": 0,
  "metadata": {
    "colab": {
      "provenance": [],
      "collapsed_sections": [],
      "authorship_tag": "ABX9TyOiMtUStR+zuy8YNKNoGCDp",
      "include_colab_link": true
    },
    "kernelspec": {
      "name": "python3",
      "display_name": "Python 3"
    },
    "language_info": {
      "name": "python"
    }
  },
  "cells": [
    {
      "cell_type": "markdown",
      "metadata": {
        "id": "view-in-github",
        "colab_type": "text"
      },
      "source": [
        "<a href=\"https://colab.research.google.com/github/RojaCM/DEEP-LEARNING-/blob/main/PYSPELLCHECKER.ipynb\" target=\"_parent\"><img src=\"https://colab.research.google.com/assets/colab-badge.svg\" alt=\"Open In Colab\"/></a>"
      ]
    },
    {
      "cell_type": "markdown",
      "source": [
        "#PYSPELL CHECKER"
      ],
      "metadata": {
        "id": "N2IkjVpt-uoy"
      }
    },
    {
      "cell_type": "code",
      "source": [
        "pip install pyspellchecker"
      ],
      "metadata": {
        "colab": {
          "base_uri": "https://localhost:8080/"
        },
        "id": "nmA-WZcf-1TH",
        "outputId": "b9b4b2f4-14b7-478d-be53-f6f5b453f24a"
      },
      "execution_count": 1,
      "outputs": [
        {
          "output_type": "stream",
          "name": "stdout",
          "text": [
            "Looking in indexes: https://pypi.org/simple, https://us-python.pkg.dev/colab-wheels/public/simple/\n",
            "Collecting pyspellchecker\n",
            "  Downloading pyspellchecker-0.7.0-py3-none-any.whl (2.5 MB)\n",
            "\u001b[K     |████████████████████████████████| 2.5 MB 4.0 MB/s \n",
            "\u001b[?25hInstalling collected packages: pyspellchecker\n",
            "Successfully installed pyspellchecker-0.7.0\n"
          ]
        }
      ]
    },
    {
      "cell_type": "code",
      "source": [
        "from spellchecker import SpellChecker"
      ],
      "metadata": {
        "id": "LTmrsvvQ-1Vj"
      },
      "execution_count": 2,
      "outputs": []
    },
    {
      "cell_type": "code",
      "source": [
        "spell=SpellChecker()"
      ],
      "metadata": {
        "id": "azYTPu1g-1YG"
      },
      "execution_count": 3,
      "outputs": []
    },
    {
      "cell_type": "code",
      "source": [
        "#function that take an input as query/sentence that may be contains mispelled words and returns the sentences by correcting the mispelled words\n",
        "\n",
        "def spellcheck_correction(query):\n",
        "\n",
        "  #splitting the sentences into list of words\n",
        "  words=query.split()\n",
        "\n",
        "  #function 'Unknown' find out the words in a sentence that may be mispelled\n",
        "\n",
        "  mispelled_words=spell.unknown(words)\n",
        "  print(f'mispelled words in a sentences are {mispelled_words}')\n",
        "\n",
        "   #method  'correction' returns the corrected mispelled words\n",
        "\n",
        "  for word in mispelled_words:\n",
        "      print(f'correct word for {word} is {spell.correction(word)}')\n",
        "\n",
        "  print(\"======= the corrected sentence is below :===========\")\n",
        "\n",
        "  corrected_sentence_list=[]\n",
        "  corrected_sentence=''\n",
        "\n",
        "  #loop over each words in a sentence ,if a word is mispelled ,the method 'correction' is able to correct the mispelled word\n",
        "\n",
        "  for word in words:\n",
        "    corrected_sentence_list.append(spell.correction(word))\n",
        "  \n",
        "  #joining the corrected mispelled words into the variable 'corrected_sentence' and return it.\n",
        "\n",
        "  corrected_sentence += ' '.join(corrected_sentence_list)\n",
        "\n",
        "  return corrected_sentence"
      ],
      "metadata": {
        "id": "ZEDKK_vY_Kgk"
      },
      "execution_count": 67,
      "outputs": []
    },
    {
      "cell_type": "code",
      "source": [
        "spellcheck_correction(query)"
      ],
      "metadata": {
        "colab": {
          "base_uri": "https://localhost:8080/",
          "height": 157
        },
        "id": "cYNMpq5nAoyL",
        "outputId": "86a74752-a98b-415b-a578-7cdef38a8b95"
      },
      "execution_count": 68,
      "outputs": [
        {
          "output_type": "stream",
          "name": "stdout",
          "text": [
            "mispelled words in a sentences are {'enure', 'securty', 'emering', 'rbust', 'technoloies'}\n",
            "correct word for enure is ensure\n",
            "correct word for securty is security\n",
            "correct word for emering is emerging\n",
            "correct word for rbust is bust\n",
            "correct word for technoloies is technologies\n",
            "======= the corrected sentence is below :===========\n"
          ]
        },
        {
          "output_type": "execute_result",
          "data": {
            "text/plain": [
              "'emerging technologies can ensure bust cyber security'"
            ],
            "application/vnd.google.colaboratory.intrinsic+json": {
              "type": "string"
            }
          },
          "metadata": {},
          "execution_count": 68
        }
      ]
    },
    {
      "cell_type": "code",
      "source": [
        "query1='Rewrds & Reconition'"
      ],
      "metadata": {
        "id": "jy6CYrfEAo16"
      },
      "execution_count": 55,
      "outputs": []
    },
    {
      "cell_type": "code",
      "source": [
        "spellcheck_correction(query1)"
      ],
      "metadata": {
        "colab": {
          "base_uri": "https://localhost:8080/",
          "height": 105
        },
        "id": "svW_PvkfAo5l",
        "outputId": "6cbc77b4-2b90-4f2e-f8a6-b7b1c0db016d"
      },
      "execution_count": 69,
      "outputs": [
        {
          "output_type": "stream",
          "name": "stdout",
          "text": [
            "mispelled words in a sentences are {'rewrds', 'reconition'}\n",
            "correct word for rewrds is rewards\n",
            "correct word for reconition is recognition\n",
            "======= the corrected sentence is below :===========\n"
          ]
        },
        {
          "output_type": "execute_result",
          "data": {
            "text/plain": [
              "'rewards & recognition'"
            ],
            "application/vnd.google.colaboratory.intrinsic+json": {
              "type": "string"
            }
          },
          "metadata": {},
          "execution_count": 69
        }
      ]
    },
    {
      "cell_type": "code",
      "source": [
        "query2='Trends in Digtal Buiness, in convsation with Raj V - Executive Chirman'"
      ],
      "metadata": {
        "id": "vpz7HzZ2ApBV"
      },
      "execution_count": 57,
      "outputs": []
    },
    {
      "cell_type": "code",
      "source": [
        "spellcheck_correction(query2)"
      ],
      "metadata": {
        "colab": {
          "base_uri": "https://localhost:8080/",
          "height": 157
        },
        "id": "j3eEppUpFKW9",
        "outputId": "800cfa95-4eab-43e3-d909-3f5c69f8e3fe"
      },
      "execution_count": 58,
      "outputs": [
        {
          "output_type": "stream",
          "name": "stdout",
          "text": [
            "mispelled words in a sentences are {'digtal', 'buiness,', 'v', 'convsation', 'chirman'}\n",
            "correct word is  digital\n",
            "correct word is  business\n",
            "correct word is  i\n",
            "correct word is  conversation\n",
            "correct word is  chairman\n",
            "======= the corrected sentence is below :===========\n"
          ]
        },
        {
          "output_type": "execute_result",
          "data": {
            "text/plain": [
              "'Trends in digital business in conversation with Raj i - Executive chairman'"
            ],
            "application/vnd.google.colaboratory.intrinsic+json": {
              "type": "string"
            }
          },
          "metadata": {},
          "execution_count": 58
        }
      ]
    },
    {
      "cell_type": "code",
      "source": [
        "query3='Meet Tree Innovtions That Are Disupting the Futre of Tech'"
      ],
      "metadata": {
        "id": "Ad2BXlzHFKcR"
      },
      "execution_count": 61,
      "outputs": []
    },
    {
      "cell_type": "code",
      "source": [
        "spellcheck_correction(query3)"
      ],
      "metadata": {
        "colab": {
          "base_uri": "https://localhost:8080/",
          "height": 122
        },
        "id": "fpx9P07wGEzx",
        "outputId": "8c2757ee-561f-4563-f690-c9361415f5bb"
      },
      "execution_count": 62,
      "outputs": [
        {
          "output_type": "stream",
          "name": "stdout",
          "text": [
            "mispelled words in a sentences are {'innovtions', 'futre', 'disupting'}\n",
            "correct word is  innovations\n",
            "correct word is  future\n",
            "correct word is  disrupting\n",
            "======= the corrected sentence is below :===========\n"
          ]
        },
        {
          "output_type": "execute_result",
          "data": {
            "text/plain": [
              "'Meet Tree innovations That Are disrupting the future of Tech'"
            ],
            "application/vnd.google.colaboratory.intrinsic+json": {
              "type": "string"
            }
          },
          "metadata": {},
          "execution_count": 62
        }
      ]
    },
    {
      "cell_type": "code",
      "source": [
        "query4='Inaugution of our fully renoated ofice in Chennai'"
      ],
      "metadata": {
        "id": "fEL8HGwsGE4j"
      },
      "execution_count": 65,
      "outputs": []
    },
    {
      "cell_type": "code",
      "source": [],
      "metadata": {
        "id": "whC6Zpm6eE1k"
      },
      "execution_count": null,
      "outputs": []
    },
    {
      "cell_type": "code",
      "source": [
        "spellcheck_correction(query4)"
      ],
      "metadata": {
        "colab": {
          "base_uri": "https://localhost:8080/",
          "height": 122
        },
        "id": "pKiDyCoRIG8f",
        "outputId": "8dc3917a-f0bb-4992-f6e2-1ef4eb1598da"
      },
      "execution_count": 66,
      "outputs": [
        {
          "output_type": "stream",
          "name": "stdout",
          "text": [
            "mispelled words in a sentences are {'renoated', 'ofice', 'inaugution'}\n",
            "correct word is  renovated\n",
            "correct word is  office\n",
            "correct word is  inauguration\n",
            "======= the corrected sentence is below :===========\n"
          ]
        },
        {
          "output_type": "execute_result",
          "data": {
            "text/plain": [
              "'inauguration of our fully renovated office in Chennai'"
            ],
            "application/vnd.google.colaboratory.intrinsic+json": {
              "type": "string"
            }
          },
          "metadata": {},
          "execution_count": 66
        }
      ]
    },
    {
      "cell_type": "code",
      "source": [
        "query5='rewards & recognition'"
      ],
      "metadata": {
        "id": "Y7RAEmiNIHB0"
      },
      "execution_count": 70,
      "outputs": []
    },
    {
      "cell_type": "code",
      "source": [
        "spellcheck_correction(query5)"
      ],
      "metadata": {
        "colab": {
          "base_uri": "https://localhost:8080/",
          "height": 70
        },
        "id": "O8IMHax9IHGv",
        "outputId": "5cfb4f85-e137-456d-bf17-bc34dc5602e0"
      },
      "execution_count": 71,
      "outputs": [
        {
          "output_type": "stream",
          "name": "stdout",
          "text": [
            "mispelled words in a sentences are set()\n",
            "======= the corrected sentence is below :===========\n"
          ]
        },
        {
          "output_type": "execute_result",
          "data": {
            "text/plain": [
              "'rewards & recognition'"
            ],
            "application/vnd.google.colaboratory.intrinsic+json": {
              "type": "string"
            }
          },
          "metadata": {},
          "execution_count": 71
        }
      ]
    },
    {
      "cell_type": "code",
      "source": [],
      "metadata": {
        "id": "T7WtjmeCIHLV"
      },
      "execution_count": null,
      "outputs": []
    },
    {
      "cell_type": "code",
      "source": [],
      "metadata": {
        "id": "qtv0OdraIHQq"
      },
      "execution_count": null,
      "outputs": []
    },
    {
      "cell_type": "code",
      "source": [],
      "metadata": {
        "id": "qS7wMu0VIHVo"
      },
      "execution_count": null,
      "outputs": []
    },
    {
      "cell_type": "code",
      "source": [],
      "metadata": {
        "id": "rBOKj6Y1IHbG"
      },
      "execution_count": null,
      "outputs": []
    },
    {
      "cell_type": "code",
      "source": [],
      "metadata": {
        "id": "mcbqptSJGE9T"
      },
      "execution_count": null,
      "outputs": []
    },
    {
      "cell_type": "code",
      "source": [],
      "metadata": {
        "id": "cIWa__LuGFCX"
      },
      "execution_count": null,
      "outputs": []
    },
    {
      "cell_type": "code",
      "source": [],
      "metadata": {
        "id": "xr3qBMSuGFG6"
      },
      "execution_count": null,
      "outputs": []
    },
    {
      "cell_type": "code",
      "source": [],
      "metadata": {
        "id": "wetYbktdGFME"
      },
      "execution_count": null,
      "outputs": []
    },
    {
      "cell_type": "code",
      "source": [],
      "metadata": {
        "id": "UQ0XQujdFtra"
      },
      "execution_count": null,
      "outputs": []
    },
    {
      "cell_type": "code",
      "source": [],
      "metadata": {
        "id": "nDNAgrJBFtxT"
      },
      "execution_count": null,
      "outputs": []
    },
    {
      "cell_type": "code",
      "source": [],
      "metadata": {
        "id": "bkfk1dzeFuBB"
      },
      "execution_count": null,
      "outputs": []
    },
    {
      "cell_type": "code",
      "source": [],
      "metadata": {
        "id": "JWOJ-ZNNFuHI"
      },
      "execution_count": null,
      "outputs": []
    },
    {
      "cell_type": "code",
      "source": [],
      "metadata": {
        "id": "Mk-oHEa1AmDk"
      },
      "execution_count": null,
      "outputs": []
    },
    {
      "cell_type": "code",
      "source": [],
      "metadata": {
        "id": "pVDGyMhHAmH2"
      },
      "execution_count": null,
      "outputs": []
    },
    {
      "cell_type": "code",
      "source": [],
      "metadata": {
        "id": "-K6mJ7y__KlK"
      },
      "execution_count": null,
      "outputs": []
    },
    {
      "cell_type": "code",
      "source": [],
      "metadata": {
        "id": "6mO3RVfd_Kpw"
      },
      "execution_count": null,
      "outputs": []
    },
    {
      "cell_type": "code",
      "source": [],
      "metadata": {
        "id": "LNTomPc3_KuU"
      },
      "execution_count": null,
      "outputs": []
    },
    {
      "cell_type": "code",
      "source": [],
      "metadata": {
        "id": "IdN8F2LT_KzC"
      },
      "execution_count": null,
      "outputs": []
    },
    {
      "cell_type": "code",
      "source": [],
      "metadata": {
        "id": "5GdTaWcO-1l0"
      },
      "execution_count": null,
      "outputs": []
    },
    {
      "cell_type": "code",
      "source": [],
      "metadata": {
        "id": "cKf4kXk--1os"
      },
      "execution_count": null,
      "outputs": []
    },
    {
      "cell_type": "code",
      "source": [],
      "metadata": {
        "id": "Z3ud76cr-1sI"
      },
      "execution_count": null,
      "outputs": []
    }
  ]
}