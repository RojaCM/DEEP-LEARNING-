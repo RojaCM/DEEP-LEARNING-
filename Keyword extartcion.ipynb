{
  "nbformat": 4,
  "nbformat_minor": 0,
  "metadata": {
    "colab": {
      "provenance": [],
      "authorship_tag": "ABX9TyMtXWER3bGpZtAPpFSjf8uj",
      "include_colab_link": true
    },
    "kernelspec": {
      "name": "python3",
      "display_name": "Python 3"
    },
    "language_info": {
      "name": "python"
    }
  },
  "cells": [
    {
      "cell_type": "markdown",
      "metadata": {
        "id": "view-in-github",
        "colab_type": "text"
      },
      "source": [
        "<a href=\"https://colab.research.google.com/github/RojaCM/DEEP-LEARNING-/blob/main/Keyword%20extartcion.ipynb\" target=\"_parent\"><img src=\"https://colab.research.google.com/assets/colab-badge.svg\" alt=\"Open In Colab\"/></a>"
      ]
    },
    {
      "cell_type": "code",
      "execution_count": 1,
      "metadata": {
        "id": "lfbmFyhCnTbv"
      },
      "outputs": [],
      "source": [
        "from nltk import tokenize\n",
        "from operator import itemgetter\n",
        "import math"
      ]
    },
    {
      "cell_type": "code",
      "source": [
        "doc='Altimetrik looks to grow ratio of women employees in India by 10% over the year.The ‘Women’s Initiative for Networking Growth and Success’ (WINGS) programme will focus on hiring women in India. The programme has been launched for women employees in India first before the global rollout.'"
      ],
      "metadata": {
        "id": "JNvGBFPc6UnT"
      },
      "execution_count": 9,
      "outputs": []
    },
    {
      "cell_type": "code",
      "source": [
        "from nltk.corpus import stopwords\n",
        "from nltk.tokenize import word_tokenize"
      ],
      "metadata": {
        "id": "s2RNGHMZ7C58"
      },
      "execution_count": 4,
      "outputs": []
    },
    {
      "cell_type": "code",
      "source": [
        "import nltk\n",
        "nltk.download('stopwords')\n",
        "stop_words=set(stopwords.words('english'))"
      ],
      "metadata": {
        "colab": {
          "base_uri": "https://localhost:8080/"
        },
        "id": "b7KKQoJs7mGx",
        "outputId": "405a2ce8-9f8e-4c67-a8ce-0ad95a6d3f3f"
      },
      "execution_count": 8,
      "outputs": [
        {
          "output_type": "stream",
          "name": "stderr",
          "text": [
            "[nltk_data] Downloading package stopwords to /root/nltk_data...\n",
            "[nltk_data]   Unzipping corpora/stopwords.zip.\n"
          ]
        }
      ]
    },
    {
      "cell_type": "code",
      "source": [
        "total_sentences=tokenize.sent_tokenize(doc)\n",
        "print(len(total_sentences))"
      ],
      "metadata": {
        "colab": {
          "base_uri": "https://localhost:8080/"
        },
        "id": "oXtVG9P_7tDq",
        "outputId": "94be45df-008e-4fe3-8b46-bd0ad50f6a90"
      },
      "execution_count": 15,
      "outputs": [
        {
          "output_type": "stream",
          "name": "stdout",
          "text": [
            "2\n"
          ]
        }
      ]
    },
    {
      "cell_type": "code",
      "source": [
        "import nltk\n",
        "nltk.download('punkt')"
      ],
      "metadata": {
        "colab": {
          "base_uri": "https://localhost:8080/"
        },
        "id": "q0t_YtI97tNO",
        "outputId": "af19c54a-c8a3-4bb8-dc8f-5fef88962723"
      },
      "execution_count": 12,
      "outputs": [
        {
          "output_type": "stream",
          "name": "stderr",
          "text": [
            "[nltk_data] Downloading package punkt to /root/nltk_data...\n",
            "[nltk_data]   Unzipping tokenizers/punkt.zip.\n"
          ]
        },
        {
          "output_type": "execute_result",
          "data": {
            "text/plain": [
              "True"
            ]
          },
          "metadata": {},
          "execution_count": 12
        }
      ]
    },
    {
      "cell_type": "code",
      "source": [
        "words1=word_tokenize(doc)\n",
        "words1"
      ],
      "metadata": {
        "colab": {
          "base_uri": "https://localhost:8080/"
        },
        "id": "eljSABQQ7tRr",
        "outputId": "3e006e60-25f9-4f82-a62d-25cb1ea44724"
      },
      "execution_count": 24,
      "outputs": [
        {
          "output_type": "execute_result",
          "data": {
            "text/plain": [
              "['Altimetrik',\n",
              " 'looks',\n",
              " 'to',\n",
              " 'grow',\n",
              " 'ratio',\n",
              " 'of',\n",
              " 'women',\n",
              " 'employees',\n",
              " 'in',\n",
              " 'India',\n",
              " 'by',\n",
              " '10',\n",
              " '%',\n",
              " 'over',\n",
              " 'the',\n",
              " 'year.The',\n",
              " '‘',\n",
              " 'Women',\n",
              " '’',\n",
              " 's',\n",
              " 'Initiative',\n",
              " 'for',\n",
              " 'Networking',\n",
              " 'Growth',\n",
              " 'and',\n",
              " 'Success',\n",
              " '’',\n",
              " '(',\n",
              " 'WINGS',\n",
              " ')',\n",
              " 'programme',\n",
              " 'will',\n",
              " 'focus',\n",
              " 'on',\n",
              " 'hiring',\n",
              " 'women',\n",
              " 'in',\n",
              " 'India',\n",
              " '.',\n",
              " 'The',\n",
              " 'programme',\n",
              " 'has',\n",
              " 'been',\n",
              " 'launched',\n",
              " 'for',\n",
              " 'women',\n",
              " 'employees',\n",
              " 'in',\n",
              " 'India',\n",
              " 'first',\n",
              " 'before',\n",
              " 'the',\n",
              " 'global',\n",
              " 'rollout',\n",
              " '.']"
            ]
          },
          "metadata": {},
          "execution_count": 24
        }
      ]
    },
    {
      "cell_type": "code",
      "source": [
        "word=[i for i in words1 if i not in stop_words]"
      ],
      "metadata": {
        "id": "MAQuh2ZN7tWI"
      },
      "execution_count": 25,
      "outputs": []
    },
    {
      "cell_type": "code",
      "source": [
        "word"
      ],
      "metadata": {
        "colab": {
          "base_uri": "https://localhost:8080/"
        },
        "id": "c9tLYkLZ9b7G",
        "outputId": "a7de1610-569e-4035-c340-a3b37c39ad04"
      },
      "execution_count": 27,
      "outputs": [
        {
          "output_type": "execute_result",
          "data": {
            "text/plain": [
              "['Altimetrik',\n",
              " 'looks',\n",
              " 'grow',\n",
              " 'ratio',\n",
              " 'women',\n",
              " 'employees',\n",
              " 'India',\n",
              " '10',\n",
              " '%',\n",
              " 'year.The',\n",
              " '‘',\n",
              " 'Women',\n",
              " '’',\n",
              " 'Initiative',\n",
              " 'Networking',\n",
              " 'Growth',\n",
              " 'Success',\n",
              " '’',\n",
              " '(',\n",
              " 'WINGS',\n",
              " ')',\n",
              " 'programme',\n",
              " 'focus',\n",
              " 'hiring',\n",
              " 'women',\n",
              " 'India',\n",
              " '.',\n",
              " 'The',\n",
              " 'programme',\n",
              " 'launched',\n",
              " 'women',\n",
              " 'employees',\n",
              " 'India',\n",
              " 'first',\n",
              " 'global',\n",
              " 'rollout',\n",
              " '.']"
            ]
          },
          "metadata": {},
          "execution_count": 27
        }
      ]
    },
    {
      "cell_type": "code",
      "source": [
        "tf_score={}\n",
        "\n",
        "for i in word:\n",
        "  if i in tf_score:\n",
        "    tf_score[i] += 1\n",
        "  else:\n",
        "    tf_score[i]=1"
      ],
      "metadata": {
        "id": "uVyOxya7-QHf"
      },
      "execution_count": 29,
      "outputs": []
    },
    {
      "cell_type": "code",
      "source": [
        "tf_score"
      ],
      "metadata": {
        "colab": {
          "base_uri": "https://localhost:8080/"
        },
        "id": "K-90pd4b-s5y",
        "outputId": "3c9a0bf6-0f4e-4d36-d0bd-8837f21b5c94"
      },
      "execution_count": 30,
      "outputs": [
        {
          "output_type": "execute_result",
          "data": {
            "text/plain": [
              "{'Altimetrik': 1,\n",
              " 'looks': 1,\n",
              " 'grow': 1,\n",
              " 'ratio': 1,\n",
              " 'women': 3,\n",
              " 'employees': 2,\n",
              " 'India': 3,\n",
              " '10': 1,\n",
              " '%': 1,\n",
              " 'year.The': 1,\n",
              " '‘': 1,\n",
              " 'Women': 1,\n",
              " '’': 2,\n",
              " 'Initiative': 1,\n",
              " 'Networking': 1,\n",
              " 'Growth': 1,\n",
              " 'Success': 1,\n",
              " '(': 1,\n",
              " 'WINGS': 1,\n",
              " ')': 1,\n",
              " 'programme': 2,\n",
              " 'focus': 1,\n",
              " 'hiring': 1,\n",
              " '.': 2,\n",
              " 'The': 1,\n",
              " 'launched': 1,\n",
              " 'first': 1,\n",
              " 'global': 1,\n",
              " 'rollout': 1}"
            ]
          },
          "metadata": {},
          "execution_count": 30
        }
      ]
    },
    {
      "cell_type": "code",
      "source": [
        "title = \"ALTIMETRIK DEX\"\n",
        "text = \"Altimetrik is a digital business enablement company. We deliver bite-size outcomes as organizations scale digitalization to accelerate revenue growth without disrupting ongoing business operations. Our practitioners and agile engineering teams create solutions that drive transformation and achieve business goals. With offices across the globe and 4,800+ energized practitioners, Altimetrik partners with Fortune 500 and mid-size companies alike to enhance their agility, empowerment, and success.\"\n",
        "full_text = title +\", \"+ text "
      ],
      "metadata": {
        "id": "mr8NmBUW_uQu"
      },
      "execution_count": 38,
      "outputs": []
    },
    {
      "cell_type": "code",
      "source": [
        "full_text"
      ],
      "metadata": {
        "colab": {
          "base_uri": "https://localhost:8080/",
          "height": 70
        },
        "id": "UcQhek3uAqtv",
        "outputId": "3df8e841-e8ec-4f29-e554-8a2d2acd195d"
      },
      "execution_count": 39,
      "outputs": [
        {
          "output_type": "execute_result",
          "data": {
            "text/plain": [
              "'ALTIMETRIK DEX, Altimetrik is a digital business enablement company. We deliver bite-size outcomes as organizations scale digitalization to accelerate revenue growth without disrupting ongoing business operations. Our practitioners and agile engineering teams create solutions that drive transformation and achieve business goals. With offices across the globe and 4,800+ energized practitioners, Altimetrik partners with Fortune 500 and mid-size companies alike to enhance their agility, empowerment, and success.'"
            ],
            "application/vnd.google.colaboratory.intrinsic+json": {
              "type": "string"
            }
          },
          "metadata": {},
          "execution_count": 39
        }
      ]
    },
    {
      "cell_type": "code",
      "source": [
        "!pip install git+https://github.com/LIAAD/yake\n",
        "import yake"
      ],
      "metadata": {
        "colab": {
          "base_uri": "https://localhost:8080/"
        },
        "id": "9clTXausAslh",
        "outputId": "f4c229fb-647b-4d77-a215-db072ad0bc6a"
      },
      "execution_count": 40,
      "outputs": [
        {
          "output_type": "stream",
          "name": "stdout",
          "text": [
            "Looking in indexes: https://pypi.org/simple, https://us-python.pkg.dev/colab-wheels/public/simple/\n",
            "Collecting git+https://github.com/LIAAD/yake\n",
            "  Cloning https://github.com/LIAAD/yake to /tmp/pip-req-build-oosn4asw\n",
            "  Running command git clone -q https://github.com/LIAAD/yake /tmp/pip-req-build-oosn4asw\n",
            "Requirement already satisfied: tabulate in /usr/local/lib/python3.7/dist-packages (from yake==0.4.8) (0.8.10)\n",
            "Requirement already satisfied: click>=6.0 in /usr/local/lib/python3.7/dist-packages (from yake==0.4.8) (7.1.2)\n",
            "Requirement already satisfied: numpy in /usr/local/lib/python3.7/dist-packages (from yake==0.4.8) (1.21.6)\n",
            "Requirement already satisfied: segtok in /usr/local/lib/python3.7/dist-packages (from yake==0.4.8) (1.5.11)\n",
            "Requirement already satisfied: networkx in /usr/local/lib/python3.7/dist-packages (from yake==0.4.8) (2.6.3)\n",
            "Requirement already satisfied: jellyfish in /usr/local/lib/python3.7/dist-packages (from yake==0.4.8) (0.9.0)\n",
            "Requirement already satisfied: regex in /usr/local/lib/python3.7/dist-packages (from segtok->yake==0.4.8) (2022.6.2)\n"
          ]
        }
      ]
    },
    {
      "cell_type": "code",
      "source": [
        "kw_extractor = yake.KeywordExtractor(top=10, stopwords=None)\n",
        "keywords = kw_extractor.extract_keywords(full_text)\n",
        "for kw, v in keywords:\n",
        "  print(\"Keyphrase: \",kw, \": score\", v)"
      ],
      "metadata": {
        "colab": {
          "base_uri": "https://localhost:8080/"
        },
        "id": "kSETcXblAsuW",
        "outputId": "7e2efb31-e6e7-4d46-8d1b-ecd000252056"
      },
      "execution_count": 41,
      "outputs": [
        {
          "output_type": "stream",
          "name": "stdout",
          "text": [
            "Keyphrase:  business enablement company : score 0.009605901519964781\n",
            "Keyphrase:  digital business enablement : score 0.012716291802927868\n",
            "Keyphrase:  ALTIMETRIK DEX : score 0.012930467487975609\n",
            "Keyphrase:  enablement company : score 0.023258004413716296\n",
            "Keyphrase:  DEX : score 0.06089864939062182\n",
            "Keyphrase:  digital business : score 0.06834927076073717\n",
            "Keyphrase:  business enablement : score 0.06834927076073717\n",
            "Keyphrase:  ALTIMETRIK : score 0.06987240255469218\n",
            "Keyphrase:  ongoing business operations : score 0.07959337525009476\n",
            "Keyphrase:  disrupting ongoing business : score 0.10150968501206047\n"
          ]
        }
      ]
    },
    {
      "cell_type": "markdown",
      "source": [
        "TextRank"
      ],
      "metadata": {
        "id": "zVaPkOc_Asy4"
      }
    },
    {
      "cell_type": "code",
      "source": [
        "!pip install summa\n",
        "from summa import keywords"
      ],
      "metadata": {
        "colab": {
          "base_uri": "https://localhost:8080/"
        },
        "id": "cB9XzVHcCKmr",
        "outputId": "2756c9cf-f6a2-4b8b-abc2-8d581aa84b78"
      },
      "execution_count": 43,
      "outputs": [
        {
          "output_type": "stream",
          "name": "stdout",
          "text": [
            "Looking in indexes: https://pypi.org/simple, https://us-python.pkg.dev/colab-wheels/public/simple/\n",
            "Collecting summa\n",
            "  Downloading summa-1.2.0.tar.gz (54 kB)\n",
            "\u001b[K     |████████████████████████████████| 54 kB 3.9 MB/s \n",
            "\u001b[?25hRequirement already satisfied: scipy>=0.19 in /usr/local/lib/python3.7/dist-packages (from summa) (1.7.3)\n",
            "Requirement already satisfied: numpy<1.23.0,>=1.16.5 in /usr/local/lib/python3.7/dist-packages (from scipy>=0.19->summa) (1.21.6)\n",
            "Building wheels for collected packages: summa\n",
            "  Building wheel for summa (setup.py) ... \u001b[?25l\u001b[?25hdone\n",
            "  Created wheel for summa: filename=summa-1.2.0-py3-none-any.whl size=54412 sha256=ec423040b88475588ac2a37273d8ca2873a0750712b0b6a5996c84c540a4b476\n",
            "  Stored in directory: /root/.cache/pip/wheels/29/64/ac/7b443477588d365ef37ada30d456bdf5f07dc5be9f6324cb6e\n",
            "Successfully built summa\n",
            "Installing collected packages: summa\n",
            "Successfully installed summa-1.2.0\n"
          ]
        }
      ]
    },
    {
      "cell_type": "code",
      "source": [
        "TR_keywords = keywords.keywords(full_text, scores=True)\n",
        "print(TR_keywords[0:10])"
      ],
      "metadata": {
        "colab": {
          "base_uri": "https://localhost:8080/"
        },
        "id": "XgxjmSBeCKrp",
        "outputId": "b7edbf8b-7ab9-4d14-a196-60350a925c42"
      },
      "execution_count": 44,
      "outputs": [
        {
          "output_type": "stream",
          "name": "stdout",
          "text": [
            "[('altimetrik', 0.715497005103161), ('practitioners', 0.4769980034021079), ('dex', 0.238499001701054), ('energized', 0.238499001701054), ('partners', 0.2384990017010539), ('business', 0.13003719634549296)]\n"
          ]
        }
      ]
    },
    {
      "cell_type": "code",
      "source": [],
      "metadata": {
        "id": "q7-NWB4PCKw_"
      },
      "execution_count": null,
      "outputs": []
    },
    {
      "cell_type": "code",
      "source": [],
      "metadata": {
        "id": "LpKFI_RKAs34"
      },
      "execution_count": null,
      "outputs": []
    },
    {
      "cell_type": "code",
      "source": [],
      "metadata": {
        "id": "DCzeJo8iAs8-"
      },
      "execution_count": null,
      "outputs": []
    },
    {
      "cell_type": "code",
      "source": [],
      "metadata": {
        "id": "i3cEmEt0AtCL"
      },
      "execution_count": null,
      "outputs": []
    }
  ]
}