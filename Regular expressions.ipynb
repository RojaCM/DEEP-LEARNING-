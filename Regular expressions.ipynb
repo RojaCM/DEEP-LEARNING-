{
  "nbformat": 4,
  "nbformat_minor": 0,
  "metadata": {
    "colab": {
      "provenance": [],
      "authorship_tag": "ABX9TyPCKu81bfYcUH2K+V8F0FyB",
      "include_colab_link": true
    },
    "kernelspec": {
      "name": "python3",
      "display_name": "Python 3"
    },
    "language_info": {
      "name": "python"
    }
  },
  "cells": [
    {
      "cell_type": "markdown",
      "metadata": {
        "id": "view-in-github",
        "colab_type": "text"
      },
      "source": [
        "<a href=\"https://colab.research.google.com/github/RojaCM/DEEP-LEARNING-/blob/main/Regular%20expressions.ipynb\" target=\"_parent\"><img src=\"https://colab.research.google.com/assets/colab-badge.svg\" alt=\"Open In Colab\"/></a>"
      ]
    },
    {
      "cell_type": "code",
      "execution_count": 1,
      "metadata": {
        "id": "1G1T36rikf0v"
      },
      "outputs": [],
      "source": [
        "import re"
      ]
    },
    {
      "cell_type": "code",
      "source": [
        "chat1='codebasics: Hello, I am having an issue with my order # 412889912'"
      ],
      "metadata": {
        "id": "vxj0ofj0t8vB"
      },
      "execution_count": 2,
      "outputs": []
    },
    {
      "cell_type": "code",
      "source": [
        "pattern='\\d{9}'"
      ],
      "metadata": {
        "id": "CBZPVemgt-xK"
      },
      "execution_count": 8,
      "outputs": []
    },
    {
      "cell_type": "code",
      "source": [
        "match=re.findall(pattern,chat1)"
      ],
      "metadata": {
        "id": "C_Us1RJ6t_Gz"
      },
      "execution_count": 9,
      "outputs": []
    },
    {
      "cell_type": "code",
      "source": [
        "match"
      ],
      "metadata": {
        "colab": {
          "base_uri": "https://localhost:8080/"
        },
        "id": "IaAH4GVZt_JJ",
        "outputId": "53527fea-1fbc-4ff0-8f51-4ba57c562914"
      },
      "execution_count": 10,
      "outputs": [
        {
          "output_type": "execute_result",
          "data": {
            "text/plain": [
              "['412889912']"
            ]
          },
          "metadata": {},
          "execution_count": 10
        }
      ]
    },
    {
      "cell_type": "code",
      "source": [
        "chat1 = 'codebasics: you ask lot of questions 😠  1235678912, abc_82@xyz.com'\n",
        "chat2 = 'codebasics: here it is: (123)-567-8912, abcA@xyz.com'\n",
        "chat3 = 'codebasics: yes, phone: 1235678912 email: abc12!@xyz.com'"
      ],
      "metadata": {
        "id": "RSSPTA6Yt_LU"
      },
      "execution_count": 27,
      "outputs": []
    },
    {
      "cell_type": "code",
      "source": [
        "pattern='[a-zA-Z0-9_]*@[a-z]*\\.[a-zA-Z0-9]*'"
      ],
      "metadata": {
        "id": "wXM3bA_ft_O2"
      },
      "execution_count": 42,
      "outputs": []
    },
    {
      "cell_type": "code",
      "source": [
        "match1=re.findall(pattern,chat1)"
      ],
      "metadata": {
        "id": "ESrDWTlKwQSc"
      },
      "execution_count": 43,
      "outputs": []
    },
    {
      "cell_type": "code",
      "source": [
        "match1"
      ],
      "metadata": {
        "colab": {
          "base_uri": "https://localhost:8080/"
        },
        "id": "OzcfhoOowU4R",
        "outputId": "5b5141fd-b9d0-4f93-f2f9-5401efef18ca"
      },
      "execution_count": 45,
      "outputs": [
        {
          "output_type": "execute_result",
          "data": {
            "text/plain": [
              "['abc_82@xyz.com']"
            ]
          },
          "metadata": {},
          "execution_count": 45
        }
      ]
    },
    {
      "cell_type": "code",
      "source": [
        "match1=re.findall(pattern,chat1)"
      ],
      "metadata": {
        "id": "pygskJ9twVTk"
      },
      "execution_count": 23,
      "outputs": []
    },
    {
      "cell_type": "code",
      "source": [
        "match2"
      ],
      "metadata": {
        "colab": {
          "base_uri": "https://localhost:8080/"
        },
        "id": "hMG4bRmywVb5",
        "outputId": "4e7afef5-2a02-4bf5-9633-6fb618b00f59"
      },
      "execution_count": 24,
      "outputs": [
        {
          "output_type": "execute_result",
          "data": {
            "text/plain": [
              "['(123)-567-8912']"
            ]
          },
          "metadata": {},
          "execution_count": 24
        }
      ]
    },
    {
      "cell_type": "code",
      "source": [
        "match3=re.findall(pattern,chat3)"
      ],
      "metadata": {
        "id": "18UsGrDHwVfu"
      },
      "execution_count": 25,
      "outputs": []
    },
    {
      "cell_type": "code",
      "source": [
        "match3"
      ],
      "metadata": {
        "colab": {
          "base_uri": "https://localhost:8080/"
        },
        "id": "Smxa4yCnwfji",
        "outputId": "a8735e45-6abb-4e33-87fb-d1e71c39a26c"
      },
      "execution_count": 26,
      "outputs": [
        {
          "output_type": "execute_result",
          "data": {
            "text/plain": [
              "['1235678912']"
            ]
          },
          "metadata": {},
          "execution_count": 26
        }
      ]
    },
    {
      "cell_type": "code",
      "source": [
        "pattern1='[a-zA-Z0-9_]*@[a-zA-Z]*\\.[A-Za-z]*'"
      ],
      "metadata": {
        "id": "_B9RV1rEwfn9"
      },
      "execution_count": 58,
      "outputs": []
    },
    {
      "cell_type": "code",
      "source": [
        "match4=re.findall(pattern1,chat1)"
      ],
      "metadata": {
        "id": "aJzcT1F7xOFL"
      },
      "execution_count": 59,
      "outputs": []
    },
    {
      "cell_type": "code",
      "source": [
        "match4"
      ],
      "metadata": {
        "colab": {
          "base_uri": "https://localhost:8080/"
        },
        "id": "FQLDTlflxOIu",
        "outputId": "842eed36-e0ef-4e73-9087-25092b6af304"
      },
      "execution_count": 60,
      "outputs": [
        {
          "output_type": "execute_result",
          "data": {
            "text/plain": [
              "['abc_82@xyz.com']"
            ]
          },
          "metadata": {},
          "execution_count": 60
        }
      ]
    },
    {
      "cell_type": "code",
      "source": [
        "re.findall('[a-zA-Z0-9_]*@[a-z]*\\.[a-zA-Z]*',chat1)"
      ],
      "metadata": {
        "colab": {
          "base_uri": "https://localhost:8080/"
        },
        "id": "eYlPAPADxOLr",
        "outputId": "38159dad-517d-4e05-ae99-de81b2e96e6d"
      },
      "execution_count": 57,
      "outputs": [
        {
          "output_type": "execute_result",
          "data": {
            "text/plain": [
              "['abc_82@xyz.com']"
            ]
          },
          "metadata": {},
          "execution_count": 57
        }
      ]
    },
    {
      "cell_type": "code",
      "source": [
        "chat11='codebasics: Hello, I am having an issue with my order # 412889912'\n",
        "chat22='codebasics: I have a problem with my order number 412889912'\n",
        "chat33='codebasics: My order 412889912 is having an issue, I was charged 300$ when online it says 280$'"
      ],
      "metadata": {
        "id": "Smbmu5OAxOPW"
      },
      "execution_count": 61,
      "outputs": []
    },
    {
      "cell_type": "code",
      "source": [
        "pat='order [^\\d]* [\\d]*'"
      ],
      "metadata": {
        "id": "ffKWoPB2xOTP"
      },
      "execution_count": 66,
      "outputs": []
    },
    {
      "cell_type": "code",
      "source": [
        "re.findall(pat,chat11)"
      ],
      "metadata": {
        "colab": {
          "base_uri": "https://localhost:8080/"
        },
        "id": "wSTdqbutwfr9",
        "outputId": "7165191c-1bca-45f7-c921-601bddb638f4"
      },
      "execution_count": 67,
      "outputs": [
        {
          "output_type": "execute_result",
          "data": {
            "text/plain": [
              "['order # 412889912']"
            ]
          },
          "metadata": {},
          "execution_count": 67
        }
      ]
    },
    {
      "cell_type": "code",
      "source": [
        "pat1='order [^\\d]* (\\d*)'"
      ],
      "metadata": {
        "id": "1B6bwB6kwVjQ"
      },
      "execution_count": 73,
      "outputs": []
    },
    {
      "cell_type": "code",
      "source": [
        "re.findall(pat1,chat11)"
      ],
      "metadata": {
        "colab": {
          "base_uri": "https://localhost:8080/"
        },
        "id": "g01rJ8cMwVnV",
        "outputId": "efa77612-db3d-408e-e7a0-b7780798aea0"
      },
      "execution_count": 74,
      "outputs": [
        {
          "output_type": "execute_result",
          "data": {
            "text/plain": [
              "['412889912']"
            ]
          },
          "metadata": {},
          "execution_count": 74
        }
      ]
    },
    {
      "cell_type": "markdown",
      "source": [
        "KEY INFORMATION"
      ],
      "metadata": {
        "id": "TVq4XBMZ7XU2"
      }
    },
    {
      "cell_type": "code",
      "source": [
        "text='''\n",
        "Born\tElon Reeve Musk\n",
        "June 28, 1971 (age 50)\n",
        "Pretoria, Transvaal, South Africa\n",
        "Citizenship\t\n",
        "South Africa (1971–present)\n",
        "Canada (1971–present)\n",
        "United States (2002–present)\n",
        "Education\tUniversity of Pennsylvania (BS, BA)\n",
        "Title\t\n",
        "Founder, CEO and Chief Engineer of SpaceX\n",
        "CEO and product architect of Tesla, Inc.\n",
        "Founder of The Boring Company and X.com (now part of PayPal)\n",
        "Co-founder of Neuralink, OpenAI, and Zip2\n",
        "Spouse(s)\t\n",
        "Justine Wilson\n",
        "​\n",
        "​(m. 2000; div. 2008)​\n",
        "Talulah Riley\n",
        "​\n",
        "​(m. 2010; div. 2012)​\n",
        "​\n",
        "​(m. 2013; div. 2016)\n",
        "'''"
      ],
      "metadata": {
        "id": "vc3kPfL38tDd"
      },
      "execution_count": 75,
      "outputs": []
    },
    {
      "cell_type": "code",
      "source": [
        "re.findall('age \\d+',text)"
      ],
      "metadata": {
        "colab": {
          "base_uri": "https://localhost:8080/"
        },
        "id": "sKZs1Sq_8tGS",
        "outputId": "e06396b7-7225-43cf-f968-922f0cc5c3ed"
      },
      "execution_count": 76,
      "outputs": [
        {
          "output_type": "execute_result",
          "data": {
            "text/plain": [
              "['age 50']"
            ]
          },
          "metadata": {},
          "execution_count": 76
        }
      ]
    },
    {
      "cell_type": "code",
      "source": [
        "re.findall('age \\d*',text)"
      ],
      "metadata": {
        "colab": {
          "base_uri": "https://localhost:8080/"
        },
        "id": "lbr1-zdp8tJt",
        "outputId": "b6eefe4f-8017-4e0a-ce4d-4d1fc6563c18"
      },
      "execution_count": 77,
      "outputs": [
        {
          "output_type": "execute_result",
          "data": {
            "text/plain": [
              "['age 50']"
            ]
          },
          "metadata": {},
          "execution_count": 77
        }
      ]
    },
    {
      "cell_type": "code",
      "source": [
        "re.findall('age (\\d*)',text)"
      ],
      "metadata": {
        "colab": {
          "base_uri": "https://localhost:8080/"
        },
        "id": "NYZ902Vz9Uet",
        "outputId": "d04f2c3c-6e9a-4d88-a745-07d3ca20091d"
      },
      "execution_count": 78,
      "outputs": [
        {
          "output_type": "execute_result",
          "data": {
            "text/plain": [
              "['50']"
            ]
          },
          "metadata": {},
          "execution_count": 78
        }
      ]
    },
    {
      "cell_type": "code",
      "source": [
        "re.findall('Born(.*)\\n',text)"
      ],
      "metadata": {
        "colab": {
          "base_uri": "https://localhost:8080/"
        },
        "id": "mjKoq9509YxI",
        "outputId": "30b21580-8c86-4120-9c3d-26827f013a07"
      },
      "execution_count": 84,
      "outputs": [
        {
          "output_type": "execute_result",
          "data": {
            "text/plain": [
              "['\\tElon Reeve Musk']"
            ]
          },
          "metadata": {},
          "execution_count": 84
        }
      ]
    },
    {
      "cell_type": "code",
      "source": [
        "re.findall('Born.*\\n(.*)\\(age',text)"
      ],
      "metadata": {
        "colab": {
          "base_uri": "https://localhost:8080/"
        },
        "id": "5tqI8a709Y3Y",
        "outputId": "acf1bfe6-cf86-4313-c8c4-808dadc1c8fa"
      },
      "execution_count": 92,
      "outputs": [
        {
          "output_type": "execute_result",
          "data": {
            "text/plain": [
              "['June 28, 1971 ']"
            ]
          },
          "metadata": {},
          "execution_count": 92
        }
      ]
    },
    {
      "cell_type": "code",
      "source": [
        "re.findall('\\(age.*\\n(.*)',text)"
      ],
      "metadata": {
        "colab": {
          "base_uri": "https://localhost:8080/"
        },
        "id": "9o150bx_9Uj2",
        "outputId": "479c5726-d517-47b3-8563-d9578b1409bd"
      },
      "execution_count": 98,
      "outputs": [
        {
          "output_type": "execute_result",
          "data": {
            "text/plain": [
              "['Pretoria, Transvaal, South Africa']"
            ]
          },
          "metadata": {},
          "execution_count": 98
        }
      ]
    },
    {
      "cell_type": "code",
      "source": [
        "def extract_presonal_information(text):\n",
        "  age=re.findall('age (\\d+)',text)[0]\n",
        "  full_name=re.findall('Born(.*)',text)[0]\n",
        "  birth_date=re.findall('Born.*\\n(.*)\\(age',text)[0]\n",
        "  birth_place=re.findall('\\(age.*\\n(.*)',text)[0]\n",
        "  return {\n",
        "      'age':age,\n",
        "      'full_name':full_name,\n",
        "      'birth_date':birth_date,\n",
        "      'birth_place':birth_place\n",
        "  }"
      ],
      "metadata": {
        "id": "jNtsHdFU_uOf"
      },
      "execution_count": 114,
      "outputs": []
    },
    {
      "cell_type": "code",
      "source": [
        "extract_presonal_information(text)"
      ],
      "metadata": {
        "colab": {
          "base_uri": "https://localhost:8080/"
        },
        "id": "9E20s_F8WleC",
        "outputId": "fac3d611-5a05-49be-937d-a47b294ff26b"
      },
      "execution_count": 115,
      "outputs": [
        {
          "output_type": "execute_result",
          "data": {
            "text/plain": [
              "{'age': '50',\n",
              " 'full_name': '\\tElon Reeve Musk',\n",
              " 'birth_date': 'June 28, 1971 ',\n",
              " 'birth_place': 'Pretoria, Transvaal, South Africa'}"
            ]
          },
          "metadata": {},
          "execution_count": 115
        }
      ]
    },
    {
      "cell_type": "code",
      "source": [],
      "metadata": {
        "id": "0WdIVyovXNPr"
      },
      "execution_count": null,
      "outputs": []
    }
  ]
}