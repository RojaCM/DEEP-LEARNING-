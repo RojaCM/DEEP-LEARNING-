{
  "nbformat": 4,
  "nbformat_minor": 0,
  "metadata": {
    "colab": {
      "provenance": [],
      "collapsed_sections": [],
      "include_colab_link": true
    },
    "kernelspec": {
      "name": "python3",
      "display_name": "Python 3"
    }
  },
  "cells": [
    {
      "cell_type": "markdown",
      "metadata": {
        "id": "view-in-github",
        "colab_type": "text"
      },
      "source": [
        "<a href=\"https://colab.research.google.com/github/RojaCM/DEEP-LEARNING-/blob/main/python_bm25_search_engine.ipynb\" target=\"_parent\"><img src=\"https://colab.research.google.com/assets/colab-badge.svg\" alt=\"Open In Colab\"/></a>"
      ]
    },
    {
      "cell_type": "markdown",
      "metadata": {
        "id": "Xa73cTbKnWOc"
      },
      "source": [
        "#A simple, yet robust search engine in Python"
      ]
    },
    {
      "cell_type": "code",
      "metadata": {
        "id": "5p4D3sAfmnds",
        "colab": {
          "base_uri": "https://localhost:8080/",
          "height": 70
        },
        "outputId": "eed72909-857b-40cf-9edd-b09c96cd5e09"
      },
      "source": [
        "import pandas as pd\n",
        "pd.set_option('display.max_colwidth', -1)\n"
      ],
      "execution_count": null,
      "outputs": [
        {
          "output_type": "stream",
          "text": [
            "/usr/local/lib/python3.6/dist-packages/ipykernel_launcher.py:2: FutureWarning: Passing a negative integer is deprecated in version 1.0 and will not be supported in future version. Instead, use None to not limit the column width.\n",
            "  \n"
          ],
          "name": "stderr"
        }
      ]
    },
    {
      "cell_type": "code",
      "metadata": {
        "id": "HfIq_AiNm0tL"
      },
      "source": [
        "###link to data:\n",
        "#https://drive.google.com/file/d/1pJFPa5772JiXWxZ9pGpwNbO6D0BBCEXZ/view?usp=sharing\n",
        "df = pd.read_csv('path_to_data')"
      ],
      "execution_count": null,
      "outputs": []
    },
    {
      "cell_type": "markdown",
      "metadata": {
        "id": "EfQKWB20A7_C"
      },
      "source": [
        "### Preprocess and tokenise"
      ]
    },
    {
      "cell_type": "code",
      "metadata": {
        "id": "9NUn5Q4mNVeS"
      },
      "source": [
        "!pip install rank_bm25"
      ],
      "execution_count": null,
      "outputs": []
    },
    {
      "cell_type": "code",
      "metadata": {
        "id": "Bdqu_tJFBD_c",
        "colab": {
          "base_uri": "https://localhost:8080/",
          "height": 33
        },
        "outputId": "601139b7-de5d-46d1-e593-5102acb66e55"
      },
      "source": [
        "import spacy\n",
        "from tqdm import tqdm\n",
        "\n",
        "nlp = spacy.load(\"en_core_web_sm\")\n",
        "tok_text=[] # for our tokenised corpus\n",
        "#Tokenising using SpaCy:\n",
        "for doc in tqdm(nlp.pipe(df.text.str.lower().values, disable=[\"tagger\", \"parser\",\"ner\"])):\n",
        "    tok = [t.text for t in doc if t.is_alpha]\n",
        "    tok_text.append(tok)\n"
      ],
      "execution_count": null,
      "outputs": [
        {
          "output_type": "stream",
          "text": [
            "50000it [00:24, 2016.01it/s]\n"
          ],
          "name": "stderr"
        }
      ]
    },
    {
      "cell_type": "markdown",
      "metadata": {
        "id": "7wa27UrkA_m7"
      },
      "source": [
        "### Simple BM25 search"
      ]
    },
    {
      "cell_type": "code",
      "metadata": {
        "id": "mePBUmdfNbOm"
      },
      "source": [
        "from rank_bm25 import BM25Okapi\n",
        "bm25 = BM25Okapi(tok_text)"
      ],
      "execution_count": null,
      "outputs": []
    },
    {
      "cell_type": "code",
      "metadata": {
        "id": "1Ed38iCLRq4d",
        "colab": {
          "base_uri": "https://localhost:8080/",
          "height": 121
        },
        "outputId": "27108460-17b6-495c-e769-8a15cd295167"
      },
      "source": [
        "query = \"flood defence\"\n",
        "tokenized_query = query.lower().split(\" \")\n",
        "import time\n",
        "\n",
        "t0 = time.time()\n",
        "results = bm25.get_top_n(tokenized_query, df.text.values, n=3)\n",
        "t1 = time.time()\n",
        "print(f'Searched 50,000 records in {round(t1-t0,3) } seconds \\n')\n",
        "for i in results:\n",
        "  print(i)"
      ],
      "execution_count": null,
      "outputs": [
        {
          "output_type": "stream",
          "text": [
            "Searched 50,000 records in 0.061 seconds \n",
            "\n",
            "Forge Island Flood Defence and Public Realm Works Award of Flood defence and public realm works along the canal embankment at Forge Island, Market Street, Rotherham as part of the Rotherham Renaissance Flood Alleviation Scheme.\n",
            "Flood defence maintenance works for Lewisham and Southwark College **AWARD** Following RfQ NCG contracted with T Gunning for Flood defence maintenance works for Lewisham and Southwark College\n",
            "Freckleton St Byrom Street River Walls Freckleton St Byrom Street River Walls, Strengthening of existing river wall parapets to provide flood defence measures\n"
          ],
          "name": "stdout"
        }
      ]
    }
  ]
}