{
  "nbformat": 4,
  "nbformat_minor": 0,
  "metadata": {
    "colab": {
      "provenance": [],
      "authorship_tag": "ABX9TyMCGyLld+Ozpwk4aIp9q6Bl",
      "include_colab_link": true
    },
    "kernelspec": {
      "name": "python3",
      "display_name": "Python 3"
    },
    "language_info": {
      "name": "python"
    }
  },
  "cells": [
    {
      "cell_type": "markdown",
      "metadata": {
        "id": "view-in-github",
        "colab_type": "text"
      },
      "source": [
        "<a href=\"https://colab.research.google.com/github/RojaCM/DEEP-LEARNING-/blob/main/TEXTRANK.ipynb\" target=\"_parent\"><img src=\"https://colab.research.google.com/assets/colab-badge.svg\" alt=\"Open In Colab\"/></a>"
      ]
    },
    {
      "cell_type": "markdown",
      "source": [
        "#PyTextRank \n",
        "pyTextRank is a library package for implementation of text rank algorithm with an extension of spaCy pipeline, popular for providing features like phrase extraction, extractive summarization for text documents and structured representation of the unstructured documents."
      ],
      "metadata": {
        "id": "YJ8d-HownWKm"
      }
    },
    {
      "cell_type": "code",
      "source": [
        "!pip install pytextrank"
      ],
      "metadata": {
        "colab": {
          "base_uri": "https://localhost:8080/"
        },
        "id": "pWq5Myqv1OMm",
        "outputId": "8f88b4f0-c0a3-4b05-d65d-3a8059307fb5"
      },
      "execution_count": 1,
      "outputs": [
        {
          "output_type": "stream",
          "name": "stdout",
          "text": [
            "Looking in indexes: https://pypi.org/simple, https://us-python.pkg.dev/colab-wheels/public/simple/\n",
            "Requirement already satisfied: pytextrank in /usr/local/lib/python3.7/dist-packages (3.2.4)\n",
            "Requirement already satisfied: spacy>=3.0 in /usr/local/lib/python3.7/dist-packages (from pytextrank) (3.4.1)\n",
            "Requirement already satisfied: icecream>=2.1 in /usr/local/lib/python3.7/dist-packages (from pytextrank) (2.1.3)\n",
            "Requirement already satisfied: networkx[default]>=2.6 in /usr/local/lib/python3.7/dist-packages (from pytextrank) (2.6.3)\n",
            "Requirement already satisfied: graphviz>=0.13 in /usr/local/lib/python3.7/dist-packages (from pytextrank) (0.20.1)\n",
            "Requirement already satisfied: scipy>=1.7 in /usr/local/lib/python3.7/dist-packages (from pytextrank) (1.7.3)\n",
            "Requirement already satisfied: pygments>=2.7.4 in /usr/local/lib/python3.7/dist-packages (from pytextrank) (2.13.0)\n",
            "Requirement already satisfied: colorama>=0.3.9 in /usr/local/lib/python3.7/dist-packages (from icecream>=2.1->pytextrank) (0.4.5)\n",
            "Requirement already satisfied: asttokens>=2.0.1 in /usr/local/lib/python3.7/dist-packages (from icecream>=2.1->pytextrank) (2.0.8)\n",
            "Requirement already satisfied: executing>=0.3.1 in /usr/local/lib/python3.7/dist-packages (from icecream>=2.1->pytextrank) (1.1.1)\n",
            "Requirement already satisfied: six in /usr/local/lib/python3.7/dist-packages (from asttokens>=2.0.1->icecream>=2.1->pytextrank) (1.15.0)\n",
            "Requirement already satisfied: matplotlib>=3.3 in /usr/local/lib/python3.7/dist-packages (from networkx[default]>=2.6->pytextrank) (3.5.3)\n",
            "Requirement already satisfied: numpy>=1.19 in /usr/local/lib/python3.7/dist-packages (from networkx[default]>=2.6->pytextrank) (1.21.6)\n",
            "Requirement already satisfied: pandas>=1.1 in /usr/local/lib/python3.7/dist-packages (from networkx[default]>=2.6->pytextrank) (1.3.5)\n",
            "Requirement already satisfied: kiwisolver>=1.0.1 in /usr/local/lib/python3.7/dist-packages (from matplotlib>=3.3->networkx[default]>=2.6->pytextrank) (1.4.4)\n",
            "Requirement already satisfied: python-dateutil>=2.7 in /usr/local/lib/python3.7/dist-packages (from matplotlib>=3.3->networkx[default]>=2.6->pytextrank) (2.8.2)\n",
            "Requirement already satisfied: pyparsing>=2.2.1 in /usr/local/lib/python3.7/dist-packages (from matplotlib>=3.3->networkx[default]>=2.6->pytextrank) (3.0.9)\n",
            "Requirement already satisfied: cycler>=0.10 in /usr/local/lib/python3.7/dist-packages (from matplotlib>=3.3->networkx[default]>=2.6->pytextrank) (0.11.0)\n",
            "Requirement already satisfied: packaging>=20.0 in /usr/local/lib/python3.7/dist-packages (from matplotlib>=3.3->networkx[default]>=2.6->pytextrank) (21.3)\n",
            "Requirement already satisfied: pillow>=6.2.0 in /usr/local/lib/python3.7/dist-packages (from matplotlib>=3.3->networkx[default]>=2.6->pytextrank) (7.1.2)\n",
            "Requirement already satisfied: fonttools>=4.22.0 in /usr/local/lib/python3.7/dist-packages (from matplotlib>=3.3->networkx[default]>=2.6->pytextrank) (4.37.4)\n",
            "Requirement already satisfied: typing-extensions in /usr/local/lib/python3.7/dist-packages (from kiwisolver>=1.0.1->matplotlib>=3.3->networkx[default]>=2.6->pytextrank) (4.1.1)\n",
            "Requirement already satisfied: pytz>=2017.3 in /usr/local/lib/python3.7/dist-packages (from pandas>=1.1->networkx[default]>=2.6->pytextrank) (2022.4)\n",
            "Requirement already satisfied: tqdm<5.0.0,>=4.38.0 in /usr/local/lib/python3.7/dist-packages (from spacy>=3.0->pytextrank) (4.64.1)\n",
            "Requirement already satisfied: langcodes<4.0.0,>=3.2.0 in /usr/local/lib/python3.7/dist-packages (from spacy>=3.0->pytextrank) (3.3.0)\n",
            "Requirement already satisfied: pydantic!=1.8,!=1.8.1,<1.10.0,>=1.7.4 in /usr/local/lib/python3.7/dist-packages (from spacy>=3.0->pytextrank) (1.9.2)\n",
            "Requirement already satisfied: wasabi<1.1.0,>=0.9.1 in /usr/local/lib/python3.7/dist-packages (from spacy>=3.0->pytextrank) (0.10.1)\n",
            "Requirement already satisfied: pathy>=0.3.5 in /usr/local/lib/python3.7/dist-packages (from spacy>=3.0->pytextrank) (0.6.2)\n",
            "Requirement already satisfied: spacy-legacy<3.1.0,>=3.0.9 in /usr/local/lib/python3.7/dist-packages (from spacy>=3.0->pytextrank) (3.0.10)\n",
            "Requirement already satisfied: jinja2 in /usr/local/lib/python3.7/dist-packages (from spacy>=3.0->pytextrank) (2.11.3)\n",
            "Requirement already satisfied: catalogue<2.1.0,>=2.0.6 in /usr/local/lib/python3.7/dist-packages (from spacy>=3.0->pytextrank) (2.0.8)\n",
            "Requirement already satisfied: thinc<8.2.0,>=8.1.0 in /usr/local/lib/python3.7/dist-packages (from spacy>=3.0->pytextrank) (8.1.3)\n",
            "Requirement already satisfied: typer<0.5.0,>=0.3.0 in /usr/local/lib/python3.7/dist-packages (from spacy>=3.0->pytextrank) (0.4.2)\n",
            "Requirement already satisfied: requests<3.0.0,>=2.13.0 in /usr/local/lib/python3.7/dist-packages (from spacy>=3.0->pytextrank) (2.23.0)\n",
            "Requirement already satisfied: murmurhash<1.1.0,>=0.28.0 in /usr/local/lib/python3.7/dist-packages (from spacy>=3.0->pytextrank) (1.0.8)\n",
            "Requirement already satisfied: preshed<3.1.0,>=3.0.2 in /usr/local/lib/python3.7/dist-packages (from spacy>=3.0->pytextrank) (3.0.7)\n",
            "Requirement already satisfied: srsly<3.0.0,>=2.4.3 in /usr/local/lib/python3.7/dist-packages (from spacy>=3.0->pytextrank) (2.4.4)\n",
            "Requirement already satisfied: spacy-loggers<2.0.0,>=1.0.0 in /usr/local/lib/python3.7/dist-packages (from spacy>=3.0->pytextrank) (1.0.3)\n",
            "Requirement already satisfied: cymem<2.1.0,>=2.0.2 in /usr/local/lib/python3.7/dist-packages (from spacy>=3.0->pytextrank) (2.0.6)\n",
            "Requirement already satisfied: setuptools in /usr/local/lib/python3.7/dist-packages (from spacy>=3.0->pytextrank) (57.4.0)\n",
            "Requirement already satisfied: zipp>=0.5 in /usr/local/lib/python3.7/dist-packages (from catalogue<2.1.0,>=2.0.6->spacy>=3.0->pytextrank) (3.9.0)\n",
            "Requirement already satisfied: smart-open<6.0.0,>=5.2.1 in /usr/local/lib/python3.7/dist-packages (from pathy>=0.3.5->spacy>=3.0->pytextrank) (5.2.1)\n",
            "Requirement already satisfied: chardet<4,>=3.0.2 in /usr/local/lib/python3.7/dist-packages (from requests<3.0.0,>=2.13.0->spacy>=3.0->pytextrank) (3.0.4)\n",
            "Requirement already satisfied: certifi>=2017.4.17 in /usr/local/lib/python3.7/dist-packages (from requests<3.0.0,>=2.13.0->spacy>=3.0->pytextrank) (2022.9.24)\n",
            "Requirement already satisfied: idna<3,>=2.5 in /usr/local/lib/python3.7/dist-packages (from requests<3.0.0,>=2.13.0->spacy>=3.0->pytextrank) (2.10)\n",
            "Requirement already satisfied: urllib3!=1.25.0,!=1.25.1,<1.26,>=1.21.1 in /usr/local/lib/python3.7/dist-packages (from requests<3.0.0,>=2.13.0->spacy>=3.0->pytextrank) (1.24.3)\n",
            "Requirement already satisfied: blis<0.8.0,>=0.7.8 in /usr/local/lib/python3.7/dist-packages (from thinc<8.2.0,>=8.1.0->spacy>=3.0->pytextrank) (0.7.8)\n",
            "Requirement already satisfied: confection<1.0.0,>=0.0.1 in /usr/local/lib/python3.7/dist-packages (from thinc<8.2.0,>=8.1.0->spacy>=3.0->pytextrank) (0.0.3)\n",
            "Requirement already satisfied: click<9.0.0,>=7.1.1 in /usr/local/lib/python3.7/dist-packages (from typer<0.5.0,>=0.3.0->spacy>=3.0->pytextrank) (7.1.2)\n",
            "Requirement already satisfied: MarkupSafe>=0.23 in /usr/local/lib/python3.7/dist-packages (from jinja2->spacy>=3.0->pytextrank) (2.0.1)\n"
          ]
        }
      ]
    },
    {
      "cell_type": "code",
      "source": [
        "!python -m spacy download en_core_web_sm"
      ],
      "metadata": {
        "colab": {
          "base_uri": "https://localhost:8080/"
        },
        "id": "T1LaBgQE1OPQ",
        "outputId": "80d68648-cb50-4fe9-92af-05a151674188"
      },
      "execution_count": 2,
      "outputs": [
        {
          "output_type": "stream",
          "name": "stdout",
          "text": [
            "2022-10-18 06:44:29.686066: E tensorflow/stream_executor/cuda/cuda_driver.cc:271] failed call to cuInit: CUDA_ERROR_NO_DEVICE: no CUDA-capable device is detected\n",
            "Looking in indexes: https://pypi.org/simple, https://us-python.pkg.dev/colab-wheels/public/simple/\n",
            "Collecting en-core-web-sm==3.4.0\n",
            "  Downloading https://github.com/explosion/spacy-models/releases/download/en_core_web_sm-3.4.0/en_core_web_sm-3.4.0-py3-none-any.whl (12.8 MB)\n",
            "\u001b[K     |████████████████████████████████| 12.8 MB 5.2 MB/s \n",
            "\u001b[?25hRequirement already satisfied: spacy<3.5.0,>=3.4.0 in /usr/local/lib/python3.7/dist-packages (from en-core-web-sm==3.4.0) (3.4.1)\n",
            "Requirement already satisfied: wasabi<1.1.0,>=0.9.1 in /usr/local/lib/python3.7/dist-packages (from spacy<3.5.0,>=3.4.0->en-core-web-sm==3.4.0) (0.10.1)\n",
            "Requirement already satisfied: typer<0.5.0,>=0.3.0 in /usr/local/lib/python3.7/dist-packages (from spacy<3.5.0,>=3.4.0->en-core-web-sm==3.4.0) (0.4.2)\n",
            "Requirement already satisfied: catalogue<2.1.0,>=2.0.6 in /usr/local/lib/python3.7/dist-packages (from spacy<3.5.0,>=3.4.0->en-core-web-sm==3.4.0) (2.0.8)\n",
            "Requirement already satisfied: pydantic!=1.8,!=1.8.1,<1.10.0,>=1.7.4 in /usr/local/lib/python3.7/dist-packages (from spacy<3.5.0,>=3.4.0->en-core-web-sm==3.4.0) (1.9.2)\n",
            "Requirement already satisfied: cymem<2.1.0,>=2.0.2 in /usr/local/lib/python3.7/dist-packages (from spacy<3.5.0,>=3.4.0->en-core-web-sm==3.4.0) (2.0.6)\n",
            "Requirement already satisfied: thinc<8.2.0,>=8.1.0 in /usr/local/lib/python3.7/dist-packages (from spacy<3.5.0,>=3.4.0->en-core-web-sm==3.4.0) (8.1.3)\n",
            "Requirement already satisfied: packaging>=20.0 in /usr/local/lib/python3.7/dist-packages (from spacy<3.5.0,>=3.4.0->en-core-web-sm==3.4.0) (21.3)\n",
            "Requirement already satisfied: numpy>=1.15.0 in /usr/local/lib/python3.7/dist-packages (from spacy<3.5.0,>=3.4.0->en-core-web-sm==3.4.0) (1.21.6)\n",
            "Requirement already satisfied: spacy-loggers<2.0.0,>=1.0.0 in /usr/local/lib/python3.7/dist-packages (from spacy<3.5.0,>=3.4.0->en-core-web-sm==3.4.0) (1.0.3)\n",
            "Requirement already satisfied: langcodes<4.0.0,>=3.2.0 in /usr/local/lib/python3.7/dist-packages (from spacy<3.5.0,>=3.4.0->en-core-web-sm==3.4.0) (3.3.0)\n",
            "Requirement already satisfied: preshed<3.1.0,>=3.0.2 in /usr/local/lib/python3.7/dist-packages (from spacy<3.5.0,>=3.4.0->en-core-web-sm==3.4.0) (3.0.7)\n",
            "Requirement already satisfied: srsly<3.0.0,>=2.4.3 in /usr/local/lib/python3.7/dist-packages (from spacy<3.5.0,>=3.4.0->en-core-web-sm==3.4.0) (2.4.4)\n",
            "Requirement already satisfied: pathy>=0.3.5 in /usr/local/lib/python3.7/dist-packages (from spacy<3.5.0,>=3.4.0->en-core-web-sm==3.4.0) (0.6.2)\n",
            "Requirement already satisfied: typing-extensions<4.2.0,>=3.7.4 in /usr/local/lib/python3.7/dist-packages (from spacy<3.5.0,>=3.4.0->en-core-web-sm==3.4.0) (4.1.1)\n",
            "Requirement already satisfied: spacy-legacy<3.1.0,>=3.0.9 in /usr/local/lib/python3.7/dist-packages (from spacy<3.5.0,>=3.4.0->en-core-web-sm==3.4.0) (3.0.10)\n",
            "Requirement already satisfied: tqdm<5.0.0,>=4.38.0 in /usr/local/lib/python3.7/dist-packages (from spacy<3.5.0,>=3.4.0->en-core-web-sm==3.4.0) (4.64.1)\n",
            "Requirement already satisfied: requests<3.0.0,>=2.13.0 in /usr/local/lib/python3.7/dist-packages (from spacy<3.5.0,>=3.4.0->en-core-web-sm==3.4.0) (2.23.0)\n",
            "Requirement already satisfied: setuptools in /usr/local/lib/python3.7/dist-packages (from spacy<3.5.0,>=3.4.0->en-core-web-sm==3.4.0) (57.4.0)\n",
            "Requirement already satisfied: murmurhash<1.1.0,>=0.28.0 in /usr/local/lib/python3.7/dist-packages (from spacy<3.5.0,>=3.4.0->en-core-web-sm==3.4.0) (1.0.8)\n",
            "Requirement already satisfied: jinja2 in /usr/local/lib/python3.7/dist-packages (from spacy<3.5.0,>=3.4.0->en-core-web-sm==3.4.0) (2.11.3)\n",
            "Requirement already satisfied: zipp>=0.5 in /usr/local/lib/python3.7/dist-packages (from catalogue<2.1.0,>=2.0.6->spacy<3.5.0,>=3.4.0->en-core-web-sm==3.4.0) (3.9.0)\n",
            "Requirement already satisfied: pyparsing!=3.0.5,>=2.0.2 in /usr/local/lib/python3.7/dist-packages (from packaging>=20.0->spacy<3.5.0,>=3.4.0->en-core-web-sm==3.4.0) (3.0.9)\n",
            "Requirement already satisfied: smart-open<6.0.0,>=5.2.1 in /usr/local/lib/python3.7/dist-packages (from pathy>=0.3.5->spacy<3.5.0,>=3.4.0->en-core-web-sm==3.4.0) (5.2.1)\n",
            "Requirement already satisfied: certifi>=2017.4.17 in /usr/local/lib/python3.7/dist-packages (from requests<3.0.0,>=2.13.0->spacy<3.5.0,>=3.4.0->en-core-web-sm==3.4.0) (2022.9.24)\n",
            "Requirement already satisfied: chardet<4,>=3.0.2 in /usr/local/lib/python3.7/dist-packages (from requests<3.0.0,>=2.13.0->spacy<3.5.0,>=3.4.0->en-core-web-sm==3.4.0) (3.0.4)\n",
            "Requirement already satisfied: idna<3,>=2.5 in /usr/local/lib/python3.7/dist-packages (from requests<3.0.0,>=2.13.0->spacy<3.5.0,>=3.4.0->en-core-web-sm==3.4.0) (2.10)\n",
            "Requirement already satisfied: urllib3!=1.25.0,!=1.25.1,<1.26,>=1.21.1 in /usr/local/lib/python3.7/dist-packages (from requests<3.0.0,>=2.13.0->spacy<3.5.0,>=3.4.0->en-core-web-sm==3.4.0) (1.24.3)\n",
            "Requirement already satisfied: confection<1.0.0,>=0.0.1 in /usr/local/lib/python3.7/dist-packages (from thinc<8.2.0,>=8.1.0->spacy<3.5.0,>=3.4.0->en-core-web-sm==3.4.0) (0.0.3)\n",
            "Requirement already satisfied: blis<0.8.0,>=0.7.8 in /usr/local/lib/python3.7/dist-packages (from thinc<8.2.0,>=8.1.0->spacy<3.5.0,>=3.4.0->en-core-web-sm==3.4.0) (0.7.8)\n",
            "Requirement already satisfied: click<9.0.0,>=7.1.1 in /usr/local/lib/python3.7/dist-packages (from typer<0.5.0,>=0.3.0->spacy<3.5.0,>=3.4.0->en-core-web-sm==3.4.0) (7.1.2)\n",
            "Requirement already satisfied: MarkupSafe>=0.23 in /usr/local/lib/python3.7/dist-packages (from jinja2->spacy<3.5.0,>=3.4.0->en-core-web-sm==3.4.0) (2.0.1)\n",
            "\u001b[38;5;2m✔ Download and installation successful\u001b[0m\n",
            "You can now load the package via spacy.load('en_core_web_sm')\n"
          ]
        }
      ]
    },
    {
      "cell_type": "code",
      "source": [
        "import spacy\n",
        "import pytextrank"
      ],
      "metadata": {
        "id": "UXdS2Vup1OR4"
      },
      "execution_count": 3,
      "outputs": []
    },
    {
      "cell_type": "code",
      "source": [
        "query=\"about Altimetrik Rebound program\""
      ],
      "metadata": {
        "id": "tgRrBDTX1OVs"
      },
      "execution_count": 4,
      "outputs": []
    },
    {
      "cell_type": "code",
      "source": [
        "en_nlp = spacy.load(\"en_core_web_sm\")\n",
        "en_nlp.add_pipe(\"textrank\")\n",
        "doc = en_nlp(query)"
      ],
      "metadata": {
        "id": "QEqtVbFK1tge"
      },
      "execution_count": 5,
      "outputs": []
    },
    {
      "cell_type": "code",
      "source": [
        "tr = doc._.textrank\n",
        "print(tr.elapsed_time)"
      ],
      "metadata": {
        "colab": {
          "base_uri": "https://localhost:8080/"
        },
        "id": "iGG8TJ7y103H",
        "outputId": "31fd6d07-e0d4-4650-955e-49d187d8b171"
      },
      "execution_count": 6,
      "outputs": [
        {
          "output_type": "stream",
          "name": "stdout",
          "text": [
            "11.382341384887695\n"
          ]
        }
      ]
    },
    {
      "cell_type": "code",
      "source": [
        "for combination in doc._.phrases:\n",
        "    print(combination.text, combination.rank, combination.count)"
      ],
      "metadata": {
        "colab": {
          "base_uri": "https://localhost:8080/"
        },
        "id": "h2Pf6AUD10_N",
        "outputId": "41edcccc-3516-42cd-ca62-a2912bf4d045"
      },
      "execution_count": 7,
      "outputs": [
        {
          "output_type": "stream",
          "name": "stdout",
          "text": [
            "Altimetrik Rebound program 0.1889822365046136 1\n"
          ]
        }
      ]
    },
    {
      "cell_type": "code",
      "source": [
        "for combination in doc._.phrases[:3]:\n",
        "  print(combination)"
      ],
      "metadata": {
        "colab": {
          "base_uri": "https://localhost:8080/"
        },
        "id": "3XqEhLN611EP",
        "outputId": "f3ab6f87-ae65-4c29-d11a-a4e37c9a8a65"
      },
      "execution_count": 8,
      "outputs": [
        {
          "output_type": "stream",
          "name": "stdout",
          "text": [
            "Phrase(text='Altimetrik\\xa0Rebound\\xa0program', chunks=[Altimetrik Rebound program], count=1, rank=0.1889822365046136)\n"
          ]
        }
      ]
    },
    {
      "cell_type": "code",
      "source": [
        "for combination in doc._.phrases[:2]:\n",
        "  print(combination)"
      ],
      "metadata": {
        "colab": {
          "base_uri": "https://localhost:8080/"
        },
        "id": "LmrxG84b11I_",
        "outputId": "4c571ce1-171b-4810-cbb8-c2077cbddf60"
      },
      "execution_count": 9,
      "outputs": [
        {
          "output_type": "stream",
          "name": "stdout",
          "text": [
            "Phrase(text='Altimetrik\\xa0Rebound\\xa0program', chunks=[Altimetrik Rebound program], count=1, rank=0.1889822365046136)\n"
          ]
        }
      ]
    },
    {
      "cell_type": "code",
      "source": [
        "doc1 = en_nlp(query1)"
      ],
      "metadata": {
        "id": "uQNLUKYR5mIn"
      },
      "execution_count": 30,
      "outputs": []
    },
    {
      "cell_type": "code",
      "source": [
        "query1=\"Altimetrik Launches Digital Lending Platform for Mid-Tier Banks - Dec. 2020\""
      ],
      "metadata": {
        "id": "GO452rCD6Ake"
      },
      "execution_count": 29,
      "outputs": []
    },
    {
      "cell_type": "code",
      "source": [
        "for keyword in doc1._.phrases:\n",
        "  print(keyword)"
      ],
      "metadata": {
        "colab": {
          "base_uri": "https://localhost:8080/"
        },
        "id": "1rCMPLsf5mK_",
        "outputId": "1dabc5d1-ed0d-459c-d93a-81264b128826"
      },
      "execution_count": 31,
      "outputs": [
        {
          "output_type": "stream",
          "name": "stdout",
          "text": [
            "Phrase(text='Mid-Tier\\xa0Banks\\xa0-\\xa0Dec.', chunks=[Mid-Tier Banks - Dec.], count=1, rank=0.11619977932810094)\n",
            "Phrase(text='Altimetrik\\xa0Launches\\xa0Digital\\xa0Lending\\xa0Platform', chunks=[Altimetrik Launches Digital Lending Platform], count=1, rank=0.07568606552642222)\n",
            "Phrase(text='2020', chunks=[2020], count=1, rank=0.0)\n"
          ]
        }
      ]
    },
    {
      "cell_type": "code",
      "source": [
        "query2=\"Altimetrik’s Rajesh Ananth Wins 2022 Excellence in Customer Service Award\""
      ],
      "metadata": {
        "id": "6DRUP8wy5mNg"
      },
      "execution_count": 32,
      "outputs": []
    },
    {
      "cell_type": "code",
      "source": [
        "doc2 = en_nlp(query2)"
      ],
      "metadata": {
        "id": "KXNuuQjL5mP-"
      },
      "execution_count": 36,
      "outputs": []
    },
    {
      "cell_type": "code",
      "source": [
        "for keywords in doc2._.phrases:\n",
        "  print(keywords)"
      ],
      "metadata": {
        "colab": {
          "base_uri": "https://localhost:8080/"
        },
        "id": "0QKOsAPn6OF1",
        "outputId": "f2405569-0279-4ca4-900d-3b6676333692"
      },
      "execution_count": 38,
      "outputs": [
        {
          "output_type": "stream",
          "name": "stdout",
          "text": [
            "Phrase(text='Excellence', chunks=[Excellence], count=1, rank=0.17219098848379463)\n",
            "Phrase(text='Customer\\xa0Service\\xa0Award', chunks=[Customer Service Award, Customer Service Award], count=2, rank=0.14470567187690722)\n",
            "Phrase(text='Altimetrik’s\\xa0Rajesh\\xa0Ananth', chunks=[Altimetrik’s Rajesh Ananth], count=1, rank=0.06739345339479534)\n",
            "Phrase(text='2022', chunks=[2022], count=1, rank=0.0)\n"
          ]
        }
      ]
    },
    {
      "cell_type": "code",
      "source": [],
      "metadata": {
        "id": "Y_GNH4ON7DVB"
      },
      "execution_count": null,
      "outputs": []
    },
    {
      "cell_type": "code",
      "source": [],
      "metadata": {
        "id": "sUHlauG_6OLd"
      },
      "execution_count": null,
      "outputs": []
    },
    {
      "cell_type": "code",
      "source": [],
      "metadata": {
        "id": "2XmxBcS86ORC"
      },
      "execution_count": null,
      "outputs": []
    },
    {
      "cell_type": "code",
      "source": [],
      "metadata": {
        "id": "dwVuS57k5mSY"
      },
      "execution_count": null,
      "outputs": []
    },
    {
      "cell_type": "code",
      "source": [],
      "metadata": {
        "id": "PNz3Z8Uq5mUz"
      },
      "execution_count": null,
      "outputs": []
    },
    {
      "cell_type": "code",
      "source": [],
      "metadata": {
        "id": "OFbgwgfD5mYP"
      },
      "execution_count": null,
      "outputs": []
    },
    {
      "cell_type": "code",
      "source": [
        "tr.plot_keyphrases()"
      ],
      "metadata": {
        "colab": {
          "base_uri": "https://localhost:8080/",
          "height": 386
        },
        "id": "9uKh-WOD11N8",
        "outputId": "7e06a165-3b0f-49c8-d330-4765fb319904"
      },
      "execution_count": 11,
      "outputs": [
        {
          "output_type": "execute_result",
          "data": {
            "text/html": [
              "\n",
              "<div id=\"altair-viz-5a0f1895aa1f49f7b74a64aaada88936\"></div>\n",
              "<script type=\"text/javascript\">\n",
              "  var VEGA_DEBUG = (typeof VEGA_DEBUG == \"undefined\") ? {} : VEGA_DEBUG;\n",
              "  (function(spec, embedOpt){\n",
              "    let outputDiv = document.currentScript.previousElementSibling;\n",
              "    if (outputDiv.id !== \"altair-viz-5a0f1895aa1f49f7b74a64aaada88936\") {\n",
              "      outputDiv = document.getElementById(\"altair-viz-5a0f1895aa1f49f7b74a64aaada88936\");\n",
              "    }\n",
              "    const paths = {\n",
              "      \"vega\": \"https://cdn.jsdelivr.net/npm//vega@5?noext\",\n",
              "      \"vega-lib\": \"https://cdn.jsdelivr.net/npm//vega-lib?noext\",\n",
              "      \"vega-lite\": \"https://cdn.jsdelivr.net/npm//vega-lite@4.17.0?noext\",\n",
              "      \"vega-embed\": \"https://cdn.jsdelivr.net/npm//vega-embed@6?noext\",\n",
              "    };\n",
              "\n",
              "    function maybeLoadScript(lib, version) {\n",
              "      var key = `${lib.replace(\"-\", \"\")}_version`;\n",
              "      return (VEGA_DEBUG[key] == version) ?\n",
              "        Promise.resolve(paths[lib]) :\n",
              "        new Promise(function(resolve, reject) {\n",
              "          var s = document.createElement('script');\n",
              "          document.getElementsByTagName(\"head\")[0].appendChild(s);\n",
              "          s.async = true;\n",
              "          s.onload = () => {\n",
              "            VEGA_DEBUG[key] = version;\n",
              "            return resolve(paths[lib]);\n",
              "          };\n",
              "          s.onerror = () => reject(`Error loading script: ${paths[lib]}`);\n",
              "          s.src = paths[lib];\n",
              "        });\n",
              "    }\n",
              "\n",
              "    function showError(err) {\n",
              "      outputDiv.innerHTML = `<div class=\"error\" style=\"color:red;\">${err}</div>`;\n",
              "      throw err;\n",
              "    }\n",
              "\n",
              "    function displayChart(vegaEmbed) {\n",
              "      vegaEmbed(outputDiv, spec, embedOpt)\n",
              "        .catch(err => showError(`Javascript Error: ${err.message}<br>This usually means there's a typo in your chart specification. See the javascript console for the full traceback.`));\n",
              "    }\n",
              "\n",
              "    if(typeof define === \"function\" && define.amd) {\n",
              "      requirejs.config({paths});\n",
              "      require([\"vega-embed\"], displayChart, err => showError(`Error loading script: ${err.message}`));\n",
              "    } else {\n",
              "      maybeLoadScript(\"vega\", \"5\")\n",
              "        .then(() => maybeLoadScript(\"vega-lite\", \"4.17.0\"))\n",
              "        .then(() => maybeLoadScript(\"vega-embed\", \"6\"))\n",
              "        .catch(showError)\n",
              "        .then(() => displayChart(vegaEmbed));\n",
              "    }\n",
              "  })({\"config\": {\"view\": {\"continuousWidth\": 400, \"continuousHeight\": 300}}, \"data\": {\"name\": \"data-85beb822f979f2f31821e9d205e60764\"}, \"mark\": \"bar\", \"encoding\": {\"color\": {\"field\": \"count\", \"type\": \"quantitative\"}, \"tooltip\": [{\"field\": \"text\", \"type\": \"nominal\"}, {\"field\": \"rank\", \"type\": \"quantitative\"}, {\"field\": \"count\", \"type\": \"quantitative\"}], \"x\": {\"field\": \"index\", \"type\": \"quantitative\"}, \"y\": {\"field\": \"rank\", \"type\": \"quantitative\"}}, \"title\": \"Keyphrase profile of the document\", \"$schema\": \"https://vega.github.io/schema/vega-lite/v4.17.0.json\", \"datasets\": {\"data-85beb822f979f2f31821e9d205e60764\": [{\"index\": 0, \"text\": \"Altimetrik\\u00a0Rebound\\u00a0program\", \"count\": 1, \"rank\": 0.1889822365046136}]}}, {\"mode\": \"vega-lite\"});\n",
              "</script>"
            ],
            "text/plain": [
              "alt.Chart(...)"
            ]
          },
          "metadata": {},
          "execution_count": 11
        }
      ]
    },
    {
      "cell_type": "code",
      "source": [
        "#We can summarize documents using this library"
      ],
      "metadata": {
        "id": "zRTtp08M2piu"
      },
      "execution_count": 12,
      "outputs": []
    },
    {
      "cell_type": "code",
      "source": [
        "text = \"\"\"India recorded its lowest daily Covid-19 cases in over four months on Tuesday as it\n",
        "registered 30,093 fresh cases of the coronavirus disease, the Union ministry of health and\n",
        "family welfare data showed. The last time India's Covid-19 tally was below 30,000-mark was on \n",
        "March 16 when the country saw 28,903 fresh cases.\n",
        "\n",
        "The country also saw 374 deaths due to Covid-19 in the last 24 hours, taking the death toll to 414,482. This is also the lowest death count India has seen after over three months. India witnessed deaths below 400 on March 30 when 354 fatalities were recorded.\n",
        "\n",
        "Active cases of Covid-19 in the last 24 hours dipped sharply by 15,535, bringing the current infections in the country down to 406,130, the health ministry data showed. These account for 1.35% of the total infections reported in the country.\n",
        "\n",
        "At least 45,254 people recovered from the infectious disease in the last 24 hours, taking India's recovery rate to 97.32%.\"\"\""
      ],
      "metadata": {
        "id": "4kKou7mI2psn"
      },
      "execution_count": 13,
      "outputs": []
    },
    {
      "cell_type": "code",
      "source": [
        "en_nlp = spacy.load(\"en_core_web_sm\")\n",
        "en_nlp.add_pipe(\"textrank\", config={ \"stopwords\": { \"word\": [\"NOUN\"] } })\n",
        "doc = en_nlp(text)"
      ],
      "metadata": {
        "id": "wPdVyb0K2pxp"
      },
      "execution_count": 14,
      "outputs": []
    },
    {
      "cell_type": "code",
      "source": [
        "tr=doc._.textrank"
      ],
      "metadata": {
        "id": "4Q_7_SRC2p2b"
      },
      "execution_count": 15,
      "outputs": []
    },
    {
      "cell_type": "code",
      "source": [
        "tr.plot_keyphrases()"
      ],
      "metadata": {
        "colab": {
          "base_uri": "https://localhost:8080/",
          "height": 381
        },
        "id": "2IaNxfPH2p6z",
        "outputId": "0d601292-2c5f-40ed-b2bd-b04fb2d0448f"
      },
      "execution_count": 16,
      "outputs": [
        {
          "output_type": "execute_result",
          "data": {
            "text/html": [
              "\n",
              "<div id=\"altair-viz-db645b7decff4b2994b5ecc8ff6da26e\"></div>\n",
              "<script type=\"text/javascript\">\n",
              "  var VEGA_DEBUG = (typeof VEGA_DEBUG == \"undefined\") ? {} : VEGA_DEBUG;\n",
              "  (function(spec, embedOpt){\n",
              "    let outputDiv = document.currentScript.previousElementSibling;\n",
              "    if (outputDiv.id !== \"altair-viz-db645b7decff4b2994b5ecc8ff6da26e\") {\n",
              "      outputDiv = document.getElementById(\"altair-viz-db645b7decff4b2994b5ecc8ff6da26e\");\n",
              "    }\n",
              "    const paths = {\n",
              "      \"vega\": \"https://cdn.jsdelivr.net/npm//vega@5?noext\",\n",
              "      \"vega-lib\": \"https://cdn.jsdelivr.net/npm//vega-lib?noext\",\n",
              "      \"vega-lite\": \"https://cdn.jsdelivr.net/npm//vega-lite@4.17.0?noext\",\n",
              "      \"vega-embed\": \"https://cdn.jsdelivr.net/npm//vega-embed@6?noext\",\n",
              "    };\n",
              "\n",
              "    function maybeLoadScript(lib, version) {\n",
              "      var key = `${lib.replace(\"-\", \"\")}_version`;\n",
              "      return (VEGA_DEBUG[key] == version) ?\n",
              "        Promise.resolve(paths[lib]) :\n",
              "        new Promise(function(resolve, reject) {\n",
              "          var s = document.createElement('script');\n",
              "          document.getElementsByTagName(\"head\")[0].appendChild(s);\n",
              "          s.async = true;\n",
              "          s.onload = () => {\n",
              "            VEGA_DEBUG[key] = version;\n",
              "            return resolve(paths[lib]);\n",
              "          };\n",
              "          s.onerror = () => reject(`Error loading script: ${paths[lib]}`);\n",
              "          s.src = paths[lib];\n",
              "        });\n",
              "    }\n",
              "\n",
              "    function showError(err) {\n",
              "      outputDiv.innerHTML = `<div class=\"error\" style=\"color:red;\">${err}</div>`;\n",
              "      throw err;\n",
              "    }\n",
              "\n",
              "    function displayChart(vegaEmbed) {\n",
              "      vegaEmbed(outputDiv, spec, embedOpt)\n",
              "        .catch(err => showError(`Javascript Error: ${err.message}<br>This usually means there's a typo in your chart specification. See the javascript console for the full traceback.`));\n",
              "    }\n",
              "\n",
              "    if(typeof define === \"function\" && define.amd) {\n",
              "      requirejs.config({paths});\n",
              "      require([\"vega-embed\"], displayChart, err => showError(`Error loading script: ${err.message}`));\n",
              "    } else {\n",
              "      maybeLoadScript(\"vega\", \"5\")\n",
              "        .then(() => maybeLoadScript(\"vega-lite\", \"4.17.0\"))\n",
              "        .then(() => maybeLoadScript(\"vega-embed\", \"6\"))\n",
              "        .catch(showError)\n",
              "        .then(() => displayChart(vegaEmbed));\n",
              "    }\n",
              "  })({\"config\": {\"view\": {\"continuousWidth\": 400, \"continuousHeight\": 300}}, \"data\": {\"name\": \"data-7fb407bdd0ff20e204d74c5f24c308ed\"}, \"mark\": \"bar\", \"encoding\": {\"color\": {\"field\": \"count\", \"type\": \"quantitative\"}, \"tooltip\": [{\"field\": \"text\", \"type\": \"nominal\"}, {\"field\": \"rank\", \"type\": \"quantitative\"}, {\"field\": \"count\", \"type\": \"quantitative\"}], \"x\": {\"field\": \"index\", \"type\": \"quantitative\"}, \"y\": {\"field\": \"rank\", \"type\": \"quantitative\"}}, \"title\": \"Keyphrase profile of the document\", \"$schema\": \"https://vega.github.io/schema/vega-lite/v4.17.0.json\", \"datasets\": {\"data-7fb407bdd0ff20e204d74c5f24c308ed\": [{\"index\": 0, \"text\": \"family welfare data\", \"count\": 1, \"rank\": 0.12600090030695432}, {\"index\": 1, \"text\": \"Active cases\", \"count\": 1, \"rank\": 0.10762708856818633}, {\"index\": 2, \"text\": \"Covid-19\", \"count\": 2, \"rank\": 0.0972910880017003}, {\"index\": 3, \"text\": \"its lowest daily Covid-19 cases\", \"count\": 1, \"rank\": 0.08493733074461425}, {\"index\": 4, \"text\": \"deaths\", \"count\": 1, \"rank\": 0.08105682814454315}, {\"index\": 5, \"text\": \"the health ministry data\", \"count\": 1, \"rank\": 0.07832397465246121}, {\"index\": 6, \"text\": \"India\", \"count\": 8, \"rank\": 0.07622677252903803}, {\"index\": 7, \"text\": \"28,903 fresh cases\", \"count\": 1, \"rank\": 0.07129934511205784}, {\"index\": 8, \"text\": \"30,093 fresh cases\", \"count\": 1, \"rank\": 0.07129934511205784}, {\"index\": 9, \"text\": \"health\", \"count\": 1, \"rank\": 0.07040385930179857}, {\"index\": 10, \"text\": \"Indias Covid-19 tally\", \"count\": 1, \"rank\": 0.06832929773944697}, {\"index\": 11, \"text\": \"March\", \"count\": 2, \"rank\": 0.06820137241457065}, {\"index\": 12, \"text\": \"Tuesday\", \"count\": 2, \"rank\": 0.06730934841577292}, {\"index\": 13, \"text\": \"the Union ministry\", \"count\": 1, \"rank\": 0.05804340764065743}, {\"index\": 14, \"text\": \"daily\", \"count\": 1, \"rank\": 0.05801486530369755}, {\"index\": 15, \"text\": \"Indias recovery rate\", \"count\": 1, \"rank\": 0.05719488369024152}, {\"index\": 16, \"text\": \"the coronavirus disease\", \"count\": 1, \"rank\": 0.05620344960951462}, {\"index\": 17, \"text\": \"the Union ministry of health and\\nfamily welfare data\", \"count\": 1, \"rank\": 0.05598430626310569}, {\"index\": 18, \"text\": \"the lowest death count\", \"count\": 1, \"rank\": 0.055052440762211316}, {\"index\": 19, \"text\": \"The country\", \"count\": 1, \"rank\": 0.052203381342001136}, {\"index\": 20, \"text\": \"the country\", \"count\": 3, \"rank\": 0.052203381342001136}, {\"index\": 21, \"text\": \"the current infections\", \"count\": 1, \"rank\": 0.05102621920759585}, {\"index\": 22, \"text\": \"the total infections\", \"count\": 1, \"rank\": 0.050044489310882095}, {\"index\": 23, \"text\": \"the death toll\", \"count\": 1, \"rank\": 0.04958030523542612}, {\"index\": 24, \"text\": \"the infectious disease\", \"count\": 1, \"rank\": 0.04872959082364312}, {\"index\": 25, \"text\": \"the last 24 hours\", \"count\": 6, \"rank\": 0.04444644936605378}, {\"index\": 26, \"text\": \"374 deaths\", \"count\": 1, \"rank\": 0.03743854523912738}, {\"index\": 27, \"text\": \"1.35%\", \"count\": 2, \"rank\": 0.03631222553448415}, {\"index\": 28, \"text\": \"97.32%\", \"count\": 2, \"rank\": 0.03631222553448415}, {\"index\": 29, \"text\": \"March 16\", \"count\": 1, \"rank\": 0.03150086457812342}, {\"index\": 30, \"text\": \"March 30\", \"count\": 1, \"rank\": 0.03150086457812342}, {\"index\": 31, \"text\": \"over four months\", \"count\": 2, \"rank\": 0.025410903713624283}, {\"index\": 32, \"text\": \"over three months\", \"count\": 2, \"rank\": 0.025410903713624283}, {\"index\": 33, \"text\": \"354 fatalities\", \"count\": 1, \"rank\": 0.024747622479328494}, {\"index\": 34, \"text\": \"At least 45,254 people\", \"count\": 1, \"rank\": 0.018251076082325113}, {\"index\": 35, \"text\": \"30,000-mark\", \"count\": 2, \"rank\": 0.017958869221694186}, {\"index\": 36, \"text\": \"These account\", \"count\": 1, \"rank\": 0.01537302848030652}, {\"index\": 37, \"text\": \"At least 45,254\", \"count\": 1, \"rank\": 0.011163653115937398}, {\"index\": 38, \"text\": \"15,535\", \"count\": 1, \"rank\": 0.0}, {\"index\": 39, \"text\": \"28,903\", \"count\": 1, \"rank\": 0.0}, {\"index\": 40, \"text\": \"30,093\", \"count\": 1, \"rank\": 0.0}, {\"index\": 41, \"text\": \"354\", \"count\": 1, \"rank\": 0.0}, {\"index\": 42, \"text\": \"374\", \"count\": 1, \"rank\": 0.0}, {\"index\": 43, \"text\": \"400\", \"count\": 1, \"rank\": 0.0}, {\"index\": 44, \"text\": \"406,130\", \"count\": 1, \"rank\": 0.0}, {\"index\": 45, \"text\": \"414,482\", \"count\": 1, \"rank\": 0.0}, {\"index\": 46, \"text\": \"This\", \"count\": 1, \"rank\": 0.0}, {\"index\": 47, \"text\": \"it\", \"count\": 1, \"rank\": 0.0}]}}, {\"mode\": \"vega-lite\"});\n",
              "</script>"
            ],
            "text/plain": [
              "alt.Chart(...)"
            ]
          },
          "metadata": {},
          "execution_count": 16
        }
      ]
    },
    {
      "cell_type": "code",
      "source": [
        "for sent in tr.summary(limit_phrases=10, limit_sentences=2):\n",
        "    print(sent)"
      ],
      "metadata": {
        "colab": {
          "base_uri": "https://localhost:8080/"
        },
        "id": "CDoVjwDt3aaf",
        "outputId": "4d8cd70c-2ef1-4048-c44d-3acf72418dc7"
      },
      "execution_count": 17,
      "outputs": [
        {
          "output_type": "stream",
          "name": "stdout",
          "text": [
            "India recorded its lowest daily Covid-19 cases in over four months on Tuesday as it\n",
            "registered 30,093 fresh cases of the coronavirus disease, the Union ministry of health and\n",
            "family welfare data showed.\n",
            "Active cases of Covid-19 in the last 24 hours dipped sharply by 15,535, bringing the current infections in the country down to 406,130, the health ministry data showed.\n"
          ]
        }
      ]
    },
    {
      "cell_type": "markdown",
      "source": [
        "Here we can see that text rank has summarized the big paragraph. There is one more way to summarize the document using the summa library. It also follows the TextRank algorithm.\n",
        "\n",
        "Next, we will try to summarize the long text and also, we will try to extract major keywords from the paragraph."
      ],
      "metadata": {
        "id": "EEuslhl03akt"
      }
    },
    {
      "cell_type": "code",
      "source": [
        "!pip install summa\n",
        "#Importing the required libraries.\n",
        "\n",
        "from summa import summarizer\n",
        "from summa import keywords\n",
        "#Using the summarizer module to summarize the text."
      ],
      "metadata": {
        "colab": {
          "base_uri": "https://localhost:8080/"
        },
        "id": "PuzWRrRO3apb",
        "outputId": "72320fb7-5953-4660-de60-21bd1a70f675"
      },
      "execution_count": 18,
      "outputs": [
        {
          "output_type": "stream",
          "name": "stdout",
          "text": [
            "Looking in indexes: https://pypi.org/simple, https://us-python.pkg.dev/colab-wheels/public/simple/\n",
            "Collecting summa\n",
            "  Downloading summa-1.2.0.tar.gz (54 kB)\n",
            "\u001b[K     |████████████████████████████████| 54 kB 1.8 MB/s \n",
            "\u001b[?25hRequirement already satisfied: scipy>=0.19 in /usr/local/lib/python3.7/dist-packages (from summa) (1.7.3)\n",
            "Requirement already satisfied: numpy<1.23.0,>=1.16.5 in /usr/local/lib/python3.7/dist-packages (from scipy>=0.19->summa) (1.21.6)\n",
            "Building wheels for collected packages: summa\n",
            "  Building wheel for summa (setup.py) ... \u001b[?25l\u001b[?25hdone\n",
            "  Created wheel for summa: filename=summa-1.2.0-py3-none-any.whl size=54412 sha256=0dcd7258c846f60081bf9047606ac1184f030276928109fa013741f105e942a7\n",
            "  Stored in directory: /root/.cache/pip/wheels/29/64/ac/7b443477588d365ef37ada30d456bdf5f07dc5be9f6324cb6e\n",
            "Successfully built summa\n",
            "Installing collected packages: summa\n",
            "Successfully installed summa-1.2.0\n"
          ]
        }
      ]
    },
    {
      "cell_type": "code",
      "source": [
        "summarizer.summarize(text)"
      ],
      "metadata": {
        "colab": {
          "base_uri": "https://localhost:8080/",
          "height": 53
        },
        "id": "UTK0OM2_4U12",
        "outputId": "70c989c1-7642-4206-d56f-dd943cd026b6"
      },
      "execution_count": 19,
      "outputs": [
        {
          "output_type": "execute_result",
          "data": {
            "text/plain": [
              "'India recorded its lowest daily Covid-19 cases in over four months on Tuesday as it\\nActive cases of Covid-19 in the last 24 hours dipped sharply by 15,535, bringing the current infections in the country down to 406,130, the health ministry data showed.'"
            ],
            "application/vnd.google.colaboratory.intrinsic+json": {
              "type": "string"
            }
          },
          "metadata": {},
          "execution_count": 19
        }
      ]
    },
    {
      "cell_type": "code",
      "source": [
        "keywords.keywords(text)"
      ],
      "metadata": {
        "colab": {
          "base_uri": "https://localhost:8080/",
          "height": 36
        },
        "id": "27HMGQlR4car",
        "outputId": "0598eb87-89b9-4807-b26f-e767d19fa7ab"
      },
      "execution_count": 21,
      "outputs": [
        {
          "output_type": "execute_result",
          "data": {
            "text/plain": [
              "'india\\ndeaths\\ndeath\\ninfections\\nministry\\ndata\\ndisease\\ncovid\\nfresh'"
            ],
            "application/vnd.google.colaboratory.intrinsic+json": {
              "type": "string"
            }
          },
          "metadata": {},
          "execution_count": 21
        }
      ]
    },
    {
      "cell_type": "code",
      "source": [
        "query1=\"Altimetrik Launches Digital Lending Platform for Mid-Tier Banks - Dec. 2020\""
      ],
      "metadata": {
        "id": "e3aWdFH14lST"
      },
      "execution_count": 22,
      "outputs": []
    },
    {
      "cell_type": "code",
      "source": [
        "summarizer.summarize(query1)"
      ],
      "metadata": {
        "colab": {
          "base_uri": "https://localhost:8080/",
          "height": 36
        },
        "id": "sSAsoX2-4tp3",
        "outputId": "56448662-3609-47a0-b1ca-bcf490cc3af0"
      },
      "execution_count": 24,
      "outputs": [
        {
          "output_type": "execute_result",
          "data": {
            "text/plain": [
              "''"
            ],
            "application/vnd.google.colaboratory.intrinsic+json": {
              "type": "string"
            }
          },
          "metadata": {},
          "execution_count": 24
        }
      ]
    },
    {
      "cell_type": "code",
      "source": [
        "keywords.keywords(query1)"
      ],
      "metadata": {
        "colab": {
          "base_uri": "https://localhost:8080/",
          "height": 36
        },
        "id": "MgWhpQgD4wjj",
        "outputId": "a137c6ac-11f4-4147-99c8-a9d82da20f57"
      },
      "execution_count": 25,
      "outputs": [
        {
          "output_type": "execute_result",
          "data": {
            "text/plain": [
              "'launches'"
            ],
            "application/vnd.google.colaboratory.intrinsic+json": {
              "type": "string"
            }
          },
          "metadata": {},
          "execution_count": 25
        }
      ]
    },
    {
      "cell_type": "code",
      "source": [],
      "metadata": {
        "id": "ibcO3hSr41rJ"
      },
      "execution_count": null,
      "outputs": []
    },
    {
      "cell_type": "code",
      "source": [],
      "metadata": {
        "id": "t5xmQOZr41yV"
      },
      "execution_count": null,
      "outputs": []
    },
    {
      "cell_type": "code",
      "source": [],
      "metadata": {
        "id": "DWqodFyh413g"
      },
      "execution_count": null,
      "outputs": []
    },
    {
      "cell_type": "code",
      "source": [],
      "metadata": {
        "id": "zxUvEFk4418N"
      },
      "execution_count": null,
      "outputs": []
    },
    {
      "cell_type": "code",
      "source": [],
      "metadata": {
        "id": "LGxXNG6o42BK"
      },
      "execution_count": null,
      "outputs": []
    }
  ]
}