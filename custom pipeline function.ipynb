{
  "nbformat": 4,
  "nbformat_minor": 0,
  "metadata": {
    "colab": {
      "provenance": [],
      "authorship_tag": "ABX9TyPdpt/RkpdxS4mNV5LGcDr/",
      "include_colab_link": true
    },
    "kernelspec": {
      "name": "python3",
      "display_name": "Python 3"
    },
    "language_info": {
      "name": "python"
    }
  },
  "cells": [
    {
      "cell_type": "markdown",
      "metadata": {
        "id": "view-in-github",
        "colab_type": "text"
      },
      "source": [
        "<a href=\"https://colab.research.google.com/github/RojaCM/DEEP-LEARNING-/blob/main/custom%20pipeline%20function.ipynb\" target=\"_parent\"><img src=\"https://colab.research.google.com/assets/colab-badge.svg\" alt=\"Open In Colab\"/></a>"
      ]
    },
    {
      "cell_type": "code",
      "execution_count": 1,
      "metadata": {
        "id": "aGdjUCLzH4z8"
      },
      "outputs": [],
      "source": [
        "import pandas as pd"
      ]
    },
    {
      "cell_type": "code",
      "source": [
        "def call_pipeline(fun_list,*args):\n",
        "  \"\"\"\n",
        "  fun_list=[func1,func2,func3]\n",
        "  func1 output is the input of func2 etc\n",
        "  \"\"\"\n",
        "\n",
        "  result=args\n",
        "  for f in fun_list:\n",
        "    result=f(*result)\n",
        "\n",
        "  print(*result)\n",
        "\n",
        "def f1(x,y):\n",
        "  print(x+y)\n",
        "  return [x+y]\n",
        "\n",
        "def f2(z):\n",
        "  print(z**2,z)\n",
        "  return [z**2,z]\n",
        "\n",
        "def f3(w,r):\n",
        "  print(w*r)\n",
        "  return [w*r]\n",
        "\n",
        "def f4(t):\n",
        "  print(t)\n",
        "  return [\"Final\",t]\n",
        "\n",
        "def test_pipeline():\n",
        "  fun_list=[f1,f2,f3,f4]\n",
        "  call_pipeline(fun_list,*[2,3])"
      ],
      "metadata": {
        "id": "3JhoNjrBIQs6"
      },
      "execution_count": 11,
      "outputs": []
    },
    {
      "cell_type": "code",
      "source": [
        "test_pipeline()"
      ],
      "metadata": {
        "colab": {
          "base_uri": "https://localhost:8080/"
        },
        "id": "_YW_aYf2IXrj",
        "outputId": "cd021b19-2162-4c46-dac3-302d4bf35c68"
      },
      "execution_count": 12,
      "outputs": [
        {
          "output_type": "stream",
          "name": "stdout",
          "text": [
            "5\n",
            "25 5\n",
            "125\n",
            "125\n",
            "Final 125\n"
          ]
        }
      ]
    },
    {
      "cell_type": "code",
      "source": [],
      "metadata": {
        "id": "a8Frlf4GPVKh"
      },
      "execution_count": null,
      "outputs": []
    }
  ]
}